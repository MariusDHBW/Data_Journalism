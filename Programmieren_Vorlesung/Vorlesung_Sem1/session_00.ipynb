{
 "cells": [
  {
   "cell_type": "markdown",
   "id": "83ad82b4-90bb-45db-b34d-53240203ab83",
   "metadata": {},
   "source": [
    "# Erste Schritte"
   ]
  },
  {
   "cell_type": "markdown",
   "id": "8793e284-5013-46b0-8b15-2912665a198e",
   "metadata": {},
   "source": [
    "## Einfache Arithmetik"
   ]
  },
  {
   "cell_type": "markdown",
   "id": "c99f7955-bce3-46f6-bd9a-36cf79b6b737",
   "metadata": {},
   "source": [
    "Python kann wie ein **Taschenrechner** verwendet werden."
   ]
  },
  {
   "cell_type": "code",
   "execution_count": 1,
   "id": "bfdca7aa-3440-49b3-9de3-2dfbeb4bfc42",
   "metadata": {},
   "outputs": [
    {
     "data": {
      "text/plain": [
       "3"
      ]
     },
     "execution_count": 1,
     "metadata": {},
     "output_type": "execute_result"
    }
   ],
   "source": [
    "1 + 2"
   ]
  },
  {
   "cell_type": "code",
   "execution_count": 2,
   "id": "cc12ca1d-eeb4-490b-9f48-d026ed7b3092",
   "metadata": {},
   "outputs": [
    {
     "data": {
      "text/plain": [
       "9"
      ]
     },
     "execution_count": 2,
     "metadata": {},
     "output_type": "execute_result"
    }
   ],
   "source": [
    "4 + 5"
   ]
  },
  {
   "cell_type": "markdown",
   "id": "49cd057c-eadb-4eed-ab42-f54e33664a6a",
   "metadata": {},
   "source": [
    "## Variablen"
   ]
  },
  {
   "cell_type": "code",
   "execution_count": 3,
   "id": "16a40b13-4fa0-4c60-8b22-d41581fe4886",
   "metadata": {},
   "outputs": [],
   "source": [
    "a = 42"
   ]
  },
  {
   "cell_type": "code",
   "execution_count": 4,
   "id": "de336f5a-6cd5-4bea-ae41-c48e5f7f4817",
   "metadata": {},
   "outputs": [
    {
     "data": {
      "text/plain": [
       "42"
      ]
     },
     "execution_count": 4,
     "metadata": {},
     "output_type": "execute_result"
    }
   ],
   "source": [
    "a"
   ]
  },
  {
   "cell_type": "code",
   "execution_count": 5,
   "id": "d5654765-cde8-46ec-92ee-a11f135740f1",
   "metadata": {},
   "outputs": [
    {
     "data": {
      "text/plain": [
       "43"
      ]
     },
     "execution_count": 5,
     "metadata": {},
     "output_type": "execute_result"
    }
   ],
   "source": [
    "b = a + 1\n",
    "\n",
    "b"
   ]
  }
 ],
 "metadata": {
  "kernelspec": {
   "display_name": "Python 3.12",
   "language": "python",
   "name": "python3.12"
  },
  "language_info": {
   "codemirror_mode": {
    "name": "ipython",
    "version": 3
   },
   "file_extension": ".py",
   "mimetype": "text/x-python",
   "name": "python",
   "nbconvert_exporter": "python",
   "pygments_lexer": "ipython3",
   "version": "3.12.0"
  }
 },
 "nbformat": 4,
 "nbformat_minor": 5
}
