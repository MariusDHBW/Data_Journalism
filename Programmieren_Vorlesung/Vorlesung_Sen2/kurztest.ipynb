{
 "cells": [
  {
   "cell_type": "markdown",
   "id": "b172f450-27ee-4092-ac82-f99604e05fc8",
   "metadata": {},
   "source": [
    "- Fokus: Kapitel 11 (nur soweit wie wir es abgedeckt haben)\n",
    "- Übersicht über die Datentypen (z.B. Sequenzen)\n",
    "- 24 Punkte\n",
    "  - 8 Punkte: 4 Ja/Nein Fragen á 2 Punkte\n",
    "  - 8 Punkte: 2 offene Fragen á 4 Punkte\n",
    "  - 8 Punkte: `Vector` Klasse mit Fragen zum Code (wann wird wo welche Special Method wiederverwendet; ihr dürft auch ein Diagramm zeichnen)"
   ]
  }
 ],
 "metadata": {
  "kernelspec": {
   "display_name": "Python 3.12",
   "language": "python",
   "name": "python3.12"
  },
  "language_info": {
   "codemirror_mode": {
    "name": "ipython",
    "version": 3
   },
   "file_extension": ".py",
   "mimetype": "text/x-python",
   "name": "python",
   "nbconvert_exporter": "python",
   "pygments_lexer": "ipython3",
   "version": "3.12.0"
  }
 },
 "nbformat": 4,
 "nbformat_minor": 5
}
