{
 "cells": [
  {
   "cell_type": "markdown",
   "id": "ea9b495a-999e-4826-b192-364e239b3a81",
   "metadata": {},
   "source": [
    "# Sequenzen im Detail"
   ]
  },
  {
   "cell_type": "code",
   "execution_count": 1,
   "id": "d1d66e64-b04b-4357-b656-19f48f99cfe4",
   "metadata": {},
   "outputs": [],
   "source": [
    "text = \"Irgendein Text.\""
   ]
  },
  {
   "cell_type": "code",
   "execution_count": 2,
   "id": "580f2edd-2c68-43e0-8fe9-7186c1385a28",
   "metadata": {},
   "outputs": [],
   "source": [
    "numbers = [3, 4, 4, 1, 2, 5]"
   ]
  },
  {
   "cell_type": "code",
   "execution_count": 3,
   "id": "b38c090b-6807-4be5-927c-20598638ee99",
   "metadata": {},
   "outputs": [
    {
     "data": {
      "text/plain": [
       "list"
      ]
     },
     "execution_count": 3,
     "metadata": {},
     "output_type": "execute_result"
    }
   ],
   "source": [
    "type(numbers)"
   ]
  },
  {
   "cell_type": "code",
   "execution_count": 4,
   "id": "5c4b6e23-9648-4ab8-bc37-0b8a61cbed11",
   "metadata": {},
   "outputs": [],
   "source": [
    "numbers_t = (3, 4, 4, 1, 2, 5)"
   ]
  },
  {
   "cell_type": "code",
   "execution_count": 5,
   "id": "99f07384-a3e4-48e5-bf4e-d76a19159773",
   "metadata": {},
   "outputs": [],
   "source": [
    "numbers_t = 3, 4, 4, 1, 2, 5"
   ]
  },
  {
   "cell_type": "code",
   "execution_count": 6,
   "id": "99926a3d-525a-484e-8ecb-9a6093b93948",
   "metadata": {},
   "outputs": [
    {
     "data": {
      "text/plain": [
       "tuple"
      ]
     },
     "execution_count": 6,
     "metadata": {},
     "output_type": "execute_result"
    }
   ],
   "source": [
    "type(numbers_t)"
   ]
  },
  {
   "cell_type": "markdown",
   "id": "4b6659a6-3048-4b73-b82a-98648c0182a0",
   "metadata": {},
   "source": [
    "`list`en sind mutable"
   ]
  },
  {
   "cell_type": "code",
   "execution_count": 7,
   "id": "cf56f091-21f8-4d12-9f26-b42532bc7b15",
   "metadata": {},
   "outputs": [
    {
     "data": {
      "text/plain": [
       "3"
      ]
     },
     "execution_count": 7,
     "metadata": {},
     "output_type": "execute_result"
    }
   ],
   "source": [
    "numbers[0]"
   ]
  },
  {
   "cell_type": "code",
   "execution_count": 8,
   "id": "c7d31546-c59a-4649-9ac0-8cc811a13865",
   "metadata": {},
   "outputs": [],
   "source": [
    "numbers[0] = 99"
   ]
  },
  {
   "cell_type": "code",
   "execution_count": 9,
   "id": "1ba6cfa2-f7e2-455b-9a7c-7bf71effc9ab",
   "metadata": {},
   "outputs": [
    {
     "data": {
      "text/plain": [
       "[99, 4, 4, 1, 2, 5]"
      ]
     },
     "execution_count": 9,
     "metadata": {},
     "output_type": "execute_result"
    }
   ],
   "source": [
    "numbers"
   ]
  },
  {
   "cell_type": "markdown",
   "id": "0a602e34-7259-4cc6-af30-f554ec3939e4",
   "metadata": {},
   "source": [
    "`list` Methoden"
   ]
  },
  {
   "cell_type": "code",
   "execution_count": 10,
   "id": "93636999-3f3f-48bc-a1fc-2b6c17724bda",
   "metadata": {},
   "outputs": [
    {
     "data": {
      "text/plain": [
       "[99, 4, 4, 1, 2, 5]"
      ]
     },
     "execution_count": 10,
     "metadata": {},
     "output_type": "execute_result"
    }
   ],
   "source": [
    "numbers"
   ]
  },
  {
   "cell_type": "code",
   "execution_count": 11,
   "id": "e20b8d04-42d5-4dee-8074-2f5137fb414e",
   "metadata": {},
   "outputs": [],
   "source": [
    "numbers.append(7)  # keinen Output unter der Zelle => \"change in place\""
   ]
  },
  {
   "cell_type": "code",
   "execution_count": 12,
   "id": "f91c34c0-cfed-4eff-b422-c270263a4ce7",
   "metadata": {},
   "outputs": [
    {
     "data": {
      "text/plain": [
       "[99, 4, 4, 1, 2, 5, 7]"
      ]
     },
     "execution_count": 12,
     "metadata": {},
     "output_type": "execute_result"
    }
   ],
   "source": [
    "numbers"
   ]
  },
  {
   "cell_type": "markdown",
   "id": "65257ad8-a158-4546-8b8b-8548b3b3da3e",
   "metadata": {},
   "source": [
    "Vergleich mit unveraenberbaren Objekten"
   ]
  },
  {
   "cell_type": "code",
   "execution_count": 13,
   "id": "85c8c6dc-1699-41fa-90c6-701f430141f8",
   "metadata": {},
   "outputs": [
    {
     "data": {
      "text/plain": [
       "'Irgendein Text.'"
      ]
     },
     "execution_count": 13,
     "metadata": {},
     "output_type": "execute_result"
    }
   ],
   "source": [
    "text"
   ]
  },
  {
   "cell_type": "code",
   "execution_count": 14,
   "id": "705e6e6a-6e2c-4e7c-a3d3-5eec68ecc82f",
   "metadata": {},
   "outputs": [
    {
     "data": {
      "text/plain": [
       "'irgendein text.'"
      ]
     },
     "execution_count": 14,
     "metadata": {},
     "output_type": "execute_result"
    }
   ],
   "source": [
    "text.lower()  # Output unter der Zelle => neues Objekt"
   ]
  },
  {
   "cell_type": "code",
   "execution_count": 15,
   "id": "1b1746de-5de8-43dd-94b5-01a269cd8d2c",
   "metadata": {},
   "outputs": [
    {
     "data": {
      "text/plain": [
       "'Irgendein Text.'"
      ]
     },
     "execution_count": 15,
     "metadata": {},
     "output_type": "execute_result"
    }
   ],
   "source": [
    "text  # Unveraendert"
   ]
  },
  {
   "cell_type": "code",
   "execution_count": 16,
   "id": "5546ea13-135b-47c8-a225-eb98b6f64c62",
   "metadata": {},
   "outputs": [
    {
     "data": {
      "text/plain": [
       "[99, 4, 4, 1, 2, 5, 7]"
      ]
     },
     "execution_count": 16,
     "metadata": {},
     "output_type": "execute_result"
    }
   ],
   "source": [
    "numbers"
   ]
  },
  {
   "cell_type": "code",
   "execution_count": 17,
   "id": "48a9b131-03a4-4448-9272-3a0e718263b3",
   "metadata": {},
   "outputs": [],
   "source": [
    "numbers.extend([1, 2, 3])"
   ]
  },
  {
   "cell_type": "code",
   "execution_count": 18,
   "id": "365f1b7c-5ad0-4952-b890-0c981627c334",
   "metadata": {},
   "outputs": [
    {
     "data": {
      "text/plain": [
       "[99, 4, 4, 1, 2, 5, 7, 1, 2, 3]"
      ]
     },
     "execution_count": 18,
     "metadata": {},
     "output_type": "execute_result"
    }
   ],
   "source": [
    "numbers"
   ]
  },
  {
   "cell_type": "code",
   "execution_count": 19,
   "id": "92ac086f-ecde-442a-aa69-b632353bbdab",
   "metadata": {},
   "outputs": [
    {
     "ename": "AttributeError",
     "evalue": "'tuple' object has no attribute 'append'",
     "output_type": "error",
     "traceback": [
      "\u001b[0;31m---------------------------------------------------------------------------\u001b[0m",
      "\u001b[0;31mAttributeError\u001b[0m                            Traceback (most recent call last)",
      "Cell \u001b[0;32mIn[19], line 1\u001b[0m\n\u001b[0;32m----> 1\u001b[0m \u001b[43mnumbers_t\u001b[49m\u001b[38;5;241;43m.\u001b[39;49m\u001b[43mappend\u001b[49m(\u001b[38;5;241m7\u001b[39m)\n",
      "\u001b[0;31mAttributeError\u001b[0m: 'tuple' object has no attribute 'append'"
     ]
    }
   ],
   "source": [
    "numbers_t.append(7)"
   ]
  },
  {
   "cell_type": "code",
   "execution_count": 20,
   "id": "3c8449a9-ce82-4666-b895-f279bf369489",
   "metadata": {},
   "outputs": [],
   "source": [
    "numbers.append([1, 2, 3])"
   ]
  },
  {
   "cell_type": "code",
   "execution_count": 21,
   "id": "2a71ba62-0990-4c19-aaf7-a1c6b8e614d0",
   "metadata": {},
   "outputs": [
    {
     "data": {
      "text/plain": [
       "[99, 4, 4, 1, 2, 5, 7, 1, 2, 3, [1, 2, 3]]"
      ]
     },
     "execution_count": 21,
     "metadata": {},
     "output_type": "execute_result"
    }
   ],
   "source": [
    "numbers"
   ]
  },
  {
   "cell_type": "code",
   "execution_count": 22,
   "id": "f2dd6bd2-e7dc-4ed3-a9fe-c2b0df9f39ab",
   "metadata": {},
   "outputs": [],
   "source": [
    "numbers.insert(0, -42)  # lineare Zeit !!!"
   ]
  },
  {
   "cell_type": "code",
   "execution_count": 23,
   "id": "632b268c-9582-4cc9-8728-94dfd448f47d",
   "metadata": {},
   "outputs": [
    {
     "data": {
      "text/plain": [
       "[-42, 99, 4, 4, 1, 2, 5, 7, 1, 2, 3, [1, 2, 3]]"
      ]
     },
     "execution_count": 23,
     "metadata": {},
     "output_type": "execute_result"
    }
   ],
   "source": [
    "numbers"
   ]
  },
  {
   "cell_type": "code",
   "execution_count": 24,
   "id": "245d03e9-15f8-46c8-8e86-5fd1710928ed",
   "metadata": {},
   "outputs": [],
   "source": [
    "a = 42"
   ]
  },
  {
   "cell_type": "code",
   "execution_count": 25,
   "id": "29b76015-8897-49e0-a7a7-3c39c43343bd",
   "metadata": {},
   "outputs": [],
   "source": [
    "del a"
   ]
  },
  {
   "cell_type": "code",
   "execution_count": 26,
   "id": "af5a4d0f-05ca-446e-b683-2e15789577e0",
   "metadata": {},
   "outputs": [
    {
     "ename": "NameError",
     "evalue": "name 'a' is not defined",
     "output_type": "error",
     "traceback": [
      "\u001b[0;31m---------------------------------------------------------------------------\u001b[0m",
      "\u001b[0;31mNameError\u001b[0m                                 Traceback (most recent call last)",
      "Cell \u001b[0;32mIn[26], line 1\u001b[0m\n\u001b[0;32m----> 1\u001b[0m \u001b[43ma\u001b[49m\n",
      "\u001b[0;31mNameError\u001b[0m: name 'a' is not defined"
     ]
    }
   ],
   "source": [
    "a"
   ]
  },
  {
   "cell_type": "code",
   "execution_count": 27,
   "id": "84b1ec9f-5ac1-42c2-9714-2e6edc24b5bc",
   "metadata": {},
   "outputs": [],
   "source": [
    "del numbers[-1]  # schnell"
   ]
  },
  {
   "cell_type": "code",
   "execution_count": 28,
   "id": "82d4257f-46f3-43e4-9865-a30db7795563",
   "metadata": {},
   "outputs": [
    {
     "data": {
      "text/plain": [
       "[-42, 99, 4, 4, 1, 2, 5, 7, 1, 2, 3]"
      ]
     },
     "execution_count": 28,
     "metadata": {},
     "output_type": "execute_result"
    }
   ],
   "source": [
    "numbers"
   ]
  },
  {
   "cell_type": "code",
   "execution_count": 29,
   "id": "6d61129e-0713-4f32-92b0-456a512ae78d",
   "metadata": {},
   "outputs": [],
   "source": [
    "del numbers[0]  # langsam"
   ]
  },
  {
   "cell_type": "code",
   "execution_count": 30,
   "id": "cf8960c3-155d-4cdf-8211-b7edb4ef0931",
   "metadata": {},
   "outputs": [
    {
     "data": {
      "text/plain": [
       "[99, 4, 4, 1, 2, 5, 7, 1, 2, 3]"
      ]
     },
     "execution_count": 30,
     "metadata": {},
     "output_type": "execute_result"
    }
   ],
   "source": [
    "numbers"
   ]
  },
  {
   "cell_type": "code",
   "execution_count": 31,
   "id": "9584b7bb-c555-4da2-ab50-b07d31d95ea4",
   "metadata": {},
   "outputs": [
    {
     "data": {
      "text/plain": [
       "3"
      ]
     },
     "execution_count": 31,
     "metadata": {},
     "output_type": "execute_result"
    }
   ],
   "source": [
    "numbers.pop()  # 2 Dinge: 1) Element entfernen, und 2) Element zurueckgeben"
   ]
  },
  {
   "cell_type": "code",
   "execution_count": 32,
   "id": "ac272da7-11d3-425b-a620-e89fde828976",
   "metadata": {},
   "outputs": [
    {
     "data": {
      "text/plain": [
       "[99, 4, 4, 1, 2, 5, 7, 1, 2]"
      ]
     },
     "execution_count": 32,
     "metadata": {},
     "output_type": "execute_result"
    }
   ],
   "source": [
    "numbers"
   ]
  },
  {
   "cell_type": "code",
   "execution_count": 33,
   "id": "ac0e7a90-a3cb-4532-aa04-2ef7489d9e4b",
   "metadata": {},
   "outputs": [
    {
     "data": {
      "text/plain": [
       "99"
      ]
     },
     "execution_count": 33,
     "metadata": {},
     "output_type": "execute_result"
    }
   ],
   "source": [
    "numbers.pop(0)  # Langsam"
   ]
  },
  {
   "cell_type": "code",
   "execution_count": 34,
   "id": "0ef60a36-64ea-43d7-a190-60df2fe33504",
   "metadata": {},
   "outputs": [
    {
     "data": {
      "text/plain": [
       "[4, 4, 1, 2, 5, 7, 1, 2]"
      ]
     },
     "execution_count": 34,
     "metadata": {},
     "output_type": "execute_result"
    }
   ],
   "source": [
    "numbers"
   ]
  },
  {
   "cell_type": "code",
   "execution_count": 35,
   "id": "bb076601-b84b-490f-b762-da3bd80a8cd6",
   "metadata": {},
   "outputs": [],
   "source": [
    "numbers.remove(4)  # by value / lineare Zeit"
   ]
  },
  {
   "cell_type": "code",
   "execution_count": 36,
   "id": "4c288854-4aa8-4b81-a34a-5c12f8ab3690",
   "metadata": {},
   "outputs": [
    {
     "data": {
      "text/plain": [
       "[4, 1, 2, 5, 7, 1, 2]"
      ]
     },
     "execution_count": 36,
     "metadata": {},
     "output_type": "execute_result"
    }
   ],
   "source": [
    "numbers"
   ]
  },
  {
   "cell_type": "code",
   "execution_count": 37,
   "id": "d08ce416-88f5-48b3-953c-006cdd13b67e",
   "metadata": {},
   "outputs": [],
   "source": [
    "numbers.remove(4)"
   ]
  },
  {
   "cell_type": "code",
   "execution_count": 38,
   "id": "54eb2d5c-c585-451d-89f2-42f267446ebe",
   "metadata": {},
   "outputs": [
    {
     "data": {
      "text/plain": [
       "[1, 2, 5, 7, 1, 2]"
      ]
     },
     "execution_count": 38,
     "metadata": {},
     "output_type": "execute_result"
    }
   ],
   "source": [
    "numbers"
   ]
  },
  {
   "cell_type": "code",
   "execution_count": 39,
   "id": "ab4ebe8b-7b8d-4171-9e7e-70d09b313d29",
   "metadata": {},
   "outputs": [
    {
     "ename": "ValueError",
     "evalue": "list.remove(x): x not in list",
     "output_type": "error",
     "traceback": [
      "\u001b[0;31m---------------------------------------------------------------------------\u001b[0m",
      "\u001b[0;31mValueError\u001b[0m                                Traceback (most recent call last)",
      "Cell \u001b[0;32mIn[39], line 1\u001b[0m\n\u001b[0;32m----> 1\u001b[0m \u001b[43mnumbers\u001b[49m\u001b[38;5;241;43m.\u001b[39;49m\u001b[43mremove\u001b[49m\u001b[43m(\u001b[49m\u001b[38;5;241;43m4\u001b[39;49m\u001b[43m)\u001b[49m\n",
      "\u001b[0;31mValueError\u001b[0m: list.remove(x): x not in list"
     ]
    }
   ],
   "source": [
    "numbers.remove(4)"
   ]
  },
  {
   "cell_type": "markdown",
   "id": "db78c335-02ef-49c8-b537-8d6304b96837",
   "metadata": {},
   "source": [
    "## Sortieren"
   ]
  },
  {
   "cell_type": "code",
   "execution_count": 40,
   "id": "3d440736-9ecf-438b-bb27-a197b66dc78e",
   "metadata": {},
   "outputs": [],
   "source": [
    "names = [\"Caesar\", \"andreas\", \"Karl\", \"Carl\", \"Eva\", \"Diana\"]"
   ]
  },
  {
   "cell_type": "code",
   "execution_count": 41,
   "id": "408a1531-782a-4798-a0c7-83398f968bad",
   "metadata": {},
   "outputs": [
    {
     "data": {
      "text/plain": [
       "['Caesar', 'andreas', 'Karl', 'Carl', 'Eva', 'Diana']"
      ]
     },
     "execution_count": 41,
     "metadata": {},
     "output_type": "execute_result"
    }
   ],
   "source": [
    "names"
   ]
  },
  {
   "cell_type": "code",
   "execution_count": 42,
   "id": "77be5486-653f-4b6d-a1cb-7bd481780e7e",
   "metadata": {},
   "outputs": [
    {
     "data": {
      "text/plain": [
       "['a', 'a', 'd', 'e', 'n', 'r', 's']"
      ]
     },
     "execution_count": 42,
     "metadata": {},
     "output_type": "execute_result"
    }
   ],
   "source": [
    "sorted(\"andreas\")"
   ]
  },
  {
   "cell_type": "code",
   "execution_count": 43,
   "id": "16201c82-4819-4b68-b156-a17ae4986745",
   "metadata": {},
   "outputs": [
    {
     "data": {
      "text/plain": [
       "['Caesar', 'Carl', 'Diana', 'Eva', 'Karl', 'andreas']"
      ]
     },
     "execution_count": 43,
     "metadata": {},
     "output_type": "execute_result"
    }
   ],
   "source": [
    "sorted(names)"
   ]
  },
  {
   "cell_type": "code",
   "execution_count": 44,
   "id": "245f3c78-033d-4a60-a5c7-cd7158667943",
   "metadata": {},
   "outputs": [
    {
     "data": {
      "text/plain": [
       "['Caesar', 'andreas', 'Karl', 'Carl', 'Eva', 'Diana']"
      ]
     },
     "execution_count": 44,
     "metadata": {},
     "output_type": "execute_result"
    }
   ],
   "source": [
    "names  # unveraendert"
   ]
  },
  {
   "cell_type": "markdown",
   "id": "f7bbb866-9fd3-4f86-b202-ef4dc13d50f0",
   "metadata": {},
   "source": [
    "im Hintergrund: alle Elemente werden paarweise mit `<=` verglichen"
   ]
  },
  {
   "cell_type": "code",
   "execution_count": 45,
   "id": "d474014c-7b8e-45df-a504-57bcdd4c5855",
   "metadata": {},
   "outputs": [
    {
     "data": {
      "text/plain": [
       "True"
      ]
     },
     "execution_count": 45,
     "metadata": {},
     "output_type": "execute_result"
    }
   ],
   "source": [
    "\"Caesar\" <= \"andreas\"  # True => rel. Reihenfolge unveraendert"
   ]
  },
  {
   "cell_type": "code",
   "execution_count": 46,
   "id": "d36e5467-4d7e-4eb5-ac53-0fbde06896a6",
   "metadata": {},
   "outputs": [
    {
     "data": {
      "text/plain": [
       "67"
      ]
     },
     "execution_count": 46,
     "metadata": {},
     "output_type": "execute_result"
    }
   ],
   "source": [
    "ord(\"C\")"
   ]
  },
  {
   "cell_type": "code",
   "execution_count": 47,
   "id": "3b044021-d547-40a6-ab7d-4b1f039d88c6",
   "metadata": {},
   "outputs": [
    {
     "data": {
      "text/plain": [
       "97"
      ]
     },
     "execution_count": 47,
     "metadata": {},
     "output_type": "execute_result"
    }
   ],
   "source": [
    "ord(\"a\")"
   ]
  },
  {
   "cell_type": "code",
   "execution_count": 48,
   "id": "ea7f62c3-5c70-466d-aa63-7bf3776f4a0d",
   "metadata": {},
   "outputs": [
    {
     "data": {
      "text/plain": [
       "False"
      ]
     },
     "execution_count": 48,
     "metadata": {},
     "output_type": "execute_result"
    }
   ],
   "source": [
    "\"Caesar\" <= \"Andreas\""
   ]
  },
  {
   "cell_type": "code",
   "execution_count": 49,
   "id": "ee8e3a0b-badf-4988-b825-df02cb7c61c1",
   "metadata": {},
   "outputs": [
    {
     "data": {
      "text/plain": [
       "False"
      ]
     },
     "execution_count": 49,
     "metadata": {},
     "output_type": "execute_result"
    }
   ],
   "source": [
    "\"abcd\" <= \"abad\"  # weil \"a\" < \"c\""
   ]
  },
  {
   "cell_type": "code",
   "execution_count": 50,
   "id": "631827f7-abdc-4629-aa33-e6d30fce8d97",
   "metadata": {},
   "outputs": [
    {
     "data": {
      "text/plain": [
       "True"
      ]
     },
     "execution_count": 50,
     "metadata": {},
     "output_type": "execute_result"
    }
   ],
   "source": [
    "\"abc\" <= \"abcd\""
   ]
  },
  {
   "cell_type": "code",
   "execution_count": 51,
   "id": "1817c4ac-6e50-486e-a674-12ae2334424e",
   "metadata": {},
   "outputs": [
    {
     "data": {
      "text/plain": [
       "False"
      ]
     },
     "execution_count": 51,
     "metadata": {},
     "output_type": "execute_result"
    }
   ],
   "source": [
    "\"Karl\" <= \"Carl\"  # False => rel. Reihenfolge wird getauscht"
   ]
  },
  {
   "cell_type": "code",
   "execution_count": 52,
   "id": "8730de77-866b-4abf-872c-b71efa88a190",
   "metadata": {},
   "outputs": [
    {
     "data": {
      "text/plain": [
       "['Caesar', 'andreas', 'Karl', 'Carl', 'Eva', 'Diana']"
      ]
     },
     "execution_count": 52,
     "metadata": {},
     "output_type": "execute_result"
    }
   ],
   "source": [
    "names"
   ]
  },
  {
   "cell_type": "code",
   "execution_count": 53,
   "id": "d26cbdf7-06b4-423e-8a68-f16567af6579",
   "metadata": {},
   "outputs": [
    {
     "data": {
      "text/plain": [
       "['Caesar', 'Carl', 'Diana', 'Eva', 'Karl', 'andreas']"
      ]
     },
     "execution_count": 53,
     "metadata": {},
     "output_type": "execute_result"
    }
   ],
   "source": [
    "sorted(names)"
   ]
  },
  {
   "cell_type": "code",
   "execution_count": 54,
   "id": "579846da-57a7-4dce-a4ba-3ddd6d19cbd5",
   "metadata": {},
   "outputs": [
    {
     "data": {
      "text/plain": [
       "['Eva', 'Karl', 'Carl', 'Diana', 'Caesar', 'andreas']"
      ]
     },
     "execution_count": 54,
     "metadata": {},
     "output_type": "execute_result"
    }
   ],
   "source": [
    "sorted(names, key=len)"
   ]
  },
  {
   "cell_type": "code",
   "execution_count": 55,
   "id": "581eddbb-fa16-4e64-b8e9-9148a04caec5",
   "metadata": {},
   "outputs": [
    {
     "data": {
      "text/plain": [
       "True"
      ]
     },
     "execution_count": 55,
     "metadata": {},
     "output_type": "execute_result"
    }
   ],
   "source": [
    "\"Caesar\" <= \"andreas\""
   ]
  },
  {
   "cell_type": "code",
   "execution_count": 56,
   "id": "ae396ce8-e87c-4842-a0f0-37b4d22ffe44",
   "metadata": {},
   "outputs": [
    {
     "data": {
      "text/plain": [
       "True"
      ]
     },
     "execution_count": 56,
     "metadata": {},
     "output_type": "execute_result"
    }
   ],
   "source": [
    "len(\"Caesar\") <= len(\"andreas\")"
   ]
  },
  {
   "cell_type": "code",
   "execution_count": 57,
   "id": "92fa7966-56fc-4fd0-b41a-4570de51d82c",
   "metadata": {},
   "outputs": [
    {
     "data": {
      "text/plain": [
       "False"
      ]
     },
     "execution_count": 57,
     "metadata": {},
     "output_type": "execute_result"
    }
   ],
   "source": [
    "\"Caesar\".lower() <= \"andreas\".lower()"
   ]
  },
  {
   "cell_type": "code",
   "execution_count": 58,
   "id": "966e1bef-907b-4340-918f-c28a8dc86778",
   "metadata": {},
   "outputs": [],
   "source": [
    "def lower(arg):\n",
    "    return arg.lower()"
   ]
  },
  {
   "cell_type": "code",
   "execution_count": 59,
   "id": "74132ede-edf3-4c20-b824-b13f06d9a40a",
   "metadata": {},
   "outputs": [
    {
     "data": {
      "text/plain": [
       "'caesar'"
      ]
     },
     "execution_count": 59,
     "metadata": {},
     "output_type": "execute_result"
    }
   ],
   "source": [
    "lower(\"Caesar\")"
   ]
  },
  {
   "cell_type": "code",
   "execution_count": 60,
   "id": "fd9902f0-93ab-4960-a5a5-7bfa29c2fc5d",
   "metadata": {},
   "outputs": [
    {
     "data": {
      "text/plain": [
       "['andreas', 'Caesar', 'Carl', 'Diana', 'Eva', 'Karl']"
      ]
     },
     "execution_count": 60,
     "metadata": {},
     "output_type": "execute_result"
    }
   ],
   "source": [
    "sorted(names, key=lower)"
   ]
  },
  {
   "cell_type": "code",
   "execution_count": 61,
   "id": "f5bd8714-f260-4aa1-a486-002cb222a9fe",
   "metadata": {},
   "outputs": [
    {
     "data": {
      "text/plain": [
       "['andreas', 'Karl', 'Eva', 'Diana', 'Carl', 'Caesar']"
      ]
     },
     "execution_count": 61,
     "metadata": {},
     "output_type": "execute_result"
    }
   ],
   "source": [
    "sorted(names, reverse=True)"
   ]
  },
  {
   "cell_type": "code",
   "execution_count": 62,
   "id": "ad84cc61-3edd-4349-9fd6-8dc3bf91b8e0",
   "metadata": {},
   "outputs": [
    {
     "data": {
      "text/plain": [
       "['Karl', 'Eva', 'Diana', 'Carl', 'Caesar', 'andreas']"
      ]
     },
     "execution_count": 62,
     "metadata": {},
     "output_type": "execute_result"
    }
   ],
   "source": [
    "sorted(names, key=lower, reverse=True)"
   ]
  },
  {
   "cell_type": "markdown",
   "id": "8bc03ed7-4065-4f65-8e11-2b1f4c85ba19",
   "metadata": {},
   "source": [
    "Aufg. erst der Laenge nach, dann alphabetisch"
   ]
  },
  {
   "cell_type": "code",
   "execution_count": 63,
   "id": "fe2a1e89-69ed-453b-a11d-f12ae8f81ae6",
   "metadata": {},
   "outputs": [
    {
     "data": {
      "text/plain": [
       "True"
      ]
     },
     "execution_count": 63,
     "metadata": {},
     "output_type": "execute_result"
    }
   ],
   "source": [
    "(1, 2, 3) <= (1, 3, 2)"
   ]
  },
  {
   "cell_type": "code",
   "execution_count": 64,
   "id": "4f8c9931-d242-4985-a869-b604f2e67dc5",
   "metadata": {},
   "outputs": [
    {
     "data": {
      "text/plain": [
       "False"
      ]
     },
     "execution_count": 64,
     "metadata": {},
     "output_type": "execute_result"
    }
   ],
   "source": [
    "(1, 3, 2) <= (1, 2, 3)"
   ]
  },
  {
   "cell_type": "code",
   "execution_count": 65,
   "id": "ac221db5-1e02-4c44-8361-58a05467b5a3",
   "metadata": {},
   "outputs": [],
   "source": [
    "def erst_laenge_dann_alpha(arg):\n",
    "    return (len(arg), arg.lower())"
   ]
  },
  {
   "cell_type": "code",
   "execution_count": 66,
   "id": "e04b9519-ec7f-4fcb-85a3-4e1b130d1432",
   "metadata": {},
   "outputs": [],
   "source": [
    "def erst_laenge_dann_alpha(arg):\n",
    "    return len(arg), arg.lower()"
   ]
  },
  {
   "cell_type": "code",
   "execution_count": 67,
   "id": "912f0194-d48e-419e-8442-436ecc93f17f",
   "metadata": {},
   "outputs": [
    {
     "data": {
      "text/plain": [
       "(7, 'andreas')"
      ]
     },
     "execution_count": 67,
     "metadata": {},
     "output_type": "execute_result"
    }
   ],
   "source": [
    "erst_laenge_dann_alpha(\"andreas\")"
   ]
  },
  {
   "cell_type": "code",
   "execution_count": 68,
   "id": "ca255010-ffad-4483-a981-df533970fe1b",
   "metadata": {},
   "outputs": [
    {
     "data": {
      "text/plain": [
       "(3, 'eva')"
      ]
     },
     "execution_count": 68,
     "metadata": {},
     "output_type": "execute_result"
    }
   ],
   "source": [
    "erst_laenge_dann_alpha(\"Eva\")"
   ]
  },
  {
   "cell_type": "code",
   "execution_count": 69,
   "id": "d90d5907-3246-4fce-92bd-ed9a50dd09df",
   "metadata": {},
   "outputs": [
    {
     "data": {
      "text/plain": [
       "(4, 'karl')"
      ]
     },
     "execution_count": 69,
     "metadata": {},
     "output_type": "execute_result"
    }
   ],
   "source": [
    "erst_laenge_dann_alpha(\"Karl\")"
   ]
  },
  {
   "cell_type": "code",
   "execution_count": 70,
   "id": "120da100-b223-4a22-a62a-31027ebb4949",
   "metadata": {},
   "outputs": [
    {
     "data": {
      "text/plain": [
       "(4, 'carl')"
      ]
     },
     "execution_count": 70,
     "metadata": {},
     "output_type": "execute_result"
    }
   ],
   "source": [
    "erst_laenge_dann_alpha(\"Carl\")"
   ]
  },
  {
   "cell_type": "code",
   "execution_count": 71,
   "id": "63bca3f0-5ea8-4601-ab9f-bf94be191030",
   "metadata": {},
   "outputs": [
    {
     "data": {
      "text/plain": [
       "False"
      ]
     },
     "execution_count": 71,
     "metadata": {},
     "output_type": "execute_result"
    }
   ],
   "source": [
    "erst_laenge_dann_alpha(\"Karl\") <= erst_laenge_dann_alpha(\"Carl\")"
   ]
  },
  {
   "cell_type": "code",
   "execution_count": 72,
   "id": "184c7979-8841-4e7d-8227-42ba27c30585",
   "metadata": {},
   "outputs": [
    {
     "data": {
      "text/plain": [
       "['Eva', 'Carl', 'Karl', 'Diana', 'Caesar', 'andreas']"
      ]
     },
     "execution_count": 72,
     "metadata": {},
     "output_type": "execute_result"
    }
   ],
   "source": [
    "sorted(names, key=erst_laenge_dann_alpha)"
   ]
  },
  {
   "cell_type": "code",
   "execution_count": 73,
   "id": "08c562d1-7e0c-4381-8d01-cb25d54e7bdd",
   "metadata": {},
   "outputs": [
    {
     "data": {
      "text/plain": [
       "['Caesar', 'andreas', 'Karl', 'Carl', 'Eva', 'Diana']"
      ]
     },
     "execution_count": 73,
     "metadata": {},
     "output_type": "execute_result"
    }
   ],
   "source": [
    "names  # unveraendert"
   ]
  },
  {
   "cell_type": "code",
   "execution_count": 74,
   "id": "811619fd-3fc3-4b21-ab24-a0f2b754b9ef",
   "metadata": {},
   "outputs": [],
   "source": [
    "names.sort()  # kein Output => \"change in place\""
   ]
  },
  {
   "cell_type": "code",
   "execution_count": 75,
   "id": "0c95bd33-117b-417e-90e2-6a64e8a6b8cc",
   "metadata": {},
   "outputs": [
    {
     "data": {
      "text/plain": [
       "['Caesar', 'Carl', 'Diana', 'Eva', 'Karl', 'andreas']"
      ]
     },
     "execution_count": 75,
     "metadata": {},
     "output_type": "execute_result"
    }
   ],
   "source": [
    "names"
   ]
  },
  {
   "cell_type": "code",
   "execution_count": 76,
   "id": "d61ea9d5-4591-4bd3-a634-fc0076d8c11e",
   "metadata": {},
   "outputs": [],
   "source": [
    "names.sort(key=erst_laenge_dann_alpha)"
   ]
  },
  {
   "cell_type": "code",
   "execution_count": 77,
   "id": "a7bb811f-9810-4fb5-86f2-3fd560305a3f",
   "metadata": {},
   "outputs": [
    {
     "data": {
      "text/plain": [
       "['Eva', 'Carl', 'Karl', 'Diana', 'Caesar', 'andreas']"
      ]
     },
     "execution_count": 77,
     "metadata": {},
     "output_type": "execute_result"
    }
   ],
   "source": [
    "names"
   ]
  },
  {
   "cell_type": "markdown",
   "id": "13a4c298-8574-4c49-9543-13b6c992f1a2",
   "metadata": {},
   "source": [
    "## Umkehren"
   ]
  },
  {
   "cell_type": "code",
   "execution_count": 78,
   "id": "6d139392-34cd-4a79-97cc-6ee14442f38d",
   "metadata": {},
   "outputs": [
    {
     "data": {
      "text/plain": [
       "['Eva', 'Carl', 'Karl', 'Diana', 'Caesar', 'andreas']"
      ]
     },
     "execution_count": 78,
     "metadata": {},
     "output_type": "execute_result"
    }
   ],
   "source": [
    "names"
   ]
  },
  {
   "cell_type": "code",
   "execution_count": 79,
   "id": "1ee2700e-67e5-4b4e-a45c-b88291e6078d",
   "metadata": {},
   "outputs": [
    {
     "data": {
      "text/plain": [
       "<list_reverseiterator at 0x7fe35a382410>"
      ]
     },
     "execution_count": 79,
     "metadata": {},
     "output_type": "execute_result"
    }
   ],
   "source": [
    "reversed(names)"
   ]
  },
  {
   "cell_type": "code",
   "execution_count": 80,
   "id": "a30afaa9-cb47-47a6-a08d-1394e9b866b5",
   "metadata": {},
   "outputs": [
    {
     "data": {
      "text/plain": [
       "['andreas', 'Caesar', 'Diana', 'Karl', 'Carl', 'Eva']"
      ]
     },
     "execution_count": 80,
     "metadata": {},
     "output_type": "execute_result"
    }
   ],
   "source": [
    "list(reversed(names))"
   ]
  },
  {
   "cell_type": "code",
   "execution_count": 81,
   "id": "66ff8725-2a9f-4e17-9aaa-e4bd33d7d60d",
   "metadata": {},
   "outputs": [
    {
     "name": "stdout",
     "output_type": "stream",
     "text": [
      "EVA\n",
      "CARL\n",
      "KARL\n",
      "DIANA\n",
      "CAESAR\n",
      "ANDREAS\n"
     ]
    }
   ],
   "source": [
    "for name in names:\n",
    "    print(name.upper())"
   ]
  },
  {
   "cell_type": "code",
   "execution_count": 82,
   "id": "28532c9f-b40a-48d3-85a4-e85bcc168344",
   "metadata": {},
   "outputs": [
    {
     "name": "stdout",
     "output_type": "stream",
     "text": [
      "ANDREAS\n",
      "CAESAR\n",
      "DIANA\n",
      "KARL\n",
      "CARL\n",
      "EVA\n"
     ]
    }
   ],
   "source": [
    "for name in reversed(names):  # keine Kopie im Speicher\n",
    "    print(name.upper())"
   ]
  },
  {
   "cell_type": "code",
   "execution_count": 83,
   "id": "fe02880f-63ff-4431-8e22-a0f9f11d92ca",
   "metadata": {},
   "outputs": [
    {
     "name": "stdout",
     "output_type": "stream",
     "text": [
      "ANDREAS\n",
      "CAESAR\n",
      "DIANA\n",
      "KARL\n",
      "CARL\n",
      "EVA\n"
     ]
    }
   ],
   "source": [
    "for name in list(reversed(names)):  # Verdopplung des Speichers\n",
    "    print(name.upper())"
   ]
  },
  {
   "cell_type": "code",
   "execution_count": 84,
   "id": "030bcb1a-704a-4823-bd7f-10782d68b321",
   "metadata": {},
   "outputs": [
    {
     "data": {
      "text/plain": [
       "['Eva', 'Carl', 'Karl', 'Diana', 'Caesar', 'andreas']"
      ]
     },
     "execution_count": 84,
     "metadata": {},
     "output_type": "execute_result"
    }
   ],
   "source": [
    "names"
   ]
  },
  {
   "cell_type": "code",
   "execution_count": 85,
   "id": "887e1e93-211a-4369-8c7b-2e2b962db227",
   "metadata": {},
   "outputs": [],
   "source": [
    "names.reverse()"
   ]
  },
  {
   "cell_type": "code",
   "execution_count": 86,
   "id": "9ed7e869-b562-4e2b-abff-db0d76beb91c",
   "metadata": {},
   "outputs": [
    {
     "data": {
      "text/plain": [
       "['andreas', 'Caesar', 'Diana', 'Karl', 'Carl', 'Eva']"
      ]
     },
     "execution_count": 86,
     "metadata": {},
     "output_type": "execute_result"
    }
   ],
   "source": [
    "names"
   ]
  }
 ],
 "metadata": {
  "kernelspec": {
   "display_name": "Python 3.12",
   "language": "python",
   "name": "python3.12"
  },
  "language_info": {
   "codemirror_mode": {
    "name": "ipython",
    "version": 3
   },
   "file_extension": ".py",
   "mimetype": "text/x-python",
   "name": "python",
   "nbconvert_exporter": "python",
   "pygments_lexer": "ipython3",
   "version": "3.12.0"
  }
 },
 "nbformat": 4,
 "nbformat_minor": 5
}
