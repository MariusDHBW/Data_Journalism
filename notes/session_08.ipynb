{
 "cells": [
  {
   "cell_type": "markdown",
   "id": "3ce2fa21-fc84-4348-9c7a-f0a05308a98d",
   "metadata": {},
   "source": [
    "# Iteration"
   ]
  },
  {
   "cell_type": "markdown",
   "id": "9751f498-43ac-4b71-9aff-eae58ad04c83",
   "metadata": {},
   "source": [
    "## Rekursion"
   ]
  },
  {
   "cell_type": "markdown",
   "id": "de810b3d-ea39-4f1c-9ff9-bd5b72568761",
   "metadata": {
    "jp-MarkdownHeadingCollapsed": true
   },
   "source": [
    "#### Bsp: `factorial()` / Fakultät"
   ]
  },
  {
   "cell_type": "markdown",
   "id": "2ffaba8a-3e0a-4eac-b131-a522ce952324",
   "metadata": {},
   "source": [
    "$5! = 5 * 4 * 3 * 2 * 1 = 1 * 2 * 3 * 4 * 5$"
   ]
  },
  {
   "cell_type": "markdown",
   "id": "9e7d1861-70aa-4995-b652-bd4215f2ce40",
   "metadata": {},
   "source": [
    "$n! = n * (n - 1)!$\n",
    "\n",
    "$0! := 1$"
   ]
  },
  {
   "cell_type": "code",
   "execution_count": 57,
   "id": "2dcf929b-d502-428f-9e28-c7c903335f2e",
   "metadata": {},
   "outputs": [],
   "source": [
    "def factorial(n):\n",
    "    if n == 0:\n",
    "        return 1\n",
    "    else:\n",
    "        tmp = factorial(n - 1)  # (n - 1)!\n",
    "        resultat = n * tmp      # n * (n - 1)!\n",
    "        return resultat"
   ]
  },
  {
   "cell_type": "code",
   "execution_count": 63,
   "id": "d006be63-724c-4016-b5c8-ba1731445e50",
   "metadata": {},
   "outputs": [],
   "source": [
    "def factorial(n):\n",
    "    if n == 0:\n",
    "        return 1\n",
    "        # Dead Code\n",
    "    else:\n",
    "        return n * factorial(n - 1)\n",
    "        # Dead Code\n",
    "    # Dead Code"
   ]
  },
  {
   "cell_type": "code",
   "execution_count": 69,
   "id": "02ca4fbc-002b-4116-be5a-35e264537e6f",
   "metadata": {},
   "outputs": [],
   "source": [
    "def factorial(n):\n",
    "    if n == 0:\n",
    "        return 1  # -> early exit\n",
    "    # `else` fehlt nicht! => early exit pattern\n",
    "    return n * factorial(n - 1)"
   ]
  },
  {
   "cell_type": "markdown",
   "id": "d610b529-27e7-44b7-b3ed-1290172f882a",
   "metadata": {},
   "source": [
    "$0! := 1$\n",
    "\n",
    "$n! = n * (n - 1)!$"
   ]
  },
  {
   "cell_type": "code",
   "execution_count": 83,
   "id": "a7a31230-b826-418c-84e7-1ba38ce6613c",
   "metadata": {},
   "outputs": [],
   "source": [
    "def factorial(n):  # mit if-Statement => wie es die meisten machen würden\n",
    "    if n == 0:\n",
    "        return 1\n",
    "    return n * factorial(n - 1)"
   ]
  },
  {
   "cell_type": "code",
   "execution_count": 81,
   "id": "ce33a5a4-d4f2-40de-a56e-5fca4ddabb9a",
   "metadata": {},
   "outputs": [],
   "source": [
    "def factorial(n):  # mit if-Expression\n",
    "    return n * factorial(n - 1) if n > 0 else 1"
   ]
  },
  {
   "cell_type": "code",
   "execution_count": 82,
   "id": "092ac53a-e1c7-42c7-a678-64275c20e897",
   "metadata": {},
   "outputs": [
    {
     "data": {
      "text/plain": [
       "3628800"
      ]
     },
     "execution_count": 82,
     "metadata": {},
     "output_type": "execute_result"
    }
   ],
   "source": [
    "factorial(10)"
   ]
  },
  {
   "cell_type": "code",
   "execution_count": 73,
   "id": "d7b13dfa-80bb-4bda-b09d-024e05860c20",
   "metadata": {},
   "outputs": [],
   "source": [
    "assert factorial(0) == 1"
   ]
  },
  {
   "cell_type": "code",
   "execution_count": 74,
   "id": "aa0e68a8-1a81-40b5-9e27-0e0608bae646",
   "metadata": {},
   "outputs": [],
   "source": [
    "assert factorial(1) == 1"
   ]
  },
  {
   "cell_type": "code",
   "execution_count": 75,
   "id": "58953ddf-0d49-43ea-8cf3-67db5844efc6",
   "metadata": {},
   "outputs": [],
   "source": [
    "assert factorial(3) == 3 * 2 * 1"
   ]
  },
  {
   "cell_type": "code",
   "execution_count": 76,
   "id": "818357d7-9cc8-487e-a79c-be9f370f749e",
   "metadata": {},
   "outputs": [],
   "source": [
    "assert factorial(5) == 5 * 4 * 3 * 2 * 1"
   ]
  },
  {
   "cell_type": "code",
   "execution_count": 77,
   "id": "d54a072e-1d02-46a6-b2e7-35b915b203ba",
   "metadata": {},
   "outputs": [
    {
     "name": "stdout",
     "output_type": "stream",
     "text": [
      "1 1\n",
      "2 2\n",
      "3 6\n",
      "4 24\n",
      "5 120\n",
      "6 720\n",
      "7 5040\n",
      "8 40320\n",
      "9 362880\n"
     ]
    }
   ],
   "source": [
    "for n in range(1, 10):\n",
    "    print(n, factorial(n))"
   ]
  },
  {
   "cell_type": "code",
   "execution_count": 78,
   "id": "72ad834b-8d8a-4dc9-be96-e3ab5b9e290e",
   "metadata": {},
   "outputs": [],
   "source": [
    "import math"
   ]
  },
  {
   "cell_type": "code",
   "execution_count": 80,
   "id": "0722bd22-dcc6-4fb0-9789-b3f4a0adbbde",
   "metadata": {},
   "outputs": [
    {
     "data": {
      "text/plain": [
       "362880"
      ]
     },
     "execution_count": 80,
     "metadata": {},
     "output_type": "execute_result"
    }
   ],
   "source": [
    "math.factorial(9)"
   ]
  },
  {
   "cell_type": "markdown",
   "id": "c802ecc9-fbaf-4757-9842-f4280eefc0a3",
   "metadata": {},
   "source": [
    "## Looping"
   ]
  },
  {
   "cell_type": "markdown",
   "id": "6551873d-a9ca-4fdb-ae41-095e7c68e22b",
   "metadata": {
    "jp-MarkdownHeadingCollapsed": true
   },
   "source": [
    "#### Bsp: `factorial()`/ Fakultät"
   ]
  },
  {
   "cell_type": "markdown",
   "id": "1fb80bc4-f50c-4556-9cf8-edfb74beebe1",
   "metadata": {},
   "source": [
    "$5! = 5 * 4 * 3 * 2 * 1 = 1 * 2 * 3 * 4 * 5$"
   ]
  },
  {
   "cell_type": "code",
   "execution_count": 98,
   "id": "40302b69-f47b-49f7-beae-f08b9741af18",
   "metadata": {},
   "outputs": [],
   "source": [
    "def factorial(n):\n",
    "    product = 1\n",
    "\n",
    "    for i in range(1, n + 1):\n",
    "        product = product * i\n",
    "\n",
    "    return product"
   ]
  },
  {
   "cell_type": "code",
   "execution_count": 106,
   "id": "80f52b6e-8fda-441a-b351-6fcb37a5d8ca",
   "metadata": {},
   "outputs": [],
   "source": [
    "def factorial(n):\n",
    "    product = 1\n",
    "\n",
    "    for i in range(2, n + 1):\n",
    "        product *= i\n",
    "\n",
    "    return product"
   ]
  },
  {
   "cell_type": "code",
   "execution_count": 107,
   "id": "3e3de9a9-96f9-433c-9e74-75de952aa778",
   "metadata": {},
   "outputs": [
    {
     "data": {
      "text/plain": [
       "120"
      ]
     },
     "execution_count": 107,
     "metadata": {},
     "output_type": "execute_result"
    }
   ],
   "source": [
    "factorial(5)"
   ]
  },
  {
   "cell_type": "code",
   "execution_count": 108,
   "id": "4cade8df-7ca6-4659-ac78-3c9f00e3d95f",
   "metadata": {},
   "outputs": [],
   "source": [
    "assert factorial(0) == 1"
   ]
  },
  {
   "cell_type": "code",
   "execution_count": 109,
   "id": "b45bd72f-c89a-4baa-b5cf-19c6d3a38b9d",
   "metadata": {},
   "outputs": [],
   "source": [
    "assert factorial(1) == 1"
   ]
  },
  {
   "cell_type": "code",
   "execution_count": 110,
   "id": "5a8ca95c-9edb-4613-bdea-b94cb8212caa",
   "metadata": {},
   "outputs": [],
   "source": [
    "assert factorial(3) == 3 * 2 * 1"
   ]
  },
  {
   "cell_type": "code",
   "execution_count": 111,
   "id": "ada36cb5-bf15-458b-ba93-9d4e51422c3a",
   "metadata": {},
   "outputs": [],
   "source": [
    "assert factorial(5) == 5 * 4 * 3 * 2 * 1"
   ]
  },
  {
   "cell_type": "markdown",
   "id": "87471eb6-e475-4736-95d7-545481a44beb",
   "metadata": {
    "jp-MarkdownHeadingCollapsed": true
   },
   "source": [
    "## Input Validation"
   ]
  },
  {
   "cell_type": "code",
   "execution_count": 23,
   "id": "40886503-4287-44c4-954f-14b10a2fa0aa",
   "metadata": {},
   "outputs": [],
   "source": [
    "def factorial(n):\n",
    "    \"\"\"Berechne die Fakultät einer Zahl.\n",
    "\n",
    "    Args:\n",
    "        n (int): die Zahl, für die wir die Fakultät berechnen\n",
    "\n",
    "    Returns:\n",
    "        factorial (int)\n",
    "    \"\"\"\n",
    "    if n == 0:\n",
    "        return 1\n",
    "    return n * factorial(n - 1)"
   ]
  },
  {
   "cell_type": "code",
   "execution_count": 2,
   "id": "115cedbf-157a-44a9-9581-5ec8d3c4e1f8",
   "metadata": {},
   "outputs": [
    {
     "data": {
      "text/plain": [
       "1"
      ]
     },
     "execution_count": 2,
     "metadata": {},
     "output_type": "execute_result"
    }
   ],
   "source": [
    "factorial(0)"
   ]
  },
  {
   "cell_type": "code",
   "execution_count": 3,
   "id": "5539cbf6-3054-49e1-bc9f-e904f542df93",
   "metadata": {},
   "outputs": [
    {
     "data": {
      "text/plain": [
       "120"
      ]
     },
     "execution_count": 3,
     "metadata": {},
     "output_type": "execute_result"
    }
   ],
   "source": [
    "factorial(5)"
   ]
  },
  {
   "cell_type": "markdown",
   "id": "d8ba69e0-b65c-4d03-a219-cb1f11941e70",
   "metadata": {},
   "source": [
    "**duck typing**: \"If it walks like a duck and quacks like a duck, it must be a duck\""
   ]
  },
  {
   "cell_type": "code",
   "execution_count": 6,
   "id": "2d09c265-71da-4dc5-b24b-f161aa5fcf27",
   "metadata": {},
   "outputs": [
    {
     "data": {
      "text/plain": [
       "3.0"
      ]
     },
     "execution_count": 6,
     "metadata": {},
     "output_type": "execute_result"
    }
   ],
   "source": [
    "1 + 2.0  # 1 verhält sich wie 1.0"
   ]
  },
  {
   "cell_type": "code",
   "execution_count": 4,
   "id": "7b3df6ec-bb82-4390-b7b5-aebc12083ac2",
   "metadata": {},
   "outputs": [
    {
     "data": {
      "text/plain": [
       "120.0"
      ]
     },
     "execution_count": 4,
     "metadata": {},
     "output_type": "execute_result"
    }
   ],
   "source": [
    "factorial(5.0)  # 5.0 verhält sich wie eine 5"
   ]
  },
  {
   "cell_type": "code",
   "execution_count": 5,
   "id": "262ade21-c926-4378-bed3-cc83fcb872ef",
   "metadata": {},
   "outputs": [
    {
     "ename": "RecursionError",
     "evalue": "maximum recursion depth exceeded",
     "output_type": "error",
     "traceback": [
      "\u001b[0;31m---------------------------------------------------------------------------\u001b[0m",
      "\u001b[0;31mRecursionError\u001b[0m                            Traceback (most recent call last)",
      "Cell \u001b[0;32mIn[5], line 1\u001b[0m\n\u001b[0;32m----> 1\u001b[0m \u001b[43mfactorial\u001b[49m\u001b[43m(\u001b[49m\u001b[38;5;241;43m5.1\u001b[39;49m\u001b[43m)\u001b[49m\n",
      "Cell \u001b[0;32mIn[1], line 4\u001b[0m, in \u001b[0;36mfactorial\u001b[0;34m(n)\u001b[0m\n\u001b[1;32m      2\u001b[0m \u001b[38;5;28;01mif\u001b[39;00m n \u001b[38;5;241m==\u001b[39m \u001b[38;5;241m0\u001b[39m:\n\u001b[1;32m      3\u001b[0m     \u001b[38;5;28;01mreturn\u001b[39;00m \u001b[38;5;241m1\u001b[39m\n\u001b[0;32m----> 4\u001b[0m \u001b[38;5;28;01mreturn\u001b[39;00m n \u001b[38;5;241m*\u001b[39m \u001b[43mfactorial\u001b[49m\u001b[43m(\u001b[49m\u001b[43mn\u001b[49m\u001b[43m \u001b[49m\u001b[38;5;241;43m-\u001b[39;49m\u001b[43m \u001b[49m\u001b[38;5;241;43m1\u001b[39;49m\u001b[43m)\u001b[49m\n",
      "Cell \u001b[0;32mIn[1], line 4\u001b[0m, in \u001b[0;36mfactorial\u001b[0;34m(n)\u001b[0m\n\u001b[1;32m      2\u001b[0m \u001b[38;5;28;01mif\u001b[39;00m n \u001b[38;5;241m==\u001b[39m \u001b[38;5;241m0\u001b[39m:\n\u001b[1;32m      3\u001b[0m     \u001b[38;5;28;01mreturn\u001b[39;00m \u001b[38;5;241m1\u001b[39m\n\u001b[0;32m----> 4\u001b[0m \u001b[38;5;28;01mreturn\u001b[39;00m n \u001b[38;5;241m*\u001b[39m \u001b[43mfactorial\u001b[49m\u001b[43m(\u001b[49m\u001b[43mn\u001b[49m\u001b[43m \u001b[49m\u001b[38;5;241;43m-\u001b[39;49m\u001b[43m \u001b[49m\u001b[38;5;241;43m1\u001b[39;49m\u001b[43m)\u001b[49m\n",
      "    \u001b[0;31m[... skipping similar frames: factorial at line 4 (2975 times)]\u001b[0m\n",
      "Cell \u001b[0;32mIn[1], line 4\u001b[0m, in \u001b[0;36mfactorial\u001b[0;34m(n)\u001b[0m\n\u001b[1;32m      2\u001b[0m \u001b[38;5;28;01mif\u001b[39;00m n \u001b[38;5;241m==\u001b[39m \u001b[38;5;241m0\u001b[39m:\n\u001b[1;32m      3\u001b[0m     \u001b[38;5;28;01mreturn\u001b[39;00m \u001b[38;5;241m1\u001b[39m\n\u001b[0;32m----> 4\u001b[0m \u001b[38;5;28;01mreturn\u001b[39;00m n \u001b[38;5;241m*\u001b[39m \u001b[43mfactorial\u001b[49m\u001b[43m(\u001b[49m\u001b[43mn\u001b[49m\u001b[43m \u001b[49m\u001b[38;5;241;43m-\u001b[39;49m\u001b[43m \u001b[49m\u001b[38;5;241;43m1\u001b[39;49m\u001b[43m)\u001b[49m\n",
      "\u001b[0;31mRecursionError\u001b[0m: maximum recursion depth exceeded"
     ]
    }
   ],
   "source": [
    "factorial(5.1)"
   ]
  },
  {
   "cell_type": "code",
   "execution_count": 24,
   "id": "49e382f0-bfb0-45cb-8d33-c68acb0630a6",
   "metadata": {},
   "outputs": [
    {
     "ename": "RecursionError",
     "evalue": "maximum recursion depth exceeded",
     "output_type": "error",
     "traceback": [
      "\u001b[0;31m---------------------------------------------------------------------------\u001b[0m",
      "\u001b[0;31mRecursionError\u001b[0m                            Traceback (most recent call last)",
      "Cell \u001b[0;32mIn[24], line 1\u001b[0m\n\u001b[0;32m----> 1\u001b[0m \u001b[43mfactorial\u001b[49m\u001b[43m(\u001b[49m\u001b[38;5;241;43m-\u001b[39;49m\u001b[38;5;241;43m1\u001b[39;49m\u001b[43m)\u001b[49m\n",
      "Cell \u001b[0;32mIn[23], line 12\u001b[0m, in \u001b[0;36mfactorial\u001b[0;34m(n)\u001b[0m\n\u001b[1;32m     10\u001b[0m \u001b[38;5;28;01mif\u001b[39;00m n \u001b[38;5;241m==\u001b[39m \u001b[38;5;241m0\u001b[39m:\n\u001b[1;32m     11\u001b[0m     \u001b[38;5;28;01mreturn\u001b[39;00m \u001b[38;5;241m1\u001b[39m\n\u001b[0;32m---> 12\u001b[0m \u001b[38;5;28;01mreturn\u001b[39;00m n \u001b[38;5;241m*\u001b[39m \u001b[43mfactorial\u001b[49m\u001b[43m(\u001b[49m\u001b[43mn\u001b[49m\u001b[43m \u001b[49m\u001b[38;5;241;43m-\u001b[39;49m\u001b[43m \u001b[49m\u001b[38;5;241;43m1\u001b[39;49m\u001b[43m)\u001b[49m\n",
      "Cell \u001b[0;32mIn[23], line 12\u001b[0m, in \u001b[0;36mfactorial\u001b[0;34m(n)\u001b[0m\n\u001b[1;32m     10\u001b[0m \u001b[38;5;28;01mif\u001b[39;00m n \u001b[38;5;241m==\u001b[39m \u001b[38;5;241m0\u001b[39m:\n\u001b[1;32m     11\u001b[0m     \u001b[38;5;28;01mreturn\u001b[39;00m \u001b[38;5;241m1\u001b[39m\n\u001b[0;32m---> 12\u001b[0m \u001b[38;5;28;01mreturn\u001b[39;00m n \u001b[38;5;241m*\u001b[39m \u001b[43mfactorial\u001b[49m\u001b[43m(\u001b[49m\u001b[43mn\u001b[49m\u001b[43m \u001b[49m\u001b[38;5;241;43m-\u001b[39;49m\u001b[43m \u001b[49m\u001b[38;5;241;43m1\u001b[39;49m\u001b[43m)\u001b[49m\n",
      "    \u001b[0;31m[... skipping similar frames: factorial at line 12 (2975 times)]\u001b[0m\n",
      "Cell \u001b[0;32mIn[23], line 12\u001b[0m, in \u001b[0;36mfactorial\u001b[0;34m(n)\u001b[0m\n\u001b[1;32m     10\u001b[0m \u001b[38;5;28;01mif\u001b[39;00m n \u001b[38;5;241m==\u001b[39m \u001b[38;5;241m0\u001b[39m:\n\u001b[1;32m     11\u001b[0m     \u001b[38;5;28;01mreturn\u001b[39;00m \u001b[38;5;241m1\u001b[39m\n\u001b[0;32m---> 12\u001b[0m \u001b[38;5;28;01mreturn\u001b[39;00m n \u001b[38;5;241m*\u001b[39m \u001b[43mfactorial\u001b[49m\u001b[43m(\u001b[49m\u001b[43mn\u001b[49m\u001b[43m \u001b[49m\u001b[38;5;241;43m-\u001b[39;49m\u001b[43m \u001b[49m\u001b[38;5;241;43m1\u001b[39;49m\u001b[43m)\u001b[49m\n",
      "\u001b[0;31mRecursionError\u001b[0m: maximum recursion depth exceeded"
     ]
    }
   ],
   "source": [
    "factorial(-1)"
   ]
  },
  {
   "cell_type": "code",
   "execution_count": 17,
   "id": "ef484d36-dc6e-4b0f-9849-5c56e16ad388",
   "metadata": {},
   "outputs": [
    {
     "ename": "ValueError",
     "evalue": "mein Fehler",
     "output_type": "error",
     "traceback": [
      "\u001b[0;31m---------------------------------------------------------------------------\u001b[0m",
      "\u001b[0;31mValueError\u001b[0m                                Traceback (most recent call last)",
      "Cell \u001b[0;32mIn[17], line 1\u001b[0m\n\u001b[0;32m----> 1\u001b[0m \u001b[38;5;28;01mraise\u001b[39;00m \u001b[38;5;167;01mValueError\u001b[39;00m(\u001b[38;5;124m\"\u001b[39m\u001b[38;5;124mmein Fehler\u001b[39m\u001b[38;5;124m\"\u001b[39m)\n",
      "\u001b[0;31mValueError\u001b[0m: mein Fehler"
     ]
    }
   ],
   "source": [
    "raise ValueError(\"mein Fehler\")"
   ]
  },
  {
   "cell_type": "code",
   "execution_count": 43,
   "id": "44c0531f-b3dc-4a44-ab09-e40dbdd46323",
   "metadata": {},
   "outputs": [],
   "source": [
    "def factorial(n):\n",
    "    \"\"\"Berechne die Fakultät einer Zahl.\n",
    "\n",
    "    Args:\n",
    "        n (int): die Zahl, für die wir die Fakultät berechnen;\n",
    "            nur für nicht-negative Zahlen definiert\n",
    "    Returns:\n",
    "        factorial (int)\n",
    "\n",
    "    Raises:\n",
    "        - TypeError: falls `n` keine ganze Zahl ist\n",
    "        - ValueError: falls `n` negativ ist\n",
    "    \"\"\"\n",
    "    m = int(n)  # type casting (häufig nicht so gut, weil es duck typing verhindert)\n",
    "\n",
    "    if m != n:  # rechts ist eine Dezimalstelle ungleich .0\n",
    "        raise TypeError(\"Fakultäten gibt's nur für ganze Zahlen!\")\n",
    "    elif m < 0:\n",
    "        raise ValueError(\"Fakultäten gibt's nur für nicht-negative Zahlen!\")\n",
    "\n",
    "    if m == 0:\n",
    "        return 1\n",
    "    return m * factorial(m - 1)"
   ]
  },
  {
   "cell_type": "code",
   "execution_count": 44,
   "id": "12195957-5798-4f6c-a284-7a0afa1b98c0",
   "metadata": {},
   "outputs": [
    {
     "data": {
      "text/plain": [
       "1"
      ]
     },
     "execution_count": 44,
     "metadata": {},
     "output_type": "execute_result"
    }
   ],
   "source": [
    "factorial(0)"
   ]
  },
  {
   "cell_type": "code",
   "execution_count": 45,
   "id": "8927f3e0-cec4-4363-89fd-c9846edddf47",
   "metadata": {},
   "outputs": [
    {
     "data": {
      "text/plain": [
       "120"
      ]
     },
     "execution_count": 45,
     "metadata": {},
     "output_type": "execute_result"
    }
   ],
   "source": [
    "factorial(5)"
   ]
  },
  {
   "cell_type": "code",
   "execution_count": 46,
   "id": "91e0f091-9f27-4510-a784-d60294fbdd55",
   "metadata": {},
   "outputs": [
    {
     "data": {
      "text/plain": [
       "120.0"
      ]
     },
     "execution_count": 46,
     "metadata": {},
     "output_type": "execute_result"
    }
   ],
   "source": [
    "factorial(5.0)"
   ]
  },
  {
   "cell_type": "code",
   "execution_count": 47,
   "id": "85c65a4b-e8bf-4176-a1e8-8128539e863b",
   "metadata": {},
   "outputs": [
    {
     "ename": "TypeError",
     "evalue": "Fakultäten gibt's nur für ganze Zahlen!",
     "output_type": "error",
     "traceback": [
      "\u001b[0;31m---------------------------------------------------------------------------\u001b[0m",
      "\u001b[0;31mTypeError\u001b[0m                                 Traceback (most recent call last)",
      "Cell \u001b[0;32mIn[47], line 1\u001b[0m\n\u001b[0;32m----> 1\u001b[0m \u001b[43mfactorial\u001b[49m\u001b[43m(\u001b[49m\u001b[38;5;241;43m5.1\u001b[39;49m\u001b[43m)\u001b[49m\n",
      "Cell \u001b[0;32mIn[43], line 17\u001b[0m, in \u001b[0;36mfactorial\u001b[0;34m(n)\u001b[0m\n\u001b[1;32m     14\u001b[0m \u001b[38;5;66;03m#m = int(n)  # type casting (häufig nicht so gut, weil es duck typing verhindert)\u001b[39;00m\n\u001b[1;32m     16\u001b[0m \u001b[38;5;28;01mif\u001b[39;00m n \u001b[38;5;241m!=\u001b[39m \u001b[38;5;28mint\u001b[39m(n):  \u001b[38;5;66;03m# rechts ist eine Dezimalstelle ungleich .0\u001b[39;00m\n\u001b[0;32m---> 17\u001b[0m     \u001b[38;5;28;01mraise\u001b[39;00m \u001b[38;5;167;01mTypeError\u001b[39;00m(\u001b[38;5;124m\"\u001b[39m\u001b[38;5;124mFakultäten gibt\u001b[39m\u001b[38;5;124m'\u001b[39m\u001b[38;5;124ms nur für ganze Zahlen!\u001b[39m\u001b[38;5;124m\"\u001b[39m)\n\u001b[1;32m     18\u001b[0m \u001b[38;5;28;01melif\u001b[39;00m n \u001b[38;5;241m<\u001b[39m \u001b[38;5;241m0\u001b[39m:\n\u001b[1;32m     19\u001b[0m     \u001b[38;5;28;01mraise\u001b[39;00m \u001b[38;5;167;01mValueError\u001b[39;00m(\u001b[38;5;124m\"\u001b[39m\u001b[38;5;124mFakultäten gibt\u001b[39m\u001b[38;5;124m'\u001b[39m\u001b[38;5;124ms nur für nicht-negative Zahlen!\u001b[39m\u001b[38;5;124m\"\u001b[39m)\n",
      "\u001b[0;31mTypeError\u001b[0m: Fakultäten gibt's nur für ganze Zahlen!"
     ]
    }
   ],
   "source": [
    "factorial(5.1)"
   ]
  },
  {
   "cell_type": "code",
   "execution_count": 48,
   "id": "f7963a7c-25f3-4a44-ab92-fef02dac7cf8",
   "metadata": {},
   "outputs": [
    {
     "ename": "ValueError",
     "evalue": "Fakultäten gibt's nur für nicht-negative Zahlen!",
     "output_type": "error",
     "traceback": [
      "\u001b[0;31m---------------------------------------------------------------------------\u001b[0m",
      "\u001b[0;31mValueError\u001b[0m                                Traceback (most recent call last)",
      "Cell \u001b[0;32mIn[48], line 1\u001b[0m\n\u001b[0;32m----> 1\u001b[0m \u001b[43mfactorial\u001b[49m\u001b[43m(\u001b[49m\u001b[38;5;241;43m-\u001b[39;49m\u001b[38;5;241;43m1\u001b[39;49m\u001b[43m)\u001b[49m\n",
      "Cell \u001b[0;32mIn[43], line 19\u001b[0m, in \u001b[0;36mfactorial\u001b[0;34m(n)\u001b[0m\n\u001b[1;32m     17\u001b[0m     \u001b[38;5;28;01mraise\u001b[39;00m \u001b[38;5;167;01mTypeError\u001b[39;00m(\u001b[38;5;124m\"\u001b[39m\u001b[38;5;124mFakultäten gibt\u001b[39m\u001b[38;5;124m'\u001b[39m\u001b[38;5;124ms nur für ganze Zahlen!\u001b[39m\u001b[38;5;124m\"\u001b[39m)\n\u001b[1;32m     18\u001b[0m \u001b[38;5;28;01melif\u001b[39;00m n \u001b[38;5;241m<\u001b[39m \u001b[38;5;241m0\u001b[39m:\n\u001b[0;32m---> 19\u001b[0m     \u001b[38;5;28;01mraise\u001b[39;00m \u001b[38;5;167;01mValueError\u001b[39;00m(\u001b[38;5;124m\"\u001b[39m\u001b[38;5;124mFakultäten gibt\u001b[39m\u001b[38;5;124m'\u001b[39m\u001b[38;5;124ms nur für nicht-negative Zahlen!\u001b[39m\u001b[38;5;124m\"\u001b[39m)\n\u001b[1;32m     21\u001b[0m \u001b[38;5;28;01mif\u001b[39;00m n \u001b[38;5;241m==\u001b[39m \u001b[38;5;241m0\u001b[39m:\n\u001b[1;32m     22\u001b[0m     \u001b[38;5;28;01mreturn\u001b[39;00m \u001b[38;5;241m1\u001b[39m\n",
      "\u001b[0;31mValueError\u001b[0m: Fakultäten gibt's nur für nicht-negative Zahlen!"
     ]
    }
   ],
   "source": [
    "factorial(-1)"
   ]
  },
  {
   "cell_type": "code",
   "execution_count": null,
   "id": "a507da2d-0601-4391-abde-97018fa5d4fd",
   "metadata": {},
   "outputs": [],
   "source": []
  }
 ],
 "metadata": {
  "kernelspec": {
   "display_name": "Python 3.12",
   "language": "python",
   "name": "python3.12"
  },
  "language_info": {
   "codemirror_mode": {
    "name": "ipython",
    "version": 3
   },
   "file_extension": ".py",
   "mimetype": "text/x-python",
   "name": "python",
   "nbconvert_exporter": "python",
   "pygments_lexer": "ipython3",
   "version": "3.12.0"
  }
 },
 "nbformat": 4,
 "nbformat_minor": 5
}
