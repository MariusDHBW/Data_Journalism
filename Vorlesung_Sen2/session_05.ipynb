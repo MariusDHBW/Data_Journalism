{
 "cells": [
  {
   "cell_type": "code",
   "execution_count": 1,
   "id": "62c35a30-40f0-49f0-b433-f89e2a1ab562",
   "metadata": {},
   "outputs": [],
   "source": [
    "numbers = [7, 8, 9, 1, 2, 3, 6, 5, 4, 12, 11, 10]"
   ]
  },
  {
   "cell_type": "code",
   "execution_count": 2,
   "id": "c2454395-1aed-47e7-9602-340e2711f824",
   "metadata": {},
   "outputs": [
    {
     "data": {
      "text/plain": [
       "[49, 64, 81, 1, 4, 9, 36, 25, 16, 144, 121, 100]"
      ]
     },
     "execution_count": 2,
     "metadata": {},
     "output_type": "execute_result"
    }
   ],
   "source": [
    "squares = []\n",
    "\n",
    "for number in numbers:\n",
    "    squares.append(number ** 2)\n",
    "\n",
    "squares"
   ]
  },
  {
   "cell_type": "code",
   "execution_count": 3,
   "id": "26231863-0be5-4838-824e-182e19b4586a",
   "metadata": {},
   "outputs": [
    {
     "data": {
      "text/plain": [
       "[49, 64, 81, 1, 4, 9, 36, 25, 16, 144, 121, 100]"
      ]
     },
     "execution_count": 3,
     "metadata": {},
     "output_type": "execute_result"
    }
   ],
   "source": [
    "[number ** 2 for number in numbers]"
   ]
  },
  {
   "cell_type": "markdown",
   "id": "ebd8d06f-f30f-48e7-9fc0-5034615d179c",
   "metadata": {},
   "source": [
    "Aufgabe: Summe der Quadrate"
   ]
  },
  {
   "cell_type": "code",
   "execution_count": 5,
   "id": "6accb841-772b-4787-a195-b7246667cf4d",
   "metadata": {},
   "outputs": [
    {
     "data": {
      "text/plain": [
       "650"
      ]
     },
     "execution_count": 5,
     "metadata": {},
     "output_type": "execute_result"
    }
   ],
   "source": [
    "sum([number ** 2 for number in numbers])  # Verdopplung Arbeitsspeicher"
   ]
  },
  {
   "cell_type": "code",
   "execution_count": 30,
   "id": "315819b3-95b1-41f6-85c8-28194a4134f1",
   "metadata": {},
   "outputs": [],
   "source": [
    "squares = [number ** 2 for number in numbers]"
   ]
  },
  {
   "cell_type": "code",
   "execution_count": 38,
   "id": "3d67b936-e5fb-4b29-af6b-9d469d44661d",
   "metadata": {},
   "outputs": [
    {
     "data": {
      "text/plain": [
       "650"
      ]
     },
     "execution_count": 38,
     "metadata": {},
     "output_type": "execute_result"
    }
   ],
   "source": [
    "sum(squares)"
   ]
  },
  {
   "cell_type": "markdown",
   "id": "c90f81e2-686c-424c-a84a-bb7201e7259a",
   "metadata": {},
   "source": [
    "## `generator` Typ"
   ]
  },
  {
   "cell_type": "code",
   "execution_count": 6,
   "id": "a1bc0798-f777-4930-812e-7365b3f1a44c",
   "metadata": {},
   "outputs": [
    {
     "data": {
      "text/plain": [
       "<generator object <genexpr> at 0x7fe95c1c75e0>"
      ]
     },
     "execution_count": 6,
     "metadata": {},
     "output_type": "execute_result"
    }
   ],
   "source": [
    "squares = (number ** 2 for number in numbers)\n",
    "\n",
    "squares"
   ]
  },
  {
   "cell_type": "code",
   "execution_count": 7,
   "id": "385a8551-ba85-408c-b676-23f7b686b29e",
   "metadata": {},
   "outputs": [
    {
     "data": {
      "text/plain": [
       "generator"
      ]
     },
     "execution_count": 7,
     "metadata": {},
     "output_type": "execute_result"
    }
   ],
   "source": [
    "type(squares)"
   ]
  },
  {
   "cell_type": "code",
   "execution_count": 8,
   "id": "b52b50fd-f1f7-4a82-9bd7-2138b9fcde2d",
   "metadata": {},
   "outputs": [
    {
     "ename": "TypeError",
     "evalue": "object of type 'generator' has no len()",
     "output_type": "error",
     "traceback": [
      "\u001b[0;31m---------------------------------------------------------------------------\u001b[0m",
      "\u001b[0;31mTypeError\u001b[0m                                 Traceback (most recent call last)",
      "Cell \u001b[0;32mIn[8], line 1\u001b[0m\n\u001b[0;32m----> 1\u001b[0m \u001b[38;5;28;43mlen\u001b[39;49m\u001b[43m(\u001b[49m\u001b[43msquares\u001b[49m\u001b[43m)\u001b[49m\n",
      "\u001b[0;31mTypeError\u001b[0m: object of type 'generator' has no len()"
     ]
    }
   ],
   "source": [
    "len(squares)"
   ]
  },
  {
   "cell_type": "code",
   "execution_count": 22,
   "id": "01d45190-1f0c-4e6d-adfe-4f8e46b12605",
   "metadata": {},
   "outputs": [
    {
     "ename": "StopIteration",
     "evalue": "",
     "output_type": "error",
     "traceback": [
      "\u001b[0;31m---------------------------------------------------------------------------\u001b[0m",
      "\u001b[0;31mStopIteration\u001b[0m                             Traceback (most recent call last)",
      "Cell \u001b[0;32mIn[22], line 1\u001b[0m\n\u001b[0;32m----> 1\u001b[0m \u001b[38;5;28;43mnext\u001b[39;49m\u001b[43m(\u001b[49m\u001b[43msquares\u001b[49m\u001b[43m)\u001b[49m\n",
      "\u001b[0;31mStopIteration\u001b[0m: "
     ]
    }
   ],
   "source": [
    "next(squares)"
   ]
  },
  {
   "cell_type": "code",
   "execution_count": 39,
   "id": "1bbd6a3a-84c4-45b5-9eb8-9523af4d647c",
   "metadata": {},
   "outputs": [
    {
     "data": {
      "text/plain": [
       "<generator object <genexpr> at 0x7fe9456ba260>"
      ]
     },
     "execution_count": 39,
     "metadata": {},
     "output_type": "execute_result"
    }
   ],
   "source": [
    "squares = (number ** 2 for number in numbers)\n",
    "\n",
    "squares"
   ]
  },
  {
   "cell_type": "code",
   "execution_count": 40,
   "id": "f30c3c1b-4da6-44fa-9ae8-4c65487f53c1",
   "metadata": {},
   "outputs": [
    {
     "data": {
      "text/plain": [
       "650"
      ]
     },
     "execution_count": 40,
     "metadata": {},
     "output_type": "execute_result"
    }
   ],
   "source": [
    "sum(squares)  # keine Verdopplung vom Speicher"
   ]
  },
  {
   "cell_type": "code",
   "execution_count": 41,
   "id": "dd213778-c05c-4fab-b64e-8fc22fd7ef3a",
   "metadata": {},
   "outputs": [
    {
     "data": {
      "text/plain": [
       "0"
      ]
     },
     "execution_count": 41,
     "metadata": {},
     "output_type": "execute_result"
    }
   ],
   "source": [
    "sum(squares)  # ACHTUNG: generatoren kann man nur 1x verwenden"
   ]
  },
  {
   "cell_type": "code",
   "execution_count": 46,
   "id": "03586c1a-919e-4bc6-a8c2-1e5c0f8b58cd",
   "metadata": {},
   "outputs": [
    {
     "data": {
      "text/plain": [
       "650"
      ]
     },
     "execution_count": 46,
     "metadata": {},
     "output_type": "execute_result"
    }
   ],
   "source": [
    "sum((number ** 2 for number in numbers))"
   ]
  },
  {
   "cell_type": "code",
   "execution_count": 50,
   "id": "a3120aa8-a72f-44ba-bdcf-5ad3fd71fd46",
   "metadata": {},
   "outputs": [
    {
     "data": {
      "text/plain": [
       "650"
      ]
     },
     "execution_count": 50,
     "metadata": {},
     "output_type": "execute_result"
    }
   ],
   "source": [
    "sum(number ** 2 for number in numbers)"
   ]
  }
 ],
 "metadata": {
  "kernelspec": {
   "display_name": "Python 3.12",
   "language": "python",
   "name": "python3.12"
  },
  "language_info": {
   "codemirror_mode": {
    "name": "ipython",
    "version": 3
   },
   "file_extension": ".py",
   "mimetype": "text/x-python",
   "name": "python",
   "nbconvert_exporter": "python",
   "pygments_lexer": "ipython3",
   "version": "3.12.0"
  }
 },
 "nbformat": 4,
 "nbformat_minor": 5
}
