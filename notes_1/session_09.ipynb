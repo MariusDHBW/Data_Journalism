{
 "cells": [
  {
   "cell_type": "markdown",
   "id": "a6d876f6-02db-48b9-baf4-695065c11c47",
   "metadata": {},
   "source": [
    "# Iteration"
   ]
  },
  {
   "cell_type": "markdown",
   "id": "1ea5a70d-3e24-4548-9682-f8c8e3dac479",
   "metadata": {},
   "source": [
    "## Rekursion"
   ]
  },
  {
   "cell_type": "markdown",
   "id": "eb59ccee-c61b-447b-9797-9881eafa8ee3",
   "metadata": {
    "jp-MarkdownHeadingCollapsed": true
   },
   "source": [
    "#### Bsp: `fibonacci()` Zahlen"
   ]
  },
  {
   "cell_type": "markdown",
   "id": "81584042-b01c-493c-9a58-9cb08e1b02db",
   "metadata": {},
   "source": [
    "geg: $0, 1$\n",
    "\n",
    "Regel: \"Addiere die beiden Vorgänger\"\n",
    "\n",
    "also: $0, 1, 1, 2, 3, 5, 8, 13, ...$\n",
    "\n",
    "Index: $0, 1, 2, 3, 4, 5, 6, 7, ...$"
   ]
  },
  {
   "cell_type": "code",
   "execution_count": 12,
   "id": "8419807f-d5af-44e0-b79d-4c5ce5f05c08",
   "metadata": {},
   "outputs": [],
   "source": [
    "def fibonacci(i):\n",
    "    \"\"\"Berechne die i'te Fibonacci Zahl.\n",
    "\n",
    "    Args:\n",
    "        i (int): 0-basierter Index\n",
    "\n",
    "    Returns:\n",
    "        fib (int)\n",
    "    \"\"\"\n",
    "    if i == 0:   # 2 (!) Auswege\n",
    "        return 0\n",
    "    elif i == 1:\n",
    "        return 1\n",
    "    else:\n",
    "        # Vorvorgänger  +  Vorgänger  -> Code, der wiederholt ausgeführt wird\n",
    "        return fibonacci(i - 2) + fibonacci(i - 1)"
   ]
  },
  {
   "cell_type": "code",
   "execution_count": 21,
   "id": "3fa071e1-97f4-4abc-8288-01915a54136b",
   "metadata": {},
   "outputs": [],
   "source": [
    "def fibonacci(i):\n",
    "    \"\"\"Berechne die i'te Fibonacci Zahl.\n",
    "\n",
    "    Args:\n",
    "        i (int): 0-basierter Index\n",
    "\n",
    "    Returns:\n",
    "        fib (int)\n",
    "    \"\"\"\n",
    "    if i in [0, 1]:\n",
    "        return i\n",
    "    return fibonacci(i - 2) + fibonacci(i - 1)"
   ]
  },
  {
   "cell_type": "code",
   "execution_count": 22,
   "id": "96a4f08f-2cba-4a05-81e5-86490de6672c",
   "metadata": {},
   "outputs": [],
   "source": [
    "assert fibonacci(0) == 0"
   ]
  },
  {
   "cell_type": "code",
   "execution_count": 23,
   "id": "0ccd0f03-0a9c-4712-a909-4fbe7fe4a033",
   "metadata": {},
   "outputs": [],
   "source": [
    "assert fibonacci(1) == 1"
   ]
  },
  {
   "cell_type": "code",
   "execution_count": 24,
   "id": "02cc10aa-7a99-4c10-8630-a2976330613a",
   "metadata": {},
   "outputs": [],
   "source": [
    "assert fibonacci(2) == 1"
   ]
  },
  {
   "cell_type": "code",
   "execution_count": 25,
   "id": "e51c48d8-40bc-4cb1-b548-abffa31ae34b",
   "metadata": {},
   "outputs": [],
   "source": [
    "assert fibonacci(3) == 2"
   ]
  },
  {
   "cell_type": "code",
   "execution_count": 26,
   "id": "e820db69-197b-42f5-8dd1-aebff51a6533",
   "metadata": {},
   "outputs": [],
   "source": [
    "assert fibonacci(4) == 3"
   ]
  },
  {
   "cell_type": "code",
   "execution_count": 27,
   "id": "66831fc2-9e27-4f3f-8ba3-d722bf11656c",
   "metadata": {},
   "outputs": [],
   "source": [
    "assert fibonacci(5) == 5"
   ]
  },
  {
   "cell_type": "code",
   "execution_count": 28,
   "id": "87e082fb-813e-4de2-9be4-03d81c2404ad",
   "metadata": {},
   "outputs": [],
   "source": [
    "assert fibonacci(6) == 8"
   ]
  },
  {
   "cell_type": "code",
   "execution_count": 29,
   "id": "c138c3e0-3813-489e-bf63-f5b44922b21e",
   "metadata": {},
   "outputs": [],
   "source": [
    "assert fibonacci(7) == 13"
   ]
  },
  {
   "cell_type": "markdown",
   "id": "723d6010-0456-4f46-b94a-e0216ef22be7",
   "metadata": {},
   "source": [
    "Diese Lösung skaliert nicht!"
   ]
  },
  {
   "cell_type": "code",
   "execution_count": 33,
   "id": "1a7b7861-5b78-4268-b0b4-3ae0d4b44cd2",
   "metadata": {},
   "outputs": [
    {
     "data": {
      "text/plain": [
       "144"
      ]
     },
     "execution_count": 33,
     "metadata": {},
     "output_type": "execute_result"
    }
   ],
   "source": [
    "fibonacci(12)"
   ]
  },
  {
   "cell_type": "code",
   "execution_count": 34,
   "id": "7e6b21d9-772e-470a-ad99-c04049f94846",
   "metadata": {},
   "outputs": [
    {
     "data": {
      "text/plain": [
       "46368"
      ]
     },
     "execution_count": 34,
     "metadata": {},
     "output_type": "execute_result"
    }
   ],
   "source": [
    "fibonacci(24)"
   ]
  },
  {
   "cell_type": "code",
   "execution_count": 35,
   "id": "25d01584-365f-4a8e-8bc3-4fbe1e133397",
   "metadata": {},
   "outputs": [
    {
     "data": {
      "text/plain": [
       "14930352"
      ]
     },
     "execution_count": 35,
     "metadata": {},
     "output_type": "execute_result"
    }
   ],
   "source": [
    "fibonacci(36)"
   ]
  },
  {
   "cell_type": "code",
   "execution_count": 36,
   "id": "e36258e1-f072-4f0d-976c-6a33d9f2ca91",
   "metadata": {},
   "outputs": [
    {
     "data": {
      "text/plain": [
       "24157817"
      ]
     },
     "execution_count": 36,
     "metadata": {},
     "output_type": "execute_result"
    }
   ],
   "source": [
    "fibonacci(37)  # von 36 -> 37 => Verdopplung der Laufzeit (Exponentielles Wachstum)"
   ]
  },
  {
   "cell_type": "code",
   "execution_count": 37,
   "id": "d82982db-d4cc-4b0e-884d-ecc3e0927357",
   "metadata": {},
   "outputs": [
    {
     "data": {
      "text/plain": [
       "39088169"
      ]
     },
     "execution_count": 37,
     "metadata": {},
     "output_type": "execute_result"
    }
   ],
   "source": [
    "fibonacci(38)"
   ]
  },
  {
   "cell_type": "code",
   "execution_count": 38,
   "id": "692c70f7-67c0-4387-8abb-eef303585c95",
   "metadata": {},
   "outputs": [
    {
     "ename": "KeyboardInterrupt",
     "evalue": "",
     "output_type": "error",
     "traceback": [
      "\u001b[0;31m---------------------------------------------------------------------------\u001b[0m",
      "\u001b[0;31mKeyboardInterrupt\u001b[0m                         Traceback (most recent call last)",
      "Cell \u001b[0;32mIn[38], line 1\u001b[0m\n\u001b[0;32m----> 1\u001b[0m \u001b[43mfibonacci\u001b[49m\u001b[43m(\u001b[49m\u001b[38;5;241;43m99\u001b[39;49m\u001b[43m)\u001b[49m\n",
      "Cell \u001b[0;32mIn[21], line 12\u001b[0m, in \u001b[0;36mfibonacci\u001b[0;34m(i)\u001b[0m\n\u001b[1;32m     10\u001b[0m \u001b[38;5;28;01mif\u001b[39;00m i \u001b[38;5;129;01min\u001b[39;00m [\u001b[38;5;241m0\u001b[39m, \u001b[38;5;241m1\u001b[39m]:\n\u001b[1;32m     11\u001b[0m     \u001b[38;5;28;01mreturn\u001b[39;00m i\n\u001b[0;32m---> 12\u001b[0m \u001b[38;5;28;01mreturn\u001b[39;00m \u001b[43mfibonacci\u001b[49m\u001b[43m(\u001b[49m\u001b[43mi\u001b[49m\u001b[43m \u001b[49m\u001b[38;5;241;43m-\u001b[39;49m\u001b[43m \u001b[49m\u001b[38;5;241;43m2\u001b[39;49m\u001b[43m)\u001b[49m \u001b[38;5;241m+\u001b[39m fibonacci(i \u001b[38;5;241m-\u001b[39m \u001b[38;5;241m1\u001b[39m)\n",
      "Cell \u001b[0;32mIn[21], line 12\u001b[0m, in \u001b[0;36mfibonacci\u001b[0;34m(i)\u001b[0m\n\u001b[1;32m     10\u001b[0m \u001b[38;5;28;01mif\u001b[39;00m i \u001b[38;5;129;01min\u001b[39;00m [\u001b[38;5;241m0\u001b[39m, \u001b[38;5;241m1\u001b[39m]:\n\u001b[1;32m     11\u001b[0m     \u001b[38;5;28;01mreturn\u001b[39;00m i\n\u001b[0;32m---> 12\u001b[0m \u001b[38;5;28;01mreturn\u001b[39;00m \u001b[43mfibonacci\u001b[49m\u001b[43m(\u001b[49m\u001b[43mi\u001b[49m\u001b[43m \u001b[49m\u001b[38;5;241;43m-\u001b[39;49m\u001b[43m \u001b[49m\u001b[38;5;241;43m2\u001b[39;49m\u001b[43m)\u001b[49m \u001b[38;5;241m+\u001b[39m fibonacci(i \u001b[38;5;241m-\u001b[39m \u001b[38;5;241m1\u001b[39m)\n",
      "    \u001b[0;31m[... skipping similar frames: fibonacci at line 12 (54 times)]\u001b[0m\n",
      "Cell \u001b[0;32mIn[21], line 12\u001b[0m, in \u001b[0;36mfibonacci\u001b[0;34m(i)\u001b[0m\n\u001b[1;32m     10\u001b[0m \u001b[38;5;28;01mif\u001b[39;00m i \u001b[38;5;129;01min\u001b[39;00m [\u001b[38;5;241m0\u001b[39m, \u001b[38;5;241m1\u001b[39m]:\n\u001b[1;32m     11\u001b[0m     \u001b[38;5;28;01mreturn\u001b[39;00m i\n\u001b[0;32m---> 12\u001b[0m \u001b[38;5;28;01mreturn\u001b[39;00m fibonacci(i \u001b[38;5;241m-\u001b[39m \u001b[38;5;241m2\u001b[39m) \u001b[38;5;241m+\u001b[39m \u001b[43mfibonacci\u001b[49m\u001b[43m(\u001b[49m\u001b[43mi\u001b[49m\u001b[43m \u001b[49m\u001b[38;5;241;43m-\u001b[39;49m\u001b[43m \u001b[49m\u001b[38;5;241;43m1\u001b[39;49m\u001b[43m)\u001b[49m\n",
      "Cell \u001b[0;32mIn[21], line 1\u001b[0m, in \u001b[0;36mfibonacci\u001b[0;34m(i)\u001b[0m\n\u001b[0;32m----> 1\u001b[0m \u001b[38;5;28;01mdef\u001b[39;00m \u001b[38;5;21mfibonacci\u001b[39m(i):\n\u001b[1;32m      2\u001b[0m \u001b[38;5;250m    \u001b[39m\u001b[38;5;124;03m\"\"\"Berechne die i'te Fibonacci Zahl.\u001b[39;00m\n\u001b[1;32m      3\u001b[0m \n\u001b[1;32m      4\u001b[0m \u001b[38;5;124;03m    Args:\u001b[39;00m\n\u001b[0;32m   (...)\u001b[0m\n\u001b[1;32m      8\u001b[0m \u001b[38;5;124;03m        fib (int)\u001b[39;00m\n\u001b[1;32m      9\u001b[0m \u001b[38;5;124;03m    \"\"\"\u001b[39;00m\n\u001b[1;32m     10\u001b[0m     \u001b[38;5;28;01mif\u001b[39;00m i \u001b[38;5;129;01min\u001b[39;00m [\u001b[38;5;241m0\u001b[39m, \u001b[38;5;241m1\u001b[39m]:\n",
      "\u001b[0;31mKeyboardInterrupt\u001b[0m: "
     ]
    }
   ],
   "source": [
    "fibonacci(99)"
   ]
  },
  {
   "cell_type": "markdown",
   "id": "fbbcd618-0bdf-4fe6-92a4-8cccb847d792",
   "metadata": {},
   "source": [
    "## Looping"
   ]
  },
  {
   "cell_type": "markdown",
   "id": "c0143118-4c5b-4968-adcd-14ef6a762180",
   "metadata": {
    "jp-MarkdownHeadingCollapsed": true
   },
   "source": [
    "#### Bsp: `fibonacci()` Zahlen"
   ]
  },
  {
   "cell_type": "markdown",
   "id": "939f9ade-daa1-46ce-8e7b-bf9261447362",
   "metadata": {},
   "source": [
    "ges.: `fib(5)`\n",
    "\n",
    "`i=2` => $0 + 1 = 1$\n",
    "\n",
    "`i=3` => $1 + 1 = 2$ \n",
    "\n",
    "`i=4` => $1 + 2 = 3$\n",
    "\n",
    "`i=5` => $2 + 3 = 5$"
   ]
  },
  {
   "cell_type": "code",
   "execution_count": 57,
   "id": "b0c6005f-fd7d-4fe9-be38-41b2f2842511",
   "metadata": {},
   "outputs": [],
   "source": [
    "def fibonacci(i):\n",
    "    \"\"\"Berechne die i'te Fibonacci Zahl.\n",
    "\n",
    "    Args:\n",
    "        i (int): 0-basierter Index\n",
    "\n",
    "    Returns:\n",
    "        fib (int)\n",
    "    \"\"\"\n",
    "    if i == 0:\n",
    "        return 0\n",
    "\n",
    "    a = 0\n",
    "    b = 1\n",
    "\n",
    "    for brauchen_wir_nicht in range(i - 1):\n",
    "        c = a + b\n",
    "        a = b\n",
    "        b = c\n",
    "\n",
    "    return b"
   ]
  },
  {
   "cell_type": "code",
   "execution_count": 67,
   "id": "ad7d6e6f-fe11-40bf-bf48-759590cb61d3",
   "metadata": {},
   "outputs": [],
   "source": [
    "def fibonacci(i):\n",
    "    \"\"\"Berechne die i'te Fibonacci Zahl.\n",
    "\n",
    "    Args:\n",
    "        i (int): 0-basierter Index\n",
    "\n",
    "    Returns:\n",
    "        fib (int)\n",
    "    \"\"\"\n",
    "    if i == 0:\n",
    "        return 0\n",
    "\n",
    "    a, b = 0, 1\n",
    "\n",
    "    for _ in range(i - 1):  # \"_\" => Konvention: Variable wird syntaktisch aber nicht inhaltlich gebraucht\n",
    "        a, b = b, a + b\n",
    "\n",
    "    return b"
   ]
  },
  {
   "cell_type": "code",
   "execution_count": 91,
   "id": "d6450477-6cce-49b8-ac07-d7aa4fa878dc",
   "metadata": {},
   "outputs": [],
   "source": [
    "def fibonacci(i):\n",
    "    \"\"\"Berechne die i'te Fibonacci Zahl.\n",
    "\n",
    "    Args:\n",
    "        i (int): 0-basierter Index\n",
    "\n",
    "    Returns:\n",
    "        fib (int)\n",
    "    \"\"\"\n",
    "    a, b = 0, 1\n",
    "\n",
    "    for _ in range(i):\n",
    "        a, b = b, a + b\n",
    "\n",
    "    return a"
   ]
  },
  {
   "cell_type": "code",
   "execution_count": 92,
   "id": "5c1c26c2-b0d0-4f7b-923b-01b5823f8fed",
   "metadata": {},
   "outputs": [],
   "source": [
    "assert fibonacci(0) == 0"
   ]
  },
  {
   "cell_type": "code",
   "execution_count": 93,
   "id": "d410e624-6526-42ad-b6af-130eefc3fd94",
   "metadata": {},
   "outputs": [],
   "source": [
    "assert fibonacci(1) == 1"
   ]
  },
  {
   "cell_type": "code",
   "execution_count": 94,
   "id": "af01a34b-6366-415b-8708-edee7c660322",
   "metadata": {},
   "outputs": [],
   "source": [
    "assert fibonacci(2) == 1"
   ]
  },
  {
   "cell_type": "code",
   "execution_count": 95,
   "id": "ad036920-7480-49d9-a29a-28d25106b4b5",
   "metadata": {},
   "outputs": [],
   "source": [
    "assert fibonacci(3) == 2"
   ]
  },
  {
   "cell_type": "code",
   "execution_count": 96,
   "id": "0e0a6c73-2777-4108-a33d-5762c64ec235",
   "metadata": {},
   "outputs": [],
   "source": [
    "assert fibonacci(4) == 3"
   ]
  },
  {
   "cell_type": "code",
   "execution_count": 97,
   "id": "75b85708-0f27-476e-955c-e0fa3d86419d",
   "metadata": {},
   "outputs": [],
   "source": [
    "assert fibonacci(5) == 5"
   ]
  },
  {
   "cell_type": "code",
   "execution_count": 98,
   "id": "58cd73fb-d16c-4c5a-a503-a74f7b2aac61",
   "metadata": {},
   "outputs": [],
   "source": [
    "assert fibonacci(6) == 8"
   ]
  },
  {
   "cell_type": "code",
   "execution_count": 99,
   "id": "ff180979-a11f-4bb6-986f-d0a48f70800f",
   "metadata": {},
   "outputs": [],
   "source": [
    "assert fibonacci(7) == 13"
   ]
  },
  {
   "cell_type": "code",
   "execution_count": 100,
   "id": "9e92eda8-0294-4cc6-ae86-1f9fe0f761c0",
   "metadata": {},
   "outputs": [
    {
     "data": {
      "text/plain": [
       "218922995834555169026"
      ]
     },
     "execution_count": 100,
     "metadata": {},
     "output_type": "execute_result"
    }
   ],
   "source": [
    "fibonacci(99)"
   ]
  }
 ],
 "metadata": {
  "kernelspec": {
   "display_name": "Python 3.12",
   "language": "python",
   "name": "python3.12"
  },
  "language_info": {
   "codemirror_mode": {
    "name": "ipython",
    "version": 3
   },
   "file_extension": ".py",
   "mimetype": "text/x-python",
   "name": "python",
   "nbconvert_exporter": "python",
   "pygments_lexer": "ipython3",
   "version": "3.12.0"
  }
 },
 "nbformat": 4,
 "nbformat_minor": 5
}
