{
 "cells": [
  {
   "cell_type": "markdown",
   "id": "5b069c82-cefe-4b61-b778-a28d1365bbc5",
   "metadata": {},
   "source": [
    "# Iteration"
   ]
  },
  {
   "cell_type": "markdown",
   "id": "2aae6cfc-3bc1-4baf-85eb-ccc31f32c0c2",
   "metadata": {},
   "source": [
    "Neu: Manchmal weiß man vorab *nicht*, wie viele Wiederholungen man braucht, um ein Problem zu lösen"
   ]
  },
  {
   "cell_type": "markdown",
   "id": "a20f337d-56d4-4ecd-9405-ecadad76f896",
   "metadata": {},
   "source": [
    "#### Bsp.: `collatz()` Conjecture / Vermutung"
   ]
  },
  {
   "cell_type": "markdown",
   "id": "7c31fbd9-e7f8-40c2-b757-96549d9079c8",
   "metadata": {},
   "source": [
    "Gedankenspiel:\n",
    "- denkt an irgendeine nicht-negative ganze Zahl `n`\n",
    "- wenn die Zahl gerade ist, ist das neue `n` die Hälfte des alten\n",
    "- wenn die Zahl ungerade ist, gilt: `n = 3 * n + 1`\n",
    "- Wiederhole die Schritte so lange, bis `1` rauskommt\n",
    "- Frage: Kommt immer am Ende die `1` raus?"
   ]
  },
  {
   "cell_type": "markdown",
   "id": "93e1c2e3-79a8-4235-8e4a-29f643f03192",
   "metadata": {},
   "source": [
    "Bsp: 42 -> 21 -> 64 -> 32 -> 16 -> 8 -> 4 -> 2 -> 1"
   ]
  },
  {
   "cell_type": "code",
   "execution_count": 2,
   "id": "5f1f6c36-b36e-45f9-b07d-a8742792ff09",
   "metadata": {},
   "outputs": [],
   "source": [
    "import time"
   ]
  },
  {
   "cell_type": "code",
   "execution_count": 13,
   "id": "06091962-b70f-47f5-b92f-7374523e7d0e",
   "metadata": {},
   "outputs": [],
   "source": [
    "def collatz(n):\n",
    "\n",
    "    while n != 1:\n",
    "        print(n, end=\"  \")\n",
    "        time.sleep(0.25)\n",
    "\n",
    "        if n % 2 == 0:\n",
    "            n = n // 2\n",
    "        else:\n",
    "            n = 3 * n + 1\n",
    "\n",
    "    print(n)  # 1"
   ]
  },
  {
   "cell_type": "code",
   "execution_count": 14,
   "id": "055eca33-5c95-493b-b937-e660fe5e2466",
   "metadata": {},
   "outputs": [
    {
     "name": "stdout",
     "output_type": "stream",
     "text": [
      "42  21  64  32  16  8  4  2  1\n"
     ]
    }
   ],
   "source": [
    "collatz(42)"
   ]
  },
  {
   "cell_type": "code",
   "execution_count": 15,
   "id": "fc7c83d1-d07f-48bd-808c-ce2e2c4f0193",
   "metadata": {},
   "outputs": [
    {
     "name": "stdout",
     "output_type": "stream",
     "text": [
      "10  5  16  8  4  2  1\n"
     ]
    }
   ],
   "source": [
    "collatz(10)"
   ]
  },
  {
   "cell_type": "code",
   "execution_count": 16,
   "id": "564c25c6-b451-4a4e-a925-1a87cf1d2a9d",
   "metadata": {},
   "outputs": [
    {
     "name": "stdout",
     "output_type": "stream",
     "text": [
      "100  50  25  76  38  19  58  29  88  44  22  11  34  17  52  26  13  40  20  10  5  16  8  4  2  1\n"
     ]
    }
   ],
   "source": [
    "collatz(100)"
   ]
  },
  {
   "cell_type": "code",
   "execution_count": 17,
   "id": "f5bfda11-6b19-471e-ade2-fea122e768c2",
   "metadata": {},
   "outputs": [
    {
     "name": "stdout",
     "output_type": "stream",
     "text": [
      "1000  500  250  125  376  188  94  47  142  71  214  107  322  161  484  242  121  364  182  91  274  137  412  206  103  310  155  466  233  700  350  175  526  263  790  395  1186  593  1780  890  445  1336  668  334  167  502  251  754  377  1132  566  283  850  425  1276  638  319  958  479  1438  719  2158  1079  3238  1619  4858  2429  7288  3644  1822  911  2734  1367  4102  2051  6154  3077  9232  4616  2308  1154  577  1732  866  433  1300  650  325  976  488  244  122  61  184  92  46  23  70  35  106  53  160  80  40  20  10  5  16  8  4  2  1\n"
     ]
    }
   ],
   "source": [
    "collatz(1_000)"
   ]
  },
  {
   "cell_type": "code",
   "execution_count": 18,
   "id": "1d929954-a390-4642-b60b-8d1144290025",
   "metadata": {},
   "outputs": [
    {
     "name": "stdout",
     "output_type": "stream",
     "text": [
      "10000  5000  2500  1250  625  1876  938  469  1408  704  352  176  88  44  22  11  34  17  52  26  13  40  20  10  5  16  8  4  2  1\n"
     ]
    }
   ],
   "source": [
    "collatz(10_000)"
   ]
  },
  {
   "cell_type": "code",
   "execution_count": 19,
   "id": "3083402c-d2dc-4b35-923a-454483fb20be",
   "metadata": {},
   "outputs": [],
   "source": [
    "import matplotlib.pyplot as plt"
   ]
  },
  {
   "cell_type": "code",
   "execution_count": 20,
   "id": "ac43ba4d-56e5-46ac-8fe8-d082be37af6f",
   "metadata": {},
   "outputs": [],
   "source": [
    "def collatz_plot(n):\n",
    "\n",
    "    i = 0\n",
    "\n",
    "    xs = []\n",
    "    ys = []\n",
    "\n",
    "    while n != 1:\n",
    "        ys.append(n)\n",
    "    \n",
    "        if n % 2 == 0:\n",
    "            n = n // 2\n",
    "        else:\n",
    "            n = 3 * n + 1\n",
    "\n",
    "        i += 1\n",
    "        xs.append(i)\n",
    "\n",
    "    plt.plot(xs, ys)"
   ]
  },
  {
   "cell_type": "code",
   "execution_count": 29,
   "id": "4d8ccd48-eaf5-442e-8639-d50a9dbfd829",
   "metadata": {},
   "outputs": [
    {
     "data": {
      "image/png": "[encoded data removed]",
      "text/plain": [
       "<Figure size 640x480 with 1 Axes>"
      ]
     },
     "metadata": {},
     "output_type": "display_data"
    }
   ],
   "source": [
    "collatz_plot(100_000)"
   ]
  },
  {
   "cell_type": "markdown",
   "id": "ed4303aa-2760-48e1-9bd1-2ea70a646793",
   "metadata": {},
   "source": [
    "# Simulationen / Indefinite Loops / Unbestimmte Loops"
   ]
  },
  {
   "cell_type": "markdown",
   "id": "c483721e-f931-44cc-8b4f-034012b9eaf6",
   "metadata": {},
   "source": [
    "- Ein Modell der Realität (z.B. Flugsimulation)\n",
    "- wiederholtes Experiment mit Zufallselement\n",
    "- es folgt immer denselben Regeln\n",
    "- viele ähnliche aber andere Ergebnisse -> Statistik / Entscheidungstheorie"
   ]
  },
  {
   "cell_type": "markdown",
   "id": "67b210aa-3824-4ee5-b901-88814e3564ee",
   "metadata": {},
   "source": [
    "## \"Ratespiele\": Münzwurf\n",
    "\n",
    "Spiel bis zum bitteren Ende:\n",
    "1. Computer wirft eine Münze\n",
    "2. Mensch muss raten\n",
    "3. Wenn richtig -> Spiel zu Ende\n",
    "4. Wenn falsch -> nächste Runde"
   ]
  },
  {
   "cell_type": "code",
   "execution_count": 31,
   "id": "e59a5879-10d5-43fa-9785-535eb1638509",
   "metadata": {},
   "outputs": [],
   "source": [
    "import random"
   ]
  },
  {
   "cell_type": "code",
   "execution_count": 53,
   "id": "1180fa03-ca97-4490-8edc-32e4ce10ac01",
   "metadata": {},
   "outputs": [
    {
     "data": {
      "text/plain": [
       "0.3451134720561331"
      ]
     },
     "execution_count": 53,
     "metadata": {},
     "output_type": "execute_result"
    }
   ],
   "source": [
    "random.random()"
   ]
  },
  {
   "cell_type": "code",
   "execution_count": 64,
   "id": "20e45ed2-acd0-4ade-ba66-572fec98846f",
   "metadata": {},
   "outputs": [
    {
     "data": {
      "text/plain": [
       "5"
      ]
     },
     "execution_count": 64,
     "metadata": {},
     "output_type": "execute_result"
    }
   ],
   "source": [
    "random.randint(1, 6)  # Würfel"
   ]
  },
  {
   "cell_type": "code",
   "execution_count": 76,
   "id": "cb4b2ddb-e0bc-4333-b9ab-a4ccbfae465f",
   "metadata": {},
   "outputs": [
    {
     "data": {
      "text/plain": [
       "'Zahl'"
      ]
     },
     "execution_count": 76,
     "metadata": {},
     "output_type": "execute_result"
    }
   ],
   "source": [
    "random.choice([\"Kopf\", \"Zahl\"])"
   ]
  },
  {
   "cell_type": "code",
   "execution_count": 85,
   "id": "dbba6782-3e5c-458a-aca9-2a52546cabcf",
   "metadata": {},
   "outputs": [
    {
     "data": {
      "text/plain": [
       "'Zahl'"
      ]
     },
     "execution_count": 85,
     "metadata": {},
     "output_type": "execute_result"
    }
   ],
   "source": [
    "random.choice([\"Kopf\", \"Kopf\", \"Zahl\"])"
   ]
  },
  {
   "cell_type": "code",
   "execution_count": 90,
   "id": "75483142-689a-4622-9cce-816c1e276e5b",
   "metadata": {},
   "outputs": [
    {
     "name": "stdout",
     "output_type": "stream",
     "text": [
      "Gib eine Zahl ein: 42\n"
     ]
    },
    {
     "data": {
      "text/plain": [
       "'42'"
      ]
     },
     "execution_count": 90,
     "metadata": {},
     "output_type": "execute_result"
    }
   ],
   "source": [
    "input(\"Gib eine Zahl ein:\")  # input() gibt immer einen str zurück"
   ]
  },
  {
   "cell_type": "markdown",
   "id": "4fd9f2fd-8949-4d3b-8b8e-6e9e0e5ab6d5",
   "metadata": {},
   "source": [
    "### Version 1"
   ]
  },
  {
   "cell_type": "markdown",
   "id": "409306d5-58f9-4006-8bb1-a79a1d3437f4",
   "metadata": {},
   "source": [
    "Probleme:\n",
    "- Groß/Kleinschreibung und alt. Schreibweisen sind nicht möglich\n",
    "- nicht sinnvolle Eingaben werden wie \"Kopf\" oder \"Zahl\" behandelt, keine extra Fehlermeldung\n",
    "- schönere Ausgabe, alte Ausgabe überschreiben\n",
    "- \"Der Code macht zu vieles auf einmal!\"\n",
    "    - Münzwurf/Simulation\n",
    "    - Nutztereingabe\n",
    "    - Logik des Spiels / Anwendungslogik / Application Logic / Business Logic\n",
    "- \"Der Code spricht nicht für sich selbst\" -> viele Kommentare"
   ]
  },
  {
   "cell_type": "code",
   "execution_count": 96,
   "id": "284e7dca-0495-4bcc-8955-a5ddfe680653",
   "metadata": {},
   "outputs": [
    {
     "name": "stdout",
     "output_type": "stream",
     "text": [
      "Bitten raten! Kopf oder Zahl? kopf\n"
     ]
    },
    {
     "name": "stdout",
     "output_type": "stream",
     "text": [
      "Oops, du hast verloren! Es war Kopf\n"
     ]
    },
    {
     "name": "stdout",
     "output_type": "stream",
     "text": [
      "Bitten raten! Kopf oder Zahl? Kopf \n"
     ]
    },
    {
     "name": "stdout",
     "output_type": "stream",
     "text": [
      "Oops, du hast verloren! Es war Kopf\n"
     ]
    },
    {
     "name": "stdout",
     "output_type": "stream",
     "text": [
      "Bitten raten! Kopf oder Zahl? Kopf \n"
     ]
    },
    {
     "name": "stdout",
     "output_type": "stream",
     "text": [
      "Oops, du hast verloren! Es war Zahl\n"
     ]
    },
    {
     "name": "stdout",
     "output_type": "stream",
     "text": [
      "Bitten raten! Kopf oder Zahl? Kopf \n"
     ]
    },
    {
     "name": "stdout",
     "output_type": "stream",
     "text": [
      "Oops, du hast verloren! Es war Kopf\n"
     ]
    },
    {
     "name": "stdout",
     "output_type": "stream",
     "text": [
      "Bitten raten! Kopf oder Zahl? Kopf\n"
     ]
    },
    {
     "name": "stdout",
     "output_type": "stream",
     "text": [
      "Juhu, du hast gewonnen! Es war Kopf\n"
     ]
    }
   ],
   "source": [
    "# Spiel bis zum bitteren Ende:\n",
    "spiel_läuft_noch = True\n",
    "\n",
    "while spiel_läuft_noch:\n",
    "\n",
    "    # 1. Computer wirft eine Münze\n",
    "    seite_oben = random.choice([\"Kopf\", \"Zahl\"])\n",
    "\n",
    "    # 2. Mensch muss raten\n",
    "    geraten = input(\"Bitten raten! Kopf oder Zahl?\") \n",
    "\n",
    "    # 3. Wenn richtig -> Spiel zu Ende\n",
    "    if seite_oben == geraten:\n",
    "        print(\"Juhu, du hast gewonnen! Es war\", seite_oben)\n",
    "        spiel_läuft_noch = False\n",
    "\n",
    "    # 4. Wenn falsch -> nächste Runde\n",
    "    else:\n",
    "        print(\"Oops, du hast verloren! Es war\", seite_oben)"
   ]
  },
  {
   "cell_type": "markdown",
   "id": "01f532ee-df1c-4a2b-b57b-159a8d93e0b0",
   "metadata": {},
   "source": [
    "### Version 2"
   ]
  },
  {
   "cell_type": "code",
   "execution_count": 184,
   "id": "119c0ea6-df9f-44b2-ae6e-86ad7f52ab63",
   "metadata": {},
   "outputs": [
    {
     "data": {
      "text/plain": [
       "True"
      ]
     },
     "execution_count": 184,
     "metadata": {},
     "output_type": "execute_result"
    }
   ],
   "source": [
    "random.random() < 1"
   ]
  },
  {
   "cell_type": "code",
   "execution_count": 216,
   "id": "977af4e2-30ab-4707-9568-940e443a24b7",
   "metadata": {},
   "outputs": [],
   "source": [
    "def werfe_muenze(*, p_kopf=0.5):\n",
    "    \"\"\"Simuliere einen Münzwurf.\n",
    "\n",
    "    Args:\n",
    "        p_kopf (float): Wahrscheinlichkeit, dass \"kopf\" gewinnt;\n",
    "            muss zwischen 0 und 1 liegen\n",
    "\n",
    "    Returns:\n",
    "        seite_oben (str): \"kopf\" oder \"zahl\"\n",
    "    \"\"\"\n",
    "    if random.random() < p_kopf:\n",
    "        return \"kopf\"\n",
    "    return \"zahl\""
   ]
  },
  {
   "cell_type": "code",
   "execution_count": 217,
   "id": "3a750758-08cc-4f27-8cbf-9d6472453e4c",
   "metadata": {},
   "outputs": [
    {
     "name": "stdout",
     "output_type": "stream",
     "text": [
      "Help on function werfe_muenze in module __main__:\n",
      "\n",
      "werfe_muenze(*, p_kopf=0.5)\n",
      "    Simuliere einen Münzwurf.\n",
      "\n",
      "    Args:\n",
      "        p_kopf (float): Wahrscheinlichkeit, dass \"kopf\" gewinnt;\n",
      "            muss zwischen 0 und 1 liegen\n",
      "\n",
      "    Returns:\n",
      "        seite_oben (str): \"kopf\" oder \"zahl\"\n",
      "\n"
     ]
    }
   ],
   "source": [
    "help(werfe_muenze)"
   ]
  },
  {
   "cell_type": "code",
   "execution_count": 218,
   "id": "f122b73c-7c5a-444c-970a-f7bd48476c7f",
   "metadata": {},
   "outputs": [
    {
     "data": {
      "text/plain": [
       "'kopf'"
      ]
     },
     "execution_count": 218,
     "metadata": {},
     "output_type": "execute_result"
    }
   ],
   "source": [
    "werfe_muenze()"
   ]
  },
  {
   "cell_type": "code",
   "execution_count": 219,
   "id": "5a2ac541-41ab-498a-9a65-e0f76bac5aba",
   "metadata": {},
   "outputs": [
    {
     "data": {
      "text/plain": [
       "'kopf'"
      ]
     },
     "execution_count": 219,
     "metadata": {},
     "output_type": "execute_result"
    }
   ],
   "source": [
    "werfe_muenze(p_kopf=1)"
   ]
  },
  {
   "cell_type": "code",
   "execution_count": 224,
   "id": "372f2566-bfa9-4c76-aa9c-a76baadd3946",
   "metadata": {},
   "outputs": [
    {
     "data": {
      "text/plain": [
       "' kopf  '"
      ]
     },
     "execution_count": 224,
     "metadata": {},
     "output_type": "execute_result"
    }
   ],
   "source": [
    "\" KOpf  \".lower()"
   ]
  },
  {
   "cell_type": "code",
   "execution_count": 225,
   "id": "01b8c360-eac7-490f-87ed-71c674ea13ee",
   "metadata": {},
   "outputs": [
    {
     "data": {
      "text/plain": [
       "'KOpf'"
      ]
     },
     "execution_count": 225,
     "metadata": {},
     "output_type": "execute_result"
    }
   ],
   "source": [
    "\" KOpf  \".strip()  # entfernt Whitespace rechts und links"
   ]
  },
  {
   "cell_type": "code",
   "execution_count": 226,
   "id": "33debe61-efd5-45bb-bbc3-282b10532914",
   "metadata": {},
   "outputs": [
    {
     "data": {
      "text/plain": [
       "'kopf'"
      ]
     },
     "execution_count": 226,
     "metadata": {},
     "output_type": "execute_result"
    }
   ],
   "source": [
    "(\" KOpf  \".strip()).lower()"
   ]
  },
  {
   "cell_type": "code",
   "execution_count": 227,
   "id": "61e25c7c-854d-487e-9a74-56e80a8bd1fe",
   "metadata": {},
   "outputs": [
    {
     "data": {
      "text/plain": [
       "'kopf'"
      ]
     },
     "execution_count": 227,
     "metadata": {},
     "output_type": "execute_result"
    }
   ],
   "source": [
    "\" KOpf  \".strip().lower()  # Method Chaining (von links nach rechts)"
   ]
  },
  {
   "cell_type": "code",
   "execution_count": 247,
   "id": "d03836e0-7d4b-4109-a172-0995305297c0",
   "metadata": {},
   "outputs": [
    {
     "data": {
      "text/plain": [
       "True"
      ]
     },
     "execution_count": 247,
     "metadata": {},
     "output_type": "execute_result"
    }
   ],
   "source": [
    "\"heads\" in [\"kopf\", \"heads\", \"head\", \"k\", \"h\"]  # Membership Testing"
   ]
  },
  {
   "cell_type": "code",
   "execution_count": 251,
   "id": "ffd32656-a145-4365-ac67-24aaeae494dc",
   "metadata": {},
   "outputs": [],
   "source": [
    "def mensch_muss_raten(*, prompt=\"Kopf oder Zahl?\"):\n",
    "    \"\"\"Verarbeite die Eingabe des Menschen.\n",
    "\n",
    "    Args:\n",
    "        prompt (str): Nachricht, die dem Spieler angezeigt wird\n",
    "\n",
    "    Returns:\n",
    "        seite_oben (str / None): \"kopf\" oder \"zahl\",\n",
    "            wenn die Eingabe verständlich ist;\n",
    "            ansonsten `None`\n",
    "    \"\"\"\n",
    "    geraten = input(prompt)\n",
    "\n",
    "    # Einfache Schreibfehler handeln\n",
    "    geraten = geraten.strip().lower()\n",
    "\n",
    "    if geraten in [\"kopf\", \"heads\", \"head\", \"k\", \"h\"]:\n",
    "        return \"kopf\"\n",
    "    elif geraten in [\"zahl\", \"tails\", \"tail\", \"z\", \"t\", \"number\"]:\n",
    "        return \"zahl\"\n",
    "\n",
    "    return None"
   ]
  },
  {
   "cell_type": "code",
   "execution_count": 252,
   "id": "a92c10cc-5586-490a-b544-2bf35fa05614",
   "metadata": {},
   "outputs": [
    {
     "name": "stdout",
     "output_type": "stream",
     "text": [
      "Kopf oder Zahl? kopf\n"
     ]
    },
    {
     "data": {
      "text/plain": [
       "'kopf'"
      ]
     },
     "execution_count": 252,
     "metadata": {},
     "output_type": "execute_result"
    }
   ],
   "source": [
    "mensch_muss_raten()"
   ]
  },
  {
   "cell_type": "code",
   "execution_count": 254,
   "id": "d55dc754-2c5f-45d3-87b3-8476afb71331",
   "metadata": {},
   "outputs": [
    {
     "name": "stdout",
     "output_type": "stream",
     "text": [
      "Bitten raten! Kopf oder Zahl? kopf\n"
     ]
    },
    {
     "data": {
      "text/plain": [
       "'kopf'"
      ]
     },
     "execution_count": 254,
     "metadata": {},
     "output_type": "execute_result"
    }
   ],
   "source": [
    "mensch_muss_raten(prompt=\"Bitten raten! Kopf oder Zahl?\")"
   ]
  },
  {
   "cell_type": "code",
   "execution_count": 255,
   "id": "60a7ccb3-f94f-453f-b9df-035c2f345fd9",
   "metadata": {},
   "outputs": [
    {
     "name": "stdout",
     "output_type": "stream",
     "text": [
      "Bitten raten! Kopf oder Zahl? k\n"
     ]
    },
    {
     "name": "stdout",
     "output_type": "stream",
     "text": [
      "Juhu, du hast gewonnen! Es war kopf\n"
     ]
    }
   ],
   "source": [
    "spiel_läuft_noch = True\n",
    "\n",
    "while spiel_läuft_noch:\n",
    "\n",
    "    seite_oben = werfe_muenze(p_kopf=0.5)\n",
    "    geraten = mensch_muss_raten(prompt=\"Bitten raten! Kopf oder Zahl?\")\n",
    "\n",
    "    # 3. Wenn richtig -> Spiel zu Ende\n",
    "    if seite_oben == geraten:\n",
    "        print(\"Juhu, du hast gewonnen! Es war\", seite_oben.title())\n",
    "        spiel_läuft_noch = False\n",
    "\n",
    "    # 4. Wenn falsch -> nächste Runde\n",
    "    else:\n",
    "        print(\"Oops, du hast verloren! Es war\", seite_oben.title())"
   ]
  },
  {
   "cell_type": "markdown",
   "id": "72772af6-f16b-4ec9-ab58-c84a472483df",
   "metadata": {},
   "source": [
    "### Version 3"
   ]
  },
  {
   "cell_type": "markdown",
   "id": "074201eb-36d1-439d-a690-768a03b6594f",
   "metadata": {},
   "source": [
    "Python's **Syntactic Sugar** (eingebaute \"Vereinfachungen\") benutzen"
   ]
  },
  {
   "cell_type": "code",
   "execution_count": 256,
   "id": "da1425fc-7cdc-4274-9928-7bbba32e1895",
   "metadata": {},
   "outputs": [
    {
     "name": "stdout",
     "output_type": "stream",
     "text": [
      "Bitten raten! Kopf oder Zahl? k\n"
     ]
    },
    {
     "name": "stdout",
     "output_type": "stream",
     "text": [
      "Juhu, du hast gewonnen! Es war kopf\n"
     ]
    }
   ],
   "source": [
    "while True:\n",
    "\n",
    "    seite_oben = werfe_muenze(p_kopf=0.5)\n",
    "    geraten = mensch_muss_raten(prompt=\"Bitten raten! Kopf oder Zahl?\")\n",
    "\n",
    "    if seite_oben == geraten:\n",
    "        print(\"Juhu, du hast gewonnen! Es war\", seite_oben.title())\n",
    "        # Den while-Loop beenden\n",
    "        break\n",
    "\n",
    "    else:\n",
    "        print(\"Oops, du hast verloren! Es war\", seite_oben.title())"
   ]
  },
  {
   "cell_type": "markdown",
   "id": "7b95ec9a-eb5c-429e-9026-667b052009fe",
   "metadata": {},
   "source": [
    "### Version 4"
   ]
  },
  {
   "cell_type": "markdown",
   "id": "e16f0e0d-e1e7-4161-bb50-e79736458517",
   "metadata": {},
   "source": [
    "Die Logik hinterfragen -> Fehlermeldung, wenn der Spieler weder Kopf noch Zahl eingibt"
   ]
  },
  {
   "cell_type": "code",
   "execution_count": 258,
   "id": "f7e884d3-2380-471b-9ffc-0caa7736f644",
   "metadata": {},
   "outputs": [
    {
     "name": "stdout",
     "output_type": "stream",
     "text": [
      "Bitten raten! Kopf oder Zahl? alsfjdajf;l\n"
     ]
    },
    {
     "name": "stdout",
     "output_type": "stream",
     "text": [
      "Bitte etwas Sinnvolles eingeben!!!\n"
     ]
    },
    {
     "name": "stdout",
     "output_type": "stream",
     "text": [
      "Bitten raten! Kopf oder Zahl? kopf\n"
     ]
    },
    {
     "name": "stdout",
     "output_type": "stream",
     "text": [
      "Juhu, du hast gewonnen! Es war kopf\n"
     ]
    }
   ],
   "source": [
    "while True:\n",
    "\n",
    "    seite_oben = werfe_muenze(p_kopf=0.5)  # -> \"kopf\" oder \"zahl\"\n",
    "    geraten = mensch_muss_raten(prompt=\"Bitten raten! Kopf oder Zahl?\")  # -> \"kopf\", \"zahl\", oder None\n",
    "\n",
    "    if geraten == None:\n",
    "        print(\"Bitte etwas Sinnvolles eingeben!!!\")\n",
    "    else:\n",
    "\n",
    "        if seite_oben == geraten:\n",
    "            print(\"Juhu, du hast gewonnen! Es war\", seite_oben.title())\n",
    "            break\n",
    "    \n",
    "        else:\n",
    "            print(\"Oops, du hast verloren! Es war\", seite_oben.title())"
   ]
  },
  {
   "cell_type": "markdown",
   "id": "b0ebe740-93ea-4eb2-ae3c-27871c7862ac",
   "metadata": {},
   "source": [
    "### Version 5"
   ]
  },
  {
   "cell_type": "markdown",
   "id": "9b00c5d8-71c0-4a85-89bb-f2a7e0e323b1",
   "metadata": {},
   "source": [
    "Unnötige Prozessorarbeit vermeiden"
   ]
  },
  {
   "cell_type": "code",
   "execution_count": 259,
   "id": "2aaf2d7e-0acd-4ae4-aaab-3b4ec889acdf",
   "metadata": {},
   "outputs": [
    {
     "name": "stdout",
     "output_type": "stream",
     "text": [
      "Bitten raten! Kopf oder Zahl? k\n"
     ]
    },
    {
     "name": "stdout",
     "output_type": "stream",
     "text": [
      "Oops, du hast verloren! Es war zahl\n"
     ]
    },
    {
     "name": "stdout",
     "output_type": "stream",
     "text": [
      "Bitten raten! Kopf oder Zahl? k\n"
     ]
    },
    {
     "name": "stdout",
     "output_type": "stream",
     "text": [
      "Oops, du hast verloren! Es war zahl\n"
     ]
    },
    {
     "name": "stdout",
     "output_type": "stream",
     "text": [
      "Bitten raten! Kopf oder Zahl? lzfjd;lasjf\n"
     ]
    },
    {
     "name": "stdout",
     "output_type": "stream",
     "text": [
      "Bitte etwas Sinnvolles eingeben!!!\n"
     ]
    },
    {
     "name": "stdout",
     "output_type": "stream",
     "text": [
      "Bitten raten! Kopf oder Zahl? k\n"
     ]
    },
    {
     "name": "stdout",
     "output_type": "stream",
     "text": [
      "Juhu, du hast gewonnen! Es war kopf\n"
     ]
    }
   ],
   "source": [
    "while True:\n",
    "\n",
    "    geraten = mensch_muss_raten(prompt=\"Bitten raten! Kopf oder Zahl?\")  # -> \"kopf\", \"zahl\", oder None\n",
    "\n",
    "    if geraten == None:\n",
    "        print(\"Bitte etwas Sinnvolles eingeben!!!\")\n",
    "    else:\n",
    "\n",
    "        seite_oben = werfe_muenze(p_kopf=0.5)  # -> \"kopf\" oder \"zahl\"\n",
    "\n",
    "        if seite_oben == geraten:\n",
    "            print(\"Juhu, du hast gewonnen! Es war\", seite_oben.title())\n",
    "            break\n",
    "    \n",
    "        else:\n",
    "            print(\"Oops, du hast verloren! Es war\", seite_oben.title())"
   ]
  },
  {
   "cell_type": "markdown",
   "id": "845e2f71-0daa-4722-82c7-cb8897c28471",
   "metadata": {},
   "source": [
    "### Version 6"
   ]
  },
  {
   "cell_type": "markdown",
   "id": "f7b00787-da7e-4fc8-967c-f367eeccb013",
   "metadata": {},
   "source": [
    "Python's **Syntactic Sugar** (eingebaute \"Vereinfachungen\") benutzen"
   ]
  },
  {
   "cell_type": "code",
   "execution_count": 260,
   "id": "3e684145-e9cf-4024-8043-4ec03951a4d4",
   "metadata": {},
   "outputs": [
    {
     "name": "stdout",
     "output_type": "stream",
     "text": [
      "Bitten raten! Kopf oder Zahl? aslfja\n"
     ]
    },
    {
     "name": "stdout",
     "output_type": "stream",
     "text": [
      "Bitte etwas Sinnvolles eingeben!!!\n"
     ]
    },
    {
     "name": "stdout",
     "output_type": "stream",
     "text": [
      "Bitten raten! Kopf oder Zahl? alfj\n"
     ]
    },
    {
     "name": "stdout",
     "output_type": "stream",
     "text": [
      "Bitte etwas Sinnvolles eingeben!!!\n"
     ]
    },
    {
     "name": "stdout",
     "output_type": "stream",
     "text": [
      "Bitten raten! Kopf oder Zahl? kopf\n"
     ]
    },
    {
     "name": "stdout",
     "output_type": "stream",
     "text": [
      "Oops, du hast verloren! Es war zahl\n"
     ]
    },
    {
     "name": "stdout",
     "output_type": "stream",
     "text": [
      "Bitten raten! Kopf oder Zahl? kopf\n"
     ]
    },
    {
     "name": "stdout",
     "output_type": "stream",
     "text": [
      "Juhu, du hast gewonnen! Es war kopf\n"
     ]
    }
   ],
   "source": [
    "while True:\n",
    "\n",
    "    geraten = mensch_muss_raten(prompt=\"Bitten raten! Kopf oder Zahl?\")  # -> \"kopf\", \"zahl\", oder None\n",
    "\n",
    "    if geraten == None:\n",
    "        print(\"Bitte etwas Sinnvolles eingeben!!!\")\n",
    "        # Gehe direkt wieder nach oben\n",
    "        continue\n",
    "\n",
    "    # geraten -> \"kopf\" oder \"zahl\"\n",
    "    seite_oben = werfe_muenze(p_kopf=0.5)  # -> \"kopf\" oder \"zahl\"\n",
    "\n",
    "    if seite_oben == geraten:\n",
    "        print(\"Juhu, du hast gewonnen! Es war\", seite_oben.title())\n",
    "        break\n",
    "\n",
    "    print(\"Oops, du hast verloren! Es war\", seite_oben.title())"
   ]
  },
  {
   "cell_type": "markdown",
   "id": "e40a5baf-189e-4fad-b3f9-0309103054c5",
   "metadata": {},
   "source": [
    "### Version 7"
   ]
  },
  {
   "cell_type": "markdown",
   "id": "55e2c147-350f-4552-8ad9-80327d871efa",
   "metadata": {},
   "source": [
    "Ohne Kommentare"
   ]
  },
  {
   "cell_type": "code",
   "execution_count": 262,
   "id": "dd07b26c-ca4b-481f-8eea-685b9e363e3f",
   "metadata": {},
   "outputs": [
    {
     "name": "stdout",
     "output_type": "stream",
     "text": [
      "Bitten raten! Kopf oder Zahl? k\n"
     ]
    },
    {
     "name": "stdout",
     "output_type": "stream",
     "text": [
      "Oops, du hast verloren! Es war Zahl\n"
     ]
    },
    {
     "name": "stdout",
     "output_type": "stream",
     "text": [
      "Bitten raten! Kopf oder Zahl? k\n"
     ]
    },
    {
     "name": "stdout",
     "output_type": "stream",
     "text": [
      "Juhu, du hast gewonnen! Es war Kopf\n"
     ]
    }
   ],
   "source": [
    "while True:\n",
    "\n",
    "    geraten = mensch_muss_raten(prompt=\"Bitten raten! Kopf oder Zahl?\")\n",
    "\n",
    "    if geraten == None:\n",
    "        print(\"Bitte etwas Sinnvolles eingeben!!!\")\n",
    "        continue\n",
    "\n",
    "    seite_oben = werfe_muenze(p_kopf=0.5)\n",
    "\n",
    "    if seite_oben == geraten:\n",
    "        print(\"Juhu, du hast gewonnen! Es war\", seite_oben.title())\n",
    "        break\n",
    "\n",
    "    print(\"Oops, du hast verloren! Es war\", seite_oben.title())"
   ]
  },
  {
   "cell_type": "markdown",
   "id": "6516d8c2-a2fd-478f-a6d1-2afd27f16d80",
   "metadata": {},
   "source": [
    "### (Version 8)"
   ]
  },
  {
   "cell_type": "code",
   "execution_count": 263,
   "id": "d63863c1-c68b-4284-a321-7b512bb407a0",
   "metadata": {},
   "outputs": [
    {
     "name": "stdout",
     "output_type": "stream",
     "text": [
      "Bitten raten! Kopf oder Zahl? k\n"
     ]
    },
    {
     "name": "stdout",
     "output_type": "stream",
     "text": [
      "Juhu, du hast gewonnen! Es war Kopf\n"
     ]
    }
   ],
   "source": [
    "while True:\n",
    "\n",
    "    if (geraten := mensch_muss_raten(prompt=\"Bitten raten! Kopf oder Zahl?\")) == None:\n",
    "        print(\"Bitte etwas Sinnvolles eingeben!!!\")\n",
    "        continue\n",
    "\n",
    "    if (seite_oben := werfe_muenze(p_kopf=0.5)) == geraten:\n",
    "        print(\"Juhu, du hast gewonnen! Es war\", seite_oben.title())\n",
    "        break\n",
    "\n",
    "    print(\"Oops, du hast verloren! Es war\", seite_oben.title())"
   ]
  },
  {
   "cell_type": "code",
   "execution_count": null,
   "id": "3f4b223f-f5b8-40fe-9a90-299cbb0b4a37",
   "metadata": {},
   "outputs": [],
   "source": []
  }
 ],
 "metadata": {
  "kernelspec": {
   "display_name": "base",
   "language": "python",
   "name": "python3"
  },
  "language_info": {
   "codemirror_mode": {
    "name": "ipython",
    "version": 3
   },
   "file_extension": ".py",
   "mimetype": "text/x-python",
   "name": "python",
   "nbconvert_exporter": "python",
   "pygments_lexer": "ipython3",
   "version": "3.11.5"
  }
 },
 "nbformat": 4,
 "nbformat_minor": 5
}
