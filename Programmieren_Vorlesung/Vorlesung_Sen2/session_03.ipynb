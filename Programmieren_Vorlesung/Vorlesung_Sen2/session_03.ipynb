{
 "cells": [
  {
   "cell_type": "markdown",
   "id": "aa226ca3-eae4-4d41-8ee2-7e979d657d07",
   "metadata": {},
   "source": [
    "# Functions revisited"
   ]
  },
  {
   "cell_type": "markdown",
   "id": "6eb6e215-d38e-4d3e-8a6f-8babe1e3b514",
   "metadata": {},
   "source": [
    "Ziel: Auf welche Arten und Weisen kann ich Input an eine Funktion geben?"
   ]
  },
  {
   "cell_type": "markdown",
   "id": "2bee89ee-62b0-48c3-8da3-fdc50eaf8da9",
   "metadata": {},
   "source": [
    "`*opt_pos_args` := **(tuple) packing** für die optionale Positional Arguments\n",
    "\n",
    "`**opt_kw_args` := **(dict) packing** für die optionale Keyword Arguments\n",
    "\n",
    "links von `/` => man darf das Keyword nicht ausschreiben\n",
    "\n",
    "links von `*` => man darf das Keyword ausschreiben\n",
    "\n",
    "rechts von `*` => man muss das Keyword aussschreiben"
   ]
  },
  {
   "cell_type": "code",
   "execution_count": 128,
   "id": "a2aed96b-99b3-4238-ad21-311a5c14f113",
   "metadata": {},
   "outputs": [],
   "source": [
    "def func(\n",
    "    req_pos_arg,\n",
    "    /,\n",
    "    req_pos_or_kw_arg,\n",
    "    opt_pos_or_kw_arg=\"default\",\n",
    "    *opt_pos_args,\n",
    "    req_kw_only_arg,\n",
    "    opt_kw_only_arg=\"default\",\n",
    "    **opt_kw_args,\n",
    "):\n",
    "    print(\"Hello World!\")\n",
    "    print(\"req_pos_arg:\", req_pos_arg)\n",
    "    print(\"req_pos_or_kw_arg:\", req_pos_or_kw_arg)\n",
    "    print(\"opt_pos_or_kw_arg:\", opt_pos_or_kw_arg)\n",
    "    for index, arg in enumerate(opt_pos_args):\n",
    "        print(\"opt_pos_arg #\", index, \": \", arg, sep=\"\")\n",
    "    print(\"req_kw_only_arg:\", req_kw_only_arg)\n",
    "    print(\"opt_kw_only_arg:\", opt_kw_only_arg)\n",
    "    for key, value in opt_kw_args.items():\n",
    "        print(key, value)"
   ]
  },
  {
   "cell_type": "code",
   "execution_count": 129,
   "id": "978ee060-f22f-4272-b13f-24904ff34ca3",
   "metadata": {},
   "outputs": [
    {
     "name": "stdout",
     "output_type": "stream",
     "text": [
      "Hello World!\n",
      "req_pos_arg: 77\n",
      "req_pos_or_kw_arg: 88\n",
      "opt_pos_or_kw_arg: default\n",
      "req_kw_only_arg: hallo\n",
      "opt_kw_only_arg: default\n"
     ]
    }
   ],
   "source": [
    "func(77, 88, req_kw_only_arg=\"hallo\")"
   ]
  },
  {
   "cell_type": "code",
   "execution_count": 130,
   "id": "7d672ad2-c938-4ace-b5e3-ac46695161bc",
   "metadata": {},
   "outputs": [
    {
     "name": "stdout",
     "output_type": "stream",
     "text": [
      "Hello World!\n",
      "req_pos_arg: 77\n",
      "req_pos_or_kw_arg: 88\n",
      "opt_pos_or_kw_arg: default\n",
      "req_kw_only_arg: hallo\n",
      "opt_kw_only_arg: default\n"
     ]
    }
   ],
   "source": [
    "func(77, req_pos_or_kw_arg=88, req_kw_only_arg=\"hallo\")"
   ]
  },
  {
   "cell_type": "code",
   "execution_count": 131,
   "id": "cebb391e-be18-4bc8-aaeb-f3052c41ff96",
   "metadata": {},
   "outputs": [
    {
     "name": "stdout",
     "output_type": "stream",
     "text": [
      "Hello World!\n",
      "req_pos_arg: 77\n",
      "req_pos_or_kw_arg: 88\n",
      "opt_pos_or_kw_arg: no_default\n",
      "req_kw_only_arg: hallo\n",
      "opt_kw_only_arg: default\n"
     ]
    }
   ],
   "source": [
    "func(77, req_pos_or_kw_arg=88, opt_pos_or_kw_arg=\"no_default\", req_kw_only_arg=\"hallo\")"
   ]
  },
  {
   "cell_type": "code",
   "execution_count": 132,
   "id": "0ddeb8a6-0a0c-4a38-aadd-dbb4ad42699c",
   "metadata": {},
   "outputs": [
    {
     "name": "stdout",
     "output_type": "stream",
     "text": [
      "Hello World!\n",
      "req_pos_arg: 77\n",
      "req_pos_or_kw_arg: 88\n",
      "opt_pos_or_kw_arg: no_default\n",
      "req_kw_only_arg: hallo\n",
      "opt_kw_only_arg: default\n"
     ]
    }
   ],
   "source": [
    "func(77, 88, opt_pos_or_kw_arg=\"no_default\", req_kw_only_arg=\"hallo\")"
   ]
  },
  {
   "cell_type": "code",
   "execution_count": 133,
   "id": "cb754b02-1b4a-4341-99ca-e2612eaa628d",
   "metadata": {},
   "outputs": [
    {
     "name": "stdout",
     "output_type": "stream",
     "text": [
      "Hello World!\n",
      "req_pos_arg: 77\n",
      "req_pos_or_kw_arg: 88\n",
      "opt_pos_or_kw_arg: 99\n",
      "req_kw_only_arg: hallo\n",
      "opt_kw_only_arg: default\n"
     ]
    }
   ],
   "source": [
    "func(77, 88, 99, req_kw_only_arg=\"hallo\")"
   ]
  },
  {
   "cell_type": "code",
   "execution_count": 134,
   "id": "764d4b91-16c6-40ab-b3f9-ec81991bd340",
   "metadata": {},
   "outputs": [
    {
     "name": "stdout",
     "output_type": "stream",
     "text": [
      "Hello World!\n",
      "req_pos_arg: 77\n",
      "req_pos_or_kw_arg: 88\n",
      "opt_pos_or_kw_arg: 99\n",
      "opt_pos_arg #0: 111\n",
      "req_kw_only_arg: hallo\n",
      "opt_kw_only_arg: default\n"
     ]
    }
   ],
   "source": [
    "func(77, 88, 99, 111, req_kw_only_arg=\"hallo\")"
   ]
  },
  {
   "cell_type": "code",
   "execution_count": 135,
   "id": "c46d5580-a72f-4b96-af82-12caca331f42",
   "metadata": {},
   "outputs": [
    {
     "ename": "TypeError",
     "evalue": "func() missing 1 required positional argument: 'req_pos_or_kw_arg'",
     "output_type": "error",
     "traceback": [
      "\u001b[0;31m---------------------------------------------------------------------------\u001b[0m",
      "\u001b[0;31mTypeError\u001b[0m                                 Traceback (most recent call last)",
      "Cell \u001b[0;32mIn[135], line 1\u001b[0m\n\u001b[0;32m----> 1\u001b[0m \u001b[43mfunc\u001b[49m\u001b[43m(\u001b[49m\u001b[38;5;241;43m1\u001b[39;49m\u001b[43m)\u001b[49m\n",
      "\u001b[0;31mTypeError\u001b[0m: func() missing 1 required positional argument: 'req_pos_or_kw_arg'"
     ]
    }
   ],
   "source": [
    "func(1)"
   ]
  },
  {
   "cell_type": "code",
   "execution_count": 136,
   "id": "e886e462-b987-4c23-a65d-8253acd1ea5f",
   "metadata": {},
   "outputs": [
    {
     "ename": "TypeError",
     "evalue": "func() missing 2 required positional arguments: 'req_pos_arg' and 'req_pos_or_kw_arg'",
     "output_type": "error",
     "traceback": [
      "\u001b[0;31m---------------------------------------------------------------------------\u001b[0m",
      "\u001b[0;31mTypeError\u001b[0m                                 Traceback (most recent call last)",
      "Cell \u001b[0;32mIn[136], line 1\u001b[0m\n\u001b[0;32m----> 1\u001b[0m \u001b[43mfunc\u001b[49m\u001b[43m(\u001b[49m\u001b[43mreq_pos_arg\u001b[49m\u001b[38;5;241;43m=\u001b[39;49m\u001b[38;5;241;43m1\u001b[39;49m\u001b[43m)\u001b[49m\n",
      "\u001b[0;31mTypeError\u001b[0m: func() missing 2 required positional arguments: 'req_pos_arg' and 'req_pos_or_kw_arg'"
     ]
    }
   ],
   "source": [
    "func(req_pos_arg=1)"
   ]
  },
  {
   "cell_type": "code",
   "execution_count": 137,
   "id": "e8e50156-0d35-41db-9157-4ec67fc533eb",
   "metadata": {},
   "outputs": [
    {
     "name": "stdout",
     "output_type": "stream",
     "text": [
      "Hello World!\n",
      "req_pos_arg: 77\n",
      "req_pos_or_kw_arg: 88\n",
      "opt_pos_or_kw_arg: default\n",
      "req_kw_only_arg: hallo\n",
      "opt_kw_only_arg: default\n",
      "neues_keyword abc\n",
      "anderes_keyword xyz\n"
     ]
    }
   ],
   "source": [
    "func(77, 88, neues_keyword=\"abc\", anderes_keyword=\"xyz\", req_kw_only_arg=\"hallo\")"
   ]
  },
  {
   "cell_type": "code",
   "execution_count": 138,
   "id": "a96ce156-7aa9-466f-9b2e-90510c7a75b4",
   "metadata": {},
   "outputs": [
    {
     "name": "stdout",
     "output_type": "stream",
     "text": [
      "Hello World!\n",
      "req_pos_arg: 77\n",
      "req_pos_or_kw_arg: 88\n",
      "opt_pos_or_kw_arg: no_default\n",
      "req_kw_only_arg: hallo\n",
      "opt_kw_only_arg: default\n",
      "neues_keyword abc\n",
      "anderes_keyword xyz\n"
     ]
    }
   ],
   "source": [
    "func(77, 88, \"no_default\", req_kw_only_arg=\"hallo\", neues_keyword=\"abc\", anderes_keyword=\"xyz\")"
   ]
  },
  {
   "cell_type": "code",
   "execution_count": 139,
   "id": "e68dff82-ba21-4e30-841a-e6fde0802ca1",
   "metadata": {},
   "outputs": [],
   "source": [
    "def summe(*zahlen):\n",
    "    total = 0\n",
    "    for zahl in zahlen:\n",
    "        total += zahl\n",
    "    return total"
   ]
  },
  {
   "cell_type": "code",
   "execution_count": 141,
   "id": "2c6af790-0c0c-4ee8-8a75-74553bfb863e",
   "metadata": {},
   "outputs": [
    {
     "data": {
      "text/plain": [
       "0"
      ]
     },
     "execution_count": 141,
     "metadata": {},
     "output_type": "execute_result"
    }
   ],
   "source": [
    "summe()  # for-loop hat KEINE einzige Iteration"
   ]
  },
  {
   "cell_type": "code",
   "execution_count": 142,
   "id": "4deea4f3-af05-4858-be4d-18492f3281be",
   "metadata": {},
   "outputs": [
    {
     "data": {
      "text/plain": [
       "1"
      ]
     },
     "execution_count": 142,
     "metadata": {},
     "output_type": "execute_result"
    }
   ],
   "source": [
    "summe(1)"
   ]
  },
  {
   "cell_type": "code",
   "execution_count": 143,
   "id": "1bf6a0be-7417-419b-9b3c-bc5b9b9a16b0",
   "metadata": {},
   "outputs": [
    {
     "data": {
      "text/plain": [
       "6"
      ]
     },
     "execution_count": 143,
     "metadata": {},
     "output_type": "execute_result"
    }
   ],
   "source": [
    "summe(1, 2, 3)"
   ]
  },
  {
   "cell_type": "code",
   "execution_count": 144,
   "id": "765e42d0-410c-420d-8d41-e1db1bf8dbc6",
   "metadata": {},
   "outputs": [
    {
     "ename": "TypeError",
     "evalue": "summe() got an unexpected keyword argument 'zahlen'",
     "output_type": "error",
     "traceback": [
      "\u001b[0;31m---------------------------------------------------------------------------\u001b[0m",
      "\u001b[0;31mTypeError\u001b[0m                                 Traceback (most recent call last)",
      "Cell \u001b[0;32mIn[144], line 1\u001b[0m\n\u001b[0;32m----> 1\u001b[0m \u001b[43msumme\u001b[49m\u001b[43m(\u001b[49m\u001b[43mzahlen\u001b[49m\u001b[38;5;241;43m=\u001b[39;49m\u001b[43m(\u001b[49m\u001b[38;5;241;43m1\u001b[39;49m\u001b[43m,\u001b[49m\u001b[43m \u001b[49m\u001b[38;5;241;43m2\u001b[39;49m\u001b[43m,\u001b[49m\u001b[43m \u001b[49m\u001b[38;5;241;43m3\u001b[39;49m\u001b[43m)\u001b[49m\u001b[43m)\u001b[49m\n",
      "\u001b[0;31mTypeError\u001b[0m: summe() got an unexpected keyword argument 'zahlen'"
     ]
    }
   ],
   "source": [
    "summe(zahlen=(1, 2, 3))"
   ]
  },
  {
   "cell_type": "code",
   "execution_count": 145,
   "id": "3b69a871-99df-4b47-b4ce-ce121a7e2c87",
   "metadata": {},
   "outputs": [],
   "source": [
    "def summe(*zahlen, start=0):\n",
    "    total = start\n",
    "    for zahl in zahlen:\n",
    "        total += zahl\n",
    "    return total"
   ]
  },
  {
   "cell_type": "code",
   "execution_count": 148,
   "id": "447b9ca2-6389-43b8-9cd0-5aff253bff3b",
   "metadata": {},
   "outputs": [
    {
     "data": {
      "text/plain": [
       "106"
      ]
     },
     "execution_count": 148,
     "metadata": {},
     "output_type": "execute_result"
    }
   ],
   "source": [
    "summe(1, 2, 3, start=100)"
   ]
  },
  {
   "cell_type": "code",
   "execution_count": 149,
   "id": "738cbd9d-acb8-4884-bbfc-0b174cb64ac6",
   "metadata": {},
   "outputs": [
    {
     "data": {
      "text/plain": [
       "106"
      ]
     },
     "execution_count": 149,
     "metadata": {},
     "output_type": "execute_result"
    }
   ],
   "source": [
    "summe(1, 2, 3, 100)  # `start` ist eigentlich unnötig"
   ]
  },
  {
   "cell_type": "code",
   "execution_count": 150,
   "id": "77fb0587-9236-4ff4-b8e6-b56d20f51f2e",
   "metadata": {},
   "outputs": [
    {
     "ename": "TypeError",
     "evalue": "sum() takes at most 2 arguments (3 given)",
     "output_type": "error",
     "traceback": [
      "\u001b[0;31m---------------------------------------------------------------------------\u001b[0m",
      "\u001b[0;31mTypeError\u001b[0m                                 Traceback (most recent call last)",
      "Cell \u001b[0;32mIn[150], line 1\u001b[0m\n\u001b[0;32m----> 1\u001b[0m \u001b[38;5;28;43msum\u001b[39;49m\u001b[43m(\u001b[49m\u001b[38;5;241;43m1\u001b[39;49m\u001b[43m,\u001b[49m\u001b[43m \u001b[49m\u001b[38;5;241;43m2\u001b[39;49m\u001b[43m,\u001b[49m\u001b[43m \u001b[49m\u001b[38;5;241;43m3\u001b[39;49m\u001b[43m)\u001b[49m\n",
      "\u001b[0;31mTypeError\u001b[0m: sum() takes at most 2 arguments (3 given)"
     ]
    }
   ],
   "source": [
    "sum(1, 2, 3)"
   ]
  },
  {
   "cell_type": "code",
   "execution_count": 151,
   "id": "633a5185-202b-4d63-b9d4-d7fea8dc7da4",
   "metadata": {},
   "outputs": [
    {
     "data": {
      "text/plain": [
       "6"
      ]
     },
     "execution_count": 151,
     "metadata": {},
     "output_type": "execute_result"
    }
   ],
   "source": [
    "sum([1, 2, 3])"
   ]
  },
  {
   "cell_type": "code",
   "execution_count": 153,
   "id": "92e90176-0ea7-4b87-a966-8a0986064906",
   "metadata": {},
   "outputs": [
    {
     "ename": "TypeError",
     "evalue": "unsupported operand type(s) for +=: 'int' and 'list'",
     "output_type": "error",
     "traceback": [
      "\u001b[0;31m---------------------------------------------------------------------------\u001b[0m",
      "\u001b[0;31mTypeError\u001b[0m                                 Traceback (most recent call last)",
      "Cell \u001b[0;32mIn[153], line 1\u001b[0m\n\u001b[0;32m----> 1\u001b[0m \u001b[43msumme\u001b[49m\u001b[43m(\u001b[49m\u001b[43m[\u001b[49m\u001b[38;5;241;43m1\u001b[39;49m\u001b[43m,\u001b[49m\u001b[43m \u001b[49m\u001b[38;5;241;43m2\u001b[39;49m\u001b[43m,\u001b[49m\u001b[43m \u001b[49m\u001b[38;5;241;43m3\u001b[39;49m\u001b[43m]\u001b[49m\u001b[43m)\u001b[49m\n",
      "Cell \u001b[0;32mIn[145], line 4\u001b[0m, in \u001b[0;36msumme\u001b[0;34m(start, *zahlen)\u001b[0m\n\u001b[1;32m      2\u001b[0m total \u001b[38;5;241m=\u001b[39m start\n\u001b[1;32m      3\u001b[0m \u001b[38;5;28;01mfor\u001b[39;00m zahl \u001b[38;5;129;01min\u001b[39;00m zahlen:\n\u001b[0;32m----> 4\u001b[0m     \u001b[43mtotal\u001b[49m\u001b[43m \u001b[49m\u001b[38;5;241;43m+\u001b[39;49m\u001b[38;5;241;43m=\u001b[39;49m\u001b[43m \u001b[49m\u001b[43mzahl\u001b[49m\n\u001b[1;32m      5\u001b[0m \u001b[38;5;28;01mreturn\u001b[39;00m total\n",
      "\u001b[0;31mTypeError\u001b[0m: unsupported operand type(s) for +=: 'int' and 'list'"
     ]
    }
   ],
   "source": [
    "summe([1, 2, 3])"
   ]
  },
  {
   "cell_type": "markdown",
   "id": "1d84d62e-9b64-462b-82f5-337145e17785",
   "metadata": {},
   "source": [
    "**unpacking** => \"entpackt ein Iterable in einem Funktions-Call\""
   ]
  },
  {
   "cell_type": "code",
   "execution_count": 155,
   "id": "36e9c44a-ac3d-46bc-ac97-c0e2398dc82c",
   "metadata": {},
   "outputs": [],
   "source": [
    "numbers = [1, 2, 3]"
   ]
  },
  {
   "cell_type": "code",
   "execution_count": 157,
   "id": "6d7d951e-fa6e-4eb5-9ea4-1bf86472fce8",
   "metadata": {},
   "outputs": [
    {
     "data": {
      "text/plain": [
       "6"
      ]
     },
     "execution_count": 157,
     "metadata": {},
     "output_type": "execute_result"
    }
   ],
   "source": [
    "summe(*numbers)  # im Hintergrund: summe(numbers[0], numbers[1], numbers[2])"
   ]
  },
  {
   "cell_type": "code",
   "execution_count": 158,
   "id": "b2407c1b-ae3f-4b2c-af27-aef55a4257da",
   "metadata": {},
   "outputs": [
    {
     "data": {
      "text/plain": [
       "6"
      ]
     },
     "execution_count": 158,
     "metadata": {},
     "output_type": "execute_result"
    }
   ],
   "source": [
    "summe(numbers[0], numbers[1], numbers[2])"
   ]
  },
  {
   "cell_type": "code",
   "execution_count": 159,
   "id": "9e462be7-47bf-4b51-a30e-ad5dbec31582",
   "metadata": {},
   "outputs": [
    {
     "data": {
      "text/plain": [
       "True"
      ]
     },
     "execution_count": 159,
     "metadata": {},
     "output_type": "execute_result"
    }
   ],
   "source": [
    "isinstance(1, int)"
   ]
  },
  {
   "cell_type": "code",
   "execution_count": 160,
   "id": "e595f68c-38d3-4e7f-9084-31a1d2bc623c",
   "metadata": {},
   "outputs": [
    {
     "data": {
      "text/plain": [
       "False"
      ]
     },
     "execution_count": 160,
     "metadata": {},
     "output_type": "execute_result"
    }
   ],
   "source": [
    "isinstance(1, float)"
   ]
  },
  {
   "cell_type": "code",
   "execution_count": 161,
   "id": "487b3e93-0b8c-4db2-a128-d469ac121ce0",
   "metadata": {},
   "outputs": [
    {
     "data": {
      "text/plain": [
       "True"
      ]
     },
     "execution_count": 161,
     "metadata": {},
     "output_type": "execute_result"
    }
   ],
   "source": [
    "isinstance([], list)"
   ]
  },
  {
   "cell_type": "code",
   "execution_count": 200,
   "id": "454164a7-ba6f-4a35-9fd1-44a0733e748a",
   "metadata": {},
   "outputs": [],
   "source": [
    "def summe(*zahlen):\n",
    "    total = 0\n",
    "\n",
    "    if (\n",
    "        len(zahlen) == 1\n",
    "        and (\n",
    "            isinstance(zahlen[0], list)\n",
    "            or\n",
    "            isinstance(zahlen[0], tuple)\n",
    "            or\n",
    "            isinstance(zahlen[0], set)\n",
    "        )\n",
    "    ):\n",
    "        for zahl in zahlen[0]:\n",
    "            total += zahl\n",
    "    else:\n",
    "        for zahl in zahlen:\n",
    "            total += zahl\n",
    "\n",
    "    return total"
   ]
  },
  {
   "cell_type": "code",
   "execution_count": 213,
   "id": "a1355b46-d5d4-4641-8e82-cf7fd42c38f6",
   "metadata": {},
   "outputs": [],
   "source": [
    "def summe(*zahlen):\n",
    "    total = 0\n",
    "\n",
    "    if len(zahlen) == 1 and isinstance(zahlen[0], (list, tuple, set)):\n",
    "        for zahl in zahlen[0]:\n",
    "            total += zahl\n",
    "    else:\n",
    "        for zahl in zahlen:\n",
    "            total += zahl\n",
    "\n",
    "    return total"
   ]
  },
  {
   "cell_type": "code",
   "execution_count": 227,
   "id": "7378c46c-cf99-47b8-89df-8064dc00b84d",
   "metadata": {},
   "outputs": [],
   "source": [
    "import collections.abc"
   ]
  },
  {
   "cell_type": "code",
   "execution_count": 228,
   "id": "eb049988-cd3f-4d45-8797-4edee2117e78",
   "metadata": {},
   "outputs": [
    {
     "data": {
      "text/plain": [
       "collections.abc.Iterable"
      ]
     },
     "execution_count": 228,
     "metadata": {},
     "output_type": "execute_result"
    }
   ],
   "source": [
    "collections.abc.Iterable"
   ]
  },
  {
   "cell_type": "code",
   "execution_count": 239,
   "id": "b4bbd006-75f1-49f6-9956-cb4d99dbe492",
   "metadata": {},
   "outputs": [],
   "source": [
    "def summe(*zahlen):\n",
    "    total = 0\n",
    "\n",
    "    if len(zahlen) == 1 and isinstance(zahlen[0], collections.abc.Iterable):\n",
    "        for zahl in zahlen[0]:\n",
    "            total += zahl\n",
    "    else:\n",
    "        for zahl in zahlen:\n",
    "            total += zahl\n",
    "\n",
    "    return total"
   ]
  },
  {
   "cell_type": "code",
   "execution_count": 240,
   "id": "5a5e0878-68cb-401a-96e1-73b3a0f37a96",
   "metadata": {},
   "outputs": [],
   "source": [
    "def summe(*zahlen):\n",
    "    total = 0\n",
    "\n",
    "    if len(zahlen) == 1 and isinstance(zahlen[0], collections.abc.Iterable):\n",
    "        zahlen = zahlen[0]\n",
    "\n",
    "    for zahl in zahlen:\n",
    "        total += zahl\n",
    "\n",
    "    return total"
   ]
  },
  {
   "cell_type": "code",
   "execution_count": 241,
   "id": "2d5a1c3b-5b47-4338-8c2a-d1efa79129ff",
   "metadata": {},
   "outputs": [
    {
     "data": {
      "text/plain": [
       "6"
      ]
     },
     "execution_count": 241,
     "metadata": {},
     "output_type": "execute_result"
    }
   ],
   "source": [
    "summe([1, 2, 3])"
   ]
  },
  {
   "cell_type": "code",
   "execution_count": 242,
   "id": "bb6aeea9-a105-455d-aedd-2cea69955d29",
   "metadata": {},
   "outputs": [
    {
     "data": {
      "text/plain": [
       "6"
      ]
     },
     "execution_count": 242,
     "metadata": {},
     "output_type": "execute_result"
    }
   ],
   "source": [
    "summe((1, 2, 3))"
   ]
  },
  {
   "cell_type": "code",
   "execution_count": 243,
   "id": "15bd463a-028d-4ddc-8334-379b4b9d99cd",
   "metadata": {},
   "outputs": [
    {
     "data": {
      "text/plain": [
       "6"
      ]
     },
     "execution_count": 243,
     "metadata": {},
     "output_type": "execute_result"
    }
   ],
   "source": [
    "summe({1, 2, 3})"
   ]
  },
  {
   "cell_type": "code",
   "execution_count": 244,
   "id": "7eab4fe0-8578-4036-a610-4ba635547c88",
   "metadata": {},
   "outputs": [
    {
     "data": {
      "text/plain": [
       "6"
      ]
     },
     "execution_count": 244,
     "metadata": {},
     "output_type": "execute_result"
    }
   ],
   "source": [
    "summe(1, 2, 3)"
   ]
  },
  {
   "cell_type": "code",
   "execution_count": 245,
   "id": "e06ada43-502b-4e99-9dab-4ee638a3af2e",
   "metadata": {},
   "outputs": [
    {
     "data": {
      "text/plain": [
       "0"
      ]
     },
     "execution_count": 245,
     "metadata": {},
     "output_type": "execute_result"
    }
   ],
   "source": [
    "summe()"
   ]
  },
  {
   "cell_type": "code",
   "execution_count": 246,
   "id": "c442766f-40f7-496a-920b-2d4c433d81b2",
   "metadata": {},
   "outputs": [
    {
     "data": {
      "text/plain": [
       "42"
      ]
     },
     "execution_count": 246,
     "metadata": {},
     "output_type": "execute_result"
    }
   ],
   "source": [
    "summe(42)"
   ]
  },
  {
   "cell_type": "code",
   "execution_count": 247,
   "id": "598f764a-5925-4864-8f2f-08a49000869f",
   "metadata": {},
   "outputs": [
    {
     "data": {
      "text/plain": [
       "6"
      ]
     },
     "execution_count": 247,
     "metadata": {},
     "output_type": "execute_result"
    }
   ],
   "source": [
    "summe(*[1, 2, 3])"
   ]
  },
  {
   "cell_type": "code",
   "execution_count": 248,
   "id": "d49ef38f-e5b1-44c5-a131-222156b177fe",
   "metadata": {},
   "outputs": [
    {
     "data": {
      "text/plain": [
       "-6"
      ]
     },
     "execution_count": 248,
     "metadata": {},
     "output_type": "execute_result"
    }
   ],
   "source": [
    "summe(-1, -2, -3)"
   ]
  },
  {
   "cell_type": "code",
   "execution_count": 249,
   "id": "a562df2e-538f-459e-bc32-7405c36c0aae",
   "metadata": {},
   "outputs": [
    {
     "data": {
      "text/plain": [
       "6.6"
      ]
     },
     "execution_count": 249,
     "metadata": {},
     "output_type": "execute_result"
    }
   ],
   "source": [
    "summe(1.1, 2.2, 3.3)"
   ]
  },
  {
   "cell_type": "code",
   "execution_count": 223,
   "id": "9a37d27b-6c3c-470f-bb9a-db8cdd9ac83c",
   "metadata": {},
   "outputs": [
    {
     "ename": "TypeError",
     "evalue": "unsupported operand type(s) for +=: 'int' and 'list'",
     "output_type": "error",
     "traceback": [
      "\u001b[0;31m---------------------------------------------------------------------------\u001b[0m",
      "\u001b[0;31mTypeError\u001b[0m                                 Traceback (most recent call last)",
      "Cell \u001b[0;32mIn[223], line 1\u001b[0m\n\u001b[0;32m----> 1\u001b[0m \u001b[43msumme\u001b[49m\u001b[43m(\u001b[49m\u001b[43m[\u001b[49m\u001b[38;5;241;43m1\u001b[39;49m\u001b[43m,\u001b[49m\u001b[43m \u001b[49m\u001b[38;5;241;43m2\u001b[39;49m\u001b[43m,\u001b[49m\u001b[43m \u001b[49m\u001b[38;5;241;43m3\u001b[39;49m\u001b[43m]\u001b[49m\u001b[43m,\u001b[49m\u001b[43m \u001b[49m\u001b[43m[\u001b[49m\u001b[38;5;241;43m3\u001b[39;49m\u001b[43m,\u001b[49m\u001b[43m \u001b[49m\u001b[38;5;241;43m4\u001b[39;49m\u001b[43m,\u001b[49m\u001b[43m \u001b[49m\u001b[38;5;241;43m5\u001b[39;49m\u001b[43m]\u001b[49m\u001b[43m)\u001b[49m\n",
      "Cell \u001b[0;32mIn[213], line 11\u001b[0m, in \u001b[0;36msumme\u001b[0;34m(*zahlen)\u001b[0m\n\u001b[1;32m      9\u001b[0m \u001b[38;5;28;01melse\u001b[39;00m:\n\u001b[1;32m     10\u001b[0m     \u001b[38;5;28;01mfor\u001b[39;00m zahl \u001b[38;5;129;01min\u001b[39;00m zahlen:\n\u001b[0;32m---> 11\u001b[0m         \u001b[43mtotal\u001b[49m\u001b[43m \u001b[49m\u001b[38;5;241;43m+\u001b[39;49m\u001b[38;5;241;43m=\u001b[39;49m\u001b[43m \u001b[49m\u001b[43mzahl\u001b[49m\n\u001b[1;32m     13\u001b[0m \u001b[38;5;28;01mreturn\u001b[39;00m total\n",
      "\u001b[0;31mTypeError\u001b[0m: unsupported operand type(s) for +=: 'int' and 'list'"
     ]
    }
   ],
   "source": [
    "summe([1, 2, 3], [3, 4, 5])"
   ]
  },
  {
   "cell_type": "code",
   "execution_count": 224,
   "id": "042faa9a-fc92-4f70-ba31-ed3e64717c59",
   "metadata": {},
   "outputs": [
    {
     "ename": "TypeError",
     "evalue": "unsupported operand type(s) for +=: 'int' and 'list'",
     "output_type": "error",
     "traceback": [
      "\u001b[0;31m---------------------------------------------------------------------------\u001b[0m",
      "\u001b[0;31mTypeError\u001b[0m                                 Traceback (most recent call last)",
      "Cell \u001b[0;32mIn[224], line 1\u001b[0m\n\u001b[0;32m----> 1\u001b[0m \u001b[43msumme\u001b[49m\u001b[43m(\u001b[49m\u001b[38;5;241;43m10\u001b[39;49m\u001b[43m,\u001b[49m\u001b[43m \u001b[49m\u001b[43m[\u001b[49m\u001b[38;5;241;43m1\u001b[39;49m\u001b[43m,\u001b[49m\u001b[43m \u001b[49m\u001b[38;5;241;43m2\u001b[39;49m\u001b[43m,\u001b[49m\u001b[43m \u001b[49m\u001b[38;5;241;43m3\u001b[39;49m\u001b[43m]\u001b[49m\u001b[43m)\u001b[49m\n",
      "Cell \u001b[0;32mIn[213], line 11\u001b[0m, in \u001b[0;36msumme\u001b[0;34m(*zahlen)\u001b[0m\n\u001b[1;32m      9\u001b[0m \u001b[38;5;28;01melse\u001b[39;00m:\n\u001b[1;32m     10\u001b[0m     \u001b[38;5;28;01mfor\u001b[39;00m zahl \u001b[38;5;129;01min\u001b[39;00m zahlen:\n\u001b[0;32m---> 11\u001b[0m         \u001b[43mtotal\u001b[49m\u001b[43m \u001b[49m\u001b[38;5;241;43m+\u001b[39;49m\u001b[38;5;241;43m=\u001b[39;49m\u001b[43m \u001b[49m\u001b[43mzahl\u001b[49m\n\u001b[1;32m     13\u001b[0m \u001b[38;5;28;01mreturn\u001b[39;00m total\n",
      "\u001b[0;31mTypeError\u001b[0m: unsupported operand type(s) for +=: 'int' and 'list'"
     ]
    }
   ],
   "source": [
    "summe(10, [1, 2, 3])"
   ]
  },
  {
   "cell_type": "code",
   "execution_count": null,
   "id": "636e988d-2527-4056-ab83-9f97fb66c1bf",
   "metadata": {},
   "outputs": [],
   "source": []
  }
 ],
 "metadata": {
  "kernelspec": {
   "display_name": "Python 3.12",
   "language": "python",
   "name": "python3.12"
  },
  "language_info": {
   "codemirror_mode": {
    "name": "ipython",
    "version": 3
   },
   "file_extension": ".py",
   "mimetype": "text/x-python",
   "name": "python",
   "nbconvert_exporter": "python",
   "pygments_lexer": "ipython3",
   "version": "3.12.0"
  }
 },
 "nbformat": 4,
 "nbformat_minor": 5
}
