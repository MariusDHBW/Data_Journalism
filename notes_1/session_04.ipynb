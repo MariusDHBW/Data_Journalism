{
 "cells": [
  {
   "cell_type": "markdown",
   "id": "a526dc6a-1914-434f-b700-6cc6111ba9b9",
   "metadata": {},
   "source": [
    "# Statements vs. Expressions"
   ]
  },
  {
   "cell_type": "markdown",
   "id": "910e46b7-71e1-401a-8c58-b95be9a5aed6",
   "metadata": {},
   "source": [
    "**expression** / Ausdruck:\n",
    "- ein \"Stückchen\" Code (=**code fragment**), der, wenn ausgeführt, ein \"Ergebnis\" (=**object**) hat"
   ]
  },
  {
   "cell_type": "code",
   "execution_count": 13,
   "id": "4c541487-32f3-4e9b-a31d-542417d14c7c",
   "metadata": {},
   "outputs": [
    {
     "data": {
      "text/plain": [
       "42"
      ]
     },
     "execution_count": 13,
     "metadata": {},
     "output_type": "execute_result"
    }
   ],
   "source": [
    "42"
   ]
  },
  {
   "cell_type": "code",
   "execution_count": 14,
   "id": "8f6ed957-62ac-4852-b130-5c817be5e54c",
   "metadata": {},
   "outputs": [
    {
     "data": {
      "text/plain": [
       "3.0"
      ]
     },
     "execution_count": 14,
     "metadata": {},
     "output_type": "execute_result"
    }
   ],
   "source": [
    "1 + 2.0  # beide Seiten sind für sich genommen Teil-Ausdrücke"
   ]
  },
  {
   "cell_type": "markdown",
   "id": "0a9dd127-4335-490c-a64f-fe5c583dd2b0",
   "metadata": {},
   "source": [
    "**statement** / Anweisung:\n",
    "- wichtig: Der Begriff wird im Internet (z.B. Posts auf StackOverflow) häufig nicht ganz präzise verwendet\n",
    "- eine (logische) und \"ganze\" Zeile Code => jeder Ausdruck (der eine ganze Zeile einnimmt) ist *immer* auch ein Statement\n",
    "- Idee: entweder eine Zeile Code hat einen **Nebeneffekt** oder liefert ein Ergebnis"
   ]
  },
  {
   "cell_type": "markdown",
   "id": "932c67d9-e4bd-4c27-b812-2e6e33760ff1",
   "metadata": {},
   "source": [
    "**Nebeneffekt** / **side effect**: eine *permanente* Veränderung im Arbeitsspeicher (d.h. man kann sie danach noch sehen)"
   ]
  },
  {
   "cell_type": "code",
   "execution_count": 12,
   "id": "117e031a-7212-48a0-bf86-ed6fb4de46ba",
   "metadata": {},
   "outputs": [],
   "source": [
    "a = 42  # rechte Seite ist ein Ausdruck"
   ]
  },
  {
   "cell_type": "code",
   "execution_count": 15,
   "id": "d30482e6-ae7f-48db-844d-b089eace9357",
   "metadata": {},
   "outputs": [],
   "source": [
    "b = 1 + 2"
   ]
  },
  {
   "cell_type": "markdown",
   "id": "f12ba65b-8a68-4df7-a794-80f7d3ba40c3",
   "metadata": {},
   "source": [
    "Es gibt also Statements, die keine Expressions sind => diese haben einen Nebeneffekt aber kein Ergebnis"
   ]
  },
  {
   "cell_type": "code",
   "execution_count": 16,
   "id": "ca8d8470-8f15-46bf-8413-1e00a9accec2",
   "metadata": {},
   "outputs": [],
   "source": [
    "import math"
   ]
  },
  {
   "cell_type": "code",
   "execution_count": 17,
   "id": "65754ac3-eace-4b96-9293-bcc80ee7b89f",
   "metadata": {},
   "outputs": [
    {
     "data": {
      "text/plain": [
       "<module 'math' from '/opt/python/versions/3.12.0/lib/python3.12/lib-dynload/math.cpython-312-x86_64-linux-gnu.so'>"
      ]
     },
     "execution_count": 17,
     "metadata": {},
     "output_type": "execute_result"
    }
   ],
   "source": [
    "math"
   ]
  },
  {
   "cell_type": "code",
   "execution_count": 18,
   "id": "e1759304-9e1b-4bbf-833f-a7dbd03b238f",
   "metadata": {},
   "outputs": [
    {
     "ename": "NameError",
     "evalue": "name 'random' is not defined",
     "output_type": "error",
     "traceback": [
      "\u001b[0;31m---------------------------------------------------------------------------\u001b[0m",
      "\u001b[0;31mNameError\u001b[0m                                 Traceback (most recent call last)",
      "Cell \u001b[0;32mIn[18], line 1\u001b[0m\n\u001b[0;32m----> 1\u001b[0m \u001b[43mrandom\u001b[49m\n",
      "\u001b[0;31mNameError\u001b[0m: name 'random' is not defined"
     ]
    }
   ],
   "source": [
    "random"
   ]
  },
  {
   "cell_type": "code",
   "execution_count": 19,
   "id": "9038d224-e65f-41e7-a0c5-6a728c666b7b",
   "metadata": {},
   "outputs": [],
   "source": [
    "import random"
   ]
  },
  {
   "cell_type": "code",
   "execution_count": 20,
   "id": "323fe3fd-a64b-498e-93e6-03a9f9c7ad5b",
   "metadata": {},
   "outputs": [
    {
     "data": {
      "text/plain": [
       "<module 'random' from '/opt/python/versions/3.12.0/lib/python3.12/random.py'>"
      ]
     },
     "execution_count": 20,
     "metadata": {},
     "output_type": "execute_result"
    }
   ],
   "source": [
    "random"
   ]
  },
  {
   "cell_type": "code",
   "execution_count": 21,
   "id": "eabe4c28-a953-4ed6-b13a-cb235368da35",
   "metadata": {},
   "outputs": [
    {
     "ename": "SyntaxError",
     "evalue": "invalid syntax (523563545.py, line 1)",
     "output_type": "error",
     "traceback": [
      "\u001b[0;36m  Cell \u001b[0;32mIn[21], line 1\u001b[0;36m\u001b[0m\n\u001b[0;31m    m = import math\u001b[0m\n\u001b[0m        ^\u001b[0m\n\u001b[0;31mSyntaxError\u001b[0m\u001b[0;31m:\u001b[0m invalid syntax\n"
     ]
    }
   ],
   "source": [
    "m = import math"
   ]
  },
  {
   "cell_type": "code",
   "execution_count": 22,
   "id": "3efc3804-364f-4dcf-a345-32c36d5c9f53",
   "metadata": {},
   "outputs": [
    {
     "data": {
      "text/plain": [
       "<module 'math' from '/opt/python/versions/3.12.0/lib/python3.12/lib-dynload/math.cpython-312-x86_64-linux-gnu.so'>"
      ]
     },
     "execution_count": 22,
     "metadata": {},
     "output_type": "execute_result"
    }
   ],
   "source": [
    "math"
   ]
  },
  {
   "cell_type": "code",
   "execution_count": 23,
   "id": "0c4f21e3-b3c3-4e1e-9a54-6a9597ae2ed3",
   "metadata": {},
   "outputs": [],
   "source": [
    "del math"
   ]
  },
  {
   "cell_type": "code",
   "execution_count": 24,
   "id": "ff8091d0-6499-49d2-8489-77bdcb20d825",
   "metadata": {},
   "outputs": [
    {
     "ename": "NameError",
     "evalue": "name 'math' is not defined",
     "output_type": "error",
     "traceback": [
      "\u001b[0;31m---------------------------------------------------------------------------\u001b[0m",
      "\u001b[0;31mNameError\u001b[0m                                 Traceback (most recent call last)",
      "Cell \u001b[0;32mIn[24], line 1\u001b[0m\n\u001b[0;32m----> 1\u001b[0m \u001b[43mmath\u001b[49m\n",
      "\u001b[0;31mNameError\u001b[0m: name 'math' is not defined"
     ]
    }
   ],
   "source": [
    "math"
   ]
  },
  {
   "cell_type": "code",
   "execution_count": 25,
   "id": "def1ee6b-29a5-4782-b0de-6c888afa7e95",
   "metadata": {},
   "outputs": [
    {
     "data": {
      "text/plain": [
       "<module 'random' from '/opt/python/versions/3.12.0/lib/python3.12/random.py'>"
      ]
     },
     "execution_count": 25,
     "metadata": {},
     "output_type": "execute_result"
    }
   ],
   "source": [
    "random"
   ]
  },
  {
   "cell_type": "code",
   "execution_count": 26,
   "id": "9d5504a5-cf44-4e79-81d8-0ca483939676",
   "metadata": {},
   "outputs": [
    {
     "ename": "SyntaxError",
     "evalue": "invalid syntax (1182550939.py, line 1)",
     "output_type": "error",
     "traceback": [
      "\u001b[0;36m  Cell \u001b[0;32mIn[26], line 1\u001b[0;36m\u001b[0m\n\u001b[0;31m    r = del random\u001b[0m\n\u001b[0m        ^\u001b[0m\n\u001b[0;31mSyntaxError\u001b[0m\u001b[0;31m:\u001b[0m invalid syntax\n"
     ]
    }
   ],
   "source": [
    "r = del random"
   ]
  },
  {
   "cell_type": "markdown",
   "id": "97b50437-5d00-485a-8cc4-270a604aa21a",
   "metadata": {},
   "source": [
    "Im Internet häufig: Statements und Expressions werden als Gegenteil dargestellt\n",
    "\n",
    "In Wirklichkeit: Expressions sind Spezialfälle von Statements"
   ]
  },
  {
   "cell_type": "markdown",
   "id": "30af52df-2f49-433d-a0bf-3d1004d058fe",
   "metadata": {},
   "source": [
    "### Logische vs. Physische Zeilen"
   ]
  },
  {
   "cell_type": "code",
   "execution_count": 30,
   "id": "cdf1d867-ed25-45fe-8570-0c36acb9bc04",
   "metadata": {},
   "outputs": [
    {
     "data": {
      "text/plain": [
       "6"
      ]
     },
     "execution_count": 30,
     "metadata": {},
     "output_type": "execute_result"
    }
   ],
   "source": [
    "a = 1 + 2  # 3 Zeilen Code\n",
    "b = 2 * a\n",
    "\n",
    "b"
   ]
  },
  {
   "cell_type": "markdown",
   "id": "ca02f891-1438-438f-8359-1b1c471a8ec2",
   "metadata": {},
   "source": [
    "`;` => \"verpöhnt in der Python Welt\""
   ]
  },
  {
   "cell_type": "code",
   "execution_count": 32,
   "id": "1fa0606d-c19d-4ae6-90b0-502e0c356391",
   "metadata": {},
   "outputs": [
    {
     "data": {
      "text/plain": [
       "6"
      ]
     },
     "execution_count": 32,
     "metadata": {},
     "output_type": "execute_result"
    }
   ],
   "source": [
    "a = 1 + 2; b = 2 * a; b  # 3 logische, 1 physische Zeilen"
   ]
  },
  {
   "cell_type": "code",
   "execution_count": 33,
   "id": "5067f2f2-9dbb-492f-a3e1-55b78239ea54",
   "metadata": {},
   "outputs": [
    {
     "data": {
      "text/plain": [
       "6"
      ]
     },
     "execution_count": 33,
     "metadata": {},
     "output_type": "execute_result"
    }
   ],
   "source": [
    "a = (  # 3 logische, 7 physische Zeilen\n",
    "    1\n",
    "    +\n",
    "    2\n",
    ")\n",
    "b = 2 * a\n",
    "\n",
    "b"
   ]
  },
  {
   "cell_type": "markdown",
   "id": "c01632f6-7029-471f-9faf-21df8439924b",
   "metadata": {},
   "source": [
    "`\\` => \"nicht ganz so verpöhnt, aber nicht nutzen\" (nicht klausurrelevant)"
   ]
  },
  {
   "cell_type": "code",
   "execution_count": 39,
   "id": "6355f4bf-9252-4d41-86fd-921a77035649",
   "metadata": {},
   "outputs": [
    {
     "ename": "SyntaxError",
     "evalue": "unexpected character after line continuation character (3419929671.py, line 1)",
     "output_type": "error",
     "traceback": [
      "\u001b[0;36m  Cell \u001b[0;32mIn[39], line 1\u001b[0;36m\u001b[0m\n\u001b[0;31m    a = 1 +\\  # Dieser Kommentag zeigt, dass\u001b[0m\n\u001b[0m            ^\u001b[0m\n\u001b[0;31mSyntaxError\u001b[0m\u001b[0;31m:\u001b[0m unexpected character after line continuation character\n"
     ]
    }
   ],
   "source": [
    "a = 1 +\\  # Dieser Kommentag zeigt, dass\n",
    "    2    # wir hier nur 3 physische Zeilen haben\n",
    "b = 2 * a\n",
    "\n",
    "b"
   ]
  },
  {
   "cell_type": "code",
   "execution_count": 40,
   "id": "69b7c58b-e84e-4b40-b9d0-178450129a0f",
   "metadata": {},
   "outputs": [
    {
     "ename": "SyntaxError",
     "evalue": "invalid syntax (2366360108.py, line 1)",
     "output_type": "error",
     "traceback": [
      "\u001b[0;36m  Cell \u001b[0;32mIn[40], line 1\u001b[0;36m\u001b[0m\n\u001b[0;31m    a = 1 + # Dieser Kommentag zeigt, dass  2   # wir hier nur 3 physische ...\u001b[0m\n\u001b[0m            ^\u001b[0m\n\u001b[0;31mSyntaxError\u001b[0m\u001b[0;31m:\u001b[0m invalid syntax\n"
     ]
    }
   ],
   "source": [
    "a = 1 + # Dieser Kommentag zeigt, dass  2   # wir hier nur 3 physische ...\n",
    "b = 2 * a\n",
    "\n",
    "b"
   ]
  },
  {
   "cell_type": "code",
   "execution_count": null,
   "id": "e3bd3312-87bf-4585-b408-8d2c6085cb37",
   "metadata": {},
   "outputs": [],
   "source": []
  }
 ],
 "metadata": {
  "kernelspec": {
   "display_name": "Python 3.12",
   "language": "python",
   "name": "python3.12"
  },
  "language_info": {
   "codemirror_mode": {
    "name": "ipython",
    "version": 3
   },
   "file_extension": ".py",
   "mimetype": "text/x-python",
   "name": "python",
   "nbconvert_exporter": "python",
   "pygments_lexer": "ipython3",
   "version": "3.12.0"
  }
 },
 "nbformat": 4,
 "nbformat_minor": 5
}
