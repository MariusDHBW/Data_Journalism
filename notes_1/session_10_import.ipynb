{
 "cells": [
  {
   "cell_type": "code",
   "execution_count": 1,
   "id": "a02fb432-acf0-4002-80ad-f36d7e812be3",
   "metadata": {},
   "outputs": [
    {
     "data": {
      "text/plain": [
       "'__main__'"
      ]
     },
     "execution_count": 1,
     "metadata": {},
     "output_type": "execute_result"
    }
   ],
   "source": [
    "__name__"
   ]
  },
  {
   "cell_type": "code",
   "execution_count": 2,
   "id": "8d3ecb25-cfc8-4555-a4eb-76a2155abf62",
   "metadata": {},
   "outputs": [],
   "source": [
    "import random"
   ]
  },
  {
   "cell_type": "code",
   "execution_count": 3,
   "id": "aa687a9e-2418-4c22-8a79-9ed08508d171",
   "metadata": {},
   "outputs": [
    {
     "data": {
      "text/plain": [
       "'random'"
      ]
     },
     "execution_count": 3,
     "metadata": {},
     "output_type": "execute_result"
    }
   ],
   "source": [
    "random.__name__"
   ]
  },
  {
   "cell_type": "code",
   "execution_count": 4,
   "id": "db1e7589-f29b-42c0-af62-adfd270448ca",
   "metadata": {},
   "outputs": [
    {
     "data": {
      "text/plain": [
       "0.2394573397449793"
      ]
     },
     "execution_count": 4,
     "metadata": {},
     "output_type": "execute_result"
    }
   ],
   "source": [
    "random.random()"
   ]
  },
  {
   "cell_type": "code",
   "execution_count": 5,
   "id": "c0a1b432-a424-440b-a92e-ee20f488c1c9",
   "metadata": {},
   "outputs": [],
   "source": [
    "import spiel"
   ]
  },
  {
   "cell_type": "code",
   "execution_count": 6,
   "id": "84a1b18b-34b7-4b55-a855-7829b92407c1",
   "metadata": {},
   "outputs": [
    {
     "data": {
      "text/plain": [
       "'spiel'"
      ]
     },
     "execution_count": 6,
     "metadata": {},
     "output_type": "execute_result"
    }
   ],
   "source": [
    "spiel.__name__"
   ]
  },
  {
   "cell_type": "code",
   "execution_count": 8,
   "id": "378dc7c2-a428-4e45-8f2f-b18027be58bb",
   "metadata": {},
   "outputs": [
    {
     "name": "stdin",
     "output_type": "stream",
     "text": [
      "Bitten raten! Kopf oder Zahl? k\n"
     ]
    },
    {
     "name": "stdout",
     "output_type": "stream",
     "text": [
      "Oops, du hast verloren! Es war Zahl\n"
     ]
    },
    {
     "name": "stdin",
     "output_type": "stream",
     "text": [
      "Bitten raten! Kopf oder Zahl? k\n"
     ]
    },
    {
     "name": "stdout",
     "output_type": "stream",
     "text": [
      "Oops, du hast verloren! Es war Zahl\n"
     ]
    },
    {
     "name": "stdin",
     "output_type": "stream",
     "text": [
      "Bitten raten! Kopf oder Zahl? k\n"
     ]
    },
    {
     "name": "stdout",
     "output_type": "stream",
     "text": [
      "Oops, du hast verloren! Es war Zahl\n"
     ]
    },
    {
     "name": "stdin",
     "output_type": "stream",
     "text": [
      "Bitten raten! Kopf oder Zahl? k\n"
     ]
    },
    {
     "name": "stdout",
     "output_type": "stream",
     "text": [
      "Juhu, du hast gewonnen! Es war Kopf\n"
     ]
    }
   ],
   "source": [
    "spiel.spielen()"
   ]
  }
 ],
 "metadata": {
  "kernelspec": {
   "display_name": "Python 3.12",
   "language": "python",
   "name": "python3.12"
  },
  "language_info": {
   "codemirror_mode": {
    "name": "ipython",
    "version": 3
   },
   "file_extension": ".py",
   "mimetype": "text/x-python",
   "name": "python",
   "nbconvert_exporter": "python",
   "pygments_lexer": "ipython3",
   "version": "3.12.0"
  }
 },
 "nbformat": 4,
 "nbformat_minor": 5
}
