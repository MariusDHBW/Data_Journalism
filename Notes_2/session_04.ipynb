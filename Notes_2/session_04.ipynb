{
 "cells": [
  {
   "cell_type": "markdown",
   "id": "44b0ca64-10e7-43e5-9a11-7869cef9401b",
   "metadata": {},
   "source": [
    "# Map-Filter-Reduce Paradigm"
   ]
  },
  {
   "cell_type": "markdown",
   "id": "24acafb9-bdca-4f23-911d-4fc641ac5e98",
   "metadata": {},
   "source": [
    "\"Arbeitsspeicher effizient benutzen\""
   ]
  },
  {
   "cell_type": "code",
   "execution_count": 1,
   "id": "99d9e2b6-1d63-49bc-97b6-436b4a3e5529",
   "metadata": {},
   "outputs": [],
   "source": [
    "numbers = [7, 8, 9, 1, 2, 3, 6, 5, 4, 12, 11, 10]"
   ]
  },
  {
   "cell_type": "markdown",
   "id": "3908ccba-bf3d-493a-9060-7a4316f5d756",
   "metadata": {},
   "source": [
    "Aufgabe:\n",
    "- Filtere Zahlen raus (keine ungeraden)\n",
    "- Zahlen weiterverarbeiten ($y = x^2 + 1$)\n",
    "- Summe"
   ]
  },
  {
   "cell_type": "markdown",
   "id": "b3f13095-b76b-40bf-b9b3-6c20d0d958a0",
   "metadata": {},
   "source": [
    "## 1. Lösung: Total ineffizient"
   ]
  },
  {
   "cell_type": "markdown",
   "id": "118d505d-e0ab-4562-a9f6-90e040d8f659",
   "metadata": {},
   "source": [
    "zwei temparäre Listen => Verdreifachung vom Speicher"
   ]
  },
  {
   "cell_type": "code",
   "execution_count": 5,
   "id": "272820c3-1b75-446e-9fd4-206ba58ae204",
   "metadata": {},
   "outputs": [
    {
     "data": {
      "text/plain": [
       "[8, 2, 6, 4, 12, 10]"
      ]
     },
     "execution_count": 5,
     "metadata": {},
     "output_type": "execute_result"
    }
   ],
   "source": [
    "filtered_numbers = []\n",
    "\n",
    "for number in numbers:\n",
    "    if number % 2 == 0:\n",
    "        filtered_numbers.append(number)\n",
    "\n",
    "filtered_numbers"
   ]
  },
  {
   "cell_type": "code",
   "execution_count": 6,
   "id": "15bec53c-f611-4e4e-8d13-3e92427ec524",
   "metadata": {},
   "outputs": [
    {
     "data": {
      "text/plain": [
       "[65, 5, 37, 17, 145, 101]"
      ]
     },
     "execution_count": 6,
     "metadata": {},
     "output_type": "execute_result"
    }
   ],
   "source": [
    "transformed_numbers = []\n",
    "\n",
    "for number in filtered_numbers:\n",
    "    transformed_numbers.append(number ** 2 + 1)\n",
    "\n",
    "transformed_numbers"
   ]
  },
  {
   "cell_type": "code",
   "execution_count": 7,
   "id": "267f877b-4d5a-4548-96e3-a1c238752684",
   "metadata": {},
   "outputs": [
    {
     "data": {
      "text/plain": [
       "370"
      ]
     },
     "execution_count": 7,
     "metadata": {},
     "output_type": "execute_result"
    }
   ],
   "source": [
    "sum(transformed_numbers)"
   ]
  },
  {
   "cell_type": "markdown",
   "id": "7a0f40ba-3574-4a22-a481-b142e78d4f19",
   "metadata": {},
   "source": [
    "## 2. Lösung: Unnötige Listen löschen"
   ]
  },
  {
   "cell_type": "markdown",
   "id": "c15612a0-3f40-4a21-86d7-e006679f438f",
   "metadata": {},
   "source": [
    "immer noch eine (kurzfristige) Verdopplung"
   ]
  },
  {
   "cell_type": "code",
   "execution_count": 8,
   "id": "0a1ab899-4187-4267-8694-95f97cd4f1a3",
   "metadata": {},
   "outputs": [
    {
     "data": {
      "text/plain": [
       "[7, 8, 9, 1, 2, 3, 6, 5, 4, 12, 11, 10]"
      ]
     },
     "execution_count": 8,
     "metadata": {},
     "output_type": "execute_result"
    }
   ],
   "source": [
    "numbers"
   ]
  },
  {
   "cell_type": "code",
   "execution_count": 9,
   "id": "9f03c0e3-5319-477d-8b71-c570dd5c45d3",
   "metadata": {},
   "outputs": [
    {
     "data": {
      "text/plain": [
       "[8, 2, 6, 4, 12, 10]"
      ]
     },
     "execution_count": 9,
     "metadata": {},
     "output_type": "execute_result"
    }
   ],
   "source": [
    "filtered_numbers = []\n",
    "\n",
    "for number in numbers:\n",
    "    if number % 2 == 0:\n",
    "        filtered_numbers.append(number)\n",
    "\n",
    "del numbers\n",
    "\n",
    "filtered_numbers"
   ]
  },
  {
   "cell_type": "code",
   "execution_count": 10,
   "id": "7f37bbc0-b54c-4e2b-ab93-7165031a6630",
   "metadata": {},
   "outputs": [
    {
     "data": {
      "text/plain": [
       "[65, 5, 37, 17, 145, 101]"
      ]
     },
     "execution_count": 10,
     "metadata": {},
     "output_type": "execute_result"
    }
   ],
   "source": [
    "transformed_numbers = []\n",
    "\n",
    "for number in filtered_numbers:\n",
    "    transformed_numbers.append(number ** 2 + 1)\n",
    "\n",
    "del filtered_numbers\n",
    "\n",
    "transformed_numbers"
   ]
  },
  {
   "cell_type": "code",
   "execution_count": 11,
   "id": "fe592f6f-b136-4ccb-a589-1ffc5c3a7ce8",
   "metadata": {},
   "outputs": [
    {
     "data": {
      "text/plain": [
       "370"
      ]
     },
     "execution_count": 11,
     "metadata": {},
     "output_type": "execute_result"
    }
   ],
   "source": [
    "sum(transformed_numbers)"
   ]
  },
  {
   "cell_type": "markdown",
   "id": "f4ec6129-ae0a-449d-b5b9-b0111183373c",
   "metadata": {},
   "source": [
    "## 3. Lösung: `map()` und `filter()` benutzen"
   ]
  },
  {
   "cell_type": "code",
   "execution_count": 15,
   "id": "78cfc9ff-a3b6-48f2-909b-bab848fd254d",
   "metadata": {},
   "outputs": [],
   "source": [
    "numbers = [7, 8, 9, 1, 2, 3, 6, 5, 4, 12, 11, 10]"
   ]
  },
  {
   "cell_type": "code",
   "execution_count": 17,
   "id": "efeccbf1-3979-4594-b835-5ca64371fbf5",
   "metadata": {},
   "outputs": [],
   "source": [
    "def is_even(number):\n",
    "    if number % 2 == 0:\n",
    "        return True\n",
    "    else:\n",
    "        return False"
   ]
  },
  {
   "cell_type": "code",
   "execution_count": 19,
   "id": "bccaac16-7256-4385-bbe2-1ffcfee9e84b",
   "metadata": {},
   "outputs": [],
   "source": [
    "def is_even(number):\n",
    "    if number % 2 == 0:\n",
    "        return True\n",
    "    return False"
   ]
  },
  {
   "cell_type": "code",
   "execution_count": 27,
   "id": "2348a83e-7008-405b-bc43-2ed6ac26bdae",
   "metadata": {},
   "outputs": [],
   "source": [
    "def is_even(number):\n",
    "    return not bool(number % 2)"
   ]
  },
  {
   "cell_type": "code",
   "execution_count": 34,
   "id": "e26e1570-2a29-45ea-8d71-e2b03b84c5c2",
   "metadata": {},
   "outputs": [],
   "source": [
    "def is_even(number):\n",
    "    return number % 2 == 0"
   ]
  },
  {
   "cell_type": "code",
   "execution_count": 35,
   "id": "e062549e-205a-48fd-8c47-5dee58d8b0e9",
   "metadata": {},
   "outputs": [
    {
     "data": {
      "text/plain": [
       "False"
      ]
     },
     "execution_count": 35,
     "metadata": {},
     "output_type": "execute_result"
    }
   ],
   "source": [
    "is_even(3)"
   ]
  },
  {
   "cell_type": "code",
   "execution_count": 37,
   "id": "e0dd2627-89f5-4139-909f-8c951b909a47",
   "metadata": {},
   "outputs": [
    {
     "data": {
      "text/plain": [
       "<filter at 0x7fb70bce30d0>"
      ]
     },
     "execution_count": 37,
     "metadata": {},
     "output_type": "execute_result"
    }
   ],
   "source": [
    "evens = filter(is_even, numbers)\n",
    "\n",
    "evens"
   ]
  },
  {
   "cell_type": "code",
   "execution_count": 38,
   "id": "cfa2e062-da1f-4c03-b5a6-61f42e88c7eb",
   "metadata": {},
   "outputs": [
    {
     "data": {
      "text/plain": [
       "filter"
      ]
     },
     "execution_count": 38,
     "metadata": {},
     "output_type": "execute_result"
    }
   ],
   "source": [
    "type(evens)"
   ]
  },
  {
   "cell_type": "markdown",
   "id": "f6d4c2c4-70e7-4ea8-89b3-1dc0840facf9",
   "metadata": {},
   "source": [
    "Ein `filter` Objekt ist ein Beispiel für einen **Iterator**\n",
    "\n",
    "**Iterator** := \"eine Regel im Speicher, die weiß, wie etwas getan werden soll, dies aber noch nicht getan hat\""
   ]
  },
  {
   "cell_type": "markdown",
   "id": "dbc3cc66-0a29-4d27-b71e-d4184b5581d1",
   "metadata": {},
   "source": [
    "Ein Iterator `it` kann nur eine Sache: `next(it)`"
   ]
  },
  {
   "cell_type": "code",
   "execution_count": 42,
   "id": "bf5f7a81-28a4-4789-a430-92e052e34662",
   "metadata": {},
   "outputs": [
    {
     "data": {
      "text/plain": [
       "[7, 8, 9, 1, 2, 3, 6, 5, 4, 12, 11, 10]"
      ]
     },
     "execution_count": 42,
     "metadata": {},
     "output_type": "execute_result"
    }
   ],
   "source": [
    "numbers"
   ]
  },
  {
   "cell_type": "markdown",
   "id": "b1e46d42-8e0a-4cc7-904f-518cea9d6844",
   "metadata": {},
   "source": [
    "Wenn ein Iterator am Ende angekommmen ist, ist er **exhausted**"
   ]
  },
  {
   "cell_type": "code",
   "execution_count": 56,
   "id": "f98d1a2c-e046-4e8a-8e2c-56f71442fd5d",
   "metadata": {},
   "outputs": [
    {
     "ename": "StopIteration",
     "evalue": "",
     "output_type": "error",
     "traceback": [
      "\u001b[0;31m---------------------------------------------------------------------------\u001b[0m",
      "\u001b[0;31mStopIteration\u001b[0m                             Traceback (most recent call last)",
      "Cell \u001b[0;32mIn[56], line 1\u001b[0m\n\u001b[0;32m----> 1\u001b[0m \u001b[38;5;28;43mnext\u001b[39;49m\u001b[43m(\u001b[49m\u001b[43mevens\u001b[49m\u001b[43m)\u001b[49m\n",
      "\u001b[0;31mStopIteration\u001b[0m: "
     ]
    }
   ],
   "source": [
    "next(evens)"
   ]
  },
  {
   "cell_type": "code",
   "execution_count": 57,
   "id": "1b287d7f-6f1b-4930-9b56-bc9e8a0a958c",
   "metadata": {},
   "outputs": [
    {
     "data": {
      "text/plain": [
       "<filter at 0x7fb70b9514e0>"
      ]
     },
     "execution_count": 57,
     "metadata": {},
     "output_type": "execute_result"
    }
   ],
   "source": [
    "evens = filter(is_even, numbers)\n",
    "\n",
    "evens"
   ]
  },
  {
   "cell_type": "markdown",
   "id": "59e937f5-6045-43fe-ac77-eabea8132382",
   "metadata": {},
   "source": [
    "Ein Iterator ist immer auch ein Iterable"
   ]
  },
  {
   "cell_type": "code",
   "execution_count": 58,
   "id": "f8f1e478-bf16-4412-aa79-8ab050500931",
   "metadata": {},
   "outputs": [
    {
     "name": "stdout",
     "output_type": "stream",
     "text": [
      "8\n",
      "2\n",
      "6\n",
      "4\n",
      "12\n",
      "10\n"
     ]
    }
   ],
   "source": [
    "for zahl in evens:\n",
    "    print(zahl)"
   ]
  },
  {
   "cell_type": "code",
   "execution_count": 59,
   "id": "8bc31f84-4ad3-4593-9956-d3ce9698747f",
   "metadata": {},
   "outputs": [],
   "source": [
    "for zahl in evens:  # for-loop unterdrückt StopIteration Fehler\n",
    "    print(zahl)"
   ]
  },
  {
   "cell_type": "code",
   "execution_count": 60,
   "id": "4482f869-d708-4bce-b4ad-58c453dd3076",
   "metadata": {},
   "outputs": [
    {
     "ename": "StopIteration",
     "evalue": "",
     "output_type": "error",
     "traceback": [
      "\u001b[0;31m---------------------------------------------------------------------------\u001b[0m",
      "\u001b[0;31mStopIteration\u001b[0m                             Traceback (most recent call last)",
      "Cell \u001b[0;32mIn[60], line 1\u001b[0m\n\u001b[0;32m----> 1\u001b[0m \u001b[38;5;28;43mnext\u001b[39;49m\u001b[43m(\u001b[49m\u001b[43mevens\u001b[49m\u001b[43m)\u001b[49m\n",
      "\u001b[0;31mStopIteration\u001b[0m: "
     ]
    }
   ],
   "source": [
    "next(evens)"
   ]
  },
  {
   "cell_type": "code",
   "execution_count": 61,
   "id": "02f76707-6ad5-476c-b0c7-a025d81a39b7",
   "metadata": {},
   "outputs": [
    {
     "data": {
      "text/plain": [
       "<filter at 0x7fb70b96d150>"
      ]
     },
     "execution_count": 61,
     "metadata": {},
     "output_type": "execute_result"
    }
   ],
   "source": [
    "evens = filter(is_even, numbers)\n",
    "\n",
    "evens"
   ]
  },
  {
   "cell_type": "code",
   "execution_count": 64,
   "id": "c5a91ddf-5caf-4b43-aa68-2a5de9245d2b",
   "metadata": {},
   "outputs": [],
   "source": [
    "def transform(number):\n",
    "    return number ** 2 + 1"
   ]
  },
  {
   "cell_type": "code",
   "execution_count": 65,
   "id": "92750934-d9ee-4419-85b2-edc3c22f382c",
   "metadata": {},
   "outputs": [
    {
     "data": {
      "text/plain": [
       "65"
      ]
     },
     "execution_count": 65,
     "metadata": {},
     "output_type": "execute_result"
    }
   ],
   "source": [
    "transform(8)"
   ]
  },
  {
   "cell_type": "code",
   "execution_count": 66,
   "id": "9e12d655-392b-4828-a753-7a162ea55068",
   "metadata": {},
   "outputs": [
    {
     "data": {
      "text/plain": [
       "<map at 0x7fb720394670>"
      ]
     },
     "execution_count": 66,
     "metadata": {},
     "output_type": "execute_result"
    }
   ],
   "source": [
    "transformer = map(transform, evens)\n",
    "\n",
    "transformer"
   ]
  },
  {
   "cell_type": "code",
   "execution_count": 67,
   "id": "3145488c-231b-4c36-9299-5de40063714a",
   "metadata": {},
   "outputs": [
    {
     "data": {
      "text/plain": [
       "map"
      ]
     },
     "execution_count": 67,
     "metadata": {},
     "output_type": "execute_result"
    }
   ],
   "source": [
    "type(transformer)"
   ]
  },
  {
   "cell_type": "code",
   "execution_count": 74,
   "id": "e039ecad-0f75-489b-b0d2-886150cc5764",
   "metadata": {},
   "outputs": [
    {
     "ename": "StopIteration",
     "evalue": "",
     "output_type": "error",
     "traceback": [
      "\u001b[0;31m---------------------------------------------------------------------------\u001b[0m",
      "\u001b[0;31mStopIteration\u001b[0m                             Traceback (most recent call last)",
      "Cell \u001b[0;32mIn[74], line 1\u001b[0m\n\u001b[0;32m----> 1\u001b[0m \u001b[38;5;28;43mnext\u001b[39;49m\u001b[43m(\u001b[49m\u001b[43mtransformer\u001b[49m\u001b[43m)\u001b[49m\n",
      "\u001b[0;31mStopIteration\u001b[0m: "
     ]
    }
   ],
   "source": [
    "next(transformer)"
   ]
  },
  {
   "cell_type": "markdown",
   "id": "de99f154-261e-4ac3-93fc-160236a30dbf",
   "metadata": {},
   "source": [
    "Alles zusammen\n",
    "\n",
    "Wir bauen eine \"Pipeline\" von `number` über `evens` nach `tranformer`\n",
    "\n",
    "`sum()` zieht sich \"alles was geht\" aus der Pipeline heraus => **Konsument**"
   ]
  },
  {
   "cell_type": "code",
   "execution_count": 75,
   "id": "2fd3b020-8f3b-4f4c-81fa-20f48e2b8a91",
   "metadata": {},
   "outputs": [
    {
     "data": {
      "text/plain": [
       "[7, 8, 9, 1, 2, 3, 6, 5, 4, 12, 11, 10]"
      ]
     },
     "execution_count": 75,
     "metadata": {},
     "output_type": "execute_result"
    }
   ],
   "source": [
    "numbers"
   ]
  },
  {
   "cell_type": "code",
   "execution_count": 77,
   "id": "bad3d873-8f89-49aa-8e8a-82788fcd8db9",
   "metadata": {},
   "outputs": [
    {
     "data": {
      "text/plain": [
       "370"
      ]
     },
     "execution_count": 77,
     "metadata": {},
     "output_type": "execute_result"
    }
   ],
   "source": [
    "evens = filter(is_even, numbers)\n",
    "transformer = map(transform, evens)\n",
    "sum(transformer)"
   ]
  },
  {
   "cell_type": "code",
   "execution_count": 78,
   "id": "d50a8500-885a-4d57-9765-89dfc34ce298",
   "metadata": {},
   "outputs": [
    {
     "data": {
      "text/plain": [
       "370"
      ]
     },
     "execution_count": 78,
     "metadata": {},
     "output_type": "execute_result"
    }
   ],
   "source": [
    "sum(map(transform, filter(is_even, numbers)))"
   ]
  },
  {
   "cell_type": "markdown",
   "id": "4675ef9f-17c4-4363-bb62-2937e4cd636c",
   "metadata": {},
   "source": [
    "## 4. Lösung: ohne `map()` und `filter()`"
   ]
  },
  {
   "cell_type": "code",
   "execution_count": 79,
   "id": "cf01d493-543d-4bc6-b5da-b4f8e6048d59",
   "metadata": {},
   "outputs": [
    {
     "data": {
      "text/plain": [
       "[7, 8, 9, 1, 2, 3, 6, 5, 4, 12, 11, 10]"
      ]
     },
     "execution_count": 79,
     "metadata": {},
     "output_type": "execute_result"
    }
   ],
   "source": [
    "numbers"
   ]
  },
  {
   "cell_type": "code",
   "execution_count": 81,
   "id": "09a46562-c75c-4b1e-9981-40381b073acf",
   "metadata": {},
   "outputs": [
    {
     "data": {
      "text/plain": [
       "370"
      ]
     },
     "execution_count": 81,
     "metadata": {},
     "output_type": "execute_result"
    }
   ],
   "source": [
    "total = 0\n",
    "\n",
    "for number in numbers:\n",
    "    if is_even(number):\n",
    "        total += transform(number)\n",
    "\n",
    "total"
   ]
  },
  {
   "cell_type": "code",
   "execution_count": 82,
   "id": "92845208-2047-426c-ad56-a36211cfe523",
   "metadata": {},
   "outputs": [
    {
     "data": {
      "text/plain": [
       "61.666666666666664"
      ]
     },
     "execution_count": 82,
     "metadata": {},
     "output_type": "execute_result"
    }
   ],
   "source": [
    "total = 0\n",
    "count = 0\n",
    "\n",
    "for number in numbers:\n",
    "    if is_even(number):\n",
    "        total += transform(number)\n",
    "        count += 1\n",
    "\n",
    "total / count"
   ]
  },
  {
   "cell_type": "markdown",
   "id": "92b882c8-73b2-45f8-9b92-c39829951039",
   "metadata": {},
   "source": [
    "## 5. Lösung: `map()` und `filter()` on Steroids"
   ]
  },
  {
   "cell_type": "code",
   "execution_count": 86,
   "id": "9155c57e-9acf-4885-9015-46c47e9d5326",
   "metadata": {},
   "outputs": [],
   "source": [
    "def is_even(number):\n",
    "    return number % 2 == 0"
   ]
  },
  {
   "cell_type": "code",
   "execution_count": 87,
   "id": "f303e724-1db7-47bf-970a-01c124a9404f",
   "metadata": {},
   "outputs": [],
   "source": [
    "def transform(number):\n",
    "    return number ** 2 + 1"
   ]
  },
  {
   "cell_type": "markdown",
   "id": "224a5d14-536b-4f51-be12-3798d4678b90",
   "metadata": {},
   "source": [
    "`lambda` erstellt ein Funktionsobjekt ohne Namen\n",
    "\n",
    "Der einzige `expr` wird dann zum Return-Wert"
   ]
  },
  {
   "cell_type": "markdown",
   "id": "66754e08-bb38-4d58-8813-a50c6d80ac1e",
   "metadata": {},
   "source": [
    "```python\n",
    "lambda arg: expr\n",
    "```"
   ]
  },
  {
   "cell_type": "code",
   "execution_count": 89,
   "id": "e46745c9-af99-4530-9882-83d1d95910f0",
   "metadata": {},
   "outputs": [
    {
     "data": {
      "text/plain": [
       "<function __main__.<lambda>(x)>"
      ]
     },
     "execution_count": 89,
     "metadata": {},
     "output_type": "execute_result"
    }
   ],
   "source": [
    "lambda x: x ** 2  # nutzlos, da direkt Garbage collected"
   ]
  },
  {
   "cell_type": "code",
   "execution_count": 93,
   "id": "8b4394ca-972f-4ead-94b4-3f3564bab046",
   "metadata": {},
   "outputs": [
    {
     "data": {
      "text/plain": [
       "4"
      ]
     },
     "execution_count": 93,
     "metadata": {},
     "output_type": "execute_result"
    }
   ],
   "source": [
    "(lambda x: x ** 2)(2)  # Ergebnis ist: die Funktion wird wieder Garbage collected"
   ]
  },
  {
   "cell_type": "code",
   "execution_count": 94,
   "id": "c98415ac-8de3-485c-9b40-39fe3022ca9f",
   "metadata": {},
   "outputs": [
    {
     "data": {
      "text/plain": [
       "370"
      ]
     },
     "execution_count": 94,
     "metadata": {},
     "output_type": "execute_result"
    }
   ],
   "source": [
    "evens = filter(is_even, numbers)\n",
    "transformer = map(transform, evens)\n",
    "sum(transformer)"
   ]
  },
  {
   "cell_type": "code",
   "execution_count": 95,
   "id": "847a29d0-4504-4e14-a811-de3b1f5ac278",
   "metadata": {},
   "outputs": [
    {
     "data": {
      "text/plain": [
       "370"
      ]
     },
     "execution_count": 95,
     "metadata": {},
     "output_type": "execute_result"
    }
   ],
   "source": [
    "evens = filter(lambda n: n % 2 == 0, numbers)\n",
    "transformer = map(lambda n: n ** 2 + 1, evens)\n",
    "sum(transformer)"
   ]
  }
 ],
 "metadata": {
  "kernelspec": {
   "display_name": "Python 3.12",
   "language": "python",
   "name": "python3.12"
  },
  "language_info": {
   "codemirror_mode": {
    "name": "ipython",
    "version": 3
   },
   "file_extension": ".py",
   "mimetype": "text/x-python",
   "name": "python",
   "nbconvert_exporter": "python",
   "pygments_lexer": "ipython3",
   "version": "3.12.0"
  }
 },
 "nbformat": 4,
 "nbformat_minor": 5
}
