{
 "cells": [
  {
   "cell_type": "markdown",
   "id": "f825adc0-d10b-4ee4-b7f4-6a55b1efa233",
   "metadata": {},
   "source": [
    "# Klassen / Eigene Datentypen"
   ]
  },
  {
   "cell_type": "markdown",
   "id": "aebd4d70-586e-4cb8-8f45-5a20e5a457fa",
   "metadata": {},
   "source": [
    "Ziel (langfristig): Code gut organisieren und wiederverwendbar machen"
   ]
  },
  {
   "cell_type": "code",
   "execution_count": 1,
   "id": "3340000d-604b-410b-8623-5f73c76c7060",
   "metadata": {},
   "outputs": [
    {
     "data": {
      "text/plain": [
       "int"
      ]
     },
     "execution_count": 1,
     "metadata": {},
     "output_type": "execute_result"
    }
   ],
   "source": [
    "int"
   ]
  },
  {
   "cell_type": "code",
   "execution_count": 5,
   "id": "dd95a23c-2564-4a0d-b938-5281692f44ff",
   "metadata": {},
   "outputs": [
    {
     "data": {
      "text/plain": [
       "type"
      ]
     },
     "execution_count": 5,
     "metadata": {},
     "output_type": "execute_result"
    }
   ],
   "source": [
    "type(int)  # \"etwas besonderes\""
   ]
  },
  {
   "cell_type": "code",
   "execution_count": 3,
   "id": "92b7cb7f-85eb-4ff3-8cf3-fe8c58a9e9c4",
   "metadata": {},
   "outputs": [
    {
     "data": {
      "text/plain": [
       "7"
      ]
     },
     "execution_count": 3,
     "metadata": {},
     "output_type": "execute_result"
    }
   ],
   "source": [
    "7"
   ]
  },
  {
   "cell_type": "code",
   "execution_count": 4,
   "id": "05ae80ec-edf0-434a-b412-c4024a45d556",
   "metadata": {},
   "outputs": [
    {
     "data": {
      "text/plain": [
       "int"
      ]
     },
     "execution_count": 4,
     "metadata": {},
     "output_type": "execute_result"
    }
   ],
   "source": [
    "type(7)"
   ]
  },
  {
   "cell_type": "code",
   "execution_count": 12,
   "id": "9866729f-b088-4af5-97b9-0cae3830e996",
   "metadata": {},
   "outputs": [
    {
     "data": {
      "text/plain": [
       "7"
      ]
     },
     "execution_count": 12,
     "metadata": {},
     "output_type": "execute_result"
    }
   ],
   "source": [
    "int(7.1)"
   ]
  },
  {
   "cell_type": "code",
   "execution_count": 13,
   "id": "8825bda9-130e-4021-8a13-bc7d1a9a023e",
   "metadata": {},
   "outputs": [
    {
     "data": {
      "text/plain": [
       "0"
      ]
     },
     "execution_count": 13,
     "metadata": {},
     "output_type": "execute_result"
    }
   ],
   "source": [
    "int()"
   ]
  },
  {
   "cell_type": "code",
   "execution_count": 9,
   "id": "bdc3932c-1148-4e12-b582-ed180ec1f2fc",
   "metadata": {},
   "outputs": [],
   "source": [
    "class Klasse:\n",
    "    ..."
   ]
  },
  {
   "cell_type": "code",
   "execution_count": 10,
   "id": "6e9c849c-5bf4-4755-b89a-a543abefc70f",
   "metadata": {},
   "outputs": [
    {
     "data": {
      "text/plain": [
       "__main__.Klasse"
      ]
     },
     "execution_count": 10,
     "metadata": {},
     "output_type": "execute_result"
    }
   ],
   "source": [
    "Klasse"
   ]
  },
  {
   "cell_type": "code",
   "execution_count": 11,
   "id": "ce04ca56-838d-421a-82ee-eb48d51ba7d4",
   "metadata": {},
   "outputs": [
    {
     "data": {
      "text/plain": [
       "type"
      ]
     },
     "execution_count": 11,
     "metadata": {},
     "output_type": "execute_result"
    }
   ],
   "source": [
    "type(Klasse)"
   ]
  },
  {
   "cell_type": "code",
   "execution_count": 14,
   "id": "61e63ad3-4d43-47d2-983a-2dd529348c1f",
   "metadata": {},
   "outputs": [
    {
     "data": {
      "text/plain": [
       "<__main__.Klasse at 0x7f4da039a6f0>"
      ]
     },
     "execution_count": 14,
     "metadata": {},
     "output_type": "execute_result"
    }
   ],
   "source": [
    "Klasse()"
   ]
  },
  {
   "cell_type": "code",
   "execution_count": 40,
   "id": "21b14d52-cd95-4bed-b63d-8a6d5286401e",
   "metadata": {},
   "outputs": [],
   "source": [
    "class Klasse:\n",
    "\n",
    "    variable = 42\n",
    "\n",
    "    def func():\n",
    "        print(\"Hello World!\")"
   ]
  },
  {
   "cell_type": "markdown",
   "id": "ab6a3a3f-45c9-4c74-859e-0c5a9e7a342b",
   "metadata": {},
   "source": [
    "Klassen sind **Namespaces**"
   ]
  },
  {
   "cell_type": "code",
   "execution_count": 41,
   "id": "f9a20348-f674-4971-b8d2-6645b12bba28",
   "metadata": {},
   "outputs": [
    {
     "ename": "NameError",
     "evalue": "name 'variable' is not defined",
     "output_type": "error",
     "traceback": [
      "\u001b[0;31m---------------------------------------------------------------------------\u001b[0m",
      "\u001b[0;31mNameError\u001b[0m                                 Traceback (most recent call last)",
      "Cell \u001b[0;32mIn[41], line 1\u001b[0m\n\u001b[0;32m----> 1\u001b[0m \u001b[43mvariable\u001b[49m\n",
      "\u001b[0;31mNameError\u001b[0m: name 'variable' is not defined"
     ]
    }
   ],
   "source": [
    "variable"
   ]
  },
  {
   "cell_type": "code",
   "execution_count": 42,
   "id": "e46f4ea3-1aa4-4d4b-993c-e7aecee3a7dd",
   "metadata": {},
   "outputs": [
    {
     "ename": "NameError",
     "evalue": "name 'func' is not defined",
     "output_type": "error",
     "traceback": [
      "\u001b[0;31m---------------------------------------------------------------------------\u001b[0m",
      "\u001b[0;31mNameError\u001b[0m                                 Traceback (most recent call last)",
      "Cell \u001b[0;32mIn[42], line 1\u001b[0m\n\u001b[0;32m----> 1\u001b[0m \u001b[43mfunc\u001b[49m()\n",
      "\u001b[0;31mNameError\u001b[0m: name 'func' is not defined"
     ]
    }
   ],
   "source": [
    "func()"
   ]
  },
  {
   "cell_type": "code",
   "execution_count": 43,
   "id": "2eb69397-d370-49d8-8234-2d77d3371083",
   "metadata": {},
   "outputs": [
    {
     "data": {
      "text/plain": [
       "42"
      ]
     },
     "execution_count": 43,
     "metadata": {},
     "output_type": "execute_result"
    }
   ],
   "source": [
    "Klasse.variable"
   ]
  },
  {
   "cell_type": "code",
   "execution_count": 44,
   "id": "c7b92f7a-7d57-4d86-8b8c-110de8da93e9",
   "metadata": {},
   "outputs": [
    {
     "name": "stdout",
     "output_type": "stream",
     "text": [
      "Hello World!\n"
     ]
    }
   ],
   "source": [
    "Klasse.func()"
   ]
  },
  {
   "cell_type": "markdown",
   "id": "348cd8b3-d348-4956-aa2e-9e34935284da",
   "metadata": {},
   "source": [
    "**Instanzen**"
   ]
  },
  {
   "cell_type": "code",
   "execution_count": 45,
   "id": "ae06488c-95a4-40fe-abf9-923831418fd7",
   "metadata": {},
   "outputs": [
    {
     "data": {
      "text/plain": [
       "0"
      ]
     },
     "execution_count": 45,
     "metadata": {},
     "output_type": "execute_result"
    }
   ],
   "source": [
    "int()  # Die 0 ist eine Instanz der Klasse `int`"
   ]
  },
  {
   "cell_type": "code",
   "execution_count": 46,
   "id": "b937f4d7-5180-4b88-9028-be6d76dc33fb",
   "metadata": {},
   "outputs": [
    {
     "data": {
      "text/plain": [
       "int"
      ]
     },
     "execution_count": 46,
     "metadata": {},
     "output_type": "execute_result"
    }
   ],
   "source": [
    "type(0)"
   ]
  },
  {
   "cell_type": "code",
   "execution_count": 47,
   "id": "b262b3d4-708b-4547-841e-1af54e1cf7c1",
   "metadata": {},
   "outputs": [
    {
     "data": {
      "text/plain": [
       "<__main__.Klasse at 0x7f4d86e722d0>"
      ]
     },
     "execution_count": 47,
     "metadata": {},
     "output_type": "execute_result"
    }
   ],
   "source": [
    "obj = Klasse()  # Das `obj` ist eine Instanz der `Klasse`\n",
    "\n",
    "obj"
   ]
  },
  {
   "cell_type": "code",
   "execution_count": 48,
   "id": "42e14d2a-f516-4b74-a520-c01ab6359cbb",
   "metadata": {},
   "outputs": [
    {
     "data": {
      "text/plain": [
       "__main__.Klasse"
      ]
     },
     "execution_count": 48,
     "metadata": {},
     "output_type": "execute_result"
    }
   ],
   "source": [
    "type(obj)"
   ]
  },
  {
   "cell_type": "code",
   "execution_count": 63,
   "id": "5e445ffa-e110-4ad5-832b-24d009801149",
   "metadata": {},
   "outputs": [
    {
     "data": {
      "text/plain": [
       "42"
      ]
     },
     "execution_count": 63,
     "metadata": {},
     "output_type": "execute_result"
    }
   ],
   "source": [
    "obj.variable  # -> obj.variable gibt's nicht -> type(obj).variable -> Klasse.variable"
   ]
  },
  {
   "cell_type": "code",
   "execution_count": 50,
   "id": "cd99ff1b-8c40-4e34-943a-a2a01f692fdf",
   "metadata": {},
   "outputs": [
    {
     "data": {
      "text/plain": [
       "42"
      ]
     },
     "execution_count": 50,
     "metadata": {},
     "output_type": "execute_result"
    }
   ],
   "source": [
    "Klasse.variable"
   ]
  },
  {
   "cell_type": "code",
   "execution_count": 51,
   "id": "887f92de-ed05-4149-872b-1c684ab469b1",
   "metadata": {},
   "outputs": [
    {
     "data": {
      "text/plain": [
       "True"
      ]
     },
     "execution_count": 51,
     "metadata": {},
     "output_type": "execute_result"
    }
   ],
   "source": [
    "Klasse.variable is obj.variable"
   ]
  },
  {
   "cell_type": "code",
   "execution_count": 52,
   "id": "002a7223-f421-4145-a3d6-50947e6c523e",
   "metadata": {},
   "outputs": [
    {
     "data": {
      "text/plain": [
       "<bound method Klasse.func of <__main__.Klasse object at 0x7f4d86e722d0>>"
      ]
     },
     "execution_count": 52,
     "metadata": {},
     "output_type": "execute_result"
    }
   ],
   "source": [
    "obj.func"
   ]
  },
  {
   "cell_type": "code",
   "execution_count": 53,
   "id": "f28614b8-94ef-4ab9-a076-e68889ae44e6",
   "metadata": {},
   "outputs": [
    {
     "ename": "TypeError",
     "evalue": "Klasse.func() takes 0 positional arguments but 1 was given",
     "output_type": "error",
     "traceback": [
      "\u001b[0;31m---------------------------------------------------------------------------\u001b[0m",
      "\u001b[0;31mTypeError\u001b[0m                                 Traceback (most recent call last)",
      "Cell \u001b[0;32mIn[53], line 1\u001b[0m\n\u001b[0;32m----> 1\u001b[0m \u001b[43mobj\u001b[49m\u001b[38;5;241;43m.\u001b[39;49m\u001b[43mfunc\u001b[49m\u001b[43m(\u001b[49m\u001b[43m)\u001b[49m\n",
      "\u001b[0;31mTypeError\u001b[0m: Klasse.func() takes 0 positional arguments but 1 was given"
     ]
    }
   ],
   "source": [
    "obj.func()"
   ]
  },
  {
   "cell_type": "code",
   "execution_count": 55,
   "id": "cc2d9238-7b8d-4684-a2cf-84bf1dc9f198",
   "metadata": {},
   "outputs": [],
   "source": [
    "class Klasse:\n",
    "\n",
    "    variable = 42\n",
    "\n",
    "    def func(*args, **kwargs):\n",
    "        print(\"Hello World!\")\n",
    "        for idx, arg in enumerate(args):\n",
    "            print(idx, arg)\n",
    "        for key, val in kwargs.items():\n",
    "            print(key, val)"
   ]
  },
  {
   "cell_type": "code",
   "execution_count": 56,
   "id": "a2ac50ac-93ce-4b14-9bb1-f94aa2df2c85",
   "metadata": {},
   "outputs": [
    {
     "data": {
      "text/plain": [
       "<__main__.Klasse at 0x7f4d86b12570>"
      ]
     },
     "execution_count": 56,
     "metadata": {},
     "output_type": "execute_result"
    }
   ],
   "source": [
    "obj = Klasse()\n",
    "\n",
    "obj"
   ]
  },
  {
   "cell_type": "code",
   "execution_count": 57,
   "id": "c8850474-1295-46f2-b219-ab9fc00204c8",
   "metadata": {},
   "outputs": [
    {
     "data": {
      "text/plain": [
       "<__main__.Klasse at 0x7f4d86b13680>"
      ]
     },
     "execution_count": 57,
     "metadata": {},
     "output_type": "execute_result"
    }
   ],
   "source": [
    "obj2 = Klasse()\n",
    "\n",
    "obj2"
   ]
  },
  {
   "cell_type": "markdown",
   "id": "86eb6591-d161-4569-bf4d-5c0dd089afd5",
   "metadata": {},
   "source": [
    "**Method Binding**: \"Wenn wir eine Methode auf einer Instanz/Objekt ausführen, wird diesselbe mit dem Instanz/Objekt als ersten Input auf der Klasse ausgeführt\""
   ]
  },
  {
   "cell_type": "code",
   "execution_count": 60,
   "id": "143ece5d-29e9-4504-866e-7dacfeb7a2f1",
   "metadata": {},
   "outputs": [
    {
     "name": "stdout",
     "output_type": "stream",
     "text": [
      "Hello World!\n",
      "0 <__main__.Klasse object at 0x7f4d86b12570>\n"
     ]
    }
   ],
   "source": [
    "obj.func()  # -> obj.func() gibt's nicht -> type(obj).func(obj) -> Klasse.func(obj)"
   ]
  },
  {
   "cell_type": "code",
   "execution_count": 62,
   "id": "e7e761ca-57b5-4f13-846b-d6611d20808c",
   "metadata": {},
   "outputs": [
    {
     "name": "stdout",
     "output_type": "stream",
     "text": [
      "Hello World!\n",
      "0 <__main__.Klasse object at 0x7f4d86b12570>\n"
     ]
    }
   ],
   "source": [
    "Klasse.func(obj)"
   ]
  },
  {
   "cell_type": "code",
   "execution_count": 64,
   "id": "9d3aaf71-d71e-4aa1-94e1-caf7db777758",
   "metadata": {},
   "outputs": [
    {
     "data": {
      "text/plain": [
       "<function __main__.Klasse.func(*args, **kwargs)>"
      ]
     },
     "execution_count": 64,
     "metadata": {},
     "output_type": "execute_result"
    }
   ],
   "source": [
    "Klasse.func"
   ]
  },
  {
   "cell_type": "code",
   "execution_count": 65,
   "id": "e19bcf1a-3eaf-4bf5-b780-2267385ef395",
   "metadata": {},
   "outputs": [
    {
     "data": {
      "text/plain": [
       "<bound method Klasse.func of <__main__.Klasse object at 0x7f4d86b12570>>"
      ]
     },
     "execution_count": 65,
     "metadata": {},
     "output_type": "execute_result"
    }
   ],
   "source": [
    "obj.func"
   ]
  },
  {
   "cell_type": "code",
   "execution_count": 66,
   "id": "a7fbd547-e4f7-4087-841a-c84e0dbdbea7",
   "metadata": {},
   "outputs": [
    {
     "data": {
      "text/plain": [
       "<function __main__.Klasse.func(*args, **kwargs)>"
      ]
     },
     "execution_count": 66,
     "metadata": {},
     "output_type": "execute_result"
    }
   ],
   "source": [
    "obj.func.__func__"
   ]
  }
 ],
 "metadata": {
  "kernelspec": {
   "display_name": "Python 3.12",
   "language": "python",
   "name": "python3.12"
  },
  "language_info": {
   "codemirror_mode": {
    "name": "ipython",
    "version": 3
   },
   "file_extension": ".py",
   "mimetype": "text/x-python",
   "name": "python",
   "nbconvert_exporter": "python",
   "pygments_lexer": "ipython3",
   "version": "3.12.0"
  }
 },
 "nbformat": 4,
 "nbformat_minor": 5
}
