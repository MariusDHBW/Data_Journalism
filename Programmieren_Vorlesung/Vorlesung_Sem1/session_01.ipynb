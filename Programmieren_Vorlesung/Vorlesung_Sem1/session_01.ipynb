{
 "cells": [
  {
   "cell_type": "markdown",
   "id": "f07d8c37-a0cd-4c02-a5bd-5f560531c44c",
   "metadata": {},
   "source": [
    "# Ein erstes Problem"
   ]
  },
  {
   "cell_type": "markdown",
   "id": "56499095-5493-494d-9931-d0aba698e143",
   "metadata": {},
   "source": [
    "- geg.: eine Liste von Zahlen\n",
    "- ges.: der Durchschnitt der geraden Zahlen"
   ]
  },
  {
   "cell_type": "markdown",
   "id": "a3f919ee-4c58-4ac5-a115-716add058483",
   "metadata": {},
   "source": [
    "Einzelne Zahlen"
   ]
  },
  {
   "cell_type": "code",
   "execution_count": 2,
   "id": "aa91e6be-1f90-401c-b755-9be9f67639b7",
   "metadata": {},
   "outputs": [
    {
     "data": {
      "text/plain": [
       "42"
      ]
     },
     "execution_count": 2,
     "metadata": {},
     "output_type": "execute_result"
    }
   ],
   "source": [
    "42"
   ]
  },
  {
   "cell_type": "markdown",
   "id": "aa3941c7-e54d-45d4-9476-c96db006cbbd",
   "metadata": {},
   "source": [
    "Viele Zahlen zusammen fassen"
   ]
  },
  {
   "cell_type": "code",
   "execution_count": 3,
   "id": "402968d1-37dc-45fb-aea8-3590c5427761",
   "metadata": {},
   "outputs": [
    {
     "data": {
      "text/plain": [
       "[7, 8, 9, 1, 2, 3, 6, 5, 4, 11, 12, 10]"
      ]
     },
     "execution_count": 3,
     "metadata": {},
     "output_type": "execute_result"
    }
   ],
   "source": [
    "[7, 8, 9, 1, 2, 3, 6, 5, 4, 11, 12, 10]"
   ]
  },
  {
   "cell_type": "markdown",
   "id": "a71984fc-6375-4a31-839f-dbc56af13448",
   "metadata": {},
   "source": [
    "Generelle Regel: Python ignoriert **Whitespace** (= Zeichen, die wir nicht sehen)"
   ]
  },
  {
   "cell_type": "code",
   "execution_count": 4,
   "id": "8796f140-7d58-4845-971b-5f20109ae76c",
   "metadata": {},
   "outputs": [
    {
     "data": {
      "text/plain": [
       "[7, 8, 9, 1, 2, 3, 6, 5, 4, 11, 12, 10]"
      ]
     },
     "execution_count": 4,
     "metadata": {},
     "output_type": "execute_result"
    }
   ],
   "source": [
    "[ 7,     8,9,\n",
    " 1,             2,3,6,\n",
    "     5,4,\n",
    " 11, 12,\n",
    " 10\n",
    "]"
   ]
  },
  {
   "cell_type": "markdown",
   "id": "9043d0a9-af7f-4327-a1f7-5b751ce8c69f",
   "metadata": {},
   "source": [
    "Folge: wir können Code so formatieren, wie wir wollen!"
   ]
  },
  {
   "cell_type": "code",
   "execution_count": 5,
   "id": "a3d271c5-6d26-4db9-8536-7f95edac8126",
   "metadata": {},
   "outputs": [
    {
     "data": {
      "text/plain": [
       "[7, 8, 9, 1, 2, 3, 6, 5, 4, 11, 12, 10]"
      ]
     },
     "execution_count": 5,
     "metadata": {},
     "output_type": "execute_result"
    }
   ],
   "source": [
    "[\n",
    "    7, \n",
    "    8, \n",
    "    9, \n",
    "    1, \n",
    "    2, \n",
    "    3, \n",
    "    6, \n",
    "    5, \n",
    "    4, \n",
    "    11, \n",
    "    12, \n",
    "    10,\n",
    "]"
   ]
  },
  {
   "cell_type": "code",
   "execution_count": 6,
   "id": "d7457da6-da8a-473b-ac59-93322c114993",
   "metadata": {},
   "outputs": [],
   "source": [
    "numbers = [\n",
    "    7, \n",
    "    8, \n",
    "    9, \n",
    "    1, \n",
    "    2, \n",
    "    3, \n",
    "    6, \n",
    "    5, \n",
    "    4, \n",
    "    11, \n",
    "    12, \n",
    "    10,\n",
    "]"
   ]
  },
  {
   "cell_type": "code",
   "execution_count": 7,
   "id": "382ebeba-0a03-4fbc-b066-96f10180d3a5",
   "metadata": {},
   "outputs": [
    {
     "data": {
      "text/plain": [
       "[7, 8, 9, 1, 2, 3, 6, 5, 4, 11, 12, 10]"
      ]
     },
     "execution_count": 7,
     "metadata": {},
     "output_type": "execute_result"
    }
   ],
   "source": [
    "numbers"
   ]
  },
  {
   "cell_type": "markdown",
   "id": "07d7a8cc-b938-44f7-8d1c-656751d8b1bd",
   "metadata": {},
   "source": [
    "Wie kann man auf einzelne Elemente der Liste zugreifen?"
   ]
  },
  {
   "cell_type": "markdown",
   "id": "5fe97376-352b-47c9-8941-4418b34cf0dc",
   "metadata": {},
   "source": [
    "**Indexing**\n",
    "\n",
    "`variable[index]` := Indexing Operator => \"wir greifen *in* etwas hinen\""
   ]
  },
  {
   "cell_type": "code",
   "execution_count": 8,
   "id": "ab9b80f0-05c0-46a3-8471-8fb8600b7036",
   "metadata": {},
   "outputs": [
    {
     "data": {
      "text/plain": [
       "8"
      ]
     },
     "execution_count": 8,
     "metadata": {},
     "output_type": "execute_result"
    }
   ],
   "source": [
    "numbers[1]"
   ]
  },
  {
   "cell_type": "code",
   "execution_count": 9,
   "id": "497557a2-5269-414e-8e30-5bab013dbe33",
   "metadata": {},
   "outputs": [
    {
     "data": {
      "text/plain": [
       "7"
      ]
     },
     "execution_count": 9,
     "metadata": {},
     "output_type": "execute_result"
    }
   ],
   "source": [
    "numbers[0]"
   ]
  },
  {
   "cell_type": "code",
   "execution_count": 10,
   "id": "3c3258b4-4893-437f-b1a3-0bb24c64e1cd",
   "metadata": {},
   "outputs": [
    {
     "data": {
      "text/plain": [
       "10"
      ]
     },
     "execution_count": 10,
     "metadata": {},
     "output_type": "execute_result"
    }
   ],
   "source": [
    "numbers[-1]"
   ]
  },
  {
   "cell_type": "markdown",
   "id": "0b25b861-c95a-4519-be24-ce05a7870f3c",
   "metadata": {},
   "source": [
    "3 Arten zu Teilen"
   ]
  },
  {
   "cell_type": "code",
   "execution_count": 11,
   "id": "4ab63ee4-520d-4a16-b399-dbc877046dad",
   "metadata": {},
   "outputs": [
    {
     "data": {
      "text/plain": [
       "4.0"
      ]
     },
     "execution_count": 11,
     "metadata": {},
     "output_type": "execute_result"
    }
   ],
   "source": [
    "8 / 2"
   ]
  },
  {
   "cell_type": "code",
   "execution_count": 13,
   "id": "7568a6e6-e61a-4914-9e33-9821c4ec730e",
   "metadata": {},
   "outputs": [
    {
     "data": {
      "text/plain": [
       "3.5"
      ]
     },
     "execution_count": 13,
     "metadata": {},
     "output_type": "execute_result"
    }
   ],
   "source": [
    "7 / 2"
   ]
  },
  {
   "cell_type": "code",
   "execution_count": 12,
   "id": "1578cc0e-4278-4797-8f45-4a5fc406aa7f",
   "metadata": {},
   "outputs": [
    {
     "data": {
      "text/plain": [
       "4"
      ]
     },
     "execution_count": 12,
     "metadata": {},
     "output_type": "execute_result"
    }
   ],
   "source": [
    "8 // 2"
   ]
  },
  {
   "cell_type": "code",
   "execution_count": 14,
   "id": "0ac407e7-326e-4eaf-bcbb-5e074256898f",
   "metadata": {},
   "outputs": [
    {
     "data": {
      "text/plain": [
       "3"
      ]
     },
     "execution_count": 14,
     "metadata": {},
     "output_type": "execute_result"
    }
   ],
   "source": [
    "7 // 2"
   ]
  },
  {
   "cell_type": "markdown",
   "id": "cdc086cc-388e-4be0-802f-029da0829202",
   "metadata": {},
   "source": [
    "Modulo Operator"
   ]
  },
  {
   "cell_type": "code",
   "execution_count": 15,
   "id": "3daaa25b-b87f-4e28-8c25-3d1c547122ea",
   "metadata": {},
   "outputs": [
    {
     "data": {
      "text/plain": [
       "0"
      ]
     },
     "execution_count": 15,
     "metadata": {},
     "output_type": "execute_result"
    }
   ],
   "source": [
    "8 % 2"
   ]
  },
  {
   "cell_type": "code",
   "execution_count": 16,
   "id": "83131ba9-46c6-4070-bb14-0e0f55ce6d9d",
   "metadata": {},
   "outputs": [
    {
     "data": {
      "text/plain": [
       "1"
      ]
     },
     "execution_count": 16,
     "metadata": {},
     "output_type": "execute_result"
    }
   ],
   "source": [
    "7 % 2"
   ]
  },
  {
   "cell_type": "code",
   "execution_count": 17,
   "id": "6e98ce09-3b5f-41d6-8b68-aec7df575fb4",
   "metadata": {},
   "outputs": [
    {
     "data": {
      "text/plain": [
       "1"
      ]
     },
     "execution_count": 17,
     "metadata": {},
     "output_type": "execute_result"
    }
   ],
   "source": [
    "numbers[0] % 2"
   ]
  },
  {
   "cell_type": "code",
   "execution_count": 18,
   "id": "3e555298-c5a0-48ee-9fe2-8505c2dde95f",
   "metadata": {},
   "outputs": [
    {
     "data": {
      "text/plain": [
       "0"
      ]
     },
     "execution_count": 18,
     "metadata": {},
     "output_type": "execute_result"
    }
   ],
   "source": [
    "numbers[1] % 2"
   ]
  },
  {
   "cell_type": "markdown",
   "id": "c12d5f3f-7503-4328-b58a-1a81563850e3",
   "metadata": {},
   "source": [
    "**`for`-Loop**\n",
    "\n",
    "```python\n",
    "for iterations_variable in target:\n",
    "    block of code, Zeile 1\n",
    "    block of code, Zeile 2\n",
    "    ...\n",
    "\n",
    "code nach dem loop\n",
    "```"
   ]
  },
  {
   "cell_type": "code",
   "execution_count": 22,
   "id": "3c323520-190d-4aa0-9151-b36f0f683bc3",
   "metadata": {},
   "outputs": [
    {
     "data": {
      "text/plain": [
       "11"
      ]
     },
     "execution_count": 22,
     "metadata": {},
     "output_type": "execute_result"
    }
   ],
   "source": [
    "for number in numbers:\n",
    "    result = number + 1\n",
    "\n",
    "result"
   ]
  },
  {
   "cell_type": "code",
   "execution_count": 23,
   "id": "9ebba37d-551b-4609-b27a-e9011415993a",
   "metadata": {},
   "outputs": [
    {
     "name": "stdout",
     "output_type": "stream",
     "text": [
      "123\n"
     ]
    }
   ],
   "source": [
    "print(123)"
   ]
  },
  {
   "cell_type": "markdown",
   "id": "7111213d-8fd0-4ce1-9c63-71ae45623a19",
   "metadata": {},
   "source": [
    "Die Einrückung ist wichtig, damit Python weiß, wann der `for`-Loop zu Ende ist"
   ]
  },
  {
   "cell_type": "code",
   "execution_count": 25,
   "id": "9c66a08c-a6f5-4c4d-90a9-a83825dbe910",
   "metadata": {},
   "outputs": [
    {
     "name": "stdout",
     "output_type": "stream",
     "text": [
      "7 8\n",
      "8 9\n",
      "9 10\n",
      "1 2\n",
      "2 3\n",
      "3 4\n",
      "6 7\n",
      "5 6\n",
      "4 5\n",
      "11 12\n",
      "12 13\n",
      "10 11\n",
      "123\n"
     ]
    }
   ],
   "source": [
    "for number in numbers:\n",
    "    result = number + 1\n",
    "    print(number, result)\n",
    "print(123)"
   ]
  },
  {
   "cell_type": "markdown",
   "id": "d53b55d5-2574-4b17-9561-140151482ee9",
   "metadata": {},
   "source": [
    "Zurück zum Problem: Durchschnitt der geraden Zahlen"
   ]
  },
  {
   "cell_type": "code",
   "execution_count": 26,
   "id": "38a83897-4fec-423c-b16b-9d6aabc6d84d",
   "metadata": {},
   "outputs": [
    {
     "data": {
      "text/plain": [
       "[7, 8, 9, 1, 2, 3, 6, 5, 4, 11, 12, 10]"
      ]
     },
     "execution_count": 26,
     "metadata": {},
     "output_type": "execute_result"
    }
   ],
   "source": [
    "numbers"
   ]
  },
  {
   "cell_type": "markdown",
   "id": "49e5c05e-515d-4823-911c-4df6036d34b4",
   "metadata": {},
   "source": [
    "**Condition** / Bedingung => etwas, das nur `True` oder `False` sein kann"
   ]
  },
  {
   "cell_type": "code",
   "execution_count": 28,
   "id": "deee6776-fc53-4ebc-9c11-2c734e3ced04",
   "metadata": {},
   "outputs": [
    {
     "data": {
      "text/plain": [
       "True"
      ]
     },
     "execution_count": 28,
     "metadata": {},
     "output_type": "execute_result"
    }
   ],
   "source": [
    "1 + 2 == 3"
   ]
  },
  {
   "cell_type": "code",
   "execution_count": 29,
   "id": "641c2522-42e2-43d7-8d61-2cc4bbcfbce6",
   "metadata": {},
   "outputs": [
    {
     "data": {
      "text/plain": [
       "False"
      ]
     },
     "execution_count": 29,
     "metadata": {},
     "output_type": "execute_result"
    }
   ],
   "source": [
    "1 == 2"
   ]
  },
  {
   "cell_type": "code",
   "execution_count": 30,
   "id": "90383ac1-60d6-4ba8-8d14-9ed5d0ecff1d",
   "metadata": {},
   "outputs": [
    {
     "data": {
      "text/plain": [
       "True"
      ]
     },
     "execution_count": 30,
     "metadata": {},
     "output_type": "execute_result"
    }
   ],
   "source": [
    "8 % 2 == 0"
   ]
  },
  {
   "cell_type": "code",
   "execution_count": 31,
   "id": "aae6e664-0a18-46f4-8e51-248b97445446",
   "metadata": {},
   "outputs": [
    {
     "data": {
      "text/plain": [
       "False"
      ]
     },
     "execution_count": 31,
     "metadata": {},
     "output_type": "execute_result"
    }
   ],
   "source": [
    "7 % 2 == 0"
   ]
  },
  {
   "cell_type": "code",
   "execution_count": 38,
   "id": "db4cd762-ec7a-4caf-be61-62b65f19dd77",
   "metadata": {},
   "outputs": [
    {
     "name": "stdout",
     "output_type": "stream",
     "text": [
      "8\n",
      "2\n",
      "6\n",
      "4\n",
      "12\n",
      "10\n"
     ]
    }
   ],
   "source": [
    "for number in numbers:   # Kommentar => wird von Python ignoriert\n",
    "    if number % 2 == 0:  # Wenn `number` gerade ist\n",
    "        print(number)"
   ]
  },
  {
   "cell_type": "code",
   "execution_count": 39,
   "id": "3b559c75-80f1-478d-8723-876030e64da0",
   "metadata": {},
   "outputs": [
    {
     "data": {
      "text/plain": [
       "42"
      ]
     },
     "execution_count": 39,
     "metadata": {},
     "output_type": "execute_result"
    }
   ],
   "source": [
    "total = 0\n",
    "\n",
    "for number in numbers:\n",
    "    if number % 2 == 0:\n",
    "        total = total + number  # keine Gleichung !!!\n",
    "\n",
    "total"
   ]
  },
  {
   "cell_type": "code",
   "execution_count": 40,
   "id": "f418618e-6a2a-4283-8d69-42ab41077258",
   "metadata": {},
   "outputs": [
    {
     "data": {
      "text/plain": [
       "7.0"
      ]
     },
     "execution_count": 40,
     "metadata": {},
     "output_type": "execute_result"
    }
   ],
   "source": [
    "total = 0\n",
    "count = 0\n",
    "\n",
    "for number in numbers:\n",
    "    if number % 2 == 0:\n",
    "        total = total + number\n",
    "        count = count + 1\n",
    "\n",
    "average = total / count\n",
    "\n",
    "average"
   ]
  }
 ],
 "metadata": {
  "kernelspec": {
   "display_name": "Python 3.12",
   "language": "python",
   "name": "python3.12"
  },
  "language_info": {
   "codemirror_mode": {
    "name": "ipython",
    "version": 3
   },
   "file_extension": ".py",
   "mimetype": "text/x-python",
   "name": "python",
   "nbconvert_exporter": "python",
   "pygments_lexer": "ipython3",
   "version": "3.12.0"
  }
 },
 "nbformat": 4,
 "nbformat_minor": 5
}
