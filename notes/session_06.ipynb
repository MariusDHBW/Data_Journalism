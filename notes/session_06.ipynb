{
 "cells": [
  {
   "cell_type": "markdown",
   "id": "08d5cbc1-e45b-4cc8-89ed-3bbd9dcd6dff",
   "metadata": {},
   "source": [
    "# Conditional Execution"
   ]
  },
  {
   "cell_type": "markdown",
   "id": "5889e1d6-67c7-475e-93b7-923237f5d731",
   "metadata": {},
   "source": [
    "## `if` Statement"
   ]
  },
  {
   "cell_type": "markdown",
   "id": "a7538b72-441f-465b-aeb8-99d5c805e7ea",
   "metadata": {},
   "source": [
    "```python\n",
    "if condition1:\n",
    "    ...\n",
    "elif condition2:\n",
    "    ...\n",
    "...\n",
    "...\n",
    "else:\n",
    "    ...\n",
    "```"
   ]
  },
  {
   "cell_type": "code",
   "execution_count": 78,
   "id": "256462e8-b7d9-407d-9dff-38b2dd9512ea",
   "metadata": {},
   "outputs": [],
   "source": [
    "import random"
   ]
  },
  {
   "cell_type": "code",
   "execution_count": 79,
   "id": "9e2279e2-579d-439e-83ce-d2adda7eeaea",
   "metadata": {},
   "outputs": [],
   "source": [
    "seite_oben = random.randint(1, 6)\n",
    "\n",
    "if seite_oben >= 4:\n",
    "    print(\"Die Zahl\", seite_oben, \"ist groß\")"
   ]
  },
  {
   "cell_type": "code",
   "execution_count": 82,
   "id": "8305c0b5-72c0-4777-aeee-fdef902e7b54",
   "metadata": {},
   "outputs": [
    {
     "name": "stdout",
     "output_type": "stream",
     "text": [
      "Die Zahl 2 ist klein\n"
     ]
    }
   ],
   "source": [
    "seite_oben = random.randint(1, 6)\n",
    "\n",
    "if seite_oben >= 4:\n",
    "    print(\"Die Zahl\", seite_oben, \"ist groß\")\n",
    "else:\n",
    "    print(\"Die Zahl\", seite_oben, \"ist klein\")"
   ]
  },
  {
   "cell_type": "code",
   "execution_count": 131,
   "id": "0cb72970-3754-492c-9da8-e521bc99d5fb",
   "metadata": {},
   "outputs": [
    {
     "name": "stdout",
     "output_type": "stream",
     "text": [
      "Die Zahl 4 ist mittel\n"
     ]
    }
   ],
   "source": [
    "seite_oben = random.randint(1, 6)\n",
    "\n",
    "if seite_oben >= 5:\n",
    "    print(\"Die Zahl\", seite_oben, \"ist groß\")\n",
    "else:\n",
    "    if seite_oben >= 3:\n",
    "        print(\"Die Zahl\", seite_oben, \"ist mittel\")\n",
    "    else:\n",
    "        print(\"Die Zahl\", seite_oben, \"ist klein\")"
   ]
  },
  {
   "cell_type": "code",
   "execution_count": 129,
   "id": "55272a62-67cf-460a-ab25-73007dea1693",
   "metadata": {},
   "outputs": [
    {
     "name": "stdout",
     "output_type": "stream",
     "text": [
      "Die Zahl 5 ist groß\n"
     ]
    }
   ],
   "source": [
    "seite_oben = random.randint(1, 6)\n",
    "\n",
    "# Die erste Alternative, deren Bedingung wahr ist, wird ausgeführt\n",
    "# => nur EINE Alternative wird ausgeführt\n",
    "if seite_oben >= 5:\n",
    "    print(\"Die Zahl\", seite_oben, \"ist groß\")\n",
    "elif seite_oben >= 3:\n",
    "    print(\"Die Zahl\", seite_oben, \"ist mittel\")\n",
    "else:\n",
    "    print(\"Die Zahl\", seite_oben, \"ist klein\")"
   ]
  },
  {
   "cell_type": "code",
   "execution_count": 124,
   "id": "fb833fc5-3fd7-4d51-8e44-f0655ceb4bfa",
   "metadata": {},
   "outputs": [
    {
     "name": "stdout",
     "output_type": "stream",
     "text": [
      "Die Zahl 5 ist groß\n",
      "Die Zahl 5 ist mittel\n"
     ]
    }
   ],
   "source": [
    "seite_oben = random.randint(1, 6)\n",
    "\n",
    "if seite_oben >= 5:\n",
    "    print(\"Die Zahl\", seite_oben, \"ist groß\")\n",
    "\n",
    "# FALSCH: weil beide Bedingungen gleichzeitig eintreten können\n",
    "if seite_oben >= 3:\n",
    "    print(\"Die Zahl\", seite_oben, \"ist mittel\")\n",
    "else:\n",
    "    print(\"Die Zahl\", seite_oben, \"ist klein\")"
   ]
  },
  {
   "cell_type": "markdown",
   "id": "61b05289-5db0-4163-a077-27b0d0844dd3",
   "metadata": {},
   "source": [
    "## `if` Expression"
   ]
  },
  {
   "cell_type": "code",
   "execution_count": 151,
   "id": "dd4fe4df-deb0-40b2-abb1-bab2768fc3cf",
   "metadata": {},
   "outputs": [],
   "source": [
    "x = -10\n",
    "\n",
    "if x < 0:  # kein Ergebnis, aber Nebeneffekt\n",
    "    y = -x\n",
    "else:\n",
    "    y = +x"
   ]
  },
  {
   "cell_type": "code",
   "execution_count": 157,
   "id": "b87bccf4-3e40-4f0f-9f5c-bd270a62d131",
   "metadata": {},
   "outputs": [
    {
     "data": {
      "text/plain": [
       "10"
      ]
     },
     "execution_count": 157,
     "metadata": {},
     "output_type": "execute_result"
    }
   ],
   "source": [
    "x = -10\n",
    "\n",
    "-x if x < 0 else +x  # Ergebnis"
   ]
  },
  {
   "cell_type": "code",
   "execution_count": 158,
   "id": "8f472bf0-52b0-4b0e-ad58-7d2649987ae2",
   "metadata": {},
   "outputs": [
    {
     "data": {
      "text/plain": [
       "10"
      ]
     },
     "execution_count": 158,
     "metadata": {},
     "output_type": "execute_result"
    }
   ],
   "source": [
    "abs(-10)"
   ]
  },
  {
   "cell_type": "code",
   "execution_count": 162,
   "id": "5ba9e467-e2fb-4e21-a99d-79c288770866",
   "metadata": {},
   "outputs": [
    {
     "data": {
      "text/plain": [
       "10"
      ]
     },
     "execution_count": 162,
     "metadata": {},
     "output_type": "execute_result"
    }
   ],
   "source": [
    "x = -10\n",
    "\n",
    "if x < 0:  # kein Ergebnis\n",
    "    y = -x\n",
    "else:\n",
    "    y = +x\n",
    "\n",
    "y"
   ]
  },
  {
   "cell_type": "code",
   "execution_count": 163,
   "id": "d16acc06-927e-4420-bc23-980cd00f6a06",
   "metadata": {},
   "outputs": [
    {
     "data": {
      "text/plain": [
       "10"
      ]
     },
     "execution_count": 163,
     "metadata": {},
     "output_type": "execute_result"
    }
   ],
   "source": [
    "y = -x if x < 0 else +x\n",
    "\n",
    "y"
   ]
  },
  {
   "cell_type": "markdown",
   "id": "2310a3d6-40a3-4708-9d51-484dcb69ae32",
   "metadata": {},
   "source": [
    "## Operatoren"
   ]
  },
  {
   "cell_type": "markdown",
   "id": "437bfed2-f696-4409-a573-ce1f2eeaa567",
   "metadata": {},
   "source": [
    "Allgemein: von links nach rechts"
   ]
  },
  {
   "cell_type": "markdown",
   "id": "a69d81d2-9d82-4d22-a08d-b1cdf4076e08",
   "metadata": {},
   "source": [
    "### Arithmetische"
   ]
  },
  {
   "cell_type": "markdown",
   "id": "adae3460-c5bc-4e02-81c1-5a31fcbae18a",
   "metadata": {},
   "source": [
    "\"Punkt vor Strich\""
   ]
  },
  {
   "cell_type": "code",
   "execution_count": 164,
   "id": "cb68cc29-113d-40ab-92f4-918fed343157",
   "metadata": {},
   "outputs": [
    {
     "data": {
      "text/plain": [
       "3"
      ]
     },
     "execution_count": 164,
     "metadata": {},
     "output_type": "execute_result"
    }
   ],
   "source": [
    "1 + 2"
   ]
  },
  {
   "cell_type": "markdown",
   "id": "63e3e51e-5aa9-4501-9787-b07912254392",
   "metadata": {},
   "source": [
    "### Relationale"
   ]
  },
  {
   "cell_type": "code",
   "execution_count": 165,
   "id": "f2db1f42-8a11-470b-b912-503ece5782ec",
   "metadata": {},
   "outputs": [
    {
     "data": {
      "text/plain": [
       "True"
      ]
     },
     "execution_count": 165,
     "metadata": {},
     "output_type": "execute_result"
    }
   ],
   "source": [
    "1 < 2"
   ]
  },
  {
   "cell_type": "markdown",
   "id": "2ce96f87-e5ef-4aab-9a41-3f4654232583",
   "metadata": {},
   "source": [
    "Erst Arithmetik, dann Vergleich"
   ]
  },
  {
   "cell_type": "code",
   "execution_count": 171,
   "id": "34c2a58d-7fd8-4b92-9bf9-d45d10c916ac",
   "metadata": {},
   "outputs": [
    {
     "data": {
      "text/plain": [
       "True"
      ]
     },
     "execution_count": 171,
     "metadata": {},
     "output_type": "execute_result"
    }
   ],
   "source": [
    "1 < 1 + 1"
   ]
  },
  {
   "cell_type": "markdown",
   "id": "1db14b84-5d2a-4a90-846e-63af00f0d88e",
   "metadata": {},
   "source": [
    "### Logische"
   ]
  },
  {
   "cell_type": "markdown",
   "id": "e3cc7f68-8cf2-4431-8bd1-781433b85ea8",
   "metadata": {},
   "source": [
    "1. `not`\n",
    "2. `and`\n",
    "3. `or`"
   ]
  },
  {
   "cell_type": "code",
   "execution_count": 167,
   "id": "d99f06cf-5cd3-43dd-abe7-7915c0ac982e",
   "metadata": {},
   "outputs": [
    {
     "data": {
      "text/plain": [
       "True"
      ]
     },
     "execution_count": 167,
     "metadata": {},
     "output_type": "execute_result"
    }
   ],
   "source": [
    "1 < 2 and 3 < 4  # Wenn beide Seiten True sind"
   ]
  },
  {
   "cell_type": "code",
   "execution_count": 169,
   "id": "4562d4b2-96f3-478d-b1a5-fd37d618cfa4",
   "metadata": {},
   "outputs": [
    {
     "data": {
      "text/plain": [
       "True"
      ]
     },
     "execution_count": 169,
     "metadata": {},
     "output_type": "execute_result"
    }
   ],
   "source": [
    "not 2 < 1  # Umkehrung"
   ]
  },
  {
   "cell_type": "code",
   "execution_count": 170,
   "id": "2ad4b98b-96d7-4872-8d9d-0738a98c86b6",
   "metadata": {},
   "outputs": [
    {
     "data": {
      "text/plain": [
       "True"
      ]
     },
     "execution_count": 170,
     "metadata": {},
     "output_type": "execute_result"
    }
   ],
   "source": [
    "1 > 2 or 3 < 4  # Wenn min. eine Seite True ist"
   ]
  },
  {
   "cell_type": "code",
   "execution_count": 172,
   "id": "eab282d4-0f0a-4088-b087-066684499bb4",
   "metadata": {},
   "outputs": [
    {
     "data": {
      "text/plain": [
       "True"
      ]
     },
     "execution_count": 172,
     "metadata": {},
     "output_type": "execute_result"
    }
   ],
   "source": [
    "1 < 2 + 3 and not 4 * 2 <= 3"
   ]
  },
  {
   "cell_type": "code",
   "execution_count": 173,
   "id": "fc409cc9-5e1b-4c74-ad72-b158f04fd6c3",
   "metadata": {},
   "outputs": [
    {
     "data": {
      "text/plain": [
       "True"
      ]
     },
     "execution_count": 173,
     "metadata": {},
     "output_type": "execute_result"
    }
   ],
   "source": [
    "(1 < (2 + 3)) and (not ((4 * 2) <= 3))"
   ]
  }
 ],
 "metadata": {
  "kernelspec": {
   "display_name": "Python 3.12",
   "language": "python",
   "name": "python3.12"
  },
  "language_info": {
   "codemirror_mode": {
    "name": "ipython",
    "version": 3
   },
   "file_extension": ".py",
   "mimetype": "text/x-python",
   "name": "python",
   "nbconvert_exporter": "python",
   "pygments_lexer": "ipython3",
   "version": "3.12.0"
  }
 },
 "nbformat": 4,
 "nbformat_minor": 5
}
