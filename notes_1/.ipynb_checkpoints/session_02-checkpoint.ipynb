{
 "cells": [
  {
   "cell_type": "markdown",
   "id": "c30501c0-3622-4825-b73f-d758597f4a1c",
   "metadata": {},
   "source": [
    "# Arbeitsspeicher"
   ]
  },
  {
   "cell_type": "markdown",
   "id": "37c7d5dc-9708-4341-b6c9-146d5eb4e8f7",
   "metadata": {},
   "source": [
    "Fakt: \"In Python ist *alles* ein Objekt\"\n",
    "\n",
    "**Objekt**: \"Eine Box mit 1er und 0en\""
   ]
  },
  {
   "cell_type": "code",
   "execution_count": 1,
   "id": "3a6491dd-2731-41a2-948a-6f9fc8b61b89",
   "metadata": {},
   "outputs": [
    {
     "data": {
      "text/plain": [
       "42"
      ]
     },
     "execution_count": 1,
     "metadata": {},
     "output_type": "execute_result"
    }
   ],
   "source": [
    "42"
   ]
  },
  {
   "cell_type": "code",
   "execution_count": 2,
   "id": "e05e1354-f348-42f9-b5a5-c7461b349118",
   "metadata": {},
   "outputs": [],
   "source": [
    "a = 42"
   ]
  },
  {
   "cell_type": "code",
   "execution_count": 3,
   "id": "7d04670a-f5b7-494b-808a-98b2d8ac54f3",
   "metadata": {},
   "outputs": [],
   "source": [
    "b = 42.0"
   ]
  },
  {
   "cell_type": "code",
   "execution_count": 4,
   "id": "51b88810-2cf9-41ad-bf5b-4209c5349fa3",
   "metadata": {},
   "outputs": [],
   "source": [
    "c = \"Zwei-und-vierzig\""
   ]
  },
  {
   "cell_type": "markdown",
   "id": "f66bc60d-e331-4a9e-bc43-7d1e33d6d0a2",
   "metadata": {},
   "source": [
    "Jedes Objekt hat immer folgende 3 Eigenschaften!"
   ]
  },
  {
   "cell_type": "markdown",
   "id": "3d8e27e8-c3c3-4e97-b637-2189160de932",
   "metadata": {},
   "source": [
    "## 1) Identität / \"Speicheradresse\""
   ]
  },
  {
   "cell_type": "code",
   "execution_count": 5,
   "id": "5c077314-cb03-4169-ba98-98e3b2c0450e",
   "metadata": {},
   "outputs": [
    {
     "data": {
      "text/plain": [
       "139895955213544"
      ]
     },
     "execution_count": 5,
     "metadata": {},
     "output_type": "execute_result"
    }
   ],
   "source": [
    "id(a)"
   ]
  },
  {
   "cell_type": "code",
   "execution_count": 6,
   "id": "b1f65bcb-9f07-4a15-a461-da80bfc51a43",
   "metadata": {},
   "outputs": [
    {
     "data": {
      "text/plain": [
       "139895892412688"
      ]
     },
     "execution_count": 6,
     "metadata": {},
     "output_type": "execute_result"
    }
   ],
   "source": [
    "id(b)"
   ]
  },
  {
   "cell_type": "code",
   "execution_count": 7,
   "id": "f302bda9-0702-403a-8885-18c4550cc05c",
   "metadata": {},
   "outputs": [
    {
     "data": {
      "text/plain": [
       "139895815162800"
      ]
     },
     "execution_count": 7,
     "metadata": {},
     "output_type": "execute_result"
    }
   ],
   "source": [
    "id(c)"
   ]
  },
  {
   "cell_type": "code",
   "execution_count": 8,
   "id": "657bf12f-bc5e-4221-a867-d06c96091c97",
   "metadata": {},
   "outputs": [],
   "source": [
    "aa = a"
   ]
  },
  {
   "cell_type": "code",
   "execution_count": 10,
   "id": "d58473bb-1dc6-4814-b6c3-837263c67180",
   "metadata": {},
   "outputs": [
    {
     "data": {
      "text/plain": [
       "139895955213544"
      ]
     },
     "execution_count": 10,
     "metadata": {},
     "output_type": "execute_result"
    }
   ],
   "source": [
    "id(aa)  # wie `a` oben"
   ]
  },
  {
   "cell_type": "code",
   "execution_count": 11,
   "id": "5f62a281-a91a-4276-9288-32833f3d7f5f",
   "metadata": {},
   "outputs": [
    {
     "data": {
      "text/plain": [
       "True"
      ]
     },
     "execution_count": 11,
     "metadata": {},
     "output_type": "execute_result"
    }
   ],
   "source": [
    "aa == a  # haben die linke und rechte Seite denselben Wert?"
   ]
  },
  {
   "cell_type": "code",
   "execution_count": 12,
   "id": "6ed28a23-7498-42f9-8b3f-8dc36487c803",
   "metadata": {},
   "outputs": [
    {
     "data": {
      "text/plain": [
       "True"
      ]
     },
     "execution_count": 12,
     "metadata": {},
     "output_type": "execute_result"
    }
   ],
   "source": [
    "a == b  # haben die linke und rechte Seite denselben Wert?"
   ]
  },
  {
   "cell_type": "code",
   "execution_count": 13,
   "id": "d71767f6-54e9-4091-9116-772cabfe55a8",
   "metadata": {},
   "outputs": [
    {
     "data": {
      "text/plain": [
       "True"
      ]
     },
     "execution_count": 13,
     "metadata": {},
     "output_type": "execute_result"
    }
   ],
   "source": [
    "aa is a  # sind `aa` und `a` dasselbe Objekt?"
   ]
  },
  {
   "cell_type": "code",
   "execution_count": 15,
   "id": "7d205787-1078-4a7d-a9fd-859a5cb62fc7",
   "metadata": {},
   "outputs": [
    {
     "data": {
      "text/plain": [
       "False"
      ]
     },
     "execution_count": 15,
     "metadata": {},
     "output_type": "execute_result"
    }
   ],
   "source": [
    "a is b  # sind `a` und `b` dasselbe Objekt?"
   ]
  },
  {
   "cell_type": "markdown",
   "id": "ca17116c-7615-4826-a706-128023d78ed2",
   "metadata": {},
   "source": [
    "## 2) (Daten-)Typ / \"Verhalten\""
   ]
  },
  {
   "cell_type": "code",
   "execution_count": 16,
   "id": "30fb0e15-bc84-4aa2-9100-2122669defc9",
   "metadata": {},
   "outputs": [
    {
     "data": {
      "text/plain": [
       "int"
      ]
     },
     "execution_count": 16,
     "metadata": {},
     "output_type": "execute_result"
    }
   ],
   "source": [
    "type(a)"
   ]
  },
  {
   "cell_type": "code",
   "execution_count": 17,
   "id": "06e650c1-a2d3-4a6b-b59a-7c747200237d",
   "metadata": {},
   "outputs": [
    {
     "data": {
      "text/plain": [
       "float"
      ]
     },
     "execution_count": 17,
     "metadata": {},
     "output_type": "execute_result"
    }
   ],
   "source": [
    "type(b)"
   ]
  },
  {
   "cell_type": "code",
   "execution_count": 18,
   "id": "27000565-99c7-4a44-b93a-2e653f05cef9",
   "metadata": {},
   "outputs": [
    {
     "data": {
      "text/plain": [
       "str"
      ]
     },
     "execution_count": 18,
     "metadata": {},
     "output_type": "execute_result"
    }
   ],
   "source": [
    "type(c)"
   ]
  },
  {
   "cell_type": "markdown",
   "id": "78d798d4-dc0b-4f88-9864-692c38744751",
   "metadata": {},
   "source": [
    "Verschiedenes Verhalten"
   ]
  },
  {
   "cell_type": "markdown",
   "id": "fb04b852-6c23-4002-89f4-6e9075a23ce3",
   "metadata": {},
   "source": [
    "1) Operatoren"
   ]
  },
  {
   "cell_type": "code",
   "execution_count": 19,
   "id": "db7840b5-e3c8-47a4-8be2-fa4ca8ed0b9e",
   "metadata": {},
   "outputs": [
    {
     "data": {
      "text/plain": [
       "3"
      ]
     },
     "execution_count": 19,
     "metadata": {},
     "output_type": "execute_result"
    }
   ],
   "source": [
    "1 + 2"
   ]
  },
  {
   "cell_type": "code",
   "execution_count": 20,
   "id": "80a72b18-e5f4-4d53-81df-0adbcba80123",
   "metadata": {},
   "outputs": [
    {
     "data": {
      "text/plain": [
       "'Hi You'"
      ]
     },
     "execution_count": 20,
     "metadata": {},
     "output_type": "execute_result"
    }
   ],
   "source": [
    "\"Hi\" + \" \" + \"You\""
   ]
  },
  {
   "cell_type": "code",
   "execution_count": 22,
   "id": "6ed4a17e-cf5a-4f6b-bb96-8a2e79c008dc",
   "metadata": {},
   "outputs": [
    {
     "data": {
      "text/plain": [
       "84.0"
      ]
     },
     "execution_count": 22,
     "metadata": {},
     "output_type": "execute_result"
    }
   ],
   "source": [
    "a + b"
   ]
  },
  {
   "cell_type": "code",
   "execution_count": 23,
   "id": "63011175-45a4-4735-bc2c-410f0008cb8d",
   "metadata": {},
   "outputs": [
    {
     "ename": "TypeError",
     "evalue": "unsupported operand type(s) for +: 'int' and 'str'",
     "output_type": "error",
     "traceback": [
      "\u001b[0;31m---------------------------------------------------------------------------\u001b[0m",
      "\u001b[0;31mTypeError\u001b[0m                                 Traceback (most recent call last)",
      "Cell \u001b[0;32mIn[23], line 1\u001b[0m\n\u001b[0;32m----> 1\u001b[0m \u001b[43ma\u001b[49m\u001b[43m \u001b[49m\u001b[38;5;241;43m+\u001b[39;49m\u001b[43m \u001b[49m\u001b[43mc\u001b[49m\n",
      "\u001b[0;31mTypeError\u001b[0m: unsupported operand type(s) for +: 'int' and 'str'"
     ]
    }
   ],
   "source": [
    "a + c"
   ]
  },
  {
   "cell_type": "code",
   "execution_count": 25,
   "id": "5c2d0f53-a69e-4810-9206-640d7606136c",
   "metadata": {},
   "outputs": [
    {
     "data": {
      "text/plain": [
       "'Zwei-und-vierzigZwei-und-vierzig'"
      ]
     },
     "execution_count": 25,
     "metadata": {},
     "output_type": "execute_result"
    }
   ],
   "source": [
    "2 * c"
   ]
  },
  {
   "cell_type": "markdown",
   "id": "e875c707-ed38-4ba9-a63a-aafc90312738",
   "metadata": {},
   "source": [
    "2. Jeder Typ hat seine eigenen Methoden\n",
    "\n",
    "**Methode**: \"eine Funktion, die zu einem Objekt gehört\""
   ]
  },
  {
   "cell_type": "code",
   "execution_count": 26,
   "id": "114253b3-0d59-4a27-860e-05800659587a",
   "metadata": {},
   "outputs": [
    {
     "data": {
      "text/plain": [
       "42.0"
      ]
     },
     "execution_count": 26,
     "metadata": {},
     "output_type": "execute_result"
    }
   ],
   "source": [
    "b"
   ]
  },
  {
   "cell_type": "code",
   "execution_count": 27,
   "id": "9c3be9ee-2526-4d3c-aa1c-24abcd961de9",
   "metadata": {},
   "outputs": [
    {
     "data": {
      "text/plain": [
       "42.87"
      ]
     },
     "execution_count": 27,
     "metadata": {},
     "output_type": "execute_result"
    }
   ],
   "source": [
    "bb = 42.87\n",
    "\n",
    "bb"
   ]
  },
  {
   "cell_type": "code",
   "execution_count": 28,
   "id": "44277252-c2e0-4620-930f-6af0a2e6079f",
   "metadata": {},
   "outputs": [
    {
     "data": {
      "text/plain": [
       "True"
      ]
     },
     "execution_count": 28,
     "metadata": {},
     "output_type": "execute_result"
    }
   ],
   "source": [
    "b.is_integer()  # Weichen die Dezimalstellen von .0 ab? Oder nicht?"
   ]
  },
  {
   "cell_type": "code",
   "execution_count": 29,
   "id": "acb893ae-c824-455f-a3b8-4b6f4053992a",
   "metadata": {},
   "outputs": [
    {
     "data": {
      "text/plain": [
       "False"
      ]
     },
     "execution_count": 29,
     "metadata": {},
     "output_type": "execute_result"
    }
   ],
   "source": [
    "bb.is_integer()"
   ]
  },
  {
   "cell_type": "code",
   "execution_count": 32,
   "id": "3a898548-a935-4d04-9be8-2e60c0ac99e3",
   "metadata": {},
   "outputs": [
    {
     "data": {
      "text/plain": [
       "True"
      ]
     },
     "execution_count": 32,
     "metadata": {},
     "output_type": "execute_result"
    }
   ],
   "source": [
    "a.is_integer()  # Fehlermeldung vor Python 3.12"
   ]
  },
  {
   "cell_type": "code",
   "execution_count": 39,
   "id": "21d44304-8f27-489b-95de-58bddbd2c324",
   "metadata": {},
   "outputs": [
    {
     "data": {
      "text/plain": [
       "'zwei-und-vierzig'"
      ]
     },
     "execution_count": 39,
     "metadata": {},
     "output_type": "execute_result"
    }
   ],
   "source": [
    "c.lower()"
   ]
  },
  {
   "cell_type": "code",
   "execution_count": 40,
   "id": "011814b1-a365-45c1-9474-947caf036a6c",
   "metadata": {},
   "outputs": [
    {
     "data": {
      "text/plain": [
       "'ZWEI-UND-VIERZIG'"
      ]
     },
     "execution_count": 40,
     "metadata": {},
     "output_type": "execute_result"
    }
   ],
   "source": [
    "c.upper()"
   ]
  },
  {
   "cell_type": "code",
   "execution_count": 41,
   "id": "2b9b60a8-b05d-4b03-9a46-39a51437cc7a",
   "metadata": {},
   "outputs": [
    {
     "data": {
      "text/plain": [
       "'Zwei-Und-Vierzig'"
      ]
     },
     "execution_count": 41,
     "metadata": {},
     "output_type": "execute_result"
    }
   ],
   "source": [
    "c.title()"
   ]
  },
  {
   "cell_type": "code",
   "execution_count": 42,
   "id": "8d2be8f7-560d-4efd-a955-7f5cdea11f36",
   "metadata": {},
   "outputs": [
    {
     "data": {
      "text/plain": [
       "'Zwei und vierzig'"
      ]
     },
     "execution_count": 42,
     "metadata": {},
     "output_type": "execute_result"
    }
   ],
   "source": [
    "c.replace(\"-\", \" \")"
   ]
  },
  {
   "cell_type": "code",
   "execution_count": 43,
   "id": "157374aa-1e89-4046-aa78-f67c5a3020d2",
   "metadata": {},
   "outputs": [
    {
     "ename": "AttributeError",
     "evalue": "'int' object has no attribute 'upper'",
     "output_type": "error",
     "traceback": [
      "\u001b[0;31m---------------------------------------------------------------------------\u001b[0m",
      "\u001b[0;31mAttributeError\u001b[0m                            Traceback (most recent call last)",
      "Cell \u001b[0;32mIn[43], line 1\u001b[0m\n\u001b[0;32m----> 1\u001b[0m \u001b[43ma\u001b[49m\u001b[38;5;241;43m.\u001b[39;49m\u001b[43mupper\u001b[49m()\n",
      "\u001b[0;31mAttributeError\u001b[0m: 'int' object has no attribute 'upper'"
     ]
    }
   ],
   "source": [
    "a.upper()"
   ]
  },
  {
   "cell_type": "code",
   "execution_count": 44,
   "id": "de68be65-831f-4158-8034-22e1bdfe8faa",
   "metadata": {},
   "outputs": [
    {
     "ename": "AttributeError",
     "evalue": "'float' object has no attribute 'lower'",
     "output_type": "error",
     "traceback": [
      "\u001b[0;31m---------------------------------------------------------------------------\u001b[0m",
      "\u001b[0;31mAttributeError\u001b[0m                            Traceback (most recent call last)",
      "Cell \u001b[0;32mIn[44], line 1\u001b[0m\n\u001b[0;32m----> 1\u001b[0m \u001b[43mb\u001b[49m\u001b[38;5;241;43m.\u001b[39;49m\u001b[43mlower\u001b[49m()\n",
      "\u001b[0;31mAttributeError\u001b[0m: 'float' object has no attribute 'lower'"
     ]
    }
   ],
   "source": [
    "b.lower()"
   ]
  },
  {
   "cell_type": "markdown",
   "id": "c4a635ed-a6a6-44b0-b819-dbe60e17f780",
   "metadata": {},
   "source": [
    "## 3) (Semantischer) Wert / Value / \"Bedeutung\""
   ]
  },
  {
   "cell_type": "code",
   "execution_count": 45,
   "id": "3b61317a-0977-472d-9cf3-b3624c8d4fe1",
   "metadata": {},
   "outputs": [
    {
     "data": {
      "text/plain": [
       "42"
      ]
     },
     "execution_count": 45,
     "metadata": {},
     "output_type": "execute_result"
    }
   ],
   "source": [
    "a"
   ]
  },
  {
   "cell_type": "code",
   "execution_count": 46,
   "id": "fb863ccd-e09b-4ea4-aacb-ef9d9987066c",
   "metadata": {},
   "outputs": [
    {
     "data": {
      "text/plain": [
       "42.0"
      ]
     },
     "execution_count": 46,
     "metadata": {},
     "output_type": "execute_result"
    }
   ],
   "source": [
    "b"
   ]
  },
  {
   "cell_type": "code",
   "execution_count": 47,
   "id": "40b60396-4f5f-4d4a-942f-f4837603c354",
   "metadata": {},
   "outputs": [
    {
     "data": {
      "text/plain": [
       "'Zwei-und-vierzig'"
      ]
     },
     "execution_count": 47,
     "metadata": {},
     "output_type": "execute_result"
    }
   ],
   "source": [
    "c"
   ]
  },
  {
   "cell_type": "markdown",
   "id": "e3f0631c-d8b8-4852-b112-eb64cc45cd47",
   "metadata": {},
   "source": [
    "## (Im)mutability / \"Veränderbarkeit\""
   ]
  },
  {
   "cell_type": "markdown",
   "id": "13ce6478-4d08-46a6-bc98-03e0c08600a3",
   "metadata": {},
   "source": [
    "\"Who am I? And how many?\""
   ]
  },
  {
   "cell_type": "code",
   "execution_count": 64,
   "id": "c1069fd8-3d73-497b-b313-c18f2016adc3",
   "metadata": {},
   "outputs": [],
   "source": [
    "x = 42"
   ]
  },
  {
   "cell_type": "code",
   "execution_count": 65,
   "id": "668b148d-60a2-4c02-9147-508aaa5efba7",
   "metadata": {},
   "outputs": [],
   "source": [
    "y = x"
   ]
  },
  {
   "cell_type": "code",
   "execution_count": 66,
   "id": "668ff0a6-4752-4216-9331-592b38741b96",
   "metadata": {},
   "outputs": [
    {
     "data": {
      "text/plain": [
       "42"
      ]
     },
     "execution_count": 66,
     "metadata": {},
     "output_type": "execute_result"
    }
   ],
   "source": [
    "x"
   ]
  },
  {
   "cell_type": "code",
   "execution_count": 67,
   "id": "0cd58377-09e4-4b5e-8a5c-5b8ccfa5d230",
   "metadata": {},
   "outputs": [
    {
     "data": {
      "text/plain": [
       "42"
      ]
     },
     "execution_count": 67,
     "metadata": {},
     "output_type": "execute_result"
    }
   ],
   "source": [
    "y"
   ]
  },
  {
   "cell_type": "code",
   "execution_count": 68,
   "id": "a776c135-9acf-44c3-b581-69249e7822a1",
   "metadata": {},
   "outputs": [],
   "source": [
    "x = 87"
   ]
  },
  {
   "cell_type": "code",
   "execution_count": 53,
   "id": "607de48b-03dc-4223-bcde-6631763d102d",
   "metadata": {},
   "outputs": [
    {
     "data": {
      "text/plain": [
       "87"
      ]
     },
     "execution_count": 53,
     "metadata": {},
     "output_type": "execute_result"
    }
   ],
   "source": [
    "x"
   ]
  },
  {
   "cell_type": "code",
   "execution_count": 54,
   "id": "c8d24235-c678-4ba8-bd7a-36260df9eeca",
   "metadata": {},
   "outputs": [
    {
     "data": {
      "text/plain": [
       "42"
      ]
     },
     "execution_count": 54,
     "metadata": {},
     "output_type": "execute_result"
    }
   ],
   "source": [
    "y"
   ]
  },
  {
   "cell_type": "code",
   "execution_count": 69,
   "id": "819c71cb-abeb-4d1a-9a11-a14d25f94266",
   "metadata": {},
   "outputs": [],
   "source": [
    "x = [1, 2, 3]"
   ]
  },
  {
   "cell_type": "code",
   "execution_count": 56,
   "id": "3d7ee99f-cfff-4ce3-ab39-215d4c4c7312",
   "metadata": {},
   "outputs": [
    {
     "data": {
      "text/plain": [
       "list"
      ]
     },
     "execution_count": 56,
     "metadata": {},
     "output_type": "execute_result"
    }
   ],
   "source": [
    "type(x)"
   ]
  },
  {
   "cell_type": "code",
   "execution_count": 70,
   "id": "bd158663-5fd3-497d-b6ba-1b4af2cdbb49",
   "metadata": {},
   "outputs": [],
   "source": [
    "y = x"
   ]
  },
  {
   "cell_type": "code",
   "execution_count": 58,
   "id": "d247dd02-2f3e-47be-9e21-b85baeefa420",
   "metadata": {},
   "outputs": [
    {
     "data": {
      "text/plain": [
       "[1, 2, 3]"
      ]
     },
     "execution_count": 58,
     "metadata": {},
     "output_type": "execute_result"
    }
   ],
   "source": [
    "x"
   ]
  },
  {
   "cell_type": "code",
   "execution_count": 59,
   "id": "0a710de5-0d07-4999-87d9-d82c4c866c3e",
   "metadata": {},
   "outputs": [
    {
     "data": {
      "text/plain": [
       "[1, 2, 3]"
      ]
     },
     "execution_count": 59,
     "metadata": {},
     "output_type": "execute_result"
    }
   ],
   "source": [
    "y"
   ]
  },
  {
   "cell_type": "code",
   "execution_count": 71,
   "id": "fe649b00-aa56-45d6-b115-55ea94ba6eb6",
   "metadata": {},
   "outputs": [],
   "source": [
    "x[0] = 99"
   ]
  },
  {
   "cell_type": "code",
   "execution_count": 72,
   "id": "68b02b7f-15c4-4698-ae00-0c9d9b9f96b6",
   "metadata": {},
   "outputs": [
    {
     "data": {
      "text/plain": [
       "[99, 2, 3]"
      ]
     },
     "execution_count": 72,
     "metadata": {},
     "output_type": "execute_result"
    }
   ],
   "source": [
    "x"
   ]
  },
  {
   "cell_type": "code",
   "execution_count": 73,
   "id": "35190604-dbc6-497d-85e7-970af7cefff4",
   "metadata": {},
   "outputs": [
    {
     "data": {
      "text/plain": [
       "[99, 2, 3]"
      ]
     },
     "execution_count": 73,
     "metadata": {},
     "output_type": "execute_result"
    }
   ],
   "source": [
    "y"
   ]
  }
 ],
 "metadata": {
  "kernelspec": {
   "display_name": "Python 3.12",
   "language": "python",
   "name": "python3.12"
  },
  "language_info": {
   "codemirror_mode": {
    "name": "ipython",
    "version": 3
   },
   "file_extension": ".py",
   "mimetype": "text/x-python",
   "name": "python",
   "nbconvert_exporter": "python",
   "pygments_lexer": "ipython3",
   "version": "3.12.0"
  }
 },
 "nbformat": 4,
 "nbformat_minor": 5
}
