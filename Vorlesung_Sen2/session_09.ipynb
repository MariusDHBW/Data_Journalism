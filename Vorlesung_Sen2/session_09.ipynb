{
 "cells": [
  {
   "cell_type": "code",
   "execution_count": 1,
   "id": "56863316-2adb-4ea0-86ed-335fc493c163",
   "metadata": {},
   "outputs": [],
   "source": [
    "from vectors import Vector"
   ]
  },
  {
   "cell_type": "markdown",
   "id": "c3c78794-6052-4f99-92ee-f0b0a69e133e",
   "metadata": {},
   "source": [
    "Der Datentyp `type` zeigt an, dass ein Objekt eine Klasse/Datentyp ist."
   ]
  },
  {
   "cell_type": "code",
   "execution_count": 2,
   "id": "6342a7ed-ab72-4590-a10b-157375a19576",
   "metadata": {},
   "outputs": [
    {
     "data": {
      "text/plain": [
       "type"
      ]
     },
     "execution_count": 2,
     "metadata": {},
     "output_type": "execute_result"
    }
   ],
   "source": [
    "type(Vector)"
   ]
  },
  {
   "cell_type": "code",
   "execution_count": 3,
   "id": "4b1f3644-a02f-46cb-a980-0300d98c48be",
   "metadata": {},
   "outputs": [
    {
     "data": {
      "text/plain": [
       "type"
      ]
     },
     "execution_count": 3,
     "metadata": {},
     "output_type": "execute_result"
    }
   ],
   "source": [
    "type(int)"
   ]
  },
  {
   "cell_type": "markdown",
   "id": "232afe4c-912a-4a05-957c-ffd1ea4fb386",
   "metadata": {},
   "source": [
    "Aus einer *abstrakten* Klasse kann man mit **Instanziierung** *neue*, *konkrete* Objekte von diesem Datentyp erstellen."
   ]
  },
  {
   "cell_type": "markdown",
   "id": "2c231dde-8618-4cc2-a461-16fc3de41e1f",
   "metadata": {},
   "source": [
    "`self`, als erster Input einer **Methode** (= Funktion, die in ener `class`e definiert ist), bezeichnet einen *konkreten* Vektor, aber wir wissen zum Zeitpunkt der Methoden-Definition noch nicht, welcher Vektor genau"
   ]
  },
  {
   "cell_type": "code",
   "execution_count": 4,
   "id": "0bbb953c-efcc-43e7-aa26-f4a92df8b073",
   "metadata": {},
   "outputs": [
    {
     "data": {
      "text/plain": [
       "Vector((1.0, 2.0, 3.0))"
      ]
     },
     "execution_count": 4,
     "metadata": {},
     "output_type": "execute_result"
    }
   ],
   "source": [
    "x = Vector([1, 2, 3])  # -> <new Vector> Objekt wird erstellt -> Vector.__init__(<new Vector>, [1, 2, 3])\n",
    "\n",
    "x  # -> x.__repr__()  -> Vector.__repr__(x)"
   ]
  },
  {
   "cell_type": "code",
   "execution_count": 5,
   "id": "d4df0ecb-a193-40c5-98fc-c682f6110172",
   "metadata": {},
   "outputs": [
    {
     "data": {
      "text/plain": [
       "vectors.Vector"
      ]
     },
     "execution_count": 5,
     "metadata": {},
     "output_type": "execute_result"
    }
   ],
   "source": [
    "type(x)"
   ]
  },
  {
   "cell_type": "code",
   "execution_count": 6,
   "id": "60dd713e-3c13-4617-966f-783561d47d58",
   "metadata": {},
   "outputs": [
    {
     "data": {
      "text/plain": [
       "(1.0, 2.0, 3.0)"
      ]
     },
     "execution_count": 6,
     "metadata": {},
     "output_type": "execute_result"
    }
   ],
   "source": [
    "x._entries  # per Konvention verboten => \"_\""
   ]
  },
  {
   "cell_type": "code",
   "execution_count": 7,
   "id": "c501172a-d441-46c0-9e78-0adf109e452b",
   "metadata": {},
   "outputs": [
    {
     "data": {
      "text/plain": [
       "Vector((4.0, 5.0, 6.0))"
      ]
     },
     "execution_count": 7,
     "metadata": {},
     "output_type": "execute_result"
    }
   ],
   "source": [
    "y = Vector((4, 5, 6))\n",
    "\n",
    "y"
   ]
  },
  {
   "cell_type": "code",
   "execution_count": 8,
   "id": "d64ef178-581f-42b0-9f2e-739300b22eb6",
   "metadata": {},
   "outputs": [
    {
     "data": {
      "text/plain": [
       "(4.0, 5.0, 6.0)"
      ]
     },
     "execution_count": 8,
     "metadata": {},
     "output_type": "execute_result"
    }
   ],
   "source": [
    "y._entries  # per Konvention verboten => \"_\""
   ]
  },
  {
   "cell_type": "markdown",
   "id": "1f4a6eb9-db33-442f-b41b-fb4f70e3fd3b",
   "metadata": {},
   "source": [
    "In einer `.__init__()` Methode werden typischerweiße die Inputs **validiert**"
   ]
  },
  {
   "cell_type": "code",
   "execution_count": 9,
   "id": "127ca9f6-c416-4402-a586-dc55115df310",
   "metadata": {},
   "outputs": [],
   "source": [
    "# Vector([])"
   ]
  },
  {
   "cell_type": "code",
   "execution_count": 10,
   "id": "7afcec20-f08d-43e3-a951-ce37ed12fbcb",
   "metadata": {},
   "outputs": [],
   "source": [
    "# Vector([1, 2, \"X\"])"
   ]
  },
  {
   "cell_type": "markdown",
   "id": "f67b294a-7f26-4097-a2cb-0d0365b33a97",
   "metadata": {},
   "source": [
    "## \"Das Ganze ist mehr als die Summe der Einzelteile\""
   ]
  },
  {
   "cell_type": "code",
   "execution_count": 11,
   "id": "446543a5-9c05-4264-997f-a2385dd6050c",
   "metadata": {},
   "outputs": [
    {
     "data": {
      "text/plain": [
       "Vector((1.0, 2.0, 3.0))"
      ]
     },
     "execution_count": 11,
     "metadata": {},
     "output_type": "execute_result"
    }
   ],
   "source": [
    "x"
   ]
  },
  {
   "cell_type": "code",
   "execution_count": 12,
   "id": "feed87f5-c43c-447a-9243-f45b0a509e9c",
   "metadata": {},
   "outputs": [
    {
     "data": {
      "text/plain": [
       "3"
      ]
     },
     "execution_count": 12,
     "metadata": {},
     "output_type": "execute_result"
    }
   ],
   "source": [
    "len(x)  # -> x.__len__()  -> Vector.__len__(x)"
   ]
  },
  {
   "cell_type": "markdown",
   "id": "8189bef1-0cbd-4e08-8934-d594d639932a",
   "metadata": {},
   "source": [
    "**Indexing**"
   ]
  },
  {
   "cell_type": "code",
   "execution_count": 13,
   "id": "219c53c9-7525-4ea6-9414-4ac49e9caab4",
   "metadata": {},
   "outputs": [
    {
     "data": {
      "text/plain": [
       "1.0"
      ]
     },
     "execution_count": 13,
     "metadata": {},
     "output_type": "execute_result"
    }
   ],
   "source": [
    "x[0]  # -> x.__getitem__(0)  -> Vector.__getitem__(x, 0)"
   ]
  },
  {
   "cell_type": "code",
   "execution_count": 14,
   "id": "58106375-8d7f-4ae5-8037-6ff2d203179a",
   "metadata": {},
   "outputs": [
    {
     "data": {
      "text/plain": [
       "3.0"
      ]
     },
     "execution_count": 14,
     "metadata": {},
     "output_type": "execute_result"
    }
   ],
   "source": [
    "x[-1]"
   ]
  },
  {
   "cell_type": "code",
   "execution_count": 15,
   "id": "40512b26-6114-43b7-866c-99770a16d9e3",
   "metadata": {},
   "outputs": [],
   "source": [
    "# x[0] = 99  # geht nicht, weil `.__setitem__()` nicht definiert ist"
   ]
  },
  {
   "cell_type": "markdown",
   "id": "6169f31e-e5d6-4164-bcf9-14ec80c0ee78",
   "metadata": {},
   "source": [
    "## Sequenz Emulation"
   ]
  },
  {
   "cell_type": "markdown",
   "id": "1a11f6bf-91a7-46c6-b525-1eb06af1de97",
   "metadata": {},
   "source": [
    "\"sich wie eine Sequenz verhalten\""
   ]
  },
  {
   "cell_type": "code",
   "execution_count": 16,
   "id": "6f4280ac-5b0a-478a-9b98-acb96944b86a",
   "metadata": {},
   "outputs": [
    {
     "data": {
      "text/plain": [
       "Vector((1.0, 2.0, 3.0))"
      ]
     },
     "execution_count": 16,
     "metadata": {},
     "output_type": "execute_result"
    }
   ],
   "source": [
    "x"
   ]
  },
  {
   "cell_type": "code",
   "execution_count": 17,
   "id": "49b8761a-75aa-46c4-b024-a7afe3fee7e0",
   "metadata": {},
   "outputs": [
    {
     "data": {
      "text/plain": [
       "False"
      ]
     },
     "execution_count": 17,
     "metadata": {},
     "output_type": "execute_result"
    }
   ],
   "source": [
    "0 in x  # im Hintergrund: \"for-loop\" -> lineare Suche"
   ]
  },
  {
   "cell_type": "code",
   "execution_count": 18,
   "id": "f5cdd18a-e9b3-4433-9c48-deff1db432c6",
   "metadata": {},
   "outputs": [
    {
     "data": {
      "text/plain": [
       "True"
      ]
     },
     "execution_count": 18,
     "metadata": {},
     "output_type": "execute_result"
    }
   ],
   "source": [
    "2 in x  # auch: -> x.__contains__(2) ->  Vector.__contains__(x, 2)"
   ]
  },
  {
   "cell_type": "code",
   "execution_count": 19,
   "id": "4fa4bed7-6339-4b47-9f77-e3660e1e5d63",
   "metadata": {},
   "outputs": [
    {
     "data": {
      "text/plain": [
       "3"
      ]
     },
     "execution_count": 19,
     "metadata": {},
     "output_type": "execute_result"
    }
   ],
   "source": [
    "len(x)  # -> x.__len__()  -> Vector.__len__(x)"
   ]
  },
  {
   "cell_type": "code",
   "execution_count": 20,
   "id": "654ab2b0-1425-4abc-ad42-08ae3fa86976",
   "metadata": {},
   "outputs": [
    {
     "data": {
      "text/plain": [
       "<tuple_iterator at 0x7691f8731f60>"
      ]
     },
     "execution_count": 20,
     "metadata": {},
     "output_type": "execute_result"
    }
   ],
   "source": [
    "iter(x)  # -> x.__iter__()  -> Vector.__iter__(x)"
   ]
  },
  {
   "cell_type": "code",
   "execution_count": 21,
   "id": "32cbd900-44e6-49e5-b3b0-da48142e9758",
   "metadata": {},
   "outputs": [
    {
     "name": "stdout",
     "output_type": "stream",
     "text": [
      "1.0\n",
      "2.0\n",
      "3.0\n"
     ]
    }
   ],
   "source": [
    "for entry in x:  # -> \"while-Loop\" -> iter(x)  -> x.__iter__()  -> Vector.__iter__(x)\n",
    "    print(entry)"
   ]
  },
  {
   "cell_type": "code",
   "execution_count": 22,
   "id": "2969673c-c51b-4ca6-a911-9b0898fe0c24",
   "metadata": {},
   "outputs": [
    {
     "data": {
      "text/plain": [
       "<reversed at 0x7691f87013f0>"
      ]
     },
     "execution_count": 22,
     "metadata": {},
     "output_type": "execute_result"
    }
   ],
   "source": [
    "reversed(x)"
   ]
  },
  {
   "cell_type": "code",
   "execution_count": 23,
   "id": "e7f041ce-ba21-49e0-98e2-dfc600efe3f5",
   "metadata": {},
   "outputs": [
    {
     "name": "stdout",
     "output_type": "stream",
     "text": [
      "3.0\n",
      "2.0\n",
      "1.0\n"
     ]
    }
   ],
   "source": [
    "for entry in reversed(x):\n",
    "    print(entry)"
   ]
  },
  {
   "cell_type": "markdown",
   "id": "68071578-295f-46b6-a1ba-434543988452",
   "metadata": {},
   "source": [
    "Warum ist es sinnvoll, dass sich unsere `Vector`en wie eine (vollwertige) Sequenz verhalten?"
   ]
  },
  {
   "cell_type": "code",
   "execution_count": 24,
   "id": "81d1702c-c376-4718-9728-eb43a0e1b811",
   "metadata": {},
   "outputs": [
    {
     "data": {
      "text/plain": [
       "3"
      ]
     },
     "execution_count": 24,
     "metadata": {},
     "output_type": "execute_result"
    }
   ],
   "source": [
    "len([1, 2, 3])"
   ]
  },
  {
   "cell_type": "code",
   "execution_count": 25,
   "id": "7016b829-09fa-4a07-a1be-898b585cdee5",
   "metadata": {},
   "outputs": [
    {
     "data": {
      "text/plain": [
       "3"
      ]
     },
     "execution_count": 25,
     "metadata": {},
     "output_type": "execute_result"
    }
   ],
   "source": [
    "len((1, 2, 3))"
   ]
  },
  {
   "cell_type": "code",
   "execution_count": 26,
   "id": "c8fff53c-5e74-4e06-8713-89c603a97940",
   "metadata": {},
   "outputs": [
    {
     "data": {
      "text/plain": [
       "3"
      ]
     },
     "execution_count": 26,
     "metadata": {},
     "output_type": "execute_result"
    }
   ],
   "source": [
    "len({0: 1, 2: 3, 4: 5})"
   ]
  },
  {
   "cell_type": "code",
   "execution_count": 27,
   "id": "ca56aeec-4787-4c29-bb37-2a875b22ec85",
   "metadata": {},
   "outputs": [
    {
     "data": {
      "text/plain": [
       "3"
      ]
     },
     "execution_count": 27,
     "metadata": {},
     "output_type": "execute_result"
    }
   ],
   "source": [
    "len(x)"
   ]
  },
  {
   "cell_type": "markdown",
   "id": "bb947591-16d7-463d-a235-db86884418e1",
   "metadata": {},
   "source": [
    "**Code Re-use**"
   ]
  },
  {
   "cell_type": "code",
   "execution_count": 28,
   "id": "da34fdd7-0b14-4ab4-bd05-457880c44a03",
   "metadata": {},
   "outputs": [
    {
     "data": {
      "text/plain": [
       "6.0"
      ]
     },
     "execution_count": 28,
     "metadata": {},
     "output_type": "execute_result"
    }
   ],
   "source": [
    "sum(x)"
   ]
  },
  {
   "cell_type": "code",
   "execution_count": 29,
   "id": "90c9e104-e5dd-4ffc-93b4-984d0cf2eeca",
   "metadata": {},
   "outputs": [],
   "source": [
    "import random"
   ]
  },
  {
   "cell_type": "code",
   "execution_count": 30,
   "id": "cfff5751-6a75-414f-b52a-1d6292def6e6",
   "metadata": {},
   "outputs": [
    {
     "name": "stdout",
     "output_type": "stream",
     "text": [
      "Help on method choice in module random:\n",
      "\n",
      "choice(seq) method of random.Random instance\n",
      "    Choose a random element from a non-empty sequence.\n",
      "\n"
     ]
    }
   ],
   "source": [
    "help(random.choice)"
   ]
  },
  {
   "cell_type": "code",
   "execution_count": 31,
   "id": "a2c2b19e-11a2-4cb7-b602-fca1bf189410",
   "metadata": {},
   "outputs": [
    {
     "data": {
      "text/plain": [
       "1.0"
      ]
     },
     "execution_count": 31,
     "metadata": {},
     "output_type": "execute_result"
    }
   ],
   "source": [
    "random.choice(x)"
   ]
  },
  {
   "cell_type": "code",
   "execution_count": 32,
   "id": "99c1e296-3373-438a-8f02-f8f218a8190d",
   "metadata": {},
   "outputs": [],
   "source": [
    "import numpy as np"
   ]
  },
  {
   "cell_type": "code",
   "execution_count": 33,
   "id": "ff27557f-a476-4cf8-99bc-57cb3498dbbd",
   "metadata": {},
   "outputs": [],
   "source": [
    "# np.array?"
   ]
  },
  {
   "cell_type": "code",
   "execution_count": 34,
   "id": "ac479229-2227-4835-9086-84c12afc1e8a",
   "metadata": {},
   "outputs": [
    {
     "data": {
      "text/plain": [
       "array([1., 2., 3.])"
      ]
     },
     "execution_count": 34,
     "metadata": {},
     "output_type": "execute_result"
    }
   ],
   "source": [
    "np.array(x)"
   ]
  },
  {
   "cell_type": "markdown",
   "id": "f3e074f7-1efa-41fb-9fa6-8a498d409a24",
   "metadata": {},
   "source": [
    "## Operator Overloading"
   ]
  },
  {
   "cell_type": "code",
   "execution_count": 35,
   "id": "45cbffc1-6cbd-43b9-a375-d6b551dc152b",
   "metadata": {},
   "outputs": [
    {
     "data": {
      "text/plain": [
       "Vector((1.0, 2.0, 3.0))"
      ]
     },
     "execution_count": 35,
     "metadata": {},
     "output_type": "execute_result"
    }
   ],
   "source": [
    "x"
   ]
  },
  {
   "cell_type": "code",
   "execution_count": 36,
   "id": "b91aa287-dc67-49ce-a281-12843ab2492e",
   "metadata": {},
   "outputs": [
    {
     "data": {
      "text/plain": [
       "Vector((1.0, 2.0, 3.0))"
      ]
     },
     "execution_count": 36,
     "metadata": {},
     "output_type": "execute_result"
    }
   ],
   "source": [
    "+x  # -> x.__pos__() -> Vector.__pos__(x)"
   ]
  },
  {
   "cell_type": "code",
   "execution_count": 37,
   "id": "3b090ecd-5333-4342-957e-4712bd7252bf",
   "metadata": {},
   "outputs": [
    {
     "data": {
      "text/plain": [
       "True"
      ]
     },
     "execution_count": 37,
     "metadata": {},
     "output_type": "execute_result"
    }
   ],
   "source": [
    "xx = +x\n",
    "\n",
    "xx is x"
   ]
  },
  {
   "cell_type": "code",
   "execution_count": 38,
   "id": "779fe458-b855-4a9b-8a98-c623b85f0448",
   "metadata": {},
   "outputs": [
    {
     "data": {
      "text/plain": [
       "Vector((-1.0, -2.0, -3.0))"
      ]
     },
     "execution_count": 38,
     "metadata": {},
     "output_type": "execute_result"
    }
   ],
   "source": [
    "-x"
   ]
  },
  {
   "cell_type": "code",
   "execution_count": 39,
   "id": "f05d08a0-ce47-4677-9bca-36ba564cbc40",
   "metadata": {},
   "outputs": [
    {
     "data": {
      "text/plain": [
       "False"
      ]
     },
     "execution_count": 39,
     "metadata": {},
     "output_type": "execute_result"
    }
   ],
   "source": [
    "xxx =  -x\n",
    "\n",
    "xxx is x"
   ]
  },
  {
   "cell_type": "code",
   "execution_count": 40,
   "id": "32af0d4a-c5cd-4cb2-90ac-e0fdd6d1fd81",
   "metadata": {},
   "outputs": [
    {
     "data": {
      "text/plain": [
       "Vector((5.0, 7.0, 9.0))"
      ]
     },
     "execution_count": 40,
     "metadata": {},
     "output_type": "execute_result"
    }
   ],
   "source": [
    "x + y  # -> x.__add__(y)  -> Vector.__add__(x, y)"
   ]
  },
  {
   "cell_type": "code",
   "execution_count": 41,
   "id": "8185f64a-70c2-4981-9f77-874a2202a095",
   "metadata": {},
   "outputs": [
    {
     "data": {
      "text/plain": [
       "Vector((10.0, 20.0, 30.0))"
      ]
     },
     "execution_count": 41,
     "metadata": {},
     "output_type": "execute_result"
    }
   ],
   "source": [
    "10 * x"
   ]
  },
  {
   "cell_type": "code",
   "execution_count": 42,
   "id": "109765dd-c643-48ed-8d17-f0c8af2d6098",
   "metadata": {},
   "outputs": [
    {
     "data": {
      "text/plain": [
       "Vector((2.0, 4.0, 6.0))"
      ]
     },
     "execution_count": 42,
     "metadata": {},
     "output_type": "execute_result"
    }
   ],
   "source": [
    "x * 2"
   ]
  },
  {
   "cell_type": "code",
   "execution_count": 43,
   "id": "541cda4f-32a7-4ccf-9721-fd68d7f0bd68",
   "metadata": {},
   "outputs": [
    {
     "data": {
      "text/plain": [
       "32.0"
      ]
     },
     "execution_count": 43,
     "metadata": {},
     "output_type": "execute_result"
    }
   ],
   "source": [
    "x * y"
   ]
  },
  {
   "cell_type": "code",
   "execution_count": 44,
   "id": "67f3c9e1-4100-4afa-8285-ff930e99e84e",
   "metadata": {},
   "outputs": [
    {
     "data": {
      "text/plain": [
       "Vector((0.3333333333333333, 0.6666666666666666, 1.0))"
      ]
     },
     "execution_count": 44,
     "metadata": {},
     "output_type": "execute_result"
    }
   ],
   "source": [
    "x / 3"
   ]
  },
  {
   "cell_type": "code",
   "execution_count": 45,
   "id": "144f8cb7-5ee8-40dd-86cd-b2ea885a4160",
   "metadata": {},
   "outputs": [],
   "source": [
    "# 3 / x"
   ]
  },
  {
   "cell_type": "code",
   "execution_count": 46,
   "id": "ac3e30f2-8d5b-4b1f-99bc-fcb3663e346d",
   "metadata": {},
   "outputs": [],
   "source": [
    "# x // 3  # nötig? weil `float`s sind ja nicht präzise"
   ]
  },
  {
   "cell_type": "code",
   "execution_count": 47,
   "id": "15f1fbea-29da-4624-93ab-c3e8e04b0b31",
   "metadata": {},
   "outputs": [],
   "source": [
    "# x % 3  # nötig? weil `float`s sind ja nicht präzise"
   ]
  },
  {
   "cell_type": "code",
   "execution_count": 48,
   "id": "b682e316-ad41-49da-b987-6bec11d09447",
   "metadata": {},
   "outputs": [
    {
     "data": {
      "text/plain": [
       "Vector((-3.0, -3.0, -3.0))"
      ]
     },
     "execution_count": 48,
     "metadata": {},
     "output_type": "execute_result"
    }
   ],
   "source": [
    "x - y"
   ]
  },
  {
   "cell_type": "code",
   "execution_count": 49,
   "id": "050d2f43-8b4e-4ba4-9a96-98e2cdb15e35",
   "metadata": {},
   "outputs": [],
   "source": [
    "# x / y  # macht keinen Sinn in der linearen Algebra"
   ]
  },
  {
   "cell_type": "code",
   "execution_count": 50,
   "id": "6ace5cce-9fda-4b2a-88a1-4be5b4bf018a",
   "metadata": {},
   "outputs": [
    {
     "data": {
      "text/plain": [
       "Vector((1.0, 2.0, 3.0))"
      ]
     },
     "execution_count": 50,
     "metadata": {},
     "output_type": "execute_result"
    }
   ],
   "source": [
    "x"
   ]
  },
  {
   "cell_type": "code",
   "execution_count": 51,
   "id": "d833614f-4398-457e-9311-71dd6691934b",
   "metadata": {},
   "outputs": [
    {
     "data": {
      "text/plain": [
       "Vector((4.0, 5.0, 6.0))"
      ]
     },
     "execution_count": 51,
     "metadata": {},
     "output_type": "execute_result"
    }
   ],
   "source": [
    "y"
   ]
  },
  {
   "cell_type": "code",
   "execution_count": 52,
   "id": "a8c0a445-5b77-42b8-867c-81df9484c8ac",
   "metadata": {},
   "outputs": [
    {
     "data": {
      "text/plain": [
       "False"
      ]
     },
     "execution_count": 52,
     "metadata": {},
     "output_type": "execute_result"
    }
   ],
   "source": [
    "x == y"
   ]
  },
  {
   "cell_type": "code",
   "execution_count": 53,
   "id": "69c87f4d-8520-4150-af39-801c2886d6ef",
   "metadata": {},
   "outputs": [
    {
     "data": {
      "text/plain": [
       "True"
      ]
     },
     "execution_count": 53,
     "metadata": {},
     "output_type": "execute_result"
    }
   ],
   "source": [
    "Vector((1.0, 2.0, 3.0)) == Vector((1.0, 2.0, 3.0))  # -> `.__eq__(self, other)`"
   ]
  },
  {
   "cell_type": "code",
   "execution_count": 54,
   "id": "dc1ea516-6ca6-4114-a6df-5efe709972d8",
   "metadata": {},
   "outputs": [
    {
     "data": {
      "text/plain": [
       "False"
      ]
     },
     "execution_count": 54,
     "metadata": {},
     "output_type": "execute_result"
    }
   ],
   "source": [
    "Vector((1.0, 2.0, 3.0)) == Vector((1.0, 2.0, 3.0, 99.9))"
   ]
  },
  {
   "cell_type": "code",
   "execution_count": 55,
   "id": "c23bb5c3-a8b9-4e79-8f82-3583ab73e329",
   "metadata": {},
   "outputs": [
    {
     "data": {
      "text/plain": [
       "True"
      ]
     },
     "execution_count": 55,
     "metadata": {},
     "output_type": "execute_result"
    }
   ],
   "source": [
    "Vector((1.0, 2.0, 3.0)) != Vector((1.0, 2.0, 3.0, 99.9))  # -> `not ...__eq__(self, other)`"
   ]
  },
  {
   "cell_type": "code",
   "execution_count": 56,
   "id": "5cc99935-4a59-41ee-860a-a058c465bb6a",
   "metadata": {},
   "outputs": [
    {
     "data": {
      "text/plain": [
       "False"
      ]
     },
     "execution_count": 56,
     "metadata": {},
     "output_type": "execute_result"
    }
   ],
   "source": [
    "Vector((1.0, 2.0, 3.0)) == [1, 2, 3]"
   ]
  },
  {
   "cell_type": "code",
   "execution_count": 57,
   "id": "01671087-ac0c-4838-ac24-4b05158e00ba",
   "metadata": {},
   "outputs": [
    {
     "data": {
      "text/plain": [
       "True"
      ]
     },
     "execution_count": 57,
     "metadata": {},
     "output_type": "execute_result"
    }
   ],
   "source": [
    "(\n",
    "    Vector((0.1, 0.2, 0.1))\n",
    "    +\n",
    "    Vector((  0,   0, 0.2))\n",
    ") == (\n",
    "    Vector((0.1, 0.2, 0.3)) \n",
    ")"
   ]
  },
  {
   "cell_type": "code",
   "execution_count": 58,
   "id": "0e44ec61-e667-4ed9-9db3-8f847d8da216",
   "metadata": {},
   "outputs": [
    {
     "data": {
      "text/plain": [
       "0.30000000000000004"
      ]
     },
     "execution_count": 58,
     "metadata": {},
     "output_type": "execute_result"
    }
   ],
   "source": [
    "0.1 + 0.2"
   ]
  },
  {
   "cell_type": "code",
   "execution_count": 59,
   "id": "9dceeb02-d549-45a3-9f23-8434769600b4",
   "metadata": {},
   "outputs": [
    {
     "data": {
      "text/plain": [
       "5.551115123125783e-17"
      ]
     },
     "execution_count": 59,
     "metadata": {},
     "output_type": "execute_result"
    }
   ],
   "source": [
    "0.1 + 0.2 - 0.3"
   ]
  },
  {
   "cell_type": "code",
   "execution_count": 60,
   "id": "6a2bb97d-9ded-4777-91ba-1ea47f7897a4",
   "metadata": {},
   "outputs": [
    {
     "data": {
      "text/plain": [
       "False"
      ]
     },
     "execution_count": 60,
     "metadata": {},
     "output_type": "execute_result"
    }
   ],
   "source": [
    "Vector((1.0, 2.0, 3.0)) == 42"
   ]
  },
  {
   "cell_type": "code",
   "execution_count": 61,
   "id": "f678d3e2-9b96-4450-8a3c-ea2e5b268192",
   "metadata": {},
   "outputs": [
    {
     "data": {
      "text/plain": [
       "False"
      ]
     },
     "execution_count": 61,
     "metadata": {},
     "output_type": "execute_result"
    }
   ],
   "source": [
    "\"123\" == 123  # False, und keine Fehlermeldung"
   ]
  },
  {
   "cell_type": "markdown",
   "id": "b55d0c8a-9740-4874-bfa1-59c34586baed",
   "metadata": {},
   "source": [
    "**Broadcasting**"
   ]
  },
  {
   "cell_type": "code",
   "execution_count": 62,
   "id": "c6be998d-71fc-4d59-afc4-c06adcba7f0b",
   "metadata": {},
   "outputs": [
    {
     "data": {
      "text/plain": [
       "array([101, 102, 103])"
      ]
     },
     "execution_count": 62,
     "metadata": {},
     "output_type": "execute_result"
    }
   ],
   "source": [
    "np.array([1, 2, 3]) + 100"
   ]
  },
  {
   "cell_type": "code",
   "execution_count": 63,
   "id": "8982fac5-018c-4416-a03e-090617e85f21",
   "metadata": {},
   "outputs": [
    {
     "data": {
      "text/plain": [
       "Vector((101.0, 102.0, 103.0))"
      ]
     },
     "execution_count": 63,
     "metadata": {},
     "output_type": "execute_result"
    }
   ],
   "source": [
    "x + 100"
   ]
  },
  {
   "cell_type": "code",
   "execution_count": 64,
   "id": "b84ed3d1-8763-495d-802a-4d2de07bd57f",
   "metadata": {},
   "outputs": [
    {
     "data": {
      "text/plain": [
       "Vector((-99.0, -98.0, -97.0))"
      ]
     },
     "execution_count": 64,
     "metadata": {},
     "output_type": "execute_result"
    }
   ],
   "source": [
    "x - 100"
   ]
  },
  {
   "cell_type": "code",
   "execution_count": 65,
   "id": "254d3ac7-dccc-4c17-bf40-ea4927f9f854",
   "metadata": {},
   "outputs": [
    {
     "data": {
      "text/plain": [
       "Vector((101.0, 102.0, 103.0))"
      ]
     },
     "execution_count": 65,
     "metadata": {},
     "output_type": "execute_result"
    }
   ],
   "source": [
    "100 + x"
   ]
  },
  {
   "cell_type": "code",
   "execution_count": 66,
   "id": "e5cbd241-ae53-4f3b-9427-ef69561b5726",
   "metadata": {},
   "outputs": [
    {
     "data": {
      "text/plain": [
       "Vector((99.0, 98.0, 97.0))"
      ]
     },
     "execution_count": 66,
     "metadata": {},
     "output_type": "execute_result"
    }
   ],
   "source": [
    "100 - x  # -> x.__rsub__(100)"
   ]
  },
  {
   "cell_type": "code",
   "execution_count": 67,
   "id": "c1c68fc5-257c-465f-9e01-954f0ebbd71c",
   "metadata": {},
   "outputs": [],
   "source": [
    "# Vector((1.0, 2.0, 3.0)) * Vector([7, 8])"
   ]
  },
  {
   "cell_type": "code",
   "execution_count": 68,
   "id": "fc975611-a080-4caf-94c5-fdb75489076f",
   "metadata": {},
   "outputs": [],
   "source": [
    "# Vector((1.0, 2.0, 3.0)) + Vector([7, 8])"
   ]
  },
  {
   "cell_type": "code",
   "execution_count": null,
   "id": "98c63236-1dc4-4cea-b6f0-7614a31f75d7",
   "metadata": {},
   "outputs": [],
   "source": []
  }
 ],
 "metadata": {
  "kernelspec": {
   "display_name": "Python 3.12",
   "language": "python",
   "name": "python3.12"
  },
  "language_info": {
   "codemirror_mode": {
    "name": "ipython",
    "version": 3
   },
   "file_extension": ".py",
   "mimetype": "text/x-python",
   "name": "python",
   "nbconvert_exporter": "python",
   "pygments_lexer": "ipython3",
   "version": "3.12.0"
  }
 },
 "nbformat": 4,
 "nbformat_minor": 5
}
