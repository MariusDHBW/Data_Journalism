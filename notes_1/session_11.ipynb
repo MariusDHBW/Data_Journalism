{
 "cells": [
  {
   "cell_type": "markdown",
   "id": "f4133552-7674-431e-8f4a-b1f2b8536bb8",
   "metadata": {},
   "source": [
    "# Übersicht über die Datentypen"
   ]
  },
  {
   "cell_type": "markdown",
   "id": "78ecd7c5-2b12-4c40-ba68-d2437022f14a",
   "metadata": {},
   "source": [
    "## 0) Besondere Datentypen"
   ]
  },
  {
   "cell_type": "markdown",
   "id": "e7181322-800b-426e-a5c4-d210139c234d",
   "metadata": {
    "jp-MarkdownHeadingCollapsed": true
   },
   "source": [
    "#### `NoneType`"
   ]
  },
  {
   "cell_type": "code",
   "execution_count": 1,
   "id": "76211934-8a91-4d99-aa1d-512b1967f7e6",
   "metadata": {},
   "outputs": [],
   "source": [
    "None"
   ]
  },
  {
   "cell_type": "code",
   "execution_count": 2,
   "id": "48381187-bf78-4da9-90f8-4637d0ca4e28",
   "metadata": {},
   "outputs": [
    {
     "data": {
      "text/plain": [
       "NoneType"
      ]
     },
     "execution_count": 2,
     "metadata": {},
     "output_type": "execute_result"
    }
   ],
   "source": [
    "type(None)"
   ]
  },
  {
   "cell_type": "markdown",
   "id": "f2b54f9c-23aa-43cc-9c52-28bf66d73b22",
   "metadata": {
    "jp-MarkdownHeadingCollapsed": true
   },
   "source": [
    "## 1) Zahlen"
   ]
  },
  {
   "cell_type": "markdown",
   "id": "5584af4c-5df5-42ff-ad46-d6dfd35b06fb",
   "metadata": {
    "jp-MarkdownHeadingCollapsed": true
   },
   "source": [
    "#### `int` Typ"
   ]
  },
  {
   "cell_type": "markdown",
   "id": "66abaa22-7ffe-4eb3-b845-02dd01460cf8",
   "metadata": {},
   "source": [
    "\"`int`egers sind inheränt präzise\""
   ]
  },
  {
   "cell_type": "code",
   "execution_count": 4,
   "id": "df8fe7cf-913e-4034-b8e0-e8dd5cc9c9c5",
   "metadata": {},
   "outputs": [
    {
     "data": {
      "text/plain": [
       "42"
      ]
     },
     "execution_count": 4,
     "metadata": {},
     "output_type": "execute_result"
    }
   ],
   "source": [
    "42"
   ]
  },
  {
   "cell_type": "code",
   "execution_count": 5,
   "id": "3b7992be-3b74-47c5-938f-8720a90ef7ec",
   "metadata": {},
   "outputs": [
    {
     "data": {
      "text/plain": [
       "42"
      ]
     },
     "execution_count": 5,
     "metadata": {},
     "output_type": "execute_result"
    }
   ],
   "source": [
    "int(\"42\")"
   ]
  },
  {
   "cell_type": "code",
   "execution_count": 11,
   "id": "1ea45f2d-00b7-48cd-9f25-16ac61e6a799",
   "metadata": {},
   "outputs": [
    {
     "ename": "SyntaxError",
     "evalue": "leading zeros in decimal integer literals are not permitted; use an 0o prefix for octal integers (2458208819.py, line 1)",
     "output_type": "error",
     "traceback": [
      "\u001b[0;36m  Cell \u001b[0;32mIn[11], line 1\u001b[0;36m\u001b[0m\n\u001b[0;31m    013  # 0 als Präfix ist reserviert\u001b[0m\n\u001b[0m    ^\u001b[0m\n\u001b[0;31mSyntaxError\u001b[0m\u001b[0;31m:\u001b[0m leading zeros in decimal integer literals are not permitted; use an 0o prefix for octal integers\n"
     ]
    }
   ],
   "source": [
    "013  # 0 als Präfix ist reserviert"
   ]
  },
  {
   "cell_type": "code",
   "execution_count": 7,
   "id": "c9866f6f-f5ef-4e88-9cde-f31f57f577ba",
   "metadata": {},
   "outputs": [
    {
     "data": {
      "text/plain": [
       "13"
      ]
     },
     "execution_count": 7,
     "metadata": {},
     "output_type": "execute_result"
    }
   ],
   "source": [
    "13"
   ]
  },
  {
   "cell_type": "code",
   "execution_count": 8,
   "id": "67a155f8-b643-4e63-be17-c58eb4d1cfe6",
   "metadata": {},
   "outputs": [
    {
     "data": {
      "text/plain": [
       "'0b1101'"
      ]
     },
     "execution_count": 8,
     "metadata": {},
     "output_type": "execute_result"
    }
   ],
   "source": [
    "bin(13)"
   ]
  },
  {
   "cell_type": "code",
   "execution_count": 9,
   "id": "ff5b85ea-a8ca-4250-87bb-5c76c19ed68d",
   "metadata": {},
   "outputs": [
    {
     "data": {
      "text/plain": [
       "65535"
      ]
     },
     "execution_count": 9,
     "metadata": {},
     "output_type": "execute_result"
    }
   ],
   "source": [
    "0b_1111_1111_1111_1111  # Max des \"SmallInt\""
   ]
  },
  {
   "cell_type": "code",
   "execution_count": 12,
   "id": "049e1347-37ab-46c9-ba7c-4e35c1c1db8b",
   "metadata": {},
   "outputs": [
    {
     "data": {
      "text/plain": [
       "255"
      ]
     },
     "execution_count": 12,
     "metadata": {},
     "output_type": "execute_result"
    }
   ],
   "source": [
    "0x_ff"
   ]
  },
  {
   "cell_type": "code",
   "execution_count": 16,
   "id": "883b25f2-c3df-404e-8da7-eccf9330742f",
   "metadata": {},
   "outputs": [
    {
     "data": {
      "text/plain": [
       "591"
      ]
     },
     "execution_count": 16,
     "metadata": {},
     "output_type": "execute_result"
    }
   ],
   "source": [
    "0o_1117"
   ]
  },
  {
   "cell_type": "markdown",
   "id": "f23209c9-13fb-489a-929f-6d13cbeb5ab6",
   "metadata": {
    "jp-MarkdownHeadingCollapsed": true
   },
   "source": [
    "##### `bool` Typ"
   ]
  },
  {
   "cell_type": "code",
   "execution_count": 17,
   "id": "cea16fa3-7881-45c1-b723-205ef5643372",
   "metadata": {},
   "outputs": [
    {
     "data": {
      "text/plain": [
       "True"
      ]
     },
     "execution_count": 17,
     "metadata": {},
     "output_type": "execute_result"
    }
   ],
   "source": [
    "True"
   ]
  },
  {
   "cell_type": "code",
   "execution_count": 18,
   "id": "82519321-2905-44c6-8960-4e4df534d89b",
   "metadata": {},
   "outputs": [
    {
     "data": {
      "text/plain": [
       "False"
      ]
     },
     "execution_count": 18,
     "metadata": {},
     "output_type": "execute_result"
    }
   ],
   "source": [
    "False"
   ]
  },
  {
   "cell_type": "code",
   "execution_count": 19,
   "id": "14f58f32-70ed-4a04-9fb0-30d7c78863ed",
   "metadata": {},
   "outputs": [
    {
     "data": {
      "text/plain": [
       "bool"
      ]
     },
     "execution_count": 19,
     "metadata": {},
     "output_type": "execute_result"
    }
   ],
   "source": [
    "type(True)"
   ]
  },
  {
   "cell_type": "code",
   "execution_count": 20,
   "id": "e329a855-5d13-401b-89dc-3ac5a1a26d5e",
   "metadata": {},
   "outputs": [
    {
     "data": {
      "text/plain": [
       "3"
      ]
     },
     "execution_count": 20,
     "metadata": {},
     "output_type": "execute_result"
    }
   ],
   "source": [
    "1 + 2  # arithmetischer Kontext => \"+\" mit Zahlen"
   ]
  },
  {
   "cell_type": "markdown",
   "id": "29964d17-3c07-4884-a5af-342e1f8f34bb",
   "metadata": {},
   "source": [
    "In einem arithmetischen Kontext verhalten sich `True` und `False` wie `1` und `0`"
   ]
  },
  {
   "cell_type": "code",
   "execution_count": 22,
   "id": "58af1bd4-5939-467a-bb94-247b23965225",
   "metadata": {},
   "outputs": [
    {
     "data": {
      "text/plain": [
       "1"
      ]
     },
     "execution_count": 22,
     "metadata": {},
     "output_type": "execute_result"
    }
   ],
   "source": [
    "True + False  # 1 + 0"
   ]
  },
  {
   "cell_type": "code",
   "execution_count": 25,
   "id": "da7b8121-3d1f-4be1-a4c9-628923726c5d",
   "metadata": {},
   "outputs": [
    {
     "data": {
      "text/plain": [
       "42"
      ]
     },
     "execution_count": 25,
     "metadata": {},
     "output_type": "execute_result"
    }
   ],
   "source": [
    "True + 41  # kein TypeError"
   ]
  },
  {
   "cell_type": "code",
   "execution_count": 23,
   "id": "12a1f1de-0868-4dbd-bb03-92886bb66e1d",
   "metadata": {},
   "outputs": [
    {
     "data": {
      "text/plain": [
       "42"
      ]
     },
     "execution_count": 23,
     "metadata": {},
     "output_type": "execute_result"
    }
   ],
   "source": [
    "42 * True"
   ]
  },
  {
   "cell_type": "code",
   "execution_count": 24,
   "id": "be934e88-d2c7-4334-b6ce-0d42ab7a9371",
   "metadata": {},
   "outputs": [
    {
     "data": {
      "text/plain": [
       "0"
      ]
     },
     "execution_count": 24,
     "metadata": {},
     "output_type": "execute_result"
    }
   ],
   "source": [
    "42 * False"
   ]
  },
  {
   "cell_type": "markdown",
   "id": "515cdc28-9468-4bc8-9818-997c2f34b315",
   "metadata": {},
   "source": [
    "Interessante Sachen"
   ]
  },
  {
   "cell_type": "code",
   "execution_count": 26,
   "id": "aa8385b0-1a6a-45c6-aa89-e8ff7e9c6235",
   "metadata": {},
   "outputs": [
    {
     "data": {
      "text/plain": [
       "False"
      ]
     },
     "execution_count": 26,
     "metadata": {},
     "output_type": "execute_result"
    }
   ],
   "source": [
    "bool(0)"
   ]
  },
  {
   "cell_type": "code",
   "execution_count": 27,
   "id": "a664818f-9e01-403e-a1de-f521626f0b81",
   "metadata": {},
   "outputs": [
    {
     "data": {
      "text/plain": [
       "True"
      ]
     },
     "execution_count": 27,
     "metadata": {},
     "output_type": "execute_result"
    }
   ],
   "source": [
    "bool(1)"
   ]
  },
  {
   "cell_type": "code",
   "execution_count": 29,
   "id": "21f83e1c-4376-4e60-8427-4495b6a54124",
   "metadata": {},
   "outputs": [
    {
     "data": {
      "text/plain": [
       "True"
      ]
     },
     "execution_count": 29,
     "metadata": {},
     "output_type": "execute_result"
    }
   ],
   "source": [
    "bool(42)  # jede Zahl != 0 ist immer True"
   ]
  },
  {
   "cell_type": "code",
   "execution_count": 30,
   "id": "c454bbf3-2844-43c7-b252-b5b015083568",
   "metadata": {},
   "outputs": [
    {
     "data": {
      "text/plain": [
       "False"
      ]
     },
     "execution_count": 30,
     "metadata": {},
     "output_type": "execute_result"
    }
   ],
   "source": [
    "bool([])  # eine leere Liste => False"
   ]
  },
  {
   "cell_type": "code",
   "execution_count": 31,
   "id": "dedcf4a1-b753-43cf-8fbc-7ba2c94df0da",
   "metadata": {},
   "outputs": [
    {
     "data": {
      "text/plain": [
       "True"
      ]
     },
     "execution_count": 31,
     "metadata": {},
     "output_type": "execute_result"
    }
   ],
   "source": [
    "bool([False])  # eine nicht-leere Liste => True"
   ]
  },
  {
   "cell_type": "code",
   "execution_count": 32,
   "id": "7413c385-5e42-40ed-9556-7f0094d3c5c8",
   "metadata": {},
   "outputs": [
    {
     "data": {
      "text/plain": [
       "True"
      ]
     },
     "execution_count": 32,
     "metadata": {},
     "output_type": "execute_result"
    }
   ],
   "source": [
    "bool([None])"
   ]
  },
  {
   "cell_type": "code",
   "execution_count": 33,
   "id": "7cc6e46f-a702-4c68-a0c7-0869f4ad70a4",
   "metadata": {},
   "outputs": [],
   "source": [
    "if []:  # bool'scher Kontext => ein Objekt soll sich wie True oder False verhalten\n",
    "    print(\"ich bin hier!\")"
   ]
  },
  {
   "cell_type": "code",
   "execution_count": 34,
   "id": "39939fef-24ee-4f53-839a-54563e5ecb27",
   "metadata": {},
   "outputs": [],
   "source": [
    "if []:  # im Hintergrund => [] ist weder True noch False => bool([])\n",
    "    print(\"ich bin hier!\")"
   ]
  },
  {
   "cell_type": "code",
   "execution_count": 35,
   "id": "11dc180c-021d-4c05-95ea-dca40bef9617",
   "metadata": {},
   "outputs": [
    {
     "name": "stdout",
     "output_type": "stream",
     "text": [
      "ich bin hier!\n"
     ]
    }
   ],
   "source": [
    "if [False]:\n",
    "    print(\"ich bin hier!\")"
   ]
  },
  {
   "cell_type": "markdown",
   "id": "97983b89-21ff-4614-898d-f23d5a8b4872",
   "metadata": {
    "jp-MarkdownHeadingCollapsed": true
   },
   "source": [
    "#### `float` Typ"
   ]
  },
  {
   "cell_type": "markdown",
   "id": "93a967eb-3d47-45ab-936e-dfbff5715dbc",
   "metadata": {},
   "source": [
    "\"`float`s sind inheränt unpräzise\""
   ]
  },
  {
   "cell_type": "code",
   "execution_count": 36,
   "id": "9c625a78-ecac-4fd7-a0cf-8014af355b49",
   "metadata": {},
   "outputs": [
    {
     "data": {
      "text/plain": [
       "1.0"
      ]
     },
     "execution_count": 36,
     "metadata": {},
     "output_type": "execute_result"
    }
   ],
   "source": [
    "1."
   ]
  },
  {
   "cell_type": "code",
   "execution_count": 37,
   "id": "4cb9b4b3-6b6b-40be-8cf6-fd5badece281",
   "metadata": {},
   "outputs": [
    {
     "data": {
      "text/plain": [
       "0.9"
      ]
     },
     "execution_count": 37,
     "metadata": {},
     "output_type": "execute_result"
    }
   ],
   "source": [
    ".9"
   ]
  },
  {
   "cell_type": "code",
   "execution_count": 38,
   "id": "32969079-67d6-44c8-a987-155d30b819a7",
   "metadata": {},
   "outputs": [
    {
     "data": {
      "text/plain": [
       "1.5"
      ]
     },
     "execution_count": 38,
     "metadata": {},
     "output_type": "execute_result"
    }
   ],
   "source": [
    "1.5"
   ]
  },
  {
   "cell_type": "code",
   "execution_count": 39,
   "id": "0210b5fc-0af9-4b59-aac7-8f7eee0c06c8",
   "metadata": {},
   "outputs": [
    {
     "data": {
      "text/plain": [
       "1.0"
      ]
     },
     "execution_count": 39,
     "metadata": {},
     "output_type": "execute_result"
    }
   ],
   "source": [
    "float(1)"
   ]
  },
  {
   "cell_type": "code",
   "execution_count": 40,
   "id": "9930ce01-347a-4ed6-8d00-421b6ee5e331",
   "metadata": {},
   "outputs": [
    {
     "data": {
      "text/plain": [
       "nan"
      ]
     },
     "execution_count": 40,
     "metadata": {},
     "output_type": "execute_result"
    }
   ],
   "source": [
    "float(\"nan\")  # \"unbekannt\""
   ]
  },
  {
   "cell_type": "code",
   "execution_count": 41,
   "id": "ff404b4e-66a4-4bf4-8891-3c24e6b3f941",
   "metadata": {},
   "outputs": [
    {
     "data": {
      "text/plain": [
       "nan"
      ]
     },
     "execution_count": 41,
     "metadata": {},
     "output_type": "execute_result"
    }
   ],
   "source": [
    "float(\"NaN\")"
   ]
  },
  {
   "cell_type": "code",
   "execution_count": 44,
   "id": "6ab08baa-6a0c-4162-b835-9acd47370b6a",
   "metadata": {},
   "outputs": [
    {
     "data": {
      "text/plain": [
       "False"
      ]
     },
     "execution_count": 44,
     "metadata": {},
     "output_type": "execute_result"
    }
   ],
   "source": [
    "float(\"NaN\") == float(\"NaN\")"
   ]
  },
  {
   "cell_type": "code",
   "execution_count": 45,
   "id": "7d4d51a2-cbf9-4c07-8fb7-8e51eba450c5",
   "metadata": {},
   "outputs": [
    {
     "data": {
      "text/plain": [
       "nan"
      ]
     },
     "execution_count": 45,
     "metadata": {},
     "output_type": "execute_result"
    }
   ],
   "source": [
    "2 * float(\"NaN\")  # keine Fehlermeldung => Grund für semantische Fehler"
   ]
  },
  {
   "cell_type": "code",
   "execution_count": 42,
   "id": "720f9371-d315-4282-9855-75af5e5c1ba3",
   "metadata": {},
   "outputs": [
    {
     "data": {
      "text/plain": [
       "inf"
      ]
     },
     "execution_count": 42,
     "metadata": {},
     "output_type": "execute_result"
    }
   ],
   "source": [
    "float(\"inf\")"
   ]
  },
  {
   "cell_type": "code",
   "execution_count": 43,
   "id": "25b5b793-f311-4039-8104-153c324a1a6f",
   "metadata": {},
   "outputs": [
    {
     "data": {
      "text/plain": [
       "inf"
      ]
     },
     "execution_count": 43,
     "metadata": {},
     "output_type": "execute_result"
    }
   ],
   "source": [
    "float(\"Inf\")"
   ]
  },
  {
   "cell_type": "code",
   "execution_count": 46,
   "id": "f5101ce8-7283-4330-8eef-ee3c770f3722",
   "metadata": {},
   "outputs": [
    {
     "data": {
      "text/plain": [
       "False"
      ]
     },
     "execution_count": 46,
     "metadata": {},
     "output_type": "execute_result"
    }
   ],
   "source": [
    "2 * float(\"Inf\") > float(\"Inf\")"
   ]
  },
  {
   "cell_type": "code",
   "execution_count": 47,
   "id": "fdc6a7cf-ee83-4075-9ffd-c3a919628013",
   "metadata": {},
   "outputs": [
    {
     "data": {
      "text/plain": [
       "False"
      ]
     },
     "execution_count": 47,
     "metadata": {},
     "output_type": "execute_result"
    }
   ],
   "source": [
    "0.1 + 0.2 == 0.3"
   ]
  },
  {
   "cell_type": "code",
   "execution_count": 48,
   "id": "af600731-f62f-416a-8cf1-e32523e1d56a",
   "metadata": {},
   "outputs": [
    {
     "data": {
      "text/plain": [
       "0.30000000000000004"
      ]
     },
     "execution_count": 48,
     "metadata": {},
     "output_type": "execute_result"
    }
   ],
   "source": [
    "0.1 + 0.2"
   ]
  },
  {
   "cell_type": "code",
   "execution_count": 49,
   "id": "4bdfd814-3730-46ac-8b2f-7483ae318d06",
   "metadata": {},
   "outputs": [
    {
     "data": {
      "text/plain": [
       "2"
      ]
     },
     "execution_count": 49,
     "metadata": {},
     "output_type": "execute_result"
    }
   ],
   "source": [
    "round(1.5)"
   ]
  },
  {
   "cell_type": "code",
   "execution_count": 50,
   "id": "9c292342-ccee-4edd-82b2-7d6593005eb5",
   "metadata": {},
   "outputs": [
    {
     "data": {
      "text/plain": [
       "2"
      ]
     },
     "execution_count": 50,
     "metadata": {},
     "output_type": "execute_result"
    }
   ],
   "source": [
    "round(2.5)"
   ]
  },
  {
   "cell_type": "markdown",
   "id": "d4f4b899-4ace-4dd1-b618-aff6f652df3f",
   "metadata": {},
   "source": [
    "$1.23 * 10^{6}$ => wissenschaftliche Notation"
   ]
  },
  {
   "cell_type": "code",
   "execution_count": 51,
   "id": "ba573d8c-7991-4c6c-82e9-c90ad6e1b7eb",
   "metadata": {},
   "outputs": [
    {
     "data": {
      "text/plain": [
       "1230000.0"
      ]
     },
     "execution_count": 51,
     "metadata": {},
     "output_type": "execute_result"
    }
   ],
   "source": [
    "1.23e6"
   ]
  },
  {
   "cell_type": "code",
   "execution_count": 52,
   "id": "10a0db31-7fcb-46e1-8cb1-3525180b56ba",
   "metadata": {},
   "outputs": [
    {
     "data": {
      "text/plain": [
       "1000000.0"
      ]
     },
     "execution_count": 52,
     "metadata": {},
     "output_type": "execute_result"
    }
   ],
   "source": [
    "1e6"
   ]
  },
  {
   "cell_type": "code",
   "execution_count": 53,
   "id": "e7c52d80-f9c9-415a-91b7-61ba24064ad9",
   "metadata": {},
   "outputs": [
    {
     "data": {
      "text/plain": [
       "1000000000000.0"
      ]
     },
     "execution_count": 53,
     "metadata": {},
     "output_type": "execute_result"
    }
   ],
   "source": [
    "1e12 + 1e-6  # 1e-6 geht verloren"
   ]
  },
  {
   "cell_type": "code",
   "execution_count": 55,
   "id": "2d03af9b-2d9b-4553-bfd4-0b8217889279",
   "metadata": {},
   "outputs": [
    {
     "data": {
      "text/plain": [
       "1000000000000.0001"
      ]
     },
     "execution_count": 55,
     "metadata": {},
     "output_type": "execute_result"
    }
   ],
   "source": [
    "1e12 + 1e-4"
   ]
  },
  {
   "cell_type": "markdown",
   "id": "ecfe4935-9599-479a-ade9-ab4225b34c42",
   "metadata": {
    "jp-MarkdownHeadingCollapsed": true
   },
   "source": [
    "#### `complex` Typ"
   ]
  },
  {
   "cell_type": "markdown",
   "id": "560d9400-ad7f-44bf-9748-ced01eacbde9",
   "metadata": {},
   "source": [
    "$1 + 2i$"
   ]
  },
  {
   "cell_type": "code",
   "execution_count": 56,
   "id": "561399d9-80c3-4747-9bab-ac6335c86cc0",
   "metadata": {},
   "outputs": [
    {
     "data": {
      "text/plain": [
       "(1+2j)"
      ]
     },
     "execution_count": 56,
     "metadata": {},
     "output_type": "execute_result"
    }
   ],
   "source": [
    "1 + 2j"
   ]
  },
  {
   "cell_type": "code",
   "execution_count": 57,
   "id": "1bd2551d-4139-41d0-8de4-d45a1d20ea5e",
   "metadata": {},
   "outputs": [
    {
     "data": {
      "text/plain": [
       "(1+2j)"
      ]
     },
     "execution_count": 57,
     "metadata": {},
     "output_type": "execute_result"
    }
   ],
   "source": [
    "c = 1 + 2j\n",
    "\n",
    "c"
   ]
  },
  {
   "cell_type": "code",
   "execution_count": 58,
   "id": "f52191ab-d232-498b-8809-baaa79562f79",
   "metadata": {},
   "outputs": [
    {
     "data": {
      "text/plain": [
       "complex"
      ]
     },
     "execution_count": 58,
     "metadata": {},
     "output_type": "execute_result"
    }
   ],
   "source": [
    "type(c)"
   ]
  },
  {
   "cell_type": "markdown",
   "id": "f5e35581-6334-442a-8ac3-a0fd1a52b60f",
   "metadata": {},
   "source": [
    "Eine `complex`e Zahl ist  ein 2-`tuple` aus `float`s"
   ]
  },
  {
   "cell_type": "code",
   "execution_count": 59,
   "id": "1113609c-253b-4bf7-ae55-afc4b1f48ad4",
   "metadata": {},
   "outputs": [
    {
     "data": {
      "text/plain": [
       "1.0"
      ]
     },
     "execution_count": 59,
     "metadata": {},
     "output_type": "execute_result"
    }
   ],
   "source": [
    "c.real"
   ]
  },
  {
   "cell_type": "code",
   "execution_count": 60,
   "id": "29ab62fc-e5fe-41e0-a1e0-8469c9c5f600",
   "metadata": {},
   "outputs": [
    {
     "data": {
      "text/plain": [
       "2.0"
      ]
     },
     "execution_count": 60,
     "metadata": {},
     "output_type": "execute_result"
    }
   ],
   "source": [
    "c.imag"
   ]
  },
  {
   "cell_type": "code",
   "execution_count": 61,
   "id": "e3f7a2df-c839-4690-8758-9cd9889987a3",
   "metadata": {},
   "outputs": [
    {
     "data": {
      "text/plain": [
       "float"
      ]
     },
     "execution_count": 61,
     "metadata": {},
     "output_type": "execute_result"
    }
   ],
   "source": [
    "type(c.real)"
   ]
  },
  {
   "cell_type": "code",
   "execution_count": 62,
   "id": "ab649f6b-e40e-41b1-8709-86d88ac301cd",
   "metadata": {},
   "outputs": [
    {
     "data": {
      "text/plain": [
       "(3+4j)"
      ]
     },
     "execution_count": 62,
     "metadata": {},
     "output_type": "execute_result"
    }
   ],
   "source": [
    "d = 3 + 4j\n",
    "\n",
    "d"
   ]
  },
  {
   "cell_type": "code",
   "execution_count": 63,
   "id": "7bdd4eaf-2577-4ec5-a12c-830ffcf18a9b",
   "metadata": {},
   "outputs": [
    {
     "data": {
      "text/plain": [
       "(1+2j)"
      ]
     },
     "execution_count": 63,
     "metadata": {},
     "output_type": "execute_result"
    }
   ],
   "source": [
    "c"
   ]
  },
  {
   "cell_type": "code",
   "execution_count": 64,
   "id": "e7f1ee3e-97af-42ed-9f85-d3fcc9fd407f",
   "metadata": {},
   "outputs": [
    {
     "data": {
      "text/plain": [
       "(3+4j)"
      ]
     },
     "execution_count": 64,
     "metadata": {},
     "output_type": "execute_result"
    }
   ],
   "source": [
    "d"
   ]
  },
  {
   "cell_type": "code",
   "execution_count": 65,
   "id": "17b93b4d-7877-451e-a19b-96e1938ab9af",
   "metadata": {},
   "outputs": [
    {
     "data": {
      "text/plain": [
       "(4+6j)"
      ]
     },
     "execution_count": 65,
     "metadata": {},
     "output_type": "execute_result"
    }
   ],
   "source": [
    "c + d"
   ]
  },
  {
   "cell_type": "code",
   "execution_count": 66,
   "id": "bee91485-4418-4734-8f0d-a603334c73f8",
   "metadata": {},
   "outputs": [
    {
     "data": {
      "text/plain": [
       "(-5+10j)"
      ]
     },
     "execution_count": 66,
     "metadata": {},
     "output_type": "execute_result"
    }
   ],
   "source": [
    "c * d"
   ]
  },
  {
   "cell_type": "markdown",
   "id": "0cefde19-05ab-4477-9d1e-5d7df7980451",
   "metadata": {
    "jp-MarkdownHeadingCollapsed": true
   },
   "source": [
    "#### `fractions.Fraction` Typ"
   ]
  },
  {
   "cell_type": "code",
   "execution_count": 67,
   "id": "c4ff305d-fdbb-47ca-bb8b-dda34e79556d",
   "metadata": {},
   "outputs": [],
   "source": [
    "import fractions"
   ]
  },
  {
   "cell_type": "code",
   "execution_count": 68,
   "id": "7c2fe7bc-a02b-44e6-a6a0-5525581be315",
   "metadata": {},
   "outputs": [
    {
     "data": {
      "text/plain": [
       "Fraction(1, 3)"
      ]
     },
     "execution_count": 68,
     "metadata": {},
     "output_type": "execute_result"
    }
   ],
   "source": [
    "fractions.Fraction(1, 3)"
   ]
  },
  {
   "cell_type": "code",
   "execution_count": 69,
   "id": "04e24927-8088-4386-93dd-1b60ea93677b",
   "metadata": {},
   "outputs": [
    {
     "data": {
      "text/plain": [
       "0.3333333333333333"
      ]
     },
     "execution_count": 69,
     "metadata": {},
     "output_type": "execute_result"
    }
   ],
   "source": [
    "1 / 3"
   ]
  },
  {
   "cell_type": "code",
   "execution_count": 70,
   "id": "a37dd152-d68d-47df-96f0-49fc3f4680c6",
   "metadata": {},
   "outputs": [
    {
     "data": {
      "text/plain": [
       "Fraction(1, 1)"
      ]
     },
     "execution_count": 70,
     "metadata": {},
     "output_type": "execute_result"
    }
   ],
   "source": [
    "fractions.Fraction(1, 3) + fractions.Fraction(2, 3)"
   ]
  },
  {
   "cell_type": "code",
   "execution_count": 71,
   "id": "ea86ca48-20d9-45c3-b63e-83897b31f53b",
   "metadata": {},
   "outputs": [
    {
     "data": {
      "text/plain": [
       "Fraction(1, 2)"
      ]
     },
     "execution_count": 71,
     "metadata": {},
     "output_type": "execute_result"
    }
   ],
   "source": [
    "fractions.Fraction(1, 4) + fractions.Fraction(1, 4)"
   ]
  },
  {
   "cell_type": "markdown",
   "id": "b7a4781c-63dc-4e33-b6c3-f34bf0a61b8b",
   "metadata": {
    "jp-MarkdownHeadingCollapsed": true
   },
   "source": [
    "#### `decimal.Decimal` Typ"
   ]
  },
  {
   "cell_type": "code",
   "execution_count": 72,
   "id": "3d535fe7-324f-4c69-9cd9-d64e6438a504",
   "metadata": {},
   "outputs": [],
   "source": [
    "import decimal"
   ]
  },
  {
   "cell_type": "code",
   "execution_count": 73,
   "id": "008ac874-74f6-4ff4-b5cf-8568b8571d1e",
   "metadata": {},
   "outputs": [
    {
     "data": {
      "text/plain": [
       "Decimal('0.10')"
      ]
     },
     "execution_count": 73,
     "metadata": {},
     "output_type": "execute_result"
    }
   ],
   "source": [
    "decimal.Decimal(\"0.10\")"
   ]
  },
  {
   "cell_type": "code",
   "execution_count": 74,
   "id": "052b406f-57d9-4e76-8c8d-2617f4d3231e",
   "metadata": {},
   "outputs": [
    {
     "data": {
      "text/plain": [
       "0.1"
      ]
     },
     "execution_count": 74,
     "metadata": {},
     "output_type": "execute_result"
    }
   ],
   "source": [
    "0.10"
   ]
  },
  {
   "cell_type": "code",
   "execution_count": 75,
   "id": "3575bb5f-d4e4-488f-abe0-d3965c465472",
   "metadata": {},
   "outputs": [
    {
     "data": {
      "text/plain": [
       "True"
      ]
     },
     "execution_count": 75,
     "metadata": {},
     "output_type": "execute_result"
    }
   ],
   "source": [
    "decimal.Decimal(\"0.10\") + decimal.Decimal(\"0.20\") == decimal.Decimal(\"0.30\")"
   ]
  },
  {
   "cell_type": "code",
   "execution_count": 76,
   "id": "2a05f529-f118-4fc9-a36a-8c5a91875776",
   "metadata": {},
   "outputs": [
    {
     "data": {
      "text/plain": [
       "Decimal('0.30')"
      ]
     },
     "execution_count": 76,
     "metadata": {},
     "output_type": "execute_result"
    }
   ],
   "source": [
    "decimal.Decimal(\"0.10\") + decimal.Decimal(\"0.20\")"
   ]
  },
  {
   "cell_type": "code",
   "execution_count": 77,
   "id": "749df9d5-dfef-42b8-bc2d-ee0e40d0ab39",
   "metadata": {},
   "outputs": [
    {
     "data": {
      "text/plain": [
       "Decimal('0.1000000000000000055511151231257827021181583404541015625')"
      ]
     },
     "execution_count": 77,
     "metadata": {},
     "output_type": "execute_result"
    }
   ],
   "source": [
    "decimal.Decimal(0.10)"
   ]
  },
  {
   "cell_type": "markdown",
   "id": "aa0c838d-7196-4e07-aa47-949fd65bd277",
   "metadata": {},
   "source": [
    "## 2) Collections"
   ]
  },
  {
   "cell_type": "markdown",
   "id": "ff52c05b-ee2d-4c3a-bcbd-bc76ae5515d9",
   "metadata": {},
   "source": [
    "Jedes Objekt `obj`, das folgende drei Eigenschaften hat, ist eine **Collection**:\n",
    "1. **Container** => \"Das Objekt `obj` enthält andere Objekte\" => `in` Operator\n",
    "2. **Sized** / \"Länge\" => \"Das Objekt `obj` enthält eine *begrenzte* und vorab bekannte Anzahl an anderen Objekten\" => `len()` Funktion\n",
    "3. **Iterable** / \"Loopbar\" => \"Man kann über das Objekt `obj` loopen\" => `for ... in obj: ...`"
   ]
  },
  {
   "cell_type": "markdown",
   "id": "ca7255ef-4697-48fb-a0ff-5ef8777f57f6",
   "metadata": {
    "jp-MarkdownHeadingCollapsed": true
   },
   "source": [
    "### 2.1) Sequences"
   ]
  },
  {
   "cell_type": "markdown",
   "id": "0f46ef58-2b4f-4c72-a2ac-df4880049649",
   "metadata": {},
   "source": [
    "Jedes Collection Objekt, das auch folgende 4. Eigenschaft hat, ist eine **Sequenz**:\n",
    "\n",
    "4. **Reversible** / \"Reihenfolge\" => \"Die enthaltenen Objekte kommen in einer festen Reihenfolge, die aus dem Quellcode direkt ersichtlich ist\" => `reversed()` Funktion"
   ]
  },
  {
   "cell_type": "markdown",
   "id": "5afe519d-0ae3-45f2-940d-77f121f6fe37",
   "metadata": {},
   "source": [
    "#### `tuple` Typ"
   ]
  },
  {
   "cell_type": "markdown",
   "id": "f5b9c09b-161c-40d6-a419-f5ae8bb2fdb4",
   "metadata": {},
   "source": [
    "`tuple`s sind unveränderliche `list`en"
   ]
  },
  {
   "cell_type": "code",
   "execution_count": 127,
   "id": "4bd5816d-97f5-46c7-b543-b766ddd218fa",
   "metadata": {},
   "outputs": [
    {
     "data": {
      "text/plain": [
       "(3, 4, 5, 5, 1, 2)"
      ]
     },
     "execution_count": 127,
     "metadata": {},
     "output_type": "execute_result"
    }
   ],
   "source": [
    "numbers = (3, 4, 5, 5, 1, 2)\n",
    "\n",
    "numbers"
   ]
  },
  {
   "cell_type": "code",
   "execution_count": 128,
   "id": "30f46198-5ac6-439c-bbef-02331739383d",
   "metadata": {},
   "outputs": [
    {
     "data": {
      "text/plain": [
       "tuple"
      ]
     },
     "execution_count": 128,
     "metadata": {},
     "output_type": "execute_result"
    }
   ],
   "source": [
    "type(numbers)"
   ]
  },
  {
   "cell_type": "code",
   "execution_count": 129,
   "id": "4de01aa8-7704-4cbd-b2cb-b6643f8ed647",
   "metadata": {},
   "outputs": [
    {
     "data": {
      "text/plain": [
       "False"
      ]
     },
     "execution_count": 129,
     "metadata": {},
     "output_type": "execute_result"
    }
   ],
   "source": [
    "0 in numbers"
   ]
  },
  {
   "cell_type": "code",
   "execution_count": 130,
   "id": "a2bc98fb-dc69-44bd-9226-d1079ae87736",
   "metadata": {},
   "outputs": [
    {
     "data": {
      "text/plain": [
       "6"
      ]
     },
     "execution_count": 130,
     "metadata": {},
     "output_type": "execute_result"
    }
   ],
   "source": [
    "len(numbers)"
   ]
  },
  {
   "cell_type": "code",
   "execution_count": 131,
   "id": "f8b54cff-39de-4e80-8294-25fc56c849e2",
   "metadata": {},
   "outputs": [
    {
     "name": "stdout",
     "output_type": "stream",
     "text": [
      "3\n",
      "4\n",
      "5\n",
      "5\n",
      "1\n",
      "2\n"
     ]
    }
   ],
   "source": [
    "for number in numbers:\n",
    "    print(number)"
   ]
  },
  {
   "cell_type": "code",
   "execution_count": 133,
   "id": "06c661c4-2cbf-4df5-8732-eb93845dbc68",
   "metadata": {},
   "outputs": [
    {
     "name": "stdout",
     "output_type": "stream",
     "text": [
      "2\n",
      "1\n",
      "5\n",
      "5\n",
      "4\n",
      "3\n"
     ]
    }
   ],
   "source": [
    "for number in reversed(numbers):\n",
    "    print(number)"
   ]
  },
  {
   "cell_type": "code",
   "execution_count": 134,
   "id": "883d2df4-d8cd-4c7d-86b4-449411c328f7",
   "metadata": {},
   "outputs": [
    {
     "data": {
      "text/plain": [
       "3"
      ]
     },
     "execution_count": 134,
     "metadata": {},
     "output_type": "execute_result"
    }
   ],
   "source": [
    "numbers[0]"
   ]
  },
  {
   "cell_type": "code",
   "execution_count": 135,
   "id": "ec62c16c-d5e7-494d-ad45-45f7c12a0c24",
   "metadata": {},
   "outputs": [
    {
     "ename": "TypeError",
     "evalue": "'tuple' object does not support item assignment",
     "output_type": "error",
     "traceback": [
      "\u001b[0;31m---------------------------------------------------------------------------\u001b[0m",
      "\u001b[0;31mTypeError\u001b[0m                                 Traceback (most recent call last)",
      "Cell \u001b[0;32mIn[135], line 1\u001b[0m\n\u001b[0;32m----> 1\u001b[0m \u001b[43mnumbers\u001b[49m\u001b[43m[\u001b[49m\u001b[38;5;241;43m0\u001b[39;49m\u001b[43m]\u001b[49m \u001b[38;5;241m=\u001b[39m \u001b[38;5;241m99\u001b[39m\n",
      "\u001b[0;31mTypeError\u001b[0m: 'tuple' object does not support item assignment"
     ]
    }
   ],
   "source": [
    "numbers[0] = 99  # immutable"
   ]
  },
  {
   "cell_type": "markdown",
   "id": "77e02f8f-e7f4-4a29-b217-36764e96b9c1",
   "metadata": {
    "jp-MarkdownHeadingCollapsed": true
   },
   "source": [
    "#### `list` Typ"
   ]
  },
  {
   "cell_type": "code",
   "execution_count": 136,
   "id": "180b8010-cdb9-4298-9e20-55af1d355619",
   "metadata": {},
   "outputs": [
    {
     "data": {
      "text/plain": [
       "[3, 4, 5, 5, 1, 2]"
      ]
     },
     "execution_count": 136,
     "metadata": {},
     "output_type": "execute_result"
    }
   ],
   "source": [
    "numbers = [3, 4, 5, 5, 1, 2]\n",
    "\n",
    "numbers"
   ]
  },
  {
   "cell_type": "code",
   "execution_count": 83,
   "id": "55898499-44b0-4990-a416-0e40b21d9314",
   "metadata": {},
   "outputs": [
    {
     "data": {
      "text/plain": [
       "list"
      ]
     },
     "execution_count": 83,
     "metadata": {},
     "output_type": "execute_result"
    }
   ],
   "source": [
    "type(numbers)"
   ]
  },
  {
   "cell_type": "code",
   "execution_count": 87,
   "id": "1df6f270-059c-41bb-a6d6-af58757adf08",
   "metadata": {},
   "outputs": [
    {
     "data": {
      "text/plain": [
       "False"
      ]
     },
     "execution_count": 87,
     "metadata": {},
     "output_type": "execute_result"
    }
   ],
   "source": [
    "0 in numbers"
   ]
  },
  {
   "cell_type": "code",
   "execution_count": 88,
   "id": "e6defaca-78d4-49fc-81c1-c0425c4752bc",
   "metadata": {},
   "outputs": [
    {
     "data": {
      "text/plain": [
       "True"
      ]
     },
     "execution_count": 88,
     "metadata": {},
     "output_type": "execute_result"
    }
   ],
   "source": [
    "5 in numbers"
   ]
  },
  {
   "cell_type": "code",
   "execution_count": 93,
   "id": "f663b28c-3e74-4efa-97e8-fb3627b37679",
   "metadata": {},
   "outputs": [
    {
     "ename": "TypeError",
     "evalue": "argument of type 'int' is not iterable",
     "output_type": "error",
     "traceback": [
      "\u001b[0;31m---------------------------------------------------------------------------\u001b[0m",
      "\u001b[0;31mTypeError\u001b[0m                                 Traceback (most recent call last)",
      "Cell \u001b[0;32mIn[93], line 1\u001b[0m\n\u001b[0;32m----> 1\u001b[0m \u001b[38;5;241;43m1\u001b[39;49m\u001b[43m \u001b[49m\u001b[38;5;129;43;01min\u001b[39;49;00m\u001b[43m \u001b[49m\u001b[38;5;241;43m123\u001b[39;49m\n",
      "\u001b[0;31mTypeError\u001b[0m: argument of type 'int' is not iterable"
     ]
    }
   ],
   "source": [
    "1 in 123  # TypeError => die 123, ein int, ist kein Container"
   ]
  },
  {
   "cell_type": "code",
   "execution_count": 94,
   "id": "94c1f488-368e-4949-808e-5f7ed6bf8cd6",
   "metadata": {},
   "outputs": [
    {
     "data": {
      "text/plain": [
       "6"
      ]
     },
     "execution_count": 94,
     "metadata": {},
     "output_type": "execute_result"
    }
   ],
   "source": [
    "len(numbers)  # Anzahl der Elemente"
   ]
  },
  {
   "cell_type": "code",
   "execution_count": 96,
   "id": "eee87924-bf2c-498a-bd5d-b5fe44bc0beb",
   "metadata": {},
   "outputs": [
    {
     "ename": "TypeError",
     "evalue": "object of type 'int' has no len()",
     "output_type": "error",
     "traceback": [
      "\u001b[0;31m---------------------------------------------------------------------------\u001b[0m",
      "\u001b[0;31mTypeError\u001b[0m                                 Traceback (most recent call last)",
      "Cell \u001b[0;32mIn[96], line 1\u001b[0m\n\u001b[0;32m----> 1\u001b[0m \u001b[38;5;28;43mlen\u001b[39;49m\u001b[43m(\u001b[49m\u001b[38;5;241;43m123\u001b[39;49m\u001b[43m)\u001b[49m  \u001b[38;5;66;03m# Möglich: 3 Ziffern? Aber => NEIN: ein int hat keine Länge\u001b[39;00m\n",
      "\u001b[0;31mTypeError\u001b[0m: object of type 'int' has no len()"
     ]
    }
   ],
   "source": [
    "len(123)  # Möglich: 3 Ziffern? Aber => NEIN: ein int hat keine Länge"
   ]
  },
  {
   "cell_type": "code",
   "execution_count": 99,
   "id": "466cd5aa-fdd4-40ee-978d-ac6e0736f8a0",
   "metadata": {},
   "outputs": [
    {
     "name": "stdout",
     "output_type": "stream",
     "text": [
      "3\n",
      "4\n",
      "5\n",
      "5\n",
      "1\n",
      "2\n"
     ]
    }
   ],
   "source": [
    "for number in numbers:\n",
    "    print(number)"
   ]
  },
  {
   "cell_type": "code",
   "execution_count": 110,
   "id": "93309111-48c8-4ea8-a6c4-ae260f1e77a8",
   "metadata": {},
   "outputs": [
    {
     "data": {
      "text/plain": [
       "<list_reverseiterator at 0x7fdcec8b47f0>"
      ]
     },
     "execution_count": 110,
     "metadata": {},
     "output_type": "execute_result"
    }
   ],
   "source": [
    "reversed(numbers)  # Iteratoren lernen wir nächstes Semester"
   ]
  },
  {
   "cell_type": "code",
   "execution_count": 107,
   "id": "5b4f96d0-f0bf-497a-a060-f38346a638fa",
   "metadata": {},
   "outputs": [
    {
     "name": "stdout",
     "output_type": "stream",
     "text": [
      "2\n",
      "1\n",
      "5\n",
      "5\n",
      "4\n",
      "3\n"
     ]
    }
   ],
   "source": [
    "for number in reversed(numbers):\n",
    "    print(number)"
   ]
  },
  {
   "cell_type": "markdown",
   "id": "980ef0e1-2da8-4dd7-a1e8-e4d4cc712e56",
   "metadata": {
    "jp-MarkdownHeadingCollapsed": true
   },
   "source": [
    "#### `str` Typ"
   ]
  },
  {
   "cell_type": "code",
   "execution_count": 84,
   "id": "86919793-11a9-464f-a0c8-9475b3e56b70",
   "metadata": {},
   "outputs": [
    {
     "data": {
      "text/plain": [
       "'Irgendein Satz.'"
      ]
     },
     "execution_count": 84,
     "metadata": {},
     "output_type": "execute_result"
    }
   ],
   "source": [
    "text = \"Irgendein Satz.\"\n",
    "\n",
    "text"
   ]
  },
  {
   "cell_type": "code",
   "execution_count": 85,
   "id": "e5681861-6083-46e1-88d5-abdb2bc81c49",
   "metadata": {},
   "outputs": [
    {
     "data": {
      "text/plain": [
       "str"
      ]
     },
     "execution_count": 85,
     "metadata": {},
     "output_type": "execute_result"
    }
   ],
   "source": [
    "type(text)"
   ]
  },
  {
   "cell_type": "code",
   "execution_count": 90,
   "id": "b3bbb2c6-e512-4221-ab40-3f9c78ee4d22",
   "metadata": {},
   "outputs": [
    {
     "data": {
      "text/plain": [
       "True"
      ]
     },
     "execution_count": 90,
     "metadata": {},
     "output_type": "execute_result"
    }
   ],
   "source": [
    "\"z\" in text"
   ]
  },
  {
   "cell_type": "code",
   "execution_count": 91,
   "id": "86fbe4cd-1d60-4001-999b-51c64cdda8f1",
   "metadata": {},
   "outputs": [
    {
     "data": {
      "text/plain": [
       "False"
      ]
     },
     "execution_count": 91,
     "metadata": {},
     "output_type": "execute_result"
    }
   ],
   "source": [
    "\"Z\" in text"
   ]
  },
  {
   "cell_type": "code",
   "execution_count": 92,
   "id": "d1a5f936-a30e-4863-929b-9167247dc5a3",
   "metadata": {},
   "outputs": [
    {
     "data": {
      "text/plain": [
       "True"
      ]
     },
     "execution_count": 92,
     "metadata": {},
     "output_type": "execute_result"
    }
   ],
   "source": [
    "\"ein\" in text  # Substring"
   ]
  },
  {
   "cell_type": "code",
   "execution_count": 98,
   "id": "889aae06-b6b2-43f3-8d9d-2b6f3d17fa54",
   "metadata": {},
   "outputs": [
    {
     "data": {
      "text/plain": [
       "15"
      ]
     },
     "execution_count": 98,
     "metadata": {},
     "output_type": "execute_result"
    }
   ],
   "source": [
    "len(text)  # Anzahl der (Unicode) Symbole"
   ]
  },
  {
   "cell_type": "code",
   "execution_count": 101,
   "id": "4c305deb-8100-49b9-93e8-b6fd310c14a5",
   "metadata": {},
   "outputs": [
    {
     "name": "stdout",
     "output_type": "stream",
     "text": [
      "I\n",
      "r\n",
      "g\n",
      "e\n",
      "n\n",
      "d\n",
      "e\n",
      "i\n",
      "n\n",
      " \n",
      "S\n",
      "a\n",
      "t\n",
      "z\n",
      ".\n"
     ]
    }
   ],
   "source": [
    "for sym in text:\n",
    "    print(sym)"
   ]
  },
  {
   "cell_type": "code",
   "execution_count": 108,
   "id": "40e308dd-9bae-42cf-906d-6d29cfc6b712",
   "metadata": {},
   "outputs": [
    {
     "name": "stdout",
     "output_type": "stream",
     "text": [
      ".\n",
      "z\n",
      "t\n",
      "a\n",
      "S\n",
      " \n",
      "n\n",
      "i\n",
      "e\n",
      "d\n",
      "n\n",
      "e\n",
      "g\n",
      "r\n",
      "I\n"
     ]
    }
   ],
   "source": [
    "for sym in reversed(text):\n",
    "    print(sym)"
   ]
  },
  {
   "cell_type": "markdown",
   "id": "0bc94f4a-503f-44f9-8e9c-3e94375e9592",
   "metadata": {
    "jp-MarkdownHeadingCollapsed": true
   },
   "source": [
    "#### Was haben alle Sequenzen gemeinsam?"
   ]
  },
  {
   "cell_type": "code",
   "execution_count": 137,
   "id": "b6bbfe44-83ea-4224-be4d-d5c6f9d0d066",
   "metadata": {},
   "outputs": [
    {
     "data": {
      "text/plain": [
       "[3, 4, 5, 5, 1, 2]"
      ]
     },
     "execution_count": 137,
     "metadata": {},
     "output_type": "execute_result"
    }
   ],
   "source": [
    "numbers"
   ]
  },
  {
   "cell_type": "code",
   "execution_count": 138,
   "id": "cb8afc3e-a2fc-418a-bbdf-45fb10e5bfff",
   "metadata": {},
   "outputs": [
    {
     "data": {
      "text/plain": [
       "'Irgendein Satz.'"
      ]
     },
     "execution_count": 138,
     "metadata": {},
     "output_type": "execute_result"
    }
   ],
   "source": [
    "text"
   ]
  },
  {
   "cell_type": "markdown",
   "id": "fffad61a-221e-498e-8b98-7698c2f262f1",
   "metadata": {},
   "source": [
    "**Indexing** (read-only)"
   ]
  },
  {
   "cell_type": "code",
   "execution_count": 140,
   "id": "ee0a76f9-05cc-4268-867b-13416228fcf9",
   "metadata": {},
   "outputs": [
    {
     "data": {
      "text/plain": [
       "3"
      ]
     },
     "execution_count": 140,
     "metadata": {},
     "output_type": "execute_result"
    }
   ],
   "source": [
    "numbers[0]  # weil es eine Reihenfolge gibt"
   ]
  },
  {
   "cell_type": "code",
   "execution_count": 142,
   "id": "ddbc86a6-0fa7-489c-be93-ec3c080d347b",
   "metadata": {},
   "outputs": [
    {
     "data": {
      "text/plain": [
       "2"
      ]
     },
     "execution_count": 142,
     "metadata": {},
     "output_type": "execute_result"
    }
   ],
   "source": [
    "numbers[-1]  # -1 würde nicht gehen, wenn Sequenzen keine Länge hätten"
   ]
  },
  {
   "cell_type": "markdown",
   "id": "953dd8dd-d16c-4bbc-8f92-7da2ba0bf018",
   "metadata": {},
   "source": [
    "**Slicing**"
   ]
  },
  {
   "cell_type": "code",
   "execution_count": 145,
   "id": "716a6d37-0ab9-46f5-98f1-85bd5dda1cbb",
   "metadata": {},
   "outputs": [
    {
     "data": {
      "text/plain": [
       "[3, 4, 5, 5, 1, 2]"
      ]
     },
     "execution_count": 145,
     "metadata": {},
     "output_type": "execute_result"
    }
   ],
   "source": [
    "numbers"
   ]
  },
  {
   "cell_type": "code",
   "execution_count": 146,
   "id": "f2c3937a-6858-4052-ac85-851ed3d5b915",
   "metadata": {},
   "outputs": [
    {
     "data": {
      "text/plain": [
       "[4, 5]"
      ]
     },
     "execution_count": 146,
     "metadata": {},
     "output_type": "execute_result"
    }
   ],
   "source": [
    "numbers[1:3]  # 1 ist eingeschlossen, 3 ist ausgeschlossen"
   ]
  },
  {
   "cell_type": "code",
   "execution_count": 147,
   "id": "0d8da5bf-be85-42ca-a7d7-5ed79ee10bd5",
   "metadata": {},
   "outputs": [
    {
     "data": {
      "text/plain": [
       "[3, 4, 5]"
      ]
     },
     "execution_count": 147,
     "metadata": {},
     "output_type": "execute_result"
    }
   ],
   "source": [
    "numbers[0:3]"
   ]
  },
  {
   "cell_type": "code",
   "execution_count": 148,
   "id": "487b7c93-fb2b-45ce-adc3-4fc5b12b5332",
   "metadata": {},
   "outputs": [
    {
     "data": {
      "text/plain": [
       "[3, 4, 5]"
      ]
     },
     "execution_count": 148,
     "metadata": {},
     "output_type": "execute_result"
    }
   ],
   "source": [
    "numbers[:3]"
   ]
  },
  {
   "cell_type": "code",
   "execution_count": 149,
   "id": "7e20a7a8-f834-4395-a17e-107a0b4416c1",
   "metadata": {},
   "outputs": [
    {
     "data": {
      "text/plain": [
       "[5, 1, 2]"
      ]
     },
     "execution_count": 149,
     "metadata": {},
     "output_type": "execute_result"
    }
   ],
   "source": [
    "numbers[-3:len(numbers)]  # \"bis zum Ende\""
   ]
  },
  {
   "cell_type": "code",
   "execution_count": 150,
   "id": "1b3353fd-f679-4891-a305-63f76f46b709",
   "metadata": {},
   "outputs": [
    {
     "data": {
      "text/plain": [
       "[5, 1, 2]"
      ]
     },
     "execution_count": 150,
     "metadata": {},
     "output_type": "execute_result"
    }
   ],
   "source": [
    "numbers[-3:]"
   ]
  },
  {
   "cell_type": "code",
   "execution_count": 152,
   "id": "53e0d7b4-a85e-46e8-9a0c-b4ff260e8e40",
   "metadata": {},
   "outputs": [
    {
     "data": {
      "text/plain": [
       "[4, 5]"
      ]
     },
     "execution_count": 152,
     "metadata": {},
     "output_type": "execute_result"
    }
   ],
   "source": [
    "numbers[1:-1:2]"
   ]
  },
  {
   "cell_type": "code",
   "execution_count": 153,
   "id": "dcfcdca5-3eea-4834-9ee9-400ea3ad5e65",
   "metadata": {},
   "outputs": [
    {
     "data": {
      "text/plain": [
       "[3, 5, 1]"
      ]
     },
     "execution_count": 153,
     "metadata": {},
     "output_type": "execute_result"
    }
   ],
   "source": [
    "numbers[::2]  # downsampling"
   ]
  },
  {
   "cell_type": "markdown",
   "id": "02a64516-2ec3-4556-9e79-5d313b20d408",
   "metadata": {},
   "source": [
    "Funktionen, die \"nur\" Sequenzen als Input brauchen"
   ]
  },
  {
   "cell_type": "code",
   "execution_count": 154,
   "id": "736cc5a6-8bb7-4f0f-a191-fe69bda7b2a6",
   "metadata": {},
   "outputs": [],
   "source": [
    "import random"
   ]
  },
  {
   "cell_type": "code",
   "execution_count": 155,
   "id": "ee884cd1-388c-4b6e-bda4-ea440d940e38",
   "metadata": {},
   "outputs": [
    {
     "data": {
      "text/plain": [
       "\u001b[0;31mSignature:\u001b[0m \u001b[0mrandom\u001b[0m\u001b[0;34m.\u001b[0m\u001b[0mchoice\u001b[0m\u001b[0;34m(\u001b[0m\u001b[0mseq\u001b[0m\u001b[0;34m)\u001b[0m\u001b[0;34m\u001b[0m\u001b[0;34m\u001b[0m\u001b[0m\n",
       "\u001b[0;31mDocstring:\u001b[0m Choose a random element from a non-empty sequence.\n",
       "\u001b[0;31mFile:\u001b[0m      /opt/python/versions/3.12.0/lib/python3.12/random.py\n",
       "\u001b[0;31mType:\u001b[0m      method"
      ]
     },
     "metadata": {},
     "output_type": "display_data"
    }
   ],
   "source": [
    "random.choice?"
   ]
  },
  {
   "cell_type": "code",
   "execution_count": 156,
   "id": "814c01f7-d0cf-483c-8acf-8c01a3300c06",
   "metadata": {},
   "outputs": [
    {
     "data": {
      "text/plain": [
       "3"
      ]
     },
     "execution_count": 156,
     "metadata": {},
     "output_type": "execute_result"
    }
   ],
   "source": [
    "random.choice([1, 2, 3])"
   ]
  },
  {
   "cell_type": "code",
   "execution_count": 157,
   "id": "041c7e78-4c9b-4418-b399-13da7c867a45",
   "metadata": {},
   "outputs": [
    {
     "data": {
      "text/plain": [
       "3"
      ]
     },
     "execution_count": 157,
     "metadata": {},
     "output_type": "execute_result"
    }
   ],
   "source": [
    "random.choice((1, 2, 3))"
   ]
  },
  {
   "cell_type": "code",
   "execution_count": 158,
   "id": "eb7de8e0-2fae-4f63-9691-ceb9eb73f990",
   "metadata": {},
   "outputs": [
    {
     "ename": "TypeError",
     "evalue": "'set' object is not subscriptable",
     "output_type": "error",
     "traceback": [
      "\u001b[0;31m---------------------------------------------------------------------------\u001b[0m",
      "\u001b[0;31mTypeError\u001b[0m                                 Traceback (most recent call last)",
      "Cell \u001b[0;32mIn[158], line 1\u001b[0m\n\u001b[0;32m----> 1\u001b[0m \u001b[43mrandom\u001b[49m\u001b[38;5;241;43m.\u001b[39;49m\u001b[43mchoice\u001b[49m\u001b[43m(\u001b[49m\u001b[43m{\u001b[49m\u001b[38;5;241;43m1\u001b[39;49m\u001b[43m,\u001b[49m\u001b[43m \u001b[49m\u001b[38;5;241;43m2\u001b[39;49m\u001b[43m,\u001b[49m\u001b[43m \u001b[49m\u001b[38;5;241;43m3\u001b[39;49m\u001b[43m}\u001b[49m\u001b[43m)\u001b[49m\n",
      "File \u001b[0;32m/opt/python/versions/3.12.0/lib/python3.12/random.py:348\u001b[0m, in \u001b[0;36mRandom.choice\u001b[0;34m(self, seq)\u001b[0m\n\u001b[1;32m    346\u001b[0m \u001b[38;5;28;01mif\u001b[39;00m \u001b[38;5;129;01mnot\u001b[39;00m \u001b[38;5;28mlen\u001b[39m(seq):\n\u001b[1;32m    347\u001b[0m     \u001b[38;5;28;01mraise\u001b[39;00m \u001b[38;5;167;01mIndexError\u001b[39;00m(\u001b[38;5;124m'\u001b[39m\u001b[38;5;124mCannot choose from an empty sequence\u001b[39m\u001b[38;5;124m'\u001b[39m)\n\u001b[0;32m--> 348\u001b[0m \u001b[38;5;28;01mreturn\u001b[39;00m \u001b[43mseq\u001b[49m\u001b[43m[\u001b[49m\u001b[38;5;28;43mself\u001b[39;49m\u001b[38;5;241;43m.\u001b[39;49m\u001b[43m_randbelow\u001b[49m\u001b[43m(\u001b[49m\u001b[38;5;28;43mlen\u001b[39;49m\u001b[43m(\u001b[49m\u001b[43mseq\u001b[49m\u001b[43m)\u001b[49m\u001b[43m)\u001b[49m\u001b[43m]\u001b[49m\n",
      "\u001b[0;31mTypeError\u001b[0m: 'set' object is not subscriptable"
     ]
    }
   ],
   "source": [
    "random.choice({1, 2, 3})  # set's haben keine Reihenfolge"
   ]
  },
  {
   "cell_type": "code",
   "execution_count": 160,
   "id": "734828cc-d219-4c3b-b77f-819eafaccf62",
   "metadata": {},
   "outputs": [
    {
     "data": {
      "text/plain": [
       "'I'"
      ]
     },
     "execution_count": 160,
     "metadata": {},
     "output_type": "execute_result"
    }
   ],
   "source": [
    "text[0]"
   ]
  },
  {
   "cell_type": "code",
   "execution_count": 161,
   "id": "8a30d51e-c177-4e78-a7cd-9545ed24aba8",
   "metadata": {},
   "outputs": [
    {
     "data": {
      "text/plain": [
       "'.'"
      ]
     },
     "execution_count": 161,
     "metadata": {},
     "output_type": "execute_result"
    }
   ],
   "source": [
    "text[-1]"
   ]
  },
  {
   "cell_type": "code",
   "execution_count": 175,
   "id": "e7a864f9-cc93-44e7-8498-4ad008d93225",
   "metadata": {},
   "outputs": [
    {
     "data": {
      "text/plain": [
       "'a'"
      ]
     },
     "execution_count": 175,
     "metadata": {},
     "output_type": "execute_result"
    }
   ],
   "source": [
    "random.choice(\"abc\")"
   ]
  },
  {
   "cell_type": "markdown",
   "id": "1a5a794f-fbe7-4a8e-82a7-ef173d0fb8c8",
   "metadata": {
    "jp-MarkdownHeadingCollapsed": true
   },
   "source": [
    "### 2.2) Sets / Mengen"
   ]
  },
  {
   "cell_type": "markdown",
   "id": "0b92f7d7-7740-4462-8a0c-5cf63ace0a1f",
   "metadata": {},
   "source": [
    "Jedes Collection Objekt, das auch folgende 4. Eigenschaft hat, ist eine **Menge**:\n",
    "\n",
    "4. math. Mengeneigenschaften treffen zu\n",
    "   - man kann entweder in oder nicht in der Mengen enthalten, aber nicht mehrmals\n",
    "   - es gibt keine Reihenfolge unter den Elementen"
   ]
  },
  {
   "cell_type": "markdown",
   "id": "7f934838-f7c0-449c-8832-23802c605502",
   "metadata": {
    "jp-MarkdownHeadingCollapsed": true
   },
   "source": [
    "#### `set` Typ"
   ]
  },
  {
   "cell_type": "code",
   "execution_count": 111,
   "id": "1b50e7f5-35e6-49d9-bc9d-39b82b8b6410",
   "metadata": {},
   "outputs": [
    {
     "data": {
      "text/plain": [
       "{1, 2, 3, 4, 5}"
      ]
     },
     "execution_count": 111,
     "metadata": {},
     "output_type": "execute_result"
    }
   ],
   "source": [
    "menge = {3, 4, 5, 5, 1, 2}\n",
    "\n",
    "menge"
   ]
  },
  {
   "cell_type": "code",
   "execution_count": 112,
   "id": "127c57e0-331d-4d10-adc6-a206fe90e0c5",
   "metadata": {},
   "outputs": [
    {
     "data": {
      "text/plain": [
       "set"
      ]
     },
     "execution_count": 112,
     "metadata": {},
     "output_type": "execute_result"
    }
   ],
   "source": [
    "type(menge)"
   ]
  },
  {
   "cell_type": "code",
   "execution_count": 113,
   "id": "df45f4a3-d842-437f-9782-2a3c41ab760c",
   "metadata": {},
   "outputs": [
    {
     "ename": "TypeError",
     "evalue": "'set' object is not reversible",
     "output_type": "error",
     "traceback": [
      "\u001b[0;31m---------------------------------------------------------------------------\u001b[0m",
      "\u001b[0;31mTypeError\u001b[0m                                 Traceback (most recent call last)",
      "Cell \u001b[0;32mIn[113], line 1\u001b[0m\n\u001b[0;32m----> 1\u001b[0m \u001b[38;5;28;43mreversed\u001b[39;49m\u001b[43m(\u001b[49m\u001b[43mmenge\u001b[49m\u001b[43m)\u001b[49m\n",
      "\u001b[0;31mTypeError\u001b[0m: 'set' object is not reversible"
     ]
    }
   ],
   "source": [
    "reversed(menge)"
   ]
  },
  {
   "cell_type": "code",
   "execution_count": 114,
   "id": "1d731cf4-7871-467f-b4b3-272ca4b272bc",
   "metadata": {},
   "outputs": [],
   "source": [
    "untermenge = {1, 2, 3}"
   ]
  },
  {
   "cell_type": "code",
   "execution_count": 115,
   "id": "191621e7-569b-4529-b703-afb24d78b58a",
   "metadata": {},
   "outputs": [
    {
     "data": {
      "text/plain": [
       "{1, 2, 3, 4, 5}"
      ]
     },
     "execution_count": 115,
     "metadata": {},
     "output_type": "execute_result"
    }
   ],
   "source": [
    "menge"
   ]
  },
  {
   "cell_type": "code",
   "execution_count": 117,
   "id": "ebf82109-6067-4b41-801d-cebae3b17992",
   "metadata": {},
   "outputs": [
    {
     "data": {
      "text/plain": [
       "{1, 2, 3}"
      ]
     },
     "execution_count": 117,
     "metadata": {},
     "output_type": "execute_result"
    }
   ],
   "source": [
    "untermenge"
   ]
  },
  {
   "cell_type": "code",
   "execution_count": 118,
   "id": "215d8b97-d819-457a-a3de-0476c350f227",
   "metadata": {},
   "outputs": [
    {
     "data": {
      "text/plain": [
       "True"
      ]
     },
     "execution_count": 118,
     "metadata": {},
     "output_type": "execute_result"
    }
   ],
   "source": [
    "menge.issuperset(untermenge)"
   ]
  },
  {
   "cell_type": "code",
   "execution_count": 119,
   "id": "6cf2927d-4ff7-4eda-9624-b6aba63b7eec",
   "metadata": {},
   "outputs": [
    {
     "data": {
      "text/plain": [
       "True"
      ]
     },
     "execution_count": 119,
     "metadata": {},
     "output_type": "execute_result"
    }
   ],
   "source": [
    "untermenge.issubset(menge)"
   ]
  },
  {
   "cell_type": "code",
   "execution_count": 120,
   "id": "da838ca6-3ded-4037-8f5f-71be69d2177b",
   "metadata": {},
   "outputs": [],
   "source": [
    "andere_menge = {4, 5, 6}"
   ]
  },
  {
   "cell_type": "code",
   "execution_count": 121,
   "id": "8d0a61c4-e276-4717-8e88-820c63173c9f",
   "metadata": {},
   "outputs": [
    {
     "data": {
      "text/plain": [
       "{1, 2, 3, 4, 5}"
      ]
     },
     "execution_count": 121,
     "metadata": {},
     "output_type": "execute_result"
    }
   ],
   "source": [
    "menge"
   ]
  },
  {
   "cell_type": "code",
   "execution_count": 122,
   "id": "6b736208-24b9-481e-ab40-62f082bf81d9",
   "metadata": {},
   "outputs": [
    {
     "data": {
      "text/plain": [
       "{4, 5, 6}"
      ]
     },
     "execution_count": 122,
     "metadata": {},
     "output_type": "execute_result"
    }
   ],
   "source": [
    "andere_menge"
   ]
  },
  {
   "cell_type": "code",
   "execution_count": 123,
   "id": "4c708db6-a735-47dc-bf51-abff13079ccd",
   "metadata": {},
   "outputs": [
    {
     "data": {
      "text/plain": [
       "{4, 5}"
      ]
     },
     "execution_count": 123,
     "metadata": {},
     "output_type": "execute_result"
    }
   ],
   "source": [
    "menge & andere_menge  # Schnittmenge"
   ]
  },
  {
   "cell_type": "code",
   "execution_count": 124,
   "id": "853bf7ee-0b2d-4fdb-ba55-b8a6678db644",
   "metadata": {},
   "outputs": [
    {
     "data": {
      "text/plain": [
       "{1, 2, 3, 4, 5, 6}"
      ]
     },
     "execution_count": 124,
     "metadata": {},
     "output_type": "execute_result"
    }
   ],
   "source": [
    "menge | andere_menge  # Vereinigungsmenge"
   ]
  },
  {
   "cell_type": "code",
   "execution_count": 125,
   "id": "6968052a-e537-49c8-bdc1-d741d59130e0",
   "metadata": {},
   "outputs": [
    {
     "data": {
      "text/plain": [
       "set()"
      ]
     },
     "execution_count": 125,
     "metadata": {},
     "output_type": "execute_result"
    }
   ],
   "source": [
    "untermenge & andere_menge"
   ]
  },
  {
   "cell_type": "markdown",
   "id": "b2e8d159-35c9-462a-8ccb-2cb2d08f71b9",
   "metadata": {
    "jp-MarkdownHeadingCollapsed": true
   },
   "source": [
    "### 2.3) Mappings / Zuordnungen"
   ]
  },
  {
   "cell_type": "markdown",
   "id": "dafe0f8e-6802-4e0a-b932-1c0ab9896120",
   "metadata": {},
   "source": [
    "Jedes Collection Objekt, das auch folgende 4. Eigenschaft hat, ist ein **Mapping**:\n",
    "\n",
    "4. Zuordnung der enthaltenen Objekte untereinander"
   ]
  },
  {
   "cell_type": "markdown",
   "id": "daa25858-79b7-4fba-a011-b39592ad6261",
   "metadata": {},
   "source": [
    "#### `dict`ionary Typ"
   ]
  },
  {
   "cell_type": "code",
   "execution_count": 178,
   "id": "f855fb9d-b430-45ee-baf9-1d2518c492df",
   "metadata": {},
   "outputs": [
    {
     "data": {
      "text/plain": [
       "{0: 'NULL', 1: 'eins', 2: 'zwei'}"
      ]
     },
     "execution_count": 178,
     "metadata": {},
     "output_type": "execute_result"
    }
   ],
   "source": [
    "to_words = {\n",
    "    # X -> Y = f(X)\n",
    "    # Keys: Values (Key-Value Paar => Item)\n",
    "    0: \"null\",\n",
    "    1: \"eins\",\n",
    "    2: \"zwei\",\n",
    "    0: \"NULL\",  # überschreibt das obere => Reihenfolge nicht direkt aus Quellcode ersichtlich\n",
    "}\n",
    "\n",
    "to_words"
   ]
  },
  {
   "cell_type": "code",
   "execution_count": 179,
   "id": "2e5d54d2-6229-486c-a008-1161fa50058b",
   "metadata": {},
   "outputs": [
    {
     "data": {
      "text/plain": [
       "dict"
      ]
     },
     "execution_count": 179,
     "metadata": {},
     "output_type": "execute_result"
    }
   ],
   "source": [
    "type(to_words)"
   ]
  },
  {
   "cell_type": "code",
   "execution_count": 180,
   "id": "66279d1f-8124-4d9e-bf2e-46a14bee4135",
   "metadata": {},
   "outputs": [
    {
     "data": {
      "text/plain": [
       "[3, 4, 5, 5, 1, 2]"
      ]
     },
     "execution_count": 180,
     "metadata": {},
     "output_type": "execute_result"
    }
   ],
   "source": [
    "numbers"
   ]
  },
  {
   "cell_type": "code",
   "execution_count": 181,
   "id": "75e0069a-1acb-4853-abc3-3a79e570e1a6",
   "metadata": {},
   "outputs": [
    {
     "data": {
      "text/plain": [
       "False"
      ]
     },
     "execution_count": 181,
     "metadata": {},
     "output_type": "execute_result"
    }
   ],
   "source": [
    "0 in numbers  # lineare Suche/Zeit => \"for-loop von links nach rechts\""
   ]
  },
  {
   "cell_type": "code",
   "execution_count": 183,
   "id": "43a08a18-32dc-4d33-b636-6a55b4722b6f",
   "metadata": {},
   "outputs": [
    {
     "data": {
      "text/plain": [
       "True"
      ]
     },
     "execution_count": 183,
     "metadata": {},
     "output_type": "execute_result"
    }
   ],
   "source": [
    "0 in to_words  # konstante Zeit => egal wie groß, immer gleiche Such-Dauer"
   ]
  }
 ],
 "metadata": {
  "kernelspec": {
   "display_name": "Python 3.12",
   "language": "python",
   "name": "python3.12"
  },
  "language_info": {
   "codemirror_mode": {
    "name": "ipython",
    "version": 3
   },
   "file_extension": ".py",
   "mimetype": "text/x-python",
   "name": "python",
   "nbconvert_exporter": "python",
   "pygments_lexer": "ipython3",
   "version": "3.12.0"
  }
 },
 "nbformat": 4,
 "nbformat_minor": 5
}
