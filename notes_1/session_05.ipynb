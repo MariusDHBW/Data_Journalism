{
 "cells": [
  {
   "cell_type": "markdown",
   "id": "17067d66-714f-4b93-8f94-68d61ba4f59c",
   "metadata": {},
   "source": [
    "# Arten von Fehlern"
   ]
  },
  {
   "cell_type": "markdown",
   "id": "d43b7402-ff14-419f-b56a-ef6408abf863",
   "metadata": {},
   "source": [
    "## 1) Syntax Fehler"
   ]
  },
  {
   "cell_type": "markdown",
   "id": "a49b0628-46d2-4ff6-a466-8e13de7a1fb4",
   "metadata": {},
   "source": [
    "- Python versteht nicht, was wir wollen\n",
    "- \"irgendetwas stimmt mit dem Code nicht\"\n",
    "- ein Zeichen zu viel, zu wenig, oder ein falsches\n",
    "- Charakteristik:\n",
    "  - der Code / das Program beginnt noch *nicht* einmal zu laufen\n",
    "  - (rote) Fehlermeldung wird immer angezeigt\n",
    "- Lösung: \"Rechtschreibfehler\" korrigieren"
   ]
  },
  {
   "cell_type": "code",
   "execution_count": 5,
   "id": "c6f760f1-c5cc-4e7a-aeb0-9d0109f03c72",
   "metadata": {},
   "outputs": [
    {
     "ename": "SyntaxError",
     "evalue": "invalid syntax (1786703696.py, line 1)",
     "output_type": "error",
     "traceback": [
      "\u001b[0;36m  Cell \u001b[0;32mIn[5], line 1\u001b[0;36m\u001b[0m\n\u001b[0;31m    1.99 $ + 9.99$\u001b[0m\n\u001b[0m         ^\u001b[0m\n\u001b[0;31mSyntaxError\u001b[0m\u001b[0;31m:\u001b[0m invalid syntax\n"
     ]
    }
   ],
   "source": [
    "1.99 $ + 9.99$"
   ]
  },
  {
   "cell_type": "code",
   "execution_count": 4,
   "id": "be0f9454-cdea-44b4-880d-c752e53b0781",
   "metadata": {},
   "outputs": [
    {
     "ename": "SyntaxError",
     "evalue": "invalid syntax (3547622060.py, line 1)",
     "output_type": "error",
     "traceback": [
      "\u001b[0;36m  Cell \u001b[0;32mIn[4], line 1\u001b[0;36m\u001b[0m\n\u001b[0;31m    1 +\u001b[0m\n\u001b[0m        ^\u001b[0m\n\u001b[0;31mSyntaxError\u001b[0m\u001b[0;31m:\u001b[0m invalid syntax\n"
     ]
    }
   ],
   "source": [
    "1 + "
   ]
  },
  {
   "cell_type": "code",
   "execution_count": 1,
   "id": "cae86684-9fa6-4faa-b693-b6881541aa4e",
   "metadata": {},
   "outputs": [
    {
     "ename": "SyntaxError",
     "evalue": "incomplete input (758611465.py, line 1)",
     "output_type": "error",
     "traceback": [
      "\u001b[0;36m  Cell \u001b[0;32mIn[1], line 1\u001b[0;36m\u001b[0m\n\u001b[0;31m    [1, 2, 3\u001b[0m\n\u001b[0m            ^\u001b[0m\n\u001b[0;31mSyntaxError\u001b[0m\u001b[0;31m:\u001b[0m incomplete input\n"
     ]
    }
   ],
   "source": [
    "[1, 2, 3"
   ]
  },
  {
   "cell_type": "code",
   "execution_count": 6,
   "id": "bd2203ec-2eb7-4e90-b869-be38363a58a6",
   "metadata": {},
   "outputs": [
    {
     "ename": "SyntaxError",
     "evalue": "expected ':' (2038702272.py, line 3)",
     "output_type": "error",
     "traceback": [
      "\u001b[0;36m  Cell \u001b[0;32mIn[6], line 3\u001b[0;36m\u001b[0m\n\u001b[0;31m    for number in [1, 2, 3]\u001b[0m\n\u001b[0m                           ^\u001b[0m\n\u001b[0;31mSyntaxError\u001b[0m\u001b[0;31m:\u001b[0m expected ':'\n"
     ]
    }
   ],
   "source": [
    "print(123)  # wird nicht ausgeführt\n",
    "\n",
    "for number in [1, 2, 3]\n",
    "    print(number ** 2)"
   ]
  },
  {
   "cell_type": "code",
   "execution_count": 3,
   "id": "584900e6-32f5-40e4-bb4d-cf870f1ca620",
   "metadata": {},
   "outputs": [
    {
     "ename": "IndentationError",
     "evalue": "expected an indented block after 'for' statement on line 1 (3221706353.py, line 2)",
     "output_type": "error",
     "traceback": [
      "\u001b[0;36m  Cell \u001b[0;32mIn[3], line 2\u001b[0;36m\u001b[0m\n\u001b[0;31m    print(number ** 2)\u001b[0m\n\u001b[0m    ^\u001b[0m\n\u001b[0;31mIndentationError\u001b[0m\u001b[0;31m:\u001b[0m expected an indented block after 'for' statement on line 1\n"
     ]
    }
   ],
   "source": [
    "for number in [1, 2, 3]:\n",
    "print(number ** 2)"
   ]
  },
  {
   "cell_type": "markdown",
   "id": "87e09d58-3c8d-482b-93c4-69cc42675077",
   "metadata": {},
   "source": [
    "## 2) Laufzeitfehler"
   ]
  },
  {
   "cell_type": "markdown",
   "id": "29cd3109-705b-45ec-9db1-aff78098de93",
   "metadata": {},
   "source": [
    "- \"irgendetwas stimmt mit den Daten nicht\"\n",
    "- meistens aus ext. Quellen: z.B. Dateien, Datenbanken, Nutzereingabe, ...\n",
    "- der Code ist ausführbar\n",
    "- Charakteristik:\n",
    "  - das Program beginnt zu laufen\n",
    "  - die (rote) Fehlermeldung wird nur manchmal sichtbar\n",
    "- Lösung:\n",
    "  - Input Validierung => \"die Inputs so in Daten umwandeln, dass es geht\"\n",
    "  - Fehlermeldung abfangen/unterdrücken => `try` Statement"
   ]
  },
  {
   "cell_type": "code",
   "execution_count": 7,
   "id": "187acbd6-ae88-4485-a766-32141faf30a9",
   "metadata": {},
   "outputs": [],
   "source": [
    "import random"
   ]
  },
  {
   "cell_type": "code",
   "execution_count": 59,
   "id": "f0d0fcfb-4813-4f19-bc6a-f90cdd668f03",
   "metadata": {},
   "outputs": [
    {
     "data": {
      "text/plain": [
       "3"
      ]
     },
     "execution_count": 59,
     "metadata": {},
     "output_type": "execute_result"
    }
   ],
   "source": [
    "random.randint(0, 3)"
   ]
  },
  {
   "cell_type": "code",
   "execution_count": 82,
   "id": "a473ab32-0a27-4780-b02b-756314182af1",
   "metadata": {},
   "outputs": [
    {
     "name": "stdout",
     "output_type": "stream",
     "text": [
      "Das Program beginnt zu laufen ...\n"
     ]
    },
    {
     "ename": "ZeroDivisionError",
     "evalue": "division by zero",
     "output_type": "error",
     "traceback": [
      "\u001b[0;31m---------------------------------------------------------------------------\u001b[0m",
      "\u001b[0;31mZeroDivisionError\u001b[0m                         Traceback (most recent call last)",
      "Cell \u001b[0;32mIn[82], line 7\u001b[0m\n\u001b[1;32m      4\u001b[0m \u001b[38;5;66;03m# Wir simulieren Daten von außen\u001b[39;00m\n\u001b[1;32m      5\u001b[0m ext_daten_quelle \u001b[38;5;241m=\u001b[39m random\u001b[38;5;241m.\u001b[39mrandint(\u001b[38;5;241m0\u001b[39m, \u001b[38;5;241m3\u001b[39m)\n\u001b[0;32m----> 7\u001b[0m ergebnis \u001b[38;5;241m=\u001b[39m \u001b[38;5;241;43m1_000\u001b[39;49m\u001b[43m \u001b[49m\u001b[38;5;241;43m/\u001b[39;49m\u001b[43m \u001b[49m\u001b[43mext_daten_quelle\u001b[49m\n\u001b[1;32m      9\u001b[0m \u001b[38;5;28mprint\u001b[39m(\u001b[38;5;124m\"\u001b[39m\u001b[38;5;124mFertig! Das Ergebnis ist\u001b[39m\u001b[38;5;124m\"\u001b[39m, ergebnis)\n",
      "\u001b[0;31mZeroDivisionError\u001b[0m: division by zero"
     ]
    }
   ],
   "source": [
    "# Wird immer ausgeführt\n",
    "print(\"Das Program beginnt zu laufen ...\")\n",
    "\n",
    "# Wir simulieren Daten von außen\n",
    "ext_daten_quelle = random.randint(0, 3)\n",
    "\n",
    "ergebnis = 1_000 / ext_daten_quelle\n",
    "\n",
    "print(\"Fertig! Das Ergebnis ist\", ergebnis)"
   ]
  },
  {
   "cell_type": "code",
   "execution_count": 68,
   "id": "ef040cb1-f65d-4bcd-a4d2-f22c7c543fbb",
   "metadata": {},
   "outputs": [
    {
     "name": "stdin",
     "output_type": "stream",
     "text": [
      "Gib eine Zahl ein: 42\n"
     ]
    },
    {
     "data": {
      "text/plain": [
       "'42'"
      ]
     },
     "execution_count": 68,
     "metadata": {},
     "output_type": "execute_result"
    }
   ],
   "source": [
    "input(\"Gib eine Zahl ein:\")"
   ]
  },
  {
   "cell_type": "code",
   "execution_count": 117,
   "id": "c7392e2a-dcb4-4777-821f-0d60faa5c6e7",
   "metadata": {},
   "outputs": [
    {
     "name": "stdout",
     "output_type": "stream",
     "text": [
      "Das Program beginnt zu laufen ...\n"
     ]
    },
    {
     "name": "stdin",
     "output_type": "stream",
     "text": [
      "Gib eine Zahl ein: 0\n"
     ]
    },
    {
     "ename": "ZeroDivisionError",
     "evalue": "division by zero",
     "output_type": "error",
     "traceback": [
      "\u001b[0;31m---------------------------------------------------------------------------\u001b[0m",
      "\u001b[0;31mZeroDivisionError\u001b[0m                         Traceback (most recent call last)",
      "Cell \u001b[0;32mIn[117], line 8\u001b[0m\n\u001b[1;32m      5\u001b[0m ext_daten_quelle \u001b[38;5;241m=\u001b[39m \u001b[38;5;28minput\u001b[39m(\u001b[38;5;124m\"\u001b[39m\u001b[38;5;124mGib eine Zahl ein:\u001b[39m\u001b[38;5;124m\"\u001b[39m)\n\u001b[1;32m      7\u001b[0m zahl \u001b[38;5;241m=\u001b[39m \u001b[38;5;28mint\u001b[39m(ext_daten_quelle)\n\u001b[0;32m----> 8\u001b[0m ergebnis \u001b[38;5;241m=\u001b[39m \u001b[38;5;241;43m1_000\u001b[39;49m\u001b[43m \u001b[49m\u001b[38;5;241;43m/\u001b[39;49m\u001b[43m \u001b[49m\u001b[43mzahl\u001b[49m\n\u001b[1;32m     10\u001b[0m \u001b[38;5;28mprint\u001b[39m(\u001b[38;5;124m\"\u001b[39m\u001b[38;5;124mFertig! Das Ergebnis ist\u001b[39m\u001b[38;5;124m\"\u001b[39m, ergebnis)\n",
      "\u001b[0;31mZeroDivisionError\u001b[0m: division by zero"
     ]
    }
   ],
   "source": [
    "# Wird immer ausgeführt\n",
    "print(\"Das Program beginnt zu laufen ...\")\n",
    "\n",
    "# Wir bekommen Daten von außen\n",
    "ext_daten_quelle = input(\"Gib eine Zahl ein:\")\n",
    "\n",
    "zahl = int(ext_daten_quelle)\n",
    "ergebnis = 1_000 / zahl\n",
    "\n",
    "print(\"Fertig! Das Ergebnis ist\", ergebnis)"
   ]
  },
  {
   "cell_type": "code",
   "execution_count": 125,
   "id": "c4f451f6-1dec-4bfd-bcd1-f6d57bd152b7",
   "metadata": {},
   "outputs": [
    {
     "name": "stdout",
     "output_type": "stream",
     "text": [
      "Das Program beginnt zu laufen ...\n",
      "Oops! Es wurde 0 gezogen.\n"
     ]
    }
   ],
   "source": [
    "# Wird immer ausgeführt\n",
    "print(\"Das Program beginnt zu laufen ...\")\n",
    "\n",
    "# Wir simulieren Daten von außen\n",
    "ext_daten_quelle = random.randint(0, 3)\n",
    "\n",
    "# Input Validierung\n",
    "if ext_daten_quelle != 0:  # \"ungleich\"\n",
    "    ergebnis = 1_000 / ext_daten_quelle\n",
    "    print(\"Fertig! Das Ergebnis ist\", ergebnis)\n",
    "\n",
    "else:\n",
    "    print(\"Oops! Es wurde 0 gezogen.\")"
   ]
  },
  {
   "cell_type": "code",
   "execution_count": 102,
   "id": "47014c53-aa65-40a8-9456-229ddb55148d",
   "metadata": {},
   "outputs": [
    {
     "name": "stdout",
     "output_type": "stream",
     "text": [
      "Das Program beginnt zu laufen ...\n",
      "Oops! Es wurde 0 gezogen.\n"
     ]
    }
   ],
   "source": [
    "# Wird immer ausgeführt\n",
    "print(\"Das Program beginnt zu laufen ...\")\n",
    "\n",
    "# Wir simulieren Daten von außen\n",
    "ext_daten_quelle = random.randint(0, 3)\n",
    "\n",
    "try:  # Code, der eine Fehlermeldung verursachen könnte\n",
    "    ergebnis = 1_000 / ext_daten_quelle\n",
    "except:  # Wenn eine Fehlermeldung auftritt\n",
    "    print(\"Oops! Es wurde 0 gezogen.\")\n",
    "else:  # Wenn keine Fehlermeldung auftritt\n",
    "    print(\"Fertig! Das Ergebnis ist\", ergebnis)"
   ]
  },
  {
   "cell_type": "code",
   "execution_count": 113,
   "id": "aa300529-8e36-4362-a2d1-84a39eca3750",
   "metadata": {},
   "outputs": [
    {
     "name": "stdout",
     "output_type": "stream",
     "text": [
      "Das Program beginnt zu laufen ...\n"
     ]
    },
    {
     "name": "stdin",
     "output_type": "stream",
     "text": [
      "Gib eine Zahl ein: 0\n"
     ]
    },
    {
     "name": "stdout",
     "output_type": "stream",
     "text": [
      "Nicht durch 0 teilen!\n"
     ]
    }
   ],
   "source": [
    "# Wird immer ausgeführt\n",
    "print(\"Das Program beginnt zu laufen ...\")\n",
    "\n",
    "# Wir bekommen Daten von außen\n",
    "ext_daten_quelle = input(\"Gib eine Zahl ein:\")\n",
    "\n",
    "try:\n",
    "    zahl = int(ext_daten_quelle)\n",
    "    ergebnis = 1_000 / zahl\n",
    "except ValueError:\n",
    "    print(\"Bitte eine Zahl eingeben!\")\n",
    "except ZeroDivisionError:\n",
    "    print(\"Nicht durch 0 teilen!\")\n",
    "else:\n",
    "    print(\"Fertig! Das Ergebnis ist\", ergebnis)"
   ]
  },
  {
   "cell_type": "markdown",
   "id": "bd44f0f3-d15f-4ffc-a101-09a2de58359f",
   "metadata": {},
   "source": [
    "## 3) Semantische Fehler"
   ]
  },
  {
   "cell_type": "markdown",
   "id": "2cd97122-b131-4dc5-ab03-93157e90549b",
   "metadata": {},
   "source": [
    "- inhaltlicher / logischer Fehler\n",
    "- Code und Daten stimmen => \"der Code macht einfach das Falsche\"\n",
    "- Charakteristik:\n",
    "  - *niemals* eine (rote) Fehlermeldung\n",
    "  - manchmal könnte die Berechnung sogar fälschlicherweise richtig sein\n",
    "- Lösung:\n",
    "  - **(Unit) Testing** => man lässt den Code für Inputs laufen, für die man den Output kennt\n",
    "  - Code Review mit anderen Leuten/Kollegen/Kunden"
   ]
  },
  {
   "cell_type": "code",
   "execution_count": 126,
   "id": "50631adf-0d67-42b1-8740-b978be90e518",
   "metadata": {},
   "outputs": [],
   "source": [
    "numbers = [7, 8, 9, 1, 2, 3, 6, 5, 4, 11, 12, 10]"
   ]
  },
  {
   "cell_type": "code",
   "execution_count": 127,
   "id": "13e146a1-f3a3-4c5f-a0a6-f3dc433495cc",
   "metadata": {},
   "outputs": [
    {
     "data": {
      "text/plain": [
       "2.5"
      ]
     },
     "execution_count": 127,
     "metadata": {},
     "output_type": "execute_result"
    }
   ],
   "source": [
    "total = 0\n",
    "count = 0\n",
    "\n",
    "for number in numbers:\n",
    "    if number % 2 == 0:\n",
    "        total = total + count  # `number` statt `count`\n",
    "        count = count + 1\n",
    "\n",
    "average = total / count\n",
    "\n",
    "average"
   ]
  },
  {
   "cell_type": "code",
   "execution_count": 149,
   "id": "2029f8d6-f98d-469c-8d90-c054d7ea7ccc",
   "metadata": {},
   "outputs": [],
   "source": [
    "def average_evens(numbers):\n",
    "    if len(numbers) == 0:\n",
    "        return float(\"NaN\")\n",
    "        # nach dem `return` ist die Funktion sofort beendet\n",
    "    \n",
    "    total = 0\n",
    "    count = 0\n",
    "    \n",
    "    for number in numbers:\n",
    "        if number % 2 == 0:\n",
    "            total = total + number\n",
    "            count = count + 1\n",
    "    \n",
    "    average = total / count\n",
    "    \n",
    "    return average"
   ]
  },
  {
   "cell_type": "code",
   "execution_count": 130,
   "id": "2c758591-4256-4212-ac54-175c38b55e90",
   "metadata": {},
   "outputs": [],
   "source": [
    "assert 1 < 2"
   ]
  },
  {
   "cell_type": "code",
   "execution_count": 131,
   "id": "6302e13b-9b79-4d0e-9ef9-6fba18d3c80c",
   "metadata": {},
   "outputs": [
    {
     "ename": "AssertionError",
     "evalue": "",
     "output_type": "error",
     "traceback": [
      "\u001b[0;31m---------------------------------------------------------------------------\u001b[0m",
      "\u001b[0;31mAssertionError\u001b[0m                            Traceback (most recent call last)",
      "Cell \u001b[0;32mIn[131], line 1\u001b[0m\n\u001b[0;32m----> 1\u001b[0m \u001b[38;5;28;01massert\u001b[39;00m \u001b[38;5;241m2\u001b[39m \u001b[38;5;241m<\u001b[39m \u001b[38;5;241m1\u001b[39m\n",
      "\u001b[0;31mAssertionError\u001b[0m: "
     ]
    }
   ],
   "source": [
    "assert 2 < 1"
   ]
  },
  {
   "cell_type": "code",
   "execution_count": 145,
   "id": "d761c6a7-fb64-4d4d-88be-82eef98c8fad",
   "metadata": {},
   "outputs": [],
   "source": [
    "assert average_evens([1, 2, 3]) == 2"
   ]
  },
  {
   "cell_type": "code",
   "execution_count": 146,
   "id": "7d72c276-512d-4a07-a72e-c6e5f0bb3d07",
   "metadata": {},
   "outputs": [],
   "source": [
    "assert average_evens([40, 41, 42, 43, 44]) == 42"
   ]
  },
  {
   "cell_type": "code",
   "execution_count": 147,
   "id": "f2470e5c-65e3-4486-8896-023fe5111512",
   "metadata": {},
   "outputs": [],
   "source": [
    "assert average_evens([40.0, 41.0, 42.0, 43.0, 44.0]) == 42"
   ]
  },
  {
   "cell_type": "code",
   "execution_count": 141,
   "id": "4c9f1487-4605-4607-9f5e-328659ad3336",
   "metadata": {},
   "outputs": [
    {
     "ename": "AssertionError",
     "evalue": "",
     "output_type": "error",
     "traceback": [
      "\u001b[0;31m---------------------------------------------------------------------------\u001b[0m",
      "\u001b[0;31mAssertionError\u001b[0m                            Traceback (most recent call last)",
      "Cell \u001b[0;32mIn[141], line 1\u001b[0m\n\u001b[0;32m----> 1\u001b[0m \u001b[38;5;28;01massert\u001b[39;00m average_evens([\u001b[38;5;241m40.0\u001b[39m, \u001b[38;5;241m41.1\u001b[39m, \u001b[38;5;241m42.2\u001b[39m, \u001b[38;5;241m43.3\u001b[39m, \u001b[38;5;241m44.4\u001b[39m]) \u001b[38;5;241m==\u001b[39m \u001b[38;5;241m42\u001b[39m\n",
      "\u001b[0;31mAssertionError\u001b[0m: "
     ]
    }
   ],
   "source": [
    "assert average_evens([40.0, 41.1, 42.2, 43.3, 44.4]) == 42"
   ]
  },
  {
   "cell_type": "code",
   "execution_count": 153,
   "id": "a9bcb496-bfe0-4081-aabc-3bbb3caa11c4",
   "metadata": {},
   "outputs": [
    {
     "data": {
      "text/plain": [
       "nan"
      ]
     },
     "execution_count": 153,
     "metadata": {},
     "output_type": "execute_result"
    }
   ],
   "source": [
    "average_evens([])"
   ]
  },
  {
   "cell_type": "code",
   "execution_count": 152,
   "id": "e18f7f13-9373-4a40-afee-d5744a5ed86a",
   "metadata": {},
   "outputs": [
    {
     "data": {
      "text/plain": [
       "False"
      ]
     },
     "execution_count": 152,
     "metadata": {},
     "output_type": "execute_result"
    }
   ],
   "source": [
    "float(\"NaN\") == float(\"NaN\")"
   ]
  }
 ],
 "metadata": {
  "kernelspec": {
   "display_name": "Python 3.12",
   "language": "python",
   "name": "python3.12"
  },
  "language_info": {
   "codemirror_mode": {
    "name": "ipython",
    "version": 3
   },
   "file_extension": ".py",
   "mimetype": "text/x-python",
   "name": "python",
   "nbconvert_exporter": "python",
   "pygments_lexer": "ipython3",
   "version": "3.12.0"
  }
 },
 "nbformat": 4,
 "nbformat_minor": 5
}
