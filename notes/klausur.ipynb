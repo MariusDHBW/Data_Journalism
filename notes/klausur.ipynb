{
 "cells": [
  {
   "cell_type": "markdown",
   "id": "1d8ed48d-a824-4e62-a916-c66e4c1dd301",
   "metadata": {},
   "source": [
    "# Klausur"
   ]
  },
  {
   "cell_type": "markdown",
   "id": "64c5a711-fb4d-47fc-ba66-b674a1c61938",
   "metadata": {},
   "source": [
    "## 1. Teil (16 Punkten): True/False"
   ]
  },
  {
   "cell_type": "markdown",
   "id": "fc047710-9c10-46db-92cb-2d95f1aefe9f",
   "metadata": {},
   "source": [
    "8 Fragen"
   ]
  },
  {
   "cell_type": "markdown",
   "id": "c3f6b4ad-623f-4ef9-88d2-f4e5c3d839c0",
   "metadata": {},
   "source": [
    "Multiple Choice"
   ]
  },
  {
   "cell_type": "code",
   "execution_count": 1,
   "id": "8c26855b-e6d9-49dc-9c5f-05d1cc94b765",
   "metadata": {},
   "outputs": [
    {
     "name": "stdout",
     "output_type": "stream",
     "text": [
      "The Zen of Python, by Tim Peters\n",
      "\n",
      "Beautiful is better than ugly.\n",
      "Explicit is better than implicit.\n",
      "Simple is better than complex.\n",
      "Complex is better than complicated.\n",
      "Flat is better than nested.\n",
      "Sparse is better than dense.\n",
      "Readability counts.\n",
      "Special cases aren't special enough to break the rules.\n",
      "Although practicality beats purity.\n",
      "Errors should never pass silently.\n",
      "Unless explicitly silenced.\n",
      "In the face of ambiguity, refuse the temptation to guess.\n",
      "There should be one-- and preferably only one --obvious way to do it.\n",
      "Although that way may not be obvious at first unless you're Dutch.\n",
      "Now is better than never.\n",
      "Although never is often better than *right* now.\n",
      "If the implementation is hard to explain, it's a bad idea.\n",
      "If the implementation is easy to explain, it may be a good idea.\n",
      "Namespaces are one honking great idea -- let's do more of those!\n"
     ]
    }
   ],
   "source": [
    "import this"
   ]
  },
  {
   "cell_type": "markdown",
   "id": "60210de6-f683-4adf-9a4e-bef2ed5c640b",
   "metadata": {},
   "source": [
    "## 2. Teil (57 Punkte): Essay Fragen "
   ]
  },
  {
   "cell_type": "markdown",
   "id": "76261551-1af4-41c3-9299-615c2f2d7ce9",
   "metadata": {
    "jp-MarkdownHeadingCollapsed": true
   },
   "source": [
    "## 3. Teil (47 Punkte): Coding Fragen"
   ]
  }
 ],
 "metadata": {
  "kernelspec": {
   "display_name": "base",
   "language": "python",
   "name": "python3"
  },
  "language_info": {
   "codemirror_mode": {
    "name": "ipython",
    "version": 3
   },
   "file_extension": ".py",
   "mimetype": "text/x-python",
   "name": "python",
   "nbconvert_exporter": "python",
   "pygments_lexer": "ipython3",
   "version": "3.11.5"
  }
 },
 "nbformat": 4,
 "nbformat_minor": 5
}
