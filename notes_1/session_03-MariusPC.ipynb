{
 "cells": [
  {
   "cell_type": "markdown",
   "id": "6de5cd50-8f1c-41e4-8af6-9d005456fdd0",
   "metadata": {},
   "source": [
    "# Funktionen"
   ]
  },
  {
   "cell_type": "markdown",
   "id": "d925f149-e921-408a-89ee-18a4fc406bcd",
   "metadata": {},
   "source": [
    "Def.: \"someone else's code\"\n",
    "\n",
    "Haupt-Zweck: Code wiederverwendbar machen\n",
    "\n",
    "Vorteile / Konzepte hinter einer Funktion\n",
    "- math. $f(X) -> Y$, wohl-definierter Zusammenhang zwischen Inputs und Outputs\n",
    "- vorgefertigter Code\n",
    "- Zusammenfassen von mehreren Code Zeilen, und einen **Namen** dafür\n",
    "- **Blackbox**-Prinzip => Inputs werden in Outputs gemapped, uns interessiert nicht, wie das passiert\n",
    "\n",
    "2 Rollen:\n",
    "- Autor / **Maintainer** => definiert und implementiert die Funktion\n",
    "- Nutzer / **Caller** => nutzt die Funktion nur"
   ]
  },
  {
   "cell_type": "code",
   "execution_count": 1,
   "id": "35390111-255d-4432-855f-eef346ff6a74",
   "metadata": {},
   "outputs": [],
   "source": [
    "numbers = [7, 8, 9, 1, 2, 3, 6, 5, 4, 11, 12, 10]"
   ]
  },
  {
   "cell_type": "code",
   "execution_count": null,
   "id": "0c7bd21f-3642-4b13-82cf-09f45bb3efb8",
   "metadata": {},
   "outputs": [],
   "source": [
    "total = 0\n",
    "count = 0\n",
    "\n",
    "for number in numbers:\n",
    "    if number % 2 == 0:\n",
    "        total = total + number\n",
    "        count = count + 1\n",
    "\n",
    "average = total / count\n",
    "\n",
    "average"
   ]
  },
  {
   "cell_type": "code",
   "execution_count": null,
   "id": "2de9a4da-e14e-4d40-b0ba-59b2149fe690",
   "metadata": {},
   "outputs": [],
   "source": [
    "other = [40, 41, 42, 43, 44]"
   ]
  },
  {
   "cell_type": "code",
   "execution_count": null,
   "id": "716d055b-cccb-4928-a21b-0169bb8767c6",
   "metadata": {},
   "outputs": [],
   "source": [
    "total = 0\n",
    "count = 0\n",
    "\n",
    "for number in other:\n",
    "    if number % 2 == 0:\n",
    "        total = total + number\n",
    "        count = count + 1\n",
    "\n",
    "average = total / count\n",
    "\n",
    "average"
   ]
  },
  {
   "cell_type": "code",
   "execution_count": 2,
   "id": "bba55ed2-2f49-4007-884d-a85d800d3b4c",
   "metadata": {},
   "outputs": [],
   "source": [
    "def average_evens(integers):\n",
    "    total = 0\n",
    "    count = 0\n",
    "\n",
    "    for number in integers:\n",
    "        if number % 2 == 0:\n",
    "            total = total + number\n",
    "            count = count + 1\n",
    "\n",
    "    average = total / count\n",
    "\n",
    "    return average"
   ]
  },
  {
   "cell_type": "code",
   "execution_count": null,
   "id": "aa20adac-5e64-4382-b34c-9a22a8c207b9",
   "metadata": {},
   "outputs": [],
   "source": [
    "average_evens"
   ]
  },
  {
   "cell_type": "code",
   "execution_count": null,
   "id": "eb7e1428-73bf-43bb-a995-5d101ea28e5a",
   "metadata": {},
   "outputs": [],
   "source": [
    "type(average_evens)"
   ]
  },
  {
   "cell_type": "markdown",
   "id": "91b373c2-0b05-42cc-a334-2bfdc388629a",
   "metadata": {},
   "source": [
    "`func()` => **call operator**"
   ]
  },
  {
   "cell_type": "code",
   "execution_count": 4,
   "id": "5e4aab1e-fbac-455d-a945-2a07a3a72045",
   "metadata": {},
   "outputs": [
    {
     "data": {
      "text/plain": [
       "2.0"
      ]
     },
     "execution_count": 4,
     "metadata": {},
     "output_type": "execute_result"
    }
   ],
   "source": [
    "ergebnis = average_evens([1, 2, 3])\n",
    "\n",
    "ergebnis"
   ]
  },
  {
   "cell_type": "code",
   "execution_count": null,
   "id": "7d461cd0-b454-4812-a9cb-89134b725174",
   "metadata": {},
   "outputs": [],
   "source": [
    "result = average_evens(numbers)"
   ]
  },
  {
   "cell_type": "code",
   "execution_count": null,
   "id": "7f21700c-9f83-4b42-b1ec-b0c0ca20a4d3",
   "metadata": {},
   "outputs": [],
   "source": [
    "result"
   ]
  },
  {
   "cell_type": "code",
   "execution_count": null,
   "id": "a3309d45-ec95-4564-a12a-ed6205c42296",
   "metadata": {},
   "outputs": [],
   "source": [
    "average_evens(other)"
   ]
  },
  {
   "cell_type": "code",
   "execution_count": 17,
   "id": "8638c7b2-9030-4afe-ae01-668778059c10",
   "metadata": {},
   "outputs": [],
   "source": [
    "def average_evens(numbers):\n",
    "    \"\"\"Berechne den Durchschnitt aller geraden Zahlen.\n",
    "\n",
    "    Weitere Infos.\n",
    "    Zielgruppe: Nutzer der Funktion\n",
    "\n",
    "    Args:\n",
    "        numbers (list von int's): Die Zahlen, die gemittelt werden\n",
    "\n",
    "    Returns:\n",
    "        average (float)\n",
    "    \"\"\"\n",
    "    total = 0\n",
    "    count = 0\n",
    "\n",
    "    # Kommentar: Warum macht der Code etwas?\n",
    "    # Zielgruppe: Autor/Maintainer der Funktion\n",
    "    # \"Running Total\" berechnen\n",
    "    for number in numbers:\n",
    "        if number % 2 == 0:\n",
    "            total = total + number\n",
    "            count = count + 1\n",
    "\n",
    "    average = total / count\n",
    "\n",
    "    return average"
   ]
  },
  {
   "cell_type": "code",
   "execution_count": 18,
   "id": "1c52f52c-734b-4d13-b5b4-e53c723ff1d0",
   "metadata": {},
   "outputs": [
    {
     "name": "stdout",
     "output_type": "stream",
     "text": [
      "Help on function average_evens in module __main__:\n",
      "\n",
      "average_evens(numbers)\n",
      "    Berechne den Durchschnitt aller geraden Zahlen.\n",
      "\n",
      "    Weitere Infos.\n",
      "\n",
      "    Args:\n",
      "        numbers (list von int's): Die Zahlen, die gemittelt werden\n",
      "\n",
      "    Returns:\n",
      "        average (float)\n",
      "\n"
     ]
    }
   ],
   "source": [
    "help(average_evens)"
   ]
  },
  {
   "cell_type": "markdown",
   "id": "aa56ce07-c8ae-47fa-8a45-6080bd075ebb",
   "metadata": {},
   "source": [
    "Variante: Der Durchschnitt soll skaliert werden"
   ]
  },
  {
   "cell_type": "code",
   "execution_count": 97,
   "id": "b8ff8104-853b-4d91-8dcb-00cb4911a5d9",
   "metadata": {},
   "outputs": [],
   "source": [
    "def average_evens(numbers, *, scalar=1):\n",
    "    \"\"\"Berechne den Durchschnitt aller geraden Zahlen.\n",
    "\n",
    "    Args:\n",
    "        numbers (list von int's): Die Zahlen, die gemittelt werden\n",
    "        scalar (int oder float): Skaliert den Durchschnitt;\n",
    "            standardmäßig wird nicht skaliert\n",
    "\n",
    "    Returns:\n",
    "        average (float)\n",
    "    \"\"\"\n",
    "    total = 0\n",
    "    count = 0\n",
    "\n",
    "    for number in numbers:\n",
    "        if number % 2 == 0:\n",
    "            total = total + number\n",
    "            count = count + 1\n",
    "\n",
    "    average = total / count\n",
    "\n",
    "    return scalar * average"
   ]
  },
  {
   "cell_type": "code",
   "execution_count": 98,
   "id": "757ebb6f-b116-4fb3-b678-5c0bcd7aba4f",
   "metadata": {},
   "outputs": [
    {
     "data": {
      "text/plain": [
       "2.0"
      ]
     },
     "execution_count": 98,
     "metadata": {},
     "output_type": "execute_result"
    }
   ],
   "source": [
    "average_evens([1, 2, 3])"
   ]
  },
  {
   "cell_type": "code",
   "execution_count": 99,
   "id": "2c78ce44-750a-4c61-8b6c-c86c6b5ad007",
   "metadata": {},
   "outputs": [
    {
     "ename": "TypeError",
     "evalue": "average_evens() takes 1 positional argument but 2 were given",
     "output_type": "error",
     "traceback": [
      "\u001b[0;31m---------------------------------------------------------------------------\u001b[0m",
      "\u001b[0;31mTypeError\u001b[0m                                 Traceback (most recent call last)",
      "Cell \u001b[0;32mIn[99], line 1\u001b[0m\n\u001b[0;32m----> 1\u001b[0m \u001b[43maverage_evens\u001b[49m\u001b[43m(\u001b[49m\u001b[43m[\u001b[49m\u001b[38;5;241;43m1\u001b[39;49m\u001b[43m,\u001b[49m\u001b[43m \u001b[49m\u001b[38;5;241;43m2\u001b[39;49m\u001b[43m,\u001b[49m\u001b[43m \u001b[49m\u001b[38;5;241;43m3\u001b[39;49m\u001b[43m]\u001b[49m\u001b[43m,\u001b[49m\u001b[43m \u001b[49m\u001b[38;5;241;43m2\u001b[39;49m\u001b[43m)\u001b[49m\n",
      "\u001b[0;31mTypeError\u001b[0m: average_evens() takes 1 positional argument but 2 were given"
     ]
    }
   ],
   "source": [
    "average_evens([1, 2, 3], 2  # wegen *, => keyword-only arguments"
   ]
  },
  {
   "cell_type": "code",
   "execution_count": 100,
   "id": "6edb0924-0262-416a-944e-4b3bae985acc",
   "metadata": {},
   "outputs": [
    {
     "data": {
      "text/plain": [
       "4.0"
      ]
     },
     "execution_count": 100,
     "metadata": {},
     "output_type": "execute_result"
    }
   ],
   "source": [
    "average_evens(numbers=[1, 2, 3], scalar=2)"
   ]
  },
  {
   "cell_type": "code",
   "execution_count": 101,
   "id": "0c1e25cb-071e-441c-98ce-3edf1bd353ad",
   "metadata": {},
   "outputs": [
    {
     "data": {
      "text/plain": [
       "4.0"
      ]
     },
     "execution_count": 101,
     "metadata": {},
     "output_type": "execute_result"
    }
   ],
   "source": [
    "average_evens(scalar=2, numbers=[1, 2, 3])"
   ]
  },
  {
   "cell_type": "code",
   "execution_count": 102,
   "id": "eab61820-d180-4cb0-b0ae-8308d921f14b",
   "metadata": {},
   "outputs": [
    {
     "data": {
      "text/plain": [
       "4.0"
      ]
     },
     "execution_count": 102,
     "metadata": {},
     "output_type": "execute_result"
    }
   ],
   "source": [
    "average_evens([1, 2, 3], scalar=2)"
   ]
  }
 ],
 "metadata": {
  "kernelspec": {
   "display_name": "Python 3.12",
   "language": "python",
   "name": "python3.12"
  },
  "language_info": {
   "codemirror_mode": {
    "name": "ipython",
    "version": 3
   },
   "file_extension": ".py",
   "mimetype": "text/x-python",
   "name": "python",
   "nbconvert_exporter": "python",
   "pygments_lexer": "ipython3",
   "version": "3.12.0"
  }
 },
 "nbformat": 4,
 "nbformat_minor": 5
}
