{
 "cells": [
  {
   "cell_type": "markdown",
   "id": "6de5cd50-8f1c-41e4-8af6-9d005456fdd0",
   "metadata": {},
   "source": [
    "# Funktionen"
   ]
  },
  {
   "cell_type": "markdown",
   "id": "d925f149-e921-408a-89ee-18a4fc406bcd",
   "metadata": {},
   "source": [
    "Def.: \"someone else's code\"\n",
    "\n",
    "Haupt-Zweck: Code wiederverwendbar machen\n",
    "\n",
    "Vorteile / Konzepte hinter einer Funktion\n",
    "- math. $f(X) -> Y$, wohl-definierter Zusammenhang zwischen Inputs und Outputs\n",
    "- vorgefertigter Code\n",
    "- Zusammenfassen von mehreren Code Zeilen, und einen **Namen** dafür\n",
    "- **Blackbox**-Prinzip => Inputs werden in Outputs gemapped, uns interessiert nicht, wie das passiert\n",
    "\n",
    "2 Rollen:\n",
    "- Autor / **Maintainer** => definiert und implementiert die Funktion\n",
    "- Nutzer / **Caller** => nutzt die Funktion nur"
   ]
  },
  {
   "cell_type": "markdown",
   "id": "84f20235-521b-4a53-ba54-fde741fe43e8",
   "metadata": {},
   "source": [
    "## Built-in Funktionen"
   ]
  },
  {
   "cell_type": "markdown",
   "id": "f58432c0-2f5e-44dc-bbdc-fefa64cd53aa",
   "metadata": {},
   "source": [
    "\"man kann sie einfach nutzen\""
   ]
  },
  {
   "cell_type": "code",
   "execution_count": 1,
   "id": "6af9ed7b-8758-41ab-80ce-ef7e6ed45567",
   "metadata": {},
   "outputs": [],
   "source": [
    "numbers = [7, 8, 9, 1, 2, 3, 6, 5, 4, 11, 12, 10]"
   ]
  },
  {
   "cell_type": "code",
   "execution_count": 2,
   "id": "393d3335-210d-4a49-9fe7-eadd276ef046",
   "metadata": {},
   "outputs": [
    {
     "data": {
      "text/plain": [
       "78"
      ]
     },
     "execution_count": 2,
     "metadata": {},
     "output_type": "execute_result"
    }
   ],
   "source": [
    "sum(numbers)"
   ]
  },
  {
   "cell_type": "code",
   "execution_count": 3,
   "id": "ba3fe93f-6639-4aca-ba9b-beee99f8802f",
   "metadata": {},
   "outputs": [
    {
     "data": {
      "text/plain": [
       "12"
      ]
     },
     "execution_count": 3,
     "metadata": {},
     "output_type": "execute_result"
    }
   ],
   "source": [
    "len(numbers)"
   ]
  },
  {
   "cell_type": "code",
   "execution_count": 4,
   "id": "1d9a673f-3c73-42bb-a50a-eef9e411544f",
   "metadata": {},
   "outputs": [
    {
     "data": {
      "text/plain": [
       "12"
      ]
     },
     "execution_count": 4,
     "metadata": {},
     "output_type": "execute_result"
    }
   ],
   "source": [
    "max(numbers)"
   ]
  },
  {
   "cell_type": "markdown",
   "id": "ad323b00-735e-41f4-b13a-81b9f1def2a2",
   "metadata": {},
   "source": [
    "### Constructors"
   ]
  },
  {
   "cell_type": "code",
   "execution_count": 5,
   "id": "d2767408-b897-427e-8267-bafc798fbd4b",
   "metadata": {},
   "outputs": [
    {
     "data": {
      "text/plain": [
       "7"
      ]
     },
     "execution_count": 5,
     "metadata": {},
     "output_type": "execute_result"
    }
   ],
   "source": [
    "7"
   ]
  },
  {
   "cell_type": "code",
   "execution_count": 6,
   "id": "c990c0ff-d06d-44f3-be84-eb9d1439a8b6",
   "metadata": {},
   "outputs": [
    {
     "data": {
      "text/plain": [
       "7.0"
      ]
     },
     "execution_count": 6,
     "metadata": {},
     "output_type": "execute_result"
    }
   ],
   "source": [
    "float(7)"
   ]
  },
  {
   "cell_type": "code",
   "execution_count": 7,
   "id": "cffe7a5d-4585-46fd-a598-d7867ede36a7",
   "metadata": {},
   "outputs": [
    {
     "data": {
      "text/plain": [
       "7"
      ]
     },
     "execution_count": 7,
     "metadata": {},
     "output_type": "execute_result"
    }
   ],
   "source": [
    "int(\"7\")"
   ]
  },
  {
   "cell_type": "code",
   "execution_count": 8,
   "id": "89708adb-47a7-4d62-902b-41d8411938c3",
   "metadata": {},
   "outputs": [
    {
     "ename": "ValueError",
     "evalue": "invalid literal for int() with base 10: 'a'",
     "output_type": "error",
     "traceback": [
      "\u001b[0;31m---------------------------------------------------------------------------\u001b[0m",
      "\u001b[0;31mValueError\u001b[0m                                Traceback (most recent call last)",
      "Cell \u001b[0;32mIn[8], line 1\u001b[0m\n\u001b[0;32m----> 1\u001b[0m \u001b[38;5;28;43mint\u001b[39;49m\u001b[43m(\u001b[49m\u001b[38;5;124;43m\"\u001b[39;49m\u001b[38;5;124;43ma\u001b[39;49m\u001b[38;5;124;43m\"\u001b[39;49m\u001b[43m)\u001b[49m\n",
      "\u001b[0;31mValueError\u001b[0m: invalid literal for int() with base 10: 'a'"
     ]
    }
   ],
   "source": [
    "int(\"a\")"
   ]
  },
  {
   "cell_type": "code",
   "execution_count": 11,
   "id": "cc057f7b-ddd0-4a05-ba8e-4d35a3e454bb",
   "metadata": {},
   "outputs": [
    {
     "data": {
      "text/plain": [
       "10"
      ]
     },
     "execution_count": 11,
     "metadata": {},
     "output_type": "execute_result"
    }
   ],
   "source": [
    "int(\"a\", base=16)"
   ]
  },
  {
   "cell_type": "markdown",
   "id": "0923e46a-0b81-45a8-8904-fdcdf2a019ff",
   "metadata": {},
   "source": [
    "## Standard Library"
   ]
  },
  {
   "cell_type": "markdown",
   "id": "f5010fa3-cd49-4dc5-a2e9-b6b7f0af75ce",
   "metadata": {},
   "source": [
    "\"erst importieren, dann nutzen\""
   ]
  },
  {
   "cell_type": "code",
   "execution_count": 12,
   "id": "c9654916-490a-479d-85b2-49f569fdb525",
   "metadata": {},
   "outputs": [],
   "source": [
    "import math"
   ]
  },
  {
   "cell_type": "code",
   "execution_count": 13,
   "id": "fcbec68e-2783-4dd4-b7ae-96374e442fa1",
   "metadata": {},
   "outputs": [
    {
     "data": {
      "text/plain": [
       "<module 'math' from '/opt/python/versions/3.12.0/lib/python3.12/lib-dynload/math.cpython-312-x86_64-linux-gnu.so'>"
      ]
     },
     "execution_count": 13,
     "metadata": {},
     "output_type": "execute_result"
    }
   ],
   "source": [
    "math"
   ]
  },
  {
   "cell_type": "code",
   "execution_count": 14,
   "id": "fe3b7d48-25ee-4a61-a5e3-da88c7e49542",
   "metadata": {},
   "outputs": [
    {
     "data": {
      "text/plain": [
       "module"
      ]
     },
     "execution_count": 14,
     "metadata": {},
     "output_type": "execute_result"
    }
   ],
   "source": [
    "type(math)"
   ]
  },
  {
   "cell_type": "code",
   "execution_count": 15,
   "id": "0f5df357-a7cd-43ac-ab0d-fd492c6f636f",
   "metadata": {},
   "outputs": [
    {
     "data": {
      "text/plain": [
       "3.141592653589793"
      ]
     },
     "execution_count": 15,
     "metadata": {},
     "output_type": "execute_result"
    }
   ],
   "source": [
    "math.pi"
   ]
  },
  {
   "cell_type": "code",
   "execution_count": 16,
   "id": "cca79c2c-53ef-4f25-967b-be6bc93eb32d",
   "metadata": {},
   "outputs": [],
   "source": [
    "import random"
   ]
  },
  {
   "cell_type": "code",
   "execution_count": 31,
   "id": "3704c921-5163-4b2d-b43e-0601d15c1bb4",
   "metadata": {},
   "outputs": [
    {
     "data": {
      "text/plain": [
       "0.6576761437298932"
      ]
     },
     "execution_count": 31,
     "metadata": {},
     "output_type": "execute_result"
    }
   ],
   "source": [
    "random.random()"
   ]
  },
  {
   "cell_type": "code",
   "execution_count": 37,
   "id": "04948833-73e0-4627-a0ad-e887f11aff4c",
   "metadata": {},
   "outputs": [],
   "source": [
    "pi = 42"
   ]
  },
  {
   "cell_type": "code",
   "execution_count": 38,
   "id": "1d647ab6-ec32-475b-8466-ebd3d61f2b5a",
   "metadata": {},
   "outputs": [
    {
     "data": {
      "text/plain": [
       "42"
      ]
     },
     "execution_count": 38,
     "metadata": {},
     "output_type": "execute_result"
    }
   ],
   "source": [
    "pi"
   ]
  },
  {
   "cell_type": "code",
   "execution_count": 39,
   "id": "5b780814-3af8-4fed-a78e-a8d1e43637bc",
   "metadata": {},
   "outputs": [],
   "source": [
    "from math import pi"
   ]
  },
  {
   "cell_type": "code",
   "execution_count": 40,
   "id": "1aba9c34-b472-4689-86d5-4b10d38a473e",
   "metadata": {},
   "outputs": [
    {
     "data": {
      "text/plain": [
       "3.141592653589793"
      ]
     },
     "execution_count": 40,
     "metadata": {},
     "output_type": "execute_result"
    }
   ],
   "source": [
    "pi"
   ]
  },
  {
   "cell_type": "code",
   "execution_count": 35,
   "id": "6e45561c-d74f-42b7-b66b-ebd70f7c26bd",
   "metadata": {},
   "outputs": [],
   "source": [
    "import math as m"
   ]
  },
  {
   "cell_type": "code",
   "execution_count": 36,
   "id": "2cd4014b-b074-409a-b272-abfa449789f1",
   "metadata": {},
   "outputs": [
    {
     "data": {
      "text/plain": [
       "3.141592653589793"
      ]
     },
     "execution_count": 36,
     "metadata": {},
     "output_type": "execute_result"
    }
   ],
   "source": [
    "m.pi"
   ]
  },
  {
   "cell_type": "markdown",
   "id": "ac86ef0a-a330-4fc7-89b8-d6e57bd8c7a8",
   "metadata": {},
   "source": [
    "## Third-party Packages / Libraries"
   ]
  },
  {
   "cell_type": "markdown",
   "id": "98b6e571-d4d3-44b2-9de0-e14952b96813",
   "metadata": {},
   "source": [
    "\"erst installieren, dann importieren, dann nutzen\""
   ]
  },
  {
   "cell_type": "code",
   "execution_count": 41,
   "id": "f1fdfa8a-2d4c-4279-a23d-950f4a623b8c",
   "metadata": {},
   "outputs": [
    {
     "name": "stdout",
     "output_type": "stream",
     "text": [
      "Defaulting to user installation because normal site-packages is not writeable\n",
      "Requirement already satisfied: numpy in /opt/python/versions/3.12.0/lib/python3.12/site-packages (1.26.1)\n"
     ]
    }
   ],
   "source": [
    "!pip install numpy"
   ]
  },
  {
   "cell_type": "code",
   "execution_count": 42,
   "id": "3531cb0f-36f8-4687-a0fb-8e9cfe8b4a9a",
   "metadata": {},
   "outputs": [],
   "source": [
    "import numpy as np"
   ]
  },
  {
   "cell_type": "code",
   "execution_count": 44,
   "id": "0c552366-572c-424c-b8ea-14a040c73336",
   "metadata": {},
   "outputs": [
    {
     "data": {
      "text/plain": [
       "array([1, 2, 3])"
      ]
     },
     "execution_count": 44,
     "metadata": {},
     "output_type": "execute_result"
    }
   ],
   "source": [
    "vec = np.array([1, 2, 3])\n",
    "\n",
    "vec"
   ]
  },
  {
   "cell_type": "code",
   "execution_count": 45,
   "id": "f1508b48-494b-46f4-b1e4-691269a515f4",
   "metadata": {},
   "outputs": [
    {
     "data": {
      "text/plain": [
       "numpy.ndarray"
      ]
     },
     "execution_count": 45,
     "metadata": {},
     "output_type": "execute_result"
    }
   ],
   "source": [
    "type(vec)"
   ]
  },
  {
   "cell_type": "code",
   "execution_count": 48,
   "id": "a41bea6f-6917-4533-9a3c-318b200eeacd",
   "metadata": {},
   "outputs": [
    {
     "data": {
      "text/plain": [
       "[1, 2, 3, 1, 2, 3, 1, 2, 3]"
      ]
     },
     "execution_count": 48,
     "metadata": {},
     "output_type": "execute_result"
    }
   ],
   "source": [
    "3 * [1, 2, 3]  # concatenation"
   ]
  },
  {
   "cell_type": "code",
   "execution_count": 49,
   "id": "994e0e63-9ac2-4e75-8e48-8dbd4a9febf8",
   "metadata": {},
   "outputs": [
    {
     "data": {
      "text/plain": [
       "array([3, 6, 9])"
      ]
     },
     "execution_count": 49,
     "metadata": {},
     "output_type": "execute_result"
    }
   ],
   "source": [
    "3 * vec"
   ]
  },
  {
   "cell_type": "code",
   "execution_count": 51,
   "id": "fdd34e16-8802-426f-8322-0bb7fe2888e3",
   "metadata": {},
   "outputs": [
    {
     "data": {
      "text/plain": [
       "array([[10, 20, 30],\n",
       "       [40, 50, 60]])"
      ]
     },
     "execution_count": 51,
     "metadata": {},
     "output_type": "execute_result"
    }
   ],
   "source": [
    "10 * np.array([\n",
    "    [1, 2, 3],\n",
    "    [4, 5, 6]\n",
    "])"
   ]
  },
  {
   "cell_type": "markdown",
   "id": "13f3e542-b739-4395-846d-cf0a294a6d43",
   "metadata": {},
   "source": [
    "## Eigene Funktionen"
   ]
  },
  {
   "cell_type": "code",
   "execution_count": 52,
   "id": "35390111-255d-4432-855f-eef346ff6a74",
   "metadata": {},
   "outputs": [],
   "source": [
    "numbers = [7, 8, 9, 1, 2, 3, 6, 5, 4, 11, 12, 10]"
   ]
  },
  {
   "cell_type": "code",
   "execution_count": 53,
   "id": "0c7bd21f-3642-4b13-82cf-09f45bb3efb8",
   "metadata": {},
   "outputs": [
    {
     "data": {
      "text/plain": [
       "7.0"
      ]
     },
     "execution_count": 53,
     "metadata": {},
     "output_type": "execute_result"
    }
   ],
   "source": [
    "total = 0\n",
    "count = 0\n",
    "\n",
    "for number in numbers:\n",
    "    if number % 2 == 0:\n",
    "        total = total + number\n",
    "        count = count + 1\n",
    "\n",
    "average = total / count\n",
    "\n",
    "average"
   ]
  },
  {
   "cell_type": "code",
   "execution_count": 54,
   "id": "2de9a4da-e14e-4d40-b0ba-59b2149fe690",
   "metadata": {},
   "outputs": [],
   "source": [
    "other = [40, 41, 42, 43, 44]"
   ]
  },
  {
   "cell_type": "code",
   "execution_count": 55,
   "id": "716d055b-cccb-4928-a21b-0169bb8767c6",
   "metadata": {},
   "outputs": [
    {
     "data": {
      "text/plain": [
       "42.0"
      ]
     },
     "execution_count": 55,
     "metadata": {},
     "output_type": "execute_result"
    }
   ],
   "source": [
    "total = 0\n",
    "count = 0\n",
    "\n",
    "for number in other:\n",
    "    if number % 2 == 0:\n",
    "        total = total + number\n",
    "        count = count + 1\n",
    "\n",
    "average = total / count\n",
    "\n",
    "average"
   ]
  },
  {
   "cell_type": "code",
   "execution_count": 56,
   "id": "bba55ed2-2f49-4007-884d-a85d800d3b4c",
   "metadata": {},
   "outputs": [],
   "source": [
    "def average_evens(integers):\n",
    "    total = 0\n",
    "    count = 0\n",
    "\n",
    "    for number in integers:\n",
    "        if number % 2 == 0:\n",
    "            total = total + number\n",
    "            count = count + 1\n",
    "\n",
    "    average = total / count\n",
    "\n",
    "    return average"
   ]
  },
  {
   "cell_type": "code",
   "execution_count": 57,
   "id": "aa20adac-5e64-4382-b34c-9a22a8c207b9",
   "metadata": {},
   "outputs": [
    {
     "data": {
      "text/plain": [
       "<function __main__.average_evens(integers)>"
      ]
     },
     "execution_count": 57,
     "metadata": {},
     "output_type": "execute_result"
    }
   ],
   "source": [
    "average_evens"
   ]
  },
  {
   "cell_type": "code",
   "execution_count": 58,
   "id": "eb7e1428-73bf-43bb-a995-5d101ea28e5a",
   "metadata": {},
   "outputs": [
    {
     "data": {
      "text/plain": [
       "function"
      ]
     },
     "execution_count": 58,
     "metadata": {},
     "output_type": "execute_result"
    }
   ],
   "source": [
    "type(average_evens)"
   ]
  },
  {
   "cell_type": "markdown",
   "id": "91b373c2-0b05-42cc-a334-2bfdc388629a",
   "metadata": {},
   "source": [
    "`func()` => **call operator**"
   ]
  },
  {
   "cell_type": "code",
   "execution_count": 59,
   "id": "5e4aab1e-fbac-455d-a945-2a07a3a72045",
   "metadata": {},
   "outputs": [
    {
     "data": {
      "text/plain": [
       "2.0"
      ]
     },
     "execution_count": 59,
     "metadata": {},
     "output_type": "execute_result"
    }
   ],
   "source": [
    "ergebnis = average_evens([1, 2, 3])\n",
    "\n",
    "ergebnis"
   ]
  },
  {
   "cell_type": "code",
   "execution_count": 60,
   "id": "7d461cd0-b454-4812-a9cb-89134b725174",
   "metadata": {},
   "outputs": [],
   "source": [
    "result = average_evens(numbers)"
   ]
  },
  {
   "cell_type": "code",
   "execution_count": 61,
   "id": "7f21700c-9f83-4b42-b1ec-b0c0ca20a4d3",
   "metadata": {},
   "outputs": [
    {
     "data": {
      "text/plain": [
       "7.0"
      ]
     },
     "execution_count": 61,
     "metadata": {},
     "output_type": "execute_result"
    }
   ],
   "source": [
    "result"
   ]
  },
  {
   "cell_type": "code",
   "execution_count": 62,
   "id": "a3309d45-ec95-4564-a12a-ed6205c42296",
   "metadata": {},
   "outputs": [
    {
     "data": {
      "text/plain": [
       "42.0"
      ]
     },
     "execution_count": 62,
     "metadata": {},
     "output_type": "execute_result"
    }
   ],
   "source": [
    "average_evens(other)"
   ]
  },
  {
   "cell_type": "code",
   "execution_count": 63,
   "id": "8638c7b2-9030-4afe-ae01-668778059c10",
   "metadata": {},
   "outputs": [],
   "source": [
    "def average_evens(numbers):\n",
    "    \"\"\"Berechne den Durchschnitt aller geraden Zahlen.\n",
    "\n",
    "    Weitere Infos.\n",
    "    Zielgruppe: Nutzer der Funktion\n",
    "\n",
    "    Args:\n",
    "        numbers (list von int's): Die Zahlen, die gemittelt werden\n",
    "\n",
    "    Returns:\n",
    "        average (float)\n",
    "    \"\"\"\n",
    "    total = 0\n",
    "    count = 0\n",
    "\n",
    "    # Kommentar: Warum macht der Code etwas?\n",
    "    # Zielgruppe: Autor/Maintainer der Funktion\n",
    "    # \"Running Total\" berechnen\n",
    "    for number in numbers:\n",
    "        if number % 2 == 0:\n",
    "            total = total + number\n",
    "            count = count + 1\n",
    "\n",
    "    average = total / count\n",
    "\n",
    "    return average"
   ]
  },
  {
   "cell_type": "code",
   "execution_count": 64,
   "id": "1c52f52c-734b-4d13-b5b4-e53c723ff1d0",
   "metadata": {},
   "outputs": [
    {
     "name": "stdout",
     "output_type": "stream",
     "text": [
      "Help on function average_evens in module __main__:\n",
      "\n",
      "average_evens(numbers)\n",
      "    Berechne den Durchschnitt aller geraden Zahlen.\n",
      "\n",
      "    Weitere Infos.\n",
      "    Zielgruppe: Nutzer der Funktion\n",
      "\n",
      "    Args:\n",
      "        numbers (list von int's): Die Zahlen, die gemittelt werden\n",
      "\n",
      "    Returns:\n",
      "        average (float)\n",
      "\n"
     ]
    }
   ],
   "source": [
    "help(average_evens)"
   ]
  },
  {
   "cell_type": "markdown",
   "id": "aa56ce07-c8ae-47fa-8a45-6080bd075ebb",
   "metadata": {},
   "source": [
    "Variante: Der Durchschnitt soll skaliert werden"
   ]
  },
  {
   "cell_type": "code",
   "execution_count": 65,
   "id": "b8ff8104-853b-4d91-8dcb-00cb4911a5d9",
   "metadata": {},
   "outputs": [],
   "source": [
    "def average_evens(numbers, *, scalar=1):\n",
    "    \"\"\"Berechne den Durchschnitt aller geraden Zahlen.\n",
    "\n",
    "    Args:\n",
    "        numbers (list von int's): Die Zahlen, die gemittelt werden\n",
    "        scalar (int oder float): Skaliert den Durchschnitt;\n",
    "            standardmäßig wird nicht skaliert\n",
    "\n",
    "    Returns:\n",
    "        average (float)\n",
    "    \"\"\"\n",
    "    total = 0\n",
    "    count = 0\n",
    "\n",
    "    for number in numbers:\n",
    "        if number % 2 == 0:\n",
    "            total = total + number\n",
    "            count = count + 1\n",
    "\n",
    "    average = total / count\n",
    "\n",
    "    return scalar * average"
   ]
  },
  {
   "cell_type": "code",
   "execution_count": 66,
   "id": "757ebb6f-b116-4fb3-b678-5c0bcd7aba4f",
   "metadata": {},
   "outputs": [
    {
     "data": {
      "text/plain": [
       "2.0"
      ]
     },
     "execution_count": 66,
     "metadata": {},
     "output_type": "execute_result"
    }
   ],
   "source": [
    "average_evens([1, 2, 3])"
   ]
  },
  {
   "cell_type": "code",
   "execution_count": 67,
   "id": "2c78ce44-750a-4c61-8b6c-c86c6b5ad007",
   "metadata": {},
   "outputs": [
    {
     "ename": "SyntaxError",
     "evalue": "incomplete input (590556970.py, line 1)",
     "output_type": "error",
     "traceback": [
      "\u001b[0;36m  Cell \u001b[0;32mIn[67], line 1\u001b[0;36m\u001b[0m\n\u001b[0;31m    average_evens([1, 2, 3], 2  # wegen *, => keyword-only arguments\u001b[0m\n\u001b[0m                                                                    ^\u001b[0m\n\u001b[0;31mSyntaxError\u001b[0m\u001b[0;31m:\u001b[0m incomplete input\n"
     ]
    }
   ],
   "source": [
    "average_evens([1, 2, 3], 2  # wegen *, => keyword-only arguments"
   ]
  },
  {
   "cell_type": "code",
   "execution_count": 68,
   "id": "6edb0924-0262-416a-944e-4b3bae985acc",
   "metadata": {},
   "outputs": [
    {
     "data": {
      "text/plain": [
       "4.0"
      ]
     },
     "execution_count": 68,
     "metadata": {},
     "output_type": "execute_result"
    }
   ],
   "source": [
    "average_evens(numbers=[1, 2, 3], scalar=2)"
   ]
  },
  {
   "cell_type": "code",
   "execution_count": 69,
   "id": "0c1e25cb-071e-441c-98ce-3edf1bd353ad",
   "metadata": {},
   "outputs": [
    {
     "data": {
      "text/plain": [
       "4.0"
      ]
     },
     "execution_count": 69,
     "metadata": {},
     "output_type": "execute_result"
    }
   ],
   "source": [
    "average_evens(scalar=2, numbers=[1, 2, 3])"
   ]
  },
  {
   "cell_type": "code",
   "execution_count": 70,
   "id": "eab61820-d180-4cb0-b0ae-8308d921f14b",
   "metadata": {},
   "outputs": [
    {
     "data": {
      "text/plain": [
       "4.0"
      ]
     },
     "execution_count": 70,
     "metadata": {},
     "output_type": "execute_result"
    }
   ],
   "source": [
    "average_evens([1, 2, 3], scalar=2)"
   ]
  }
 ],
 "metadata": {
  "kernelspec": {
   "display_name": "Python 3.12",
   "language": "python",
   "name": "python3.12"
  },
  "language_info": {
   "codemirror_mode": {
    "name": "ipython",
    "version": 3
   },
   "file_extension": ".py",
   "mimetype": "text/x-python",
   "name": "python",
   "nbconvert_exporter": "python",
   "pygments_lexer": "ipython3",
   "version": "3.12.0"
  }
 },
 "nbformat": 4,
 "nbformat_minor": 5
}
