{
 "cells": [
  {
   "cell_type": "markdown",
   "id": "6919116f-e8cd-4089-b042-c3fcc22d3924",
   "metadata": {},
   "source": [
    "# Überblick über Datentypen"
   ]
  },
  {
   "cell_type": "markdown",
   "id": "71be38fb-9417-4f2f-a8d3-eb7dfdb49eee",
   "metadata": {},
   "source": [
    "## 1) Besondere Typen"
   ]
  },
  {
   "cell_type": "markdown",
   "id": "38b8025c-a6a8-4fdb-985b-e02d30138756",
   "metadata": {},
   "source": [
    "#### `NoneType`"
   ]
  },
  {
   "cell_type": "code",
   "execution_count": 1,
   "id": "3e01ca18-cb8c-478d-b80a-0db0fdccc00f",
   "metadata": {},
   "outputs": [],
   "source": [
    "None"
   ]
  },
  {
   "cell_type": "markdown",
   "id": "17029e21-249a-41da-aba1-2bfdf6c9ee24",
   "metadata": {
    "jp-MarkdownHeadingCollapsed": true
   },
   "source": [
    "## 2) Zahlen"
   ]
  },
  {
   "cell_type": "markdown",
   "id": "8256e0a0-5e30-4c28-9517-861cd42fba9c",
   "metadata": {},
   "source": [
    "#### `int` Typ"
   ]
  },
  {
   "cell_type": "code",
   "execution_count": 2,
   "id": "397cd6ef-863e-4e2e-b11c-38d61ae5a5c9",
   "metadata": {},
   "outputs": [
    {
     "data": {
      "text/plain": [
       "1"
      ]
     },
     "execution_count": 2,
     "metadata": {},
     "output_type": "execute_result"
    }
   ],
   "source": [
    "1"
   ]
  },
  {
   "cell_type": "code",
   "execution_count": 3,
   "id": "f58ea887-6a53-43f9-be5f-4970bf5118bd",
   "metadata": {},
   "outputs": [
    {
     "data": {
      "text/plain": [
       "123"
      ]
     },
     "execution_count": 3,
     "metadata": {},
     "output_type": "execute_result"
    }
   ],
   "source": [
    "123"
   ]
  },
  {
   "cell_type": "code",
   "execution_count": 4,
   "id": "5def0142-9dfe-4246-ac21-e775899e427b",
   "metadata": {},
   "outputs": [
    {
     "data": {
      "text/plain": [
       "True"
      ]
     },
     "execution_count": 4,
     "metadata": {},
     "output_type": "execute_result"
    }
   ],
   "source": [
    "1 + 2 == 3"
   ]
  },
  {
   "cell_type": "markdown",
   "id": "f3d818db-bf2b-4b39-b93b-0704b3ee90f9",
   "metadata": {},
   "source": [
    "#### `float` Typ"
   ]
  },
  {
   "cell_type": "code",
   "execution_count": 5,
   "id": "d24bdb6c-fb8a-411f-9745-8ff18f46bc03",
   "metadata": {},
   "outputs": [
    {
     "data": {
      "text/plain": [
       "0.1"
      ]
     },
     "execution_count": 5,
     "metadata": {},
     "output_type": "execute_result"
    }
   ],
   "source": [
    ".1"
   ]
  },
  {
   "cell_type": "code",
   "execution_count": 6,
   "id": "67f5374c-0813-4fcc-bc11-d17db9606813",
   "metadata": {},
   "outputs": [
    {
     "data": {
      "text/plain": [
       "1.0"
      ]
     },
     "execution_count": 6,
     "metadata": {},
     "output_type": "execute_result"
    }
   ],
   "source": [
    "1."
   ]
  },
  {
   "cell_type": "code",
   "execution_count": 7,
   "id": "96efc241-14b4-4df4-bee7-87e613517bf0",
   "metadata": {},
   "outputs": [
    {
     "data": {
      "text/plain": [
       "1.0"
      ]
     },
     "execution_count": 7,
     "metadata": {},
     "output_type": "execute_result"
    }
   ],
   "source": [
    "1.0"
   ]
  },
  {
   "cell_type": "code",
   "execution_count": 8,
   "id": "650b97f4-581d-405c-881a-66a06d5bf101",
   "metadata": {},
   "outputs": [
    {
     "data": {
      "text/plain": [
       "False"
      ]
     },
     "execution_count": 8,
     "metadata": {},
     "output_type": "execute_result"
    }
   ],
   "source": [
    "0.1 + 0.2 == 0.3"
   ]
  },
  {
   "cell_type": "code",
   "execution_count": 9,
   "id": "2406cc8b-ee75-40e1-9327-0152302dcc40",
   "metadata": {},
   "outputs": [
    {
     "data": {
      "text/plain": [
       "True"
      ]
     },
     "execution_count": 9,
     "metadata": {},
     "output_type": "execute_result"
    }
   ],
   "source": [
    "0.125 + 0.125 == 0.25"
   ]
  },
  {
   "cell_type": "code",
   "execution_count": 10,
   "id": "444892f2-3e15-43d2-80d6-0b9884581861",
   "metadata": {},
   "outputs": [
    {
     "data": {
      "text/plain": [
       "True"
      ]
     },
     "execution_count": 10,
     "metadata": {},
     "output_type": "execute_result"
    }
   ],
   "source": [
    "abs((0.1 + 0.2) - (0.3)) < 1e-12"
   ]
  },
  {
   "cell_type": "code",
   "execution_count": 11,
   "id": "256f6308-509c-4d42-9126-f89522ab0488",
   "metadata": {},
   "outputs": [
    {
     "data": {
      "text/plain": [
       "10000000000.0"
      ]
     },
     "execution_count": 11,
     "metadata": {},
     "output_type": "execute_result"
    }
   ],
   "source": [
    "1e10"
   ]
  },
  {
   "cell_type": "code",
   "execution_count": 12,
   "id": "ff9a15df-4a49-4cad-bf84-b715d5c03993",
   "metadata": {},
   "outputs": [
    {
     "data": {
      "text/plain": [
       "1e-10"
      ]
     },
     "execution_count": 12,
     "metadata": {},
     "output_type": "execute_result"
    }
   ],
   "source": [
    "1e-10"
   ]
  },
  {
   "cell_type": "code",
   "execution_count": 13,
   "id": "32c566a7-84c2-4ab2-b774-32bc18170e35",
   "metadata": {},
   "outputs": [
    {
     "data": {
      "text/plain": [
       "10000000000.0"
      ]
     },
     "execution_count": 13,
     "metadata": {},
     "output_type": "execute_result"
    }
   ],
   "source": [
    "1e10 + 1e-10"
   ]
  },
  {
   "cell_type": "code",
   "execution_count": 14,
   "id": "f6f37039-2b75-4ea0-971c-b06824012a37",
   "metadata": {},
   "outputs": [
    {
     "data": {
      "text/plain": [
       "0"
      ]
     },
     "execution_count": 14,
     "metadata": {},
     "output_type": "execute_result"
    }
   ],
   "source": [
    "round(0.5)"
   ]
  },
  {
   "cell_type": "code",
   "execution_count": 15,
   "id": "3bb1167d-044a-4955-b394-49f6ee3ed7ab",
   "metadata": {},
   "outputs": [
    {
     "data": {
      "text/plain": [
       "2"
      ]
     },
     "execution_count": 15,
     "metadata": {},
     "output_type": "execute_result"
    }
   ],
   "source": [
    "round(1.5)"
   ]
  },
  {
   "cell_type": "code",
   "execution_count": 16,
   "id": "5f6fa68b-6d8c-4823-a9da-9fe5d3064af4",
   "metadata": {},
   "outputs": [
    {
     "data": {
      "text/plain": [
       "2"
      ]
     },
     "execution_count": 16,
     "metadata": {},
     "output_type": "execute_result"
    }
   ],
   "source": [
    "round(2.5)"
   ]
  },
  {
   "cell_type": "markdown",
   "id": "fcb2f0c5-215b-4a4b-a152-1ab4b78d73aa",
   "metadata": {},
   "source": [
    "#### `complex` Typ"
   ]
  },
  {
   "cell_type": "code",
   "execution_count": 17,
   "id": "c09b48c3-dc15-4d4f-80ee-f49b3b3e3fd5",
   "metadata": {},
   "outputs": [],
   "source": [
    "c = 1 + 2j"
   ]
  },
  {
   "cell_type": "code",
   "execution_count": 18,
   "id": "50c7966d-3c8c-4e4f-bf51-ffded9a48bf3",
   "metadata": {},
   "outputs": [
    {
     "data": {
      "text/plain": [
       "(1+2j)"
      ]
     },
     "execution_count": 18,
     "metadata": {},
     "output_type": "execute_result"
    }
   ],
   "source": [
    "c"
   ]
  },
  {
   "cell_type": "markdown",
   "id": "d5606212-c8ef-4cda-ba55-c969c27441e4",
   "metadata": {},
   "source": [
    "#### `decimal.Decimal` Typ"
   ]
  },
  {
   "cell_type": "code",
   "execution_count": 19,
   "id": "c02b80f7-3356-4a90-a0f9-c756d1e90879",
   "metadata": {},
   "outputs": [],
   "source": [
    "import decimal"
   ]
  },
  {
   "cell_type": "code",
   "execution_count": 20,
   "id": "9237a38c-2327-4a36-8df8-baf69580e49e",
   "metadata": {},
   "outputs": [
    {
     "data": {
      "text/plain": [
       "0.1"
      ]
     },
     "execution_count": 20,
     "metadata": {},
     "output_type": "execute_result"
    }
   ],
   "source": [
    "0.10"
   ]
  },
  {
   "cell_type": "code",
   "execution_count": 21,
   "id": "7e93a224-fa9e-4910-816b-a9a5a2ce8a45",
   "metadata": {},
   "outputs": [
    {
     "data": {
      "text/plain": [
       "Decimal('0.10')"
      ]
     },
     "execution_count": 21,
     "metadata": {},
     "output_type": "execute_result"
    }
   ],
   "source": [
    "decimal.Decimal(\"0.10\")"
   ]
  },
  {
   "cell_type": "code",
   "execution_count": 22,
   "id": "4b1ca6c7-7df0-42b4-a0de-960443e4a2e8",
   "metadata": {},
   "outputs": [
    {
     "data": {
      "text/plain": [
       "True"
      ]
     },
     "execution_count": 22,
     "metadata": {},
     "output_type": "execute_result"
    }
   ],
   "source": [
    "decimal.Decimal(\"0.10\") + decimal.Decimal(\"0.20\") == decimal.Decimal(\"0.30\")"
   ]
  },
  {
   "cell_type": "markdown",
   "id": "15193805-a31e-4ccd-a1de-bb72bdc0eab8",
   "metadata": {
    "jp-MarkdownHeadingCollapsed": true
   },
   "source": [
    "## 3) Collections"
   ]
  },
  {
   "cell_type": "markdown",
   "id": "c1ce077e-32ab-4eaa-a3bf-a03c8bcab9b7",
   "metadata": {},
   "source": [
    "Jedes Objekt `obj`, das folgende 3 Eigenschaften hat, ist eine **Collection**:\n",
    "1. **Container** => \"`obj` enthält andere Objekte\" => `... in obj`\n",
    "2. **Sized** / \"Länge\" => \"die Anzahl der enthaltenen Objekte ist bekannt und begrenzt\" => `len(obj)`\n",
    "3. **Iterable** / \"Loopbar\" => \"man kann über die enthaltenen Objekte nacheinander loopen\" => `for ... in obj: ...` oder `iter(obj)`"
   ]
  },
  {
   "cell_type": "markdown",
   "id": "61080ff5-1e88-41a2-af9f-3ae54c3d6feb",
   "metadata": {
    "jp-MarkdownHeadingCollapsed": true
   },
   "source": [
    "### 3.1) Sequences"
   ]
  },
  {
   "cell_type": "markdown",
   "id": "3f89ea07-7cb2-4a03-b744-9edac31e49d9",
   "metadata": {},
   "source": [
    "Jedes Collection Objekt `obj`, das folgende 4. Eigenschaft hat, ist eine Sequenz:\n",
    "\n",
    "4. **Reversible** / \"Reihenfolge\" => \"die enthaltenen Objekte werden in einer aus dem Quellcode ersichtlichen Reihenfolge iteriert\" => `reversed(obj)`"
   ]
  },
  {
   "cell_type": "markdown",
   "id": "ce2c0643-4f81-46cd-b682-03639a6707ad",
   "metadata": {},
   "source": [
    "#### `list` & `str` Typen"
   ]
  },
  {
   "cell_type": "code",
   "execution_count": 23,
   "id": "0f389a45-e347-40a2-a737-cdf4c6498612",
   "metadata": {},
   "outputs": [],
   "source": [
    "numbers = [3, 4, 4, 1, 2, 5]"
   ]
  },
  {
   "cell_type": "code",
   "execution_count": 24,
   "id": "5a681a59-61bb-4f5b-a8cc-92904cb7b202",
   "metadata": {},
   "outputs": [],
   "source": [
    "text = \"Irgendein Text.\""
   ]
  },
  {
   "cell_type": "code",
   "execution_count": 25,
   "id": "5f5cfc7b-c87d-47f3-ac9f-b38d41f13663",
   "metadata": {},
   "outputs": [
    {
     "data": {
      "text/plain": [
       "False"
      ]
     },
     "execution_count": 25,
     "metadata": {},
     "output_type": "execute_result"
    }
   ],
   "source": [
    "0 in numbers  # im Hintergrund: for-loop mit early exit => Linear Search"
   ]
  },
  {
   "cell_type": "code",
   "execution_count": 26,
   "id": "dae77c51-9a71-48f4-91c4-ee483da7b43e",
   "metadata": {},
   "outputs": [
    {
     "data": {
      "text/plain": [
       "True"
      ]
     },
     "execution_count": 26,
     "metadata": {},
     "output_type": "execute_result"
    }
   ],
   "source": [
    "4 in numbers"
   ]
  },
  {
   "cell_type": "code",
   "execution_count": 27,
   "id": "9c5ad01e-12cd-4e1e-8bee-3ff90d7ade63",
   "metadata": {},
   "outputs": [
    {
     "data": {
      "text/plain": [
       "True"
      ]
     },
     "execution_count": 27,
     "metadata": {},
     "output_type": "execute_result"
    }
   ],
   "source": [
    "\"x\" in text"
   ]
  },
  {
   "cell_type": "code",
   "execution_count": 28,
   "id": "1f94e826-0a4c-4015-a7aa-e0482ff4c392",
   "metadata": {},
   "outputs": [
    {
     "data": {
      "text/plain": [
       "False"
      ]
     },
     "execution_count": 28,
     "metadata": {},
     "output_type": "execute_result"
    }
   ],
   "source": [
    "\"X\" in text"
   ]
  },
  {
   "cell_type": "code",
   "execution_count": 29,
   "id": "b7c93e6e-815a-4e44-af55-63dd9a3a495f",
   "metadata": {},
   "outputs": [
    {
     "data": {
      "text/plain": [
       "6"
      ]
     },
     "execution_count": 29,
     "metadata": {},
     "output_type": "execute_result"
    }
   ],
   "source": [
    "len(numbers)"
   ]
  },
  {
   "cell_type": "code",
   "execution_count": 30,
   "id": "9a50ad89-e2e8-4d8b-955d-53f23793e595",
   "metadata": {},
   "outputs": [
    {
     "data": {
      "text/plain": [
       "15"
      ]
     },
     "execution_count": 30,
     "metadata": {},
     "output_type": "execute_result"
    }
   ],
   "source": [
    "len(text)"
   ]
  },
  {
   "cell_type": "code",
   "execution_count": 31,
   "id": "e85cce01-dbe1-4321-bf88-21127d606463",
   "metadata": {},
   "outputs": [
    {
     "name": "stdout",
     "output_type": "stream",
     "text": [
      "3\n",
      "4\n",
      "4\n",
      "1\n",
      "2\n",
      "5\n"
     ]
    }
   ],
   "source": [
    "for number in numbers:\n",
    "    print(number)"
   ]
  },
  {
   "cell_type": "code",
   "execution_count": 32,
   "id": "06ea23c0-5d33-4ced-8df1-a35c6c7effbf",
   "metadata": {},
   "outputs": [
    {
     "name": "stdout",
     "output_type": "stream",
     "text": [
      "I\n",
      "r\n",
      "g\n",
      "e\n",
      "n\n",
      "d\n",
      "e\n",
      "i\n",
      "n\n",
      " \n",
      "T\n",
      "e\n",
      "x\n",
      "t\n",
      ".\n"
     ]
    }
   ],
   "source": [
    "for char in text:\n",
    "    print(char)"
   ]
  },
  {
   "cell_type": "code",
   "execution_count": 33,
   "id": "cadafc97-3501-4fba-8502-b2659e69b76c",
   "metadata": {},
   "outputs": [
    {
     "data": {
      "text/plain": [
       "<list_iterator at 0x7fa057587220>"
      ]
     },
     "execution_count": 33,
     "metadata": {},
     "output_type": "execute_result"
    }
   ],
   "source": [
    "iter(numbers)"
   ]
  },
  {
   "cell_type": "code",
   "execution_count": 34,
   "id": "7987e585-ec09-474c-936f-7176abac47b7",
   "metadata": {},
   "outputs": [
    {
     "data": {
      "text/plain": [
       "<str_ascii_iterator at 0x7fa057537280>"
      ]
     },
     "execution_count": 34,
     "metadata": {},
     "output_type": "execute_result"
    }
   ],
   "source": [
    "iter(text)"
   ]
  },
  {
   "cell_type": "code",
   "execution_count": 35,
   "id": "fc07fed9-4f1b-4725-b58f-9624bfa7617d",
   "metadata": {},
   "outputs": [
    {
     "name": "stdout",
     "output_type": "stream",
     "text": [
      "5\n",
      "2\n",
      "1\n",
      "4\n",
      "4\n",
      "3\n"
     ]
    }
   ],
   "source": [
    "for number in reversed(numbers):\n",
    "    print(number)"
   ]
  },
  {
   "cell_type": "code",
   "execution_count": 36,
   "id": "4deeeaeb-033d-4253-b0a5-f29c20a7f870",
   "metadata": {},
   "outputs": [
    {
     "name": "stdout",
     "output_type": "stream",
     "text": [
      ".\n",
      "t\n",
      "x\n",
      "e\n",
      "T\n",
      " \n",
      "n\n",
      "i\n",
      "e\n",
      "d\n",
      "n\n",
      "e\n",
      "g\n",
      "r\n",
      "I\n"
     ]
    }
   ],
   "source": [
    "for char in reversed(text):\n",
    "    print(char)"
   ]
  },
  {
   "cell_type": "code",
   "execution_count": 37,
   "id": "f2a4535c-3219-4193-8e6f-9b240337f6c8",
   "metadata": {},
   "outputs": [
    {
     "data": {
      "text/plain": [
       "<list_reverseiterator at 0x7fa0575a4c70>"
      ]
     },
     "execution_count": 37,
     "metadata": {},
     "output_type": "execute_result"
    }
   ],
   "source": [
    "reversed(numbers)"
   ]
  },
  {
   "cell_type": "code",
   "execution_count": 38,
   "id": "9e05f793-7fa5-4136-b1b4-1590d94c6795",
   "metadata": {},
   "outputs": [
    {
     "data": {
      "text/plain": [
       "<reversed at 0x7fa0575a5000>"
      ]
     },
     "execution_count": 38,
     "metadata": {},
     "output_type": "execute_result"
    }
   ],
   "source": [
    "reversed(text)"
   ]
  },
  {
   "cell_type": "markdown",
   "id": "6fcf40e9-22d5-4825-8cad-c32c8e07928c",
   "metadata": {
    "jp-MarkdownHeadingCollapsed": true
   },
   "source": [
    "### 3.2) Mengen"
   ]
  },
  {
   "cell_type": "markdown",
   "id": "54005cb4-2700-4521-80c4-5f9110521e63",
   "metadata": {},
   "source": [
    "Jedes Collection Objekt `obj`, das folgende 4. Eigenschaft hat, ist eine Menge:\n",
    "\n",
    "4. Es verhält sich wie eine math. Menge:\n",
    "- jedes enthaltene Objekt kann nur einmal enthalten sein\n",
    "- keine Reihenfolge"
   ]
  },
  {
   "cell_type": "code",
   "execution_count": 39,
   "id": "1d975f0a-8ac5-47ec-97ce-17b86f6bb74a",
   "metadata": {},
   "outputs": [
    {
     "data": {
      "text/plain": [
       "[3, 4, 4, 1, 2, 5]"
      ]
     },
     "execution_count": 39,
     "metadata": {},
     "output_type": "execute_result"
    }
   ],
   "source": [
    "[3, 4, 4, 1, 2, 5]"
   ]
  },
  {
   "cell_type": "markdown",
   "id": "2e545624-f9ab-421d-99c2-62cfff125b02",
   "metadata": {},
   "source": [
    "#### `set` Typ"
   ]
  },
  {
   "cell_type": "code",
   "execution_count": 40,
   "id": "ea2a15f1-016c-4b0e-a62c-3dfafe9aa2f9",
   "metadata": {},
   "outputs": [
    {
     "data": {
      "text/plain": [
       "{1, 2, 3, 4, 5}"
      ]
     },
     "execution_count": 40,
     "metadata": {},
     "output_type": "execute_result"
    }
   ],
   "source": [
    "menge = {3, 4, 4, 1, 2, 5}\n",
    "\n",
    "menge"
   ]
  },
  {
   "cell_type": "code",
   "execution_count": 41,
   "id": "a0347fff-fbb4-4c41-add2-c623740c28cd",
   "metadata": {},
   "outputs": [
    {
     "data": {
      "text/plain": [
       "set"
      ]
     },
     "execution_count": 41,
     "metadata": {},
     "output_type": "execute_result"
    }
   ],
   "source": [
    "type(menge)"
   ]
  },
  {
   "cell_type": "code",
   "execution_count": 42,
   "id": "cb9c7434-c7ca-4980-81b6-f2817d3d61e1",
   "metadata": {},
   "outputs": [
    {
     "data": {
      "text/plain": [
       "False"
      ]
     },
     "execution_count": 42,
     "metadata": {},
     "output_type": "execute_result"
    }
   ],
   "source": [
    "0 in menge  # konstanter Zeit"
   ]
  },
  {
   "cell_type": "code",
   "execution_count": 43,
   "id": "e14d3491-928d-4ae0-9a4b-2662822af593",
   "metadata": {},
   "outputs": [
    {
     "data": {
      "text/plain": [
       "True"
      ]
     },
     "execution_count": 43,
     "metadata": {},
     "output_type": "execute_result"
    }
   ],
   "source": [
    "5 in menge  # konstanter Zeit => im Hintergrund: KEIN for-Loop"
   ]
  },
  {
   "cell_type": "code",
   "execution_count": 44,
   "id": "cfb6f9e6-e70e-4625-96ca-f51da6a9b34d",
   "metadata": {},
   "outputs": [
    {
     "data": {
      "text/plain": [
       "5"
      ]
     },
     "execution_count": 44,
     "metadata": {},
     "output_type": "execute_result"
    }
   ],
   "source": [
    "len(menge)"
   ]
  },
  {
   "cell_type": "code",
   "execution_count": 45,
   "id": "beefe40e-a0fa-4c86-951f-ebed628158cd",
   "metadata": {},
   "outputs": [
    {
     "name": "stdout",
     "output_type": "stream",
     "text": [
      "1\n",
      "2\n",
      "3\n",
      "4\n",
      "5\n"
     ]
    }
   ],
   "source": [
    "for zahl in {3, 4, 4, 1, 2, 5}:\n",
    "    print(zahl)"
   ]
  },
  {
   "cell_type": "markdown",
   "id": "2ecec54d-07a0-4bfd-a342-873e1a9f8b58",
   "metadata": {},
   "source": [
    "`set`s sind veraenderbar"
   ]
  },
  {
   "cell_type": "code",
   "execution_count": 46,
   "id": "a5895f8c-7df8-4439-87cd-9c8b7c76c20f",
   "metadata": {},
   "outputs": [],
   "source": [
    "menge.remove(4)  # konstante Zeit"
   ]
  },
  {
   "cell_type": "code",
   "execution_count": 47,
   "id": "1184bba6-edfe-4802-adc9-fcb4033147e3",
   "metadata": {},
   "outputs": [
    {
     "data": {
      "text/plain": [
       "{1, 2, 3, 5}"
      ]
     },
     "execution_count": 47,
     "metadata": {},
     "output_type": "execute_result"
    }
   ],
   "source": [
    "menge"
   ]
  },
  {
   "cell_type": "code",
   "execution_count": 48,
   "id": "fbe48c6a-22ca-484d-96df-4fe82254aeae",
   "metadata": {},
   "outputs": [
    {
     "ename": "KeyError",
     "evalue": "4",
     "output_type": "error",
     "traceback": [
      "\u001b[0;31m---------------------------------------------------------------------------\u001b[0m",
      "\u001b[0;31mKeyError\u001b[0m                                  Traceback (most recent call last)",
      "Cell \u001b[0;32mIn[48], line 1\u001b[0m\n\u001b[0;32m----> 1\u001b[0m \u001b[43mmenge\u001b[49m\u001b[38;5;241;43m.\u001b[39;49m\u001b[43mremove\u001b[49m\u001b[43m(\u001b[49m\u001b[38;5;241;43m4\u001b[39;49m\u001b[43m)\u001b[49m\n",
      "\u001b[0;31mKeyError\u001b[0m: 4"
     ]
    }
   ],
   "source": [
    "menge.remove(4)"
   ]
  },
  {
   "cell_type": "code",
   "execution_count": 49,
   "id": "e317004e-e045-4c78-b5b7-cbf844f1c0e5",
   "metadata": {},
   "outputs": [
    {
     "data": {
      "text/plain": [
       "0"
      ]
     },
     "execution_count": 49,
     "metadata": {},
     "output_type": "execute_result"
    }
   ],
   "source": [
    "hash(0)"
   ]
  },
  {
   "cell_type": "code",
   "execution_count": 50,
   "id": "7996b279-ff96-479d-8ec3-5b2800be7c68",
   "metadata": {},
   "outputs": [
    {
     "data": {
      "text/plain": [
       "230584300921369408"
      ]
     },
     "execution_count": 50,
     "metadata": {},
     "output_type": "execute_result"
    }
   ],
   "source": [
    "hash(0.1)"
   ]
  },
  {
   "cell_type": "code",
   "execution_count": 51,
   "id": "4ed0dc5a-c7de-4a84-b272-0f9e0869f6c7",
   "metadata": {},
   "outputs": [
    {
     "data": {
      "text/plain": [
       "230584300921371712"
      ]
     },
     "execution_count": 51,
     "metadata": {},
     "output_type": "execute_result"
    }
   ],
   "source": [
    "hash(0.100000000000001)"
   ]
  },
  {
   "cell_type": "code",
   "execution_count": 52,
   "id": "70b5f7b5-393e-4103-b8f1-73cd8e77ec70",
   "metadata": {},
   "outputs": [
    {
     "data": {
      "text/plain": [
       "{1, 2, 3}"
      ]
     },
     "execution_count": 52,
     "metadata": {},
     "output_type": "execute_result"
    }
   ],
   "source": [
    "set([1, 2, 3])"
   ]
  },
  {
   "cell_type": "code",
   "execution_count": 53,
   "id": "4b619284-ed2c-4a63-88c3-63688029f050",
   "metadata": {},
   "outputs": [
    {
     "data": {
      "text/plain": [
       "False"
      ]
     },
     "execution_count": 53,
     "metadata": {},
     "output_type": "execute_result"
    }
   ],
   "source": [
    "data = [1, 2, 3, 3]\n",
    "\n",
    "len(set(data)) == len(data)"
   ]
  },
  {
   "cell_type": "markdown",
   "id": "56070562-88da-4776-980b-115a666ffe06",
   "metadata": {
    "jp-MarkdownHeadingCollapsed": true
   },
   "source": [
    "### 3.3) Mapping"
   ]
  },
  {
   "cell_type": "markdown",
   "id": "8e0aaeb6-ca35-4266-b124-641e50f9b2a8",
   "metadata": {},
   "source": [
    "Jedes Collection Objekt `obj`, das folgende 4. Eigenschaft hat, ist ein Mapping:\n",
    "\n",
    "4. Zuordnung unter den enthaltenen Objekten"
   ]
  },
  {
   "cell_type": "code",
   "execution_count": 54,
   "id": "7ed811eb-be1c-44a2-810e-d3e73b4b3ba2",
   "metadata": {},
   "outputs": [
    {
     "data": {
      "text/plain": [
       "{0: 'NULL', 1: 'eins', 2: 'zwei'}"
      ]
     },
     "execution_count": 54,
     "metadata": {},
     "output_type": "execute_result"
    }
   ],
   "source": [
    "to_words = {\n",
    "    # Keys: Values  (Items => Key-Value Pairs)\n",
    "    0: \"null\",\n",
    "    1: \"eins\",\n",
    "    2: \"zwei\",\n",
    "    0: \"NULL\",\n",
    "}\n",
    "\n",
    "to_words"
   ]
  },
  {
   "cell_type": "code",
   "execution_count": 55,
   "id": "89e72224-bd1a-4f91-9f4c-b022749a10a2",
   "metadata": {},
   "outputs": [
    {
     "data": {
      "text/plain": [
       "dict"
      ]
     },
     "execution_count": 55,
     "metadata": {},
     "output_type": "execute_result"
    }
   ],
   "source": [
    "type(to_words)"
   ]
  },
  {
   "cell_type": "markdown",
   "id": "e541b27e-42ea-4759-97e3-bab3df1861a6",
   "metadata": {},
   "source": [
    "Membership Testing nur fuer die Keys"
   ]
  },
  {
   "cell_type": "code",
   "execution_count": 56,
   "id": "47ef9126-e76b-486a-8371-65371cab1cbd",
   "metadata": {},
   "outputs": [
    {
     "data": {
      "text/plain": [
       "True"
      ]
     },
     "execution_count": 56,
     "metadata": {},
     "output_type": "execute_result"
    }
   ],
   "source": [
    "0 in to_words  # kontante Zeit => sehr schnell"
   ]
  },
  {
   "cell_type": "code",
   "execution_count": 57,
   "id": "e8a9d8e2-7aab-4f50-823e-b0b1ae855d90",
   "metadata": {},
   "outputs": [
    {
     "data": {
      "text/plain": [
       "False"
      ]
     },
     "execution_count": 57,
     "metadata": {},
     "output_type": "execute_result"
    }
   ],
   "source": [
    "\"NULL\" in to_words"
   ]
  },
  {
   "cell_type": "code",
   "execution_count": 58,
   "id": "8fff0b39-3202-467c-a186-4659706f8386",
   "metadata": {},
   "outputs": [
    {
     "data": {
      "text/plain": [
       "3"
      ]
     },
     "execution_count": 58,
     "metadata": {},
     "output_type": "execute_result"
    }
   ],
   "source": [
    "len(to_words)  # Anzahl der Items"
   ]
  },
  {
   "cell_type": "markdown",
   "id": "5a66a51f-95a3-4fdf-8ed3-ed1f119b74c1",
   "metadata": {},
   "source": [
    "Reihenfolge?"
   ]
  },
  {
   "cell_type": "code",
   "execution_count": 59,
   "id": "5e03b044-c67e-4396-9553-0fb930618d52",
   "metadata": {},
   "outputs": [
    {
     "name": "stdout",
     "output_type": "stream",
     "text": [
      "0\n",
      "1\n",
      "2\n"
     ]
    }
   ],
   "source": [
    "for key in to_words:\n",
    "    print(key)"
   ]
  },
  {
   "cell_type": "markdown",
   "id": "6433d7bd-8a69-487d-8548-526a9484ef29",
   "metadata": {},
   "source": [
    "`dict`s sind mutable"
   ]
  },
  {
   "cell_type": "code",
   "execution_count": 60,
   "id": "217d6941-e5a1-4c8d-8b37-8ce3cb3e37eb",
   "metadata": {},
   "outputs": [
    {
     "data": {
      "text/plain": [
       "{0: 'NULL', 1: 'eins', 2: 'zwei'}"
      ]
     },
     "execution_count": 60,
     "metadata": {},
     "output_type": "execute_result"
    }
   ],
   "source": [
    "to_words"
   ]
  },
  {
   "cell_type": "code",
   "execution_count": 61,
   "id": "259596a6-a59e-4e61-97ab-9fcbce0cae0d",
   "metadata": {},
   "outputs": [],
   "source": [
    "del to_words[0]"
   ]
  },
  {
   "cell_type": "code",
   "execution_count": 62,
   "id": "70803de6-1ba7-4a7a-949c-0ff6e284f539",
   "metadata": {},
   "outputs": [
    {
     "data": {
      "text/plain": [
       "{1: 'eins', 2: 'zwei'}"
      ]
     },
     "execution_count": 62,
     "metadata": {},
     "output_type": "execute_result"
    }
   ],
   "source": [
    "to_words"
   ]
  },
  {
   "cell_type": "code",
   "execution_count": 63,
   "id": "0bee6943-a27a-4794-9c6b-cdc7f72600c1",
   "metadata": {},
   "outputs": [],
   "source": [
    "to_words[0] = \"null\"  # konstante Zeit (vs. linear bei Listen; s. .insert())"
   ]
  },
  {
   "cell_type": "code",
   "execution_count": 64,
   "id": "430f5afc-eccd-4932-b9ac-dbfc81c7185b",
   "metadata": {},
   "outputs": [
    {
     "data": {
      "text/plain": [
       "{1: 'eins', 2: 'zwei', 0: 'null'}"
      ]
     },
     "execution_count": 64,
     "metadata": {},
     "output_type": "execute_result"
    }
   ],
   "source": [
    "to_words"
   ]
  },
  {
   "cell_type": "markdown",
   "id": "3268ef75-0e48-4939-a0a7-77eb9113b252",
   "metadata": {},
   "source": [
    "Neuere Python Versionen (ab 3.8) => **Insertion Order** gemerkt"
   ]
  },
  {
   "cell_type": "code",
   "execution_count": 65,
   "id": "94e0bd5d-ee5a-4971-852e-d2c027565022",
   "metadata": {},
   "outputs": [
    {
     "name": "stdout",
     "output_type": "stream",
     "text": [
      "1\n",
      "2\n",
      "0\n"
     ]
    }
   ],
   "source": [
    "for key in to_words:\n",
    "    print(key)"
   ]
  },
  {
   "cell_type": "markdown",
   "id": "d82ba019-f7ec-46e7-baf9-91a61aeba7b2",
   "metadata": {},
   "source": [
    "**Best Practice**: mit `dict`s am besten keine Reihenfolge annehmen"
   ]
  },
  {
   "cell_type": "markdown",
   "id": "7e2d3d15-c677-4e69-b034-af086a681216",
   "metadata": {},
   "source": [
    "**Key Look-up**"
   ]
  },
  {
   "cell_type": "code",
   "execution_count": 66,
   "id": "e3814bea-11cc-431f-98e5-970bb67deb51",
   "metadata": {},
   "outputs": [
    {
     "data": {
      "text/plain": [
       "'eins'"
      ]
     },
     "execution_count": 66,
     "metadata": {},
     "output_type": "execute_result"
    }
   ],
   "source": [
    "to_words[1]  # konstanter Zeit"
   ]
  },
  {
   "cell_type": "code",
   "execution_count": 67,
   "id": "ba787bbd-5c7b-494d-b1d7-bc513384edf2",
   "metadata": {},
   "outputs": [
    {
     "ename": "KeyError",
     "evalue": "3",
     "output_type": "error",
     "traceback": [
      "\u001b[0;31m---------------------------------------------------------------------------\u001b[0m",
      "\u001b[0;31mKeyError\u001b[0m                                  Traceback (most recent call last)",
      "Cell \u001b[0;32mIn[67], line 1\u001b[0m\n\u001b[0;32m----> 1\u001b[0m \u001b[43mto_words\u001b[49m\u001b[43m[\u001b[49m\u001b[38;5;241;43m3\u001b[39;49m\u001b[43m]\u001b[49m\n",
      "\u001b[0;31mKeyError\u001b[0m: 3"
     ]
    }
   ],
   "source": [
    "to_words[3]"
   ]
  },
  {
   "cell_type": "code",
   "execution_count": 68,
   "id": "df30a168-9bd0-470d-8f22-1ad681caec38",
   "metadata": {},
   "outputs": [
    {
     "data": {
      "text/plain": [
       "'eins'"
      ]
     },
     "execution_count": 68,
     "metadata": {},
     "output_type": "execute_result"
    }
   ],
   "source": [
    "to_words.get(1)"
   ]
  },
  {
   "cell_type": "code",
   "execution_count": 69,
   "id": "89144da2-b184-4c29-b3cb-4ffeda05b2f6",
   "metadata": {},
   "outputs": [],
   "source": [
    "to_words.get(3)  # None"
   ]
  },
  {
   "cell_type": "code",
   "execution_count": 70,
   "id": "e2f486dd-8945-4d88-aede-d9c5c9ddfc2d",
   "metadata": {},
   "outputs": [
    {
     "data": {
      "text/plain": [
       "'eins'"
      ]
     },
     "execution_count": 70,
     "metadata": {},
     "output_type": "execute_result"
    }
   ],
   "source": [
    "to_words.get(1, \"n/a\")"
   ]
  },
  {
   "cell_type": "code",
   "execution_count": 71,
   "id": "59ae6197-0b3f-4c30-923c-1c0760cfeb04",
   "metadata": {},
   "outputs": [
    {
     "data": {
      "text/plain": [
       "'n/a'"
      ]
     },
     "execution_count": 71,
     "metadata": {},
     "output_type": "execute_result"
    }
   ],
   "source": [
    "to_words.get(3, \"n/a\")"
   ]
  },
  {
   "cell_type": "markdown",
   "id": "05056691-d5d3-467b-85da-283b03e09a1f",
   "metadata": {},
   "source": [
    "im Hintergrund => `.get()` ist **Syntactic Sugar**"
   ]
  },
  {
   "cell_type": "code",
   "execution_count": 72,
   "id": "d69bd6f8-a7ed-44e1-9107-6961358eef43",
   "metadata": {},
   "outputs": [
    {
     "data": {
      "text/plain": [
       "'n/a'"
      ]
     },
     "execution_count": 72,
     "metadata": {},
     "output_type": "execute_result"
    }
   ],
   "source": [
    "key = 3\n",
    "default = \"n/a\"\n",
    "\n",
    "if key in to_words:\n",
    "    val = to_words[key]\n",
    "else:\n",
    "    val = default\n",
    "\n",
    "val"
   ]
  },
  {
   "cell_type": "markdown",
   "id": "470cb716-7a0b-4895-b0cf-78b15c14e993",
   "metadata": {},
   "source": [
    "Iteration"
   ]
  },
  {
   "cell_type": "code",
   "execution_count": 73,
   "id": "6109c48d-f70d-403f-9962-e346756a1d20",
   "metadata": {},
   "outputs": [
    {
     "name": "stdout",
     "output_type": "stream",
     "text": [
      "1\n",
      "2\n",
      "0\n"
     ]
    }
   ],
   "source": [
    "for key in to_words:\n",
    "    print(key)\n"
   ]
  },
  {
   "cell_type": "code",
   "execution_count": 74,
   "id": "97440e4a-4470-4a7f-abea-01c93b7231e9",
   "metadata": {},
   "outputs": [
    {
     "name": "stdout",
     "output_type": "stream",
     "text": [
      "1\n",
      "2\n",
      "0\n"
     ]
    }
   ],
   "source": [
    "for key in to_words.keys():\n",
    "    print(key)"
   ]
  },
  {
   "cell_type": "code",
   "execution_count": 75,
   "id": "87b87bdc-579f-4b02-a56e-2a2b06ce1259",
   "metadata": {},
   "outputs": [
    {
     "data": {
      "text/plain": [
       "dict_keys([1, 2, 0])"
      ]
     },
     "execution_count": 75,
     "metadata": {},
     "output_type": "execute_result"
    }
   ],
   "source": [
    "to_words.keys()"
   ]
  },
  {
   "cell_type": "code",
   "execution_count": 76,
   "id": "d8fc01d2-bb8f-47cc-b9c3-6eafebe90a2c",
   "metadata": {},
   "outputs": [
    {
     "data": {
      "text/plain": [
       "[1, 2, 0]"
      ]
     },
     "execution_count": 76,
     "metadata": {},
     "output_type": "execute_result"
    }
   ],
   "source": [
    "list(to_words.keys())"
   ]
  },
  {
   "cell_type": "code",
   "execution_count": 77,
   "id": "a25c5285-73db-4321-9fc8-78d70e762856",
   "metadata": {},
   "outputs": [
    {
     "name": "stdout",
     "output_type": "stream",
     "text": [
      "eins\n",
      "zwei\n",
      "null\n"
     ]
    }
   ],
   "source": [
    "for val in to_words.values():\n",
    "    print(val)"
   ]
  },
  {
   "cell_type": "code",
   "execution_count": 78,
   "id": "ec5bcaa4-09c6-4bfa-912b-a16345ea0da7",
   "metadata": {},
   "outputs": [
    {
     "name": "stdout",
     "output_type": "stream",
     "text": [
      "1 eins\n",
      "2 zwei\n",
      "0 null\n"
     ]
    }
   ],
   "source": [
    "for key, val in to_words.items():\n",
    "    print(key, val)"
   ]
  },
  {
   "cell_type": "markdown",
   "id": "74fcd63d-0429-40aa-b07e-99befd4e5118",
   "metadata": {},
   "source": [
    "## 4) Iteratoren"
   ]
  },
  {
   "cell_type": "markdown",
   "id": "30a057d2-0cf3-4f05-b9cf-a4ffd328cf17",
   "metadata": {},
   "source": [
    "#### `map` Typ"
   ]
  },
  {
   "cell_type": "markdown",
   "id": "4367fdb4-e8c3-437f-adcd-f86dc7aa4469",
   "metadata": {},
   "source": [
    "#### `filter` Typ"
   ]
  },
  {
   "cell_type": "markdown",
   "id": "047a68c4-d895-4c94-ba9b-6923836d4f7e",
   "metadata": {},
   "source": [
    "#### `generator` Typ"
   ]
  },
  {
   "cell_type": "markdown",
   "id": "329778a7-2539-4cbc-9cd3-1405dd8049ba",
   "metadata": {},
   "source": [
    "## 5) Eigene Datentypen"
   ]
  }
 ],
 "metadata": {
  "kernelspec": {
   "display_name": "Python 3.12",
   "language": "python",
   "name": "python3.12"
  },
  "language_info": {
   "codemirror_mode": {
    "name": "ipython",
    "version": 3
   },
   "file_extension": ".py",
   "mimetype": "text/x-python",
   "name": "python",
   "nbconvert_exporter": "python",
   "pygments_lexer": "ipython3",
   "version": "3.12.0"
  }
 },
 "nbformat": 4,
 "nbformat_minor": 5
}
