{
 "cells": [
  {
   "cell_type": "code",
   "execution_count": 1,
   "id": "5085cc32-103b-4276-8cfe-e47da2c30386",
   "metadata": {},
   "outputs": [],
   "source": [
    "from matrix import Matrix"
   ]
  },
  {
   "cell_type": "code",
   "execution_count": 2,
   "id": "051b9f03-b355-4fb9-b064-a5a2c85157c8",
   "metadata": {},
   "outputs": [],
   "source": [
    "import numpy as np"
   ]
  },
  {
   "cell_type": "code",
   "execution_count": 3,
   "id": "06736d34-4f96-449a-b4cf-8827e18b0538",
   "metadata": {},
   "outputs": [
    {
     "data": {
      "text/plain": [
       "array([1, 2, 3])"
      ]
     },
     "execution_count": 3,
     "metadata": {},
     "output_type": "execute_result"
    }
   ],
   "source": [
    "np.array([1, 2, 3])"
   ]
  },
  {
   "cell_type": "code",
   "execution_count": 4,
   "id": "9b56c970-a41e-438f-b75f-2441a6dce2dd",
   "metadata": {},
   "outputs": [
    {
     "data": {
      "text/plain": [
       "array([[1, 2, 3],\n",
       "       [4, 5, 6]])"
      ]
     },
     "execution_count": 4,
     "metadata": {},
     "output_type": "execute_result"
    }
   ],
   "source": [
    "mat = np.array(\n",
    "    [\n",
    "        [1, 2, 3],\n",
    "        [4, 5, 6],\n",
    "    ]\n",
    ")\n",
    "\n",
    "mat"
   ]
  },
  {
   "cell_type": "code",
   "execution_count": 5,
   "id": "34877fe1-cf22-4a71-a261-83f29eea376d",
   "metadata": {},
   "outputs": [
    {
     "data": {
      "text/plain": [
       "array([[10, 20, 30],\n",
       "       [40, 50, 60]])"
      ]
     },
     "execution_count": 5,
     "metadata": {},
     "output_type": "execute_result"
    }
   ],
   "source": [
    "10 * mat"
   ]
  },
  {
   "cell_type": "code",
   "execution_count": 6,
   "id": "3051d88d-b83c-4ce4-a9bc-782a491f7bd0",
   "metadata": {},
   "outputs": [
    {
     "data": {
      "text/plain": [
       "Matrix(((1.0, 2.0, 3.0,), (4.0, 5.0, 6.0,)))"
      ]
     },
     "execution_count": 6,
     "metadata": {},
     "output_type": "execute_result"
    }
   ],
   "source": [
    "Matrix(\n",
    "    [\n",
    "        [1, 2, 3],\n",
    "        [4, 5, 6],\n",
    "    ]\n",
    ")"
   ]
  },
  {
   "cell_type": "code",
   "execution_count": 7,
   "id": "b22b4ddb-74fc-4217-ae89-e9058f1122cb",
   "metadata": {},
   "outputs": [
    {
     "data": {
      "text/plain": [
       "((1.0, 2.0, 3.0), (4.0, 5.0, 6.0))"
      ]
     },
     "execution_count": 7,
     "metadata": {},
     "output_type": "execute_result"
    }
   ],
   "source": [
    "entries = [\n",
    "        [1, 2, 3],\n",
    "        [4, 5, 6],\n",
    "    ]\n",
    "\n",
    "rows = []\n",
    "\n",
    "for old_row in entries:\n",
    "    row = []\n",
    "    for entry in old_row:\n",
    "        row.append(float(entry))\n",
    "    rows.append(tuple(row))\n",
    "\n",
    "tuple(rows)"
   ]
  },
  {
   "cell_type": "code",
   "execution_count": 8,
   "id": "929d204e-2e45-49ec-8dd7-12e72de68a13",
   "metadata": {},
   "outputs": [
    {
     "data": {
      "text/plain": [
       "((1.0, 2.0, 3.0), (4.0, 5.0, 6.0))"
      ]
     },
     "execution_count": 8,
     "metadata": {},
     "output_type": "execute_result"
    }
   ],
   "source": [
    "entries = [\n",
    "        [1, 2, 3],\n",
    "        [4, 5, 6],\n",
    "    ]\n",
    "\n",
    "tuple(tuple(float(entry) for entry in old_row) for old_row in entries)"
   ]
  },
  {
   "cell_type": "code",
   "execution_count": 9,
   "id": "82324bed-09b6-41e9-8c16-923508846201",
   "metadata": {},
   "outputs": [
    {
     "data": {
      "text/plain": [
       "Matrix(((1.0, 2.0, 3.0,), (4.0, 5.0, 6.0,)))"
      ]
     },
     "execution_count": 9,
     "metadata": {},
     "output_type": "execute_result"
    }
   ],
   "source": [
    "m = Matrix(\n",
    "    [\n",
    "        [1, 2, 3],\n",
    "        [4, 5, 6],\n",
    "    ]\n",
    ")\n",
    "\n",
    "m"
   ]
  },
  {
   "cell_type": "code",
   "execution_count": 10,
   "id": "2e71de9e-dae9-4c03-8b8c-34ccf4b6629a",
   "metadata": {},
   "outputs": [
    {
     "data": {
      "text/plain": [
       "Matrix(((1.0, 2.0, 3.0,), (4.0, 5.0, 6.0,)))"
      ]
     },
     "execution_count": 10,
     "metadata": {},
     "output_type": "execute_result"
    }
   ],
   "source": [
    "Matrix(((1.0, 2.0, 3.0,), (4.0, 5.0, 6.0,)))"
   ]
  },
  {
   "cell_type": "code",
   "execution_count": 11,
   "id": "3a8865f3-dbcd-4239-a003-3e86e3d906fa",
   "metadata": {},
   "outputs": [
    {
     "data": {
      "text/plain": [
       "matrix.Matrix"
      ]
     },
     "execution_count": 11,
     "metadata": {},
     "output_type": "execute_result"
    }
   ],
   "source": [
    "type(m)"
   ]
  },
  {
   "cell_type": "code",
   "execution_count": 12,
   "id": "e93ee06c-c475-4754-87b5-83ded15aef77",
   "metadata": {},
   "outputs": [
    {
     "data": {
      "text/plain": [
       "Matrix(((1.0, 2.0, 3.0,), (4.0, 5.0, 6.0,)))"
      ]
     },
     "execution_count": 12,
     "metadata": {},
     "output_type": "execute_result"
    }
   ],
   "source": [
    "m"
   ]
  },
  {
   "cell_type": "code",
   "execution_count": 13,
   "id": "064d4bb5-4746-4abf-be49-065cf0775b26",
   "metadata": {},
   "outputs": [
    {
     "data": {
      "text/plain": [
       "6"
      ]
     },
     "execution_count": 13,
     "metadata": {},
     "output_type": "execute_result"
    }
   ],
   "source": [
    "len(m)"
   ]
  },
  {
   "cell_type": "code",
   "execution_count": 14,
   "id": "b7f85006-1878-46bb-a718-888d1c0d4509",
   "metadata": {},
   "outputs": [
    {
     "data": {
      "text/plain": [
       "2"
      ]
     },
     "execution_count": 14,
     "metadata": {},
     "output_type": "execute_result"
    }
   ],
   "source": [
    "m.n_rows()"
   ]
  },
  {
   "cell_type": "code",
   "execution_count": 15,
   "id": "55dd256b-bdcb-497b-a8b0-5d29e0074fc1",
   "metadata": {},
   "outputs": [
    {
     "data": {
      "text/plain": [
       "3"
      ]
     },
     "execution_count": 15,
     "metadata": {},
     "output_type": "execute_result"
    }
   ],
   "source": [
    "m.n_cols()"
   ]
  },
  {
   "cell_type": "code",
   "execution_count": 16,
   "id": "3cbeaf58-589b-47ec-b56a-7c8db5dda9c6",
   "metadata": {},
   "outputs": [
    {
     "data": {
      "text/plain": [
       "3"
      ]
     },
     "execution_count": 16,
     "metadata": {},
     "output_type": "execute_result"
    }
   ],
   "source": [
    "len(m._entries[0])"
   ]
  },
  {
   "cell_type": "code",
   "execution_count": 17,
   "id": "379ef23e-e7df-44f7-a832-573866bd9a1f",
   "metadata": {},
   "outputs": [
    {
     "ename": "RuntimeError",
     "evalue": "Eine Matrix muss mindestens eine Reihe enthalten!",
     "output_type": "error",
     "traceback": [
      "\u001b[0;31m---------------------------------------------------------------------------\u001b[0m",
      "\u001b[0;31mRuntimeError\u001b[0m                              Traceback (most recent call last)",
      "Cell \u001b[0;32mIn[17], line 1\u001b[0m\n\u001b[0;32m----> 1\u001b[0m m \u001b[38;5;241m=\u001b[39m \u001b[43mMatrix\u001b[49m\u001b[43m(\u001b[49m\u001b[43m[\u001b[49m\u001b[43m]\u001b[49m\u001b[43m)\u001b[49m\n",
      "File \u001b[0;32m~/Cloud/DHBW/2024/04_WI-APP/Notes/matrix.py:26\u001b[0m, in \u001b[0;36mMatrix.__init__\u001b[0;34m(self, entries)\u001b[0m\n\u001b[1;32m     23\u001b[0m     \u001b[38;5;28;01mraise\u001b[39;00m \u001b[38;5;167;01mTypeError\u001b[39;00m(\u001b[38;5;124m\"\u001b[39m\u001b[38;5;124mMatrizen dürfen nur aus Zahlen bestehen!\u001b[39m\u001b[38;5;124m\"\u001b[39m) \u001b[38;5;28;01mfrom\u001b[39;00m \u001b[38;5;28;01mNone\u001b[39;00m\n\u001b[1;32m     25\u001b[0m \u001b[38;5;28;01mif\u001b[39;00m \u001b[38;5;28mlen\u001b[39m(validated_entries) \u001b[38;5;241m==\u001b[39m \u001b[38;5;241m0\u001b[39m:\n\u001b[0;32m---> 26\u001b[0m     \u001b[38;5;28;01mraise\u001b[39;00m \u001b[38;5;167;01mRuntimeError\u001b[39;00m(\u001b[38;5;124m\"\u001b[39m\u001b[38;5;124mEine Matrix muss mindestens eine Reihe enthalten!\u001b[39m\u001b[38;5;124m\"\u001b[39m)\n\u001b[1;32m     28\u001b[0m \u001b[38;5;28;01mif\u001b[39;00m \u001b[38;5;28mlen\u001b[39m(validated_entries[\u001b[38;5;241m0\u001b[39m]) \u001b[38;5;241m==\u001b[39m \u001b[38;5;241m0\u001b[39m:\n\u001b[1;32m     29\u001b[0m     \u001b[38;5;28;01mraise\u001b[39;00m \u001b[38;5;167;01mRuntimeError\u001b[39;00m(\u001b[38;5;124m\"\u001b[39m\u001b[38;5;124mEine Matrix muss mindestens eine Spalte enthalten!\u001b[39m\u001b[38;5;124m\"\u001b[39m)\n",
      "\u001b[0;31mRuntimeError\u001b[0m: Eine Matrix muss mindestens eine Reihe enthalten!"
     ]
    }
   ],
   "source": [
    "m = Matrix([])"
   ]
  },
  {
   "cell_type": "code",
   "execution_count": 18,
   "id": "45b53c23-2e65-476f-a45a-2a268a4725a5",
   "metadata": {},
   "outputs": [
    {
     "ename": "RuntimeError",
     "evalue": "Eine Matrix muss mindestens eine Spalte enthalten!",
     "output_type": "error",
     "traceback": [
      "\u001b[0;31m---------------------------------------------------------------------------\u001b[0m",
      "\u001b[0;31mRuntimeError\u001b[0m                              Traceback (most recent call last)",
      "Cell \u001b[0;32mIn[18], line 1\u001b[0m\n\u001b[0;32m----> 1\u001b[0m m \u001b[38;5;241m=\u001b[39m \u001b[43mMatrix\u001b[49m\u001b[43m(\u001b[49m\u001b[43m[\u001b[49m\u001b[43m[\u001b[49m\u001b[43m]\u001b[49m\u001b[43m]\u001b[49m\u001b[43m)\u001b[49m\n",
      "File \u001b[0;32m~/Cloud/DHBW/2024/04_WI-APP/Notes/matrix.py:29\u001b[0m, in \u001b[0;36mMatrix.__init__\u001b[0;34m(self, entries)\u001b[0m\n\u001b[1;32m     26\u001b[0m     \u001b[38;5;28;01mraise\u001b[39;00m \u001b[38;5;167;01mRuntimeError\u001b[39;00m(\u001b[38;5;124m\"\u001b[39m\u001b[38;5;124mEine Matrix muss mindestens eine Reihe enthalten!\u001b[39m\u001b[38;5;124m\"\u001b[39m)\n\u001b[1;32m     28\u001b[0m \u001b[38;5;28;01mif\u001b[39;00m \u001b[38;5;28mlen\u001b[39m(validated_entries[\u001b[38;5;241m0\u001b[39m]) \u001b[38;5;241m==\u001b[39m \u001b[38;5;241m0\u001b[39m:\n\u001b[0;32m---> 29\u001b[0m     \u001b[38;5;28;01mraise\u001b[39;00m \u001b[38;5;167;01mRuntimeError\u001b[39;00m(\u001b[38;5;124m\"\u001b[39m\u001b[38;5;124mEine Matrix muss mindestens eine Spalte enthalten!\u001b[39m\u001b[38;5;124m\"\u001b[39m)\n\u001b[1;32m     31\u001b[0m n_cols_in_first_row \u001b[38;5;241m=\u001b[39m \u001b[38;5;28mlen\u001b[39m(validated_entries[\u001b[38;5;241m0\u001b[39m])\n\u001b[1;32m     33\u001b[0m \u001b[38;5;28;01mfor\u001b[39;00m row \u001b[38;5;129;01min\u001b[39;00m validated_entries:\n",
      "\u001b[0;31mRuntimeError\u001b[0m: Eine Matrix muss mindestens eine Spalte enthalten!"
     ]
    }
   ],
   "source": [
    "m = Matrix([[]])"
   ]
  },
  {
   "cell_type": "code",
   "execution_count": 19,
   "id": "7f4d9d6b-cdfa-47ab-ac8f-6d6690e25784",
   "metadata": {},
   "outputs": [
    {
     "ename": "RuntimeError",
     "evalue": "Jede Reihe muss diesselbe Anzahl an Spalten haben!",
     "output_type": "error",
     "traceback": [
      "\u001b[0;31m---------------------------------------------------------------------------\u001b[0m",
      "\u001b[0;31mRuntimeError\u001b[0m                              Traceback (most recent call last)",
      "Cell \u001b[0;32mIn[19], line 1\u001b[0m\n\u001b[0;32m----> 1\u001b[0m m \u001b[38;5;241m=\u001b[39m \u001b[43mMatrix\u001b[49m\u001b[43m(\u001b[49m\u001b[43m[\u001b[49m\u001b[43m[\u001b[49m\u001b[38;5;241;43m1\u001b[39;49m\u001b[43m]\u001b[49m\u001b[43m,\u001b[49m\u001b[43m \u001b[49m\u001b[43m[\u001b[49m\u001b[43m]\u001b[49m\u001b[43m]\u001b[49m\u001b[43m)\u001b[49m\n",
      "File \u001b[0;32m~/Cloud/DHBW/2024/04_WI-APP/Notes/matrix.py:35\u001b[0m, in \u001b[0;36mMatrix.__init__\u001b[0;34m(self, entries)\u001b[0m\n\u001b[1;32m     33\u001b[0m \u001b[38;5;28;01mfor\u001b[39;00m row \u001b[38;5;129;01min\u001b[39;00m validated_entries:\n\u001b[1;32m     34\u001b[0m     \u001b[38;5;28;01mif\u001b[39;00m \u001b[38;5;28mlen\u001b[39m(row) \u001b[38;5;241m!=\u001b[39m n_cols_in_first_row:\n\u001b[0;32m---> 35\u001b[0m         \u001b[38;5;28;01mraise\u001b[39;00m \u001b[38;5;167;01mRuntimeError\u001b[39;00m(\u001b[38;5;124m\"\u001b[39m\u001b[38;5;124mJede Reihe muss diesselbe Anzahl an Spalten haben!\u001b[39m\u001b[38;5;124m\"\u001b[39m)\n\u001b[1;32m     37\u001b[0m \u001b[38;5;28mself\u001b[39m\u001b[38;5;241m.\u001b[39m_entries \u001b[38;5;241m=\u001b[39m validated_entries\n",
      "\u001b[0;31mRuntimeError\u001b[0m: Jede Reihe muss diesselbe Anzahl an Spalten haben!"
     ]
    }
   ],
   "source": [
    "m = Matrix([[1], []])"
   ]
  },
  {
   "cell_type": "code",
   "execution_count": 20,
   "id": "22e71b7e-0a3a-40f7-bb72-2720d8bea732",
   "metadata": {},
   "outputs": [
    {
     "data": {
      "text/plain": [
       "Matrix(((1.0, 2.0, 3.0,), (4.0, 5.0, 6.0,)))"
      ]
     },
     "execution_count": 20,
     "metadata": {},
     "output_type": "execute_result"
    }
   ],
   "source": [
    "m = Matrix(\n",
    "    [\n",
    "        [1, 2, 3],\n",
    "        [4, 5, 6],\n",
    "    ]\n",
    ")\n",
    "\n",
    "m"
   ]
  },
  {
   "cell_type": "code",
   "execution_count": 21,
   "id": "0dac81ed-7646-4d0c-a264-74bb696488e2",
   "metadata": {},
   "outputs": [
    {
     "data": {
      "text/plain": [
       "2"
      ]
     },
     "execution_count": 21,
     "metadata": {},
     "output_type": "execute_result"
    }
   ],
   "source": [
    "m.n_rows()"
   ]
  },
  {
   "cell_type": "code",
   "execution_count": 22,
   "id": "c77080a8-71d3-484b-b849-2e839a38e0b0",
   "metadata": {},
   "outputs": [
    {
     "data": {
      "text/plain": [
       "3"
      ]
     },
     "execution_count": 22,
     "metadata": {},
     "output_type": "execute_result"
    }
   ],
   "source": [
    "m.n_cols()"
   ]
  }
 ],
 "metadata": {
  "kernelspec": {
   "display_name": "Python 3.12",
   "language": "python",
   "name": "python3.12"
  },
  "language_info": {
   "codemirror_mode": {
    "name": "ipython",
    "version": 3
   },
   "file_extension": ".py",
   "mimetype": "text/x-python",
   "name": "python",
   "nbconvert_exporter": "python",
   "pygments_lexer": "ipython3",
   "version": "3.12.0"
  }
 },
 "nbformat": 4,
 "nbformat_minor": 5
}
