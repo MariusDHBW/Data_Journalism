{
 "cells": [
  {
   "cell_type": "code",
   "execution_count": 1,
   "id": "c888b40e-0a0e-4478-b0a3-ee8a9aec6fb2",
   "metadata": {},
   "outputs": [],
   "source": [
    "from matrix import Matrix\n",
    "from vectors import Vector\n",
    "\n",
    "import numpy as np"
   ]
  },
  {
   "cell_type": "code",
   "execution_count": 2,
   "id": "c785c33d-2879-4eb8-b8a9-8d726e30d397",
   "metadata": {},
   "outputs": [
    {
     "data": {
      "text/plain": [
       "Matrix(((1.0, 2.0, 3.0,), (4.0, 5.0, 6.0,)))"
      ]
     },
     "execution_count": 2,
     "metadata": {},
     "output_type": "execute_result"
    }
   ],
   "source": [
    "m = Matrix(\n",
    "    [\n",
    "        [1, 2, 3],\n",
    "        [4, 5, 6],\n",
    "    ]\n",
    ")\n",
    "\n",
    "m"
   ]
  },
  {
   "cell_type": "code",
   "execution_count": 3,
   "id": "4f52ee84-0b65-4b91-8dbe-946d72ff844e",
   "metadata": {},
   "outputs": [
    {
     "data": {
      "text/plain": [
       "array([[1, 2, 3],\n",
       "       [4, 5, 6]])"
      ]
     },
     "execution_count": 3,
     "metadata": {},
     "output_type": "execute_result"
    }
   ],
   "source": [
    "m_arr = np.array(\n",
    "    [\n",
    "        [1, 2, 3],\n",
    "        [4, 5, 6],\n",
    "    ]\n",
    ")\n",
    "\n",
    "m_arr"
   ]
  },
  {
   "cell_type": "code",
   "execution_count": 4,
   "id": "fac46d17-d90c-480f-97e0-1cf5f6ee19b3",
   "metadata": {},
   "outputs": [
    {
     "data": {
      "text/plain": [
       "Vector((1.0, 2.0, 3.0))"
      ]
     },
     "execution_count": 4,
     "metadata": {},
     "output_type": "execute_result"
    }
   ],
   "source": [
    "v = Vector([1, 2, 3])\n",
    "\n",
    "v"
   ]
  },
  {
   "cell_type": "code",
   "execution_count": 5,
   "id": "60fd9d14-d2a9-4a12-8975-34962f12ae53",
   "metadata": {},
   "outputs": [
    {
     "data": {
      "text/plain": [
       "Matrix(((1.0,), (2.0,), (3.0,)))"
      ]
     },
     "execution_count": 5,
     "metadata": {},
     "output_type": "execute_result"
    }
   ],
   "source": [
    "v.as_matrix()"
   ]
  },
  {
   "cell_type": "code",
   "execution_count": 6,
   "id": "a0ce07bd-773e-4cf2-ae0d-8758387defd5",
   "metadata": {},
   "outputs": [
    {
     "data": {
      "text/plain": [
       "Matrix(((1.0,), (2.0,), (3.0,)))"
      ]
     },
     "execution_count": 6,
     "metadata": {},
     "output_type": "execute_result"
    }
   ],
   "source": [
    "v.as_matrix(column=True)"
   ]
  },
  {
   "cell_type": "code",
   "execution_count": 7,
   "id": "d07b975b-63f2-45b5-9e05-5474943161e6",
   "metadata": {},
   "outputs": [
    {
     "data": {
      "text/plain": [
       "Matrix(((1.0, 2.0, 3.0,)))"
      ]
     },
     "execution_count": 7,
     "metadata": {},
     "output_type": "execute_result"
    }
   ],
   "source": [
    "v.as_matrix(column=False)"
   ]
  },
  {
   "cell_type": "markdown",
   "id": "71894f81-a6a7-4fd4-b190-6a6f9f0e3ff1",
   "metadata": {},
   "source": [
    "# Methoden"
   ]
  },
  {
   "cell_type": "markdown",
   "id": "d0ddf863-3c27-4424-ad08-f4247a647b7b",
   "metadata": {},
   "source": [
    "## 1) Instanz Methoden"
   ]
  },
  {
   "cell_type": "markdown",
   "id": "ea4687a9-e357-4265-ad26-40fc712b6417",
   "metadata": {},
   "source": [
    "Eine Methode, die als Input einen konkreten `Vector` (also `self`) als Input benötigt"
   ]
  },
  {
   "cell_type": "markdown",
   "id": "d18e31fd-b895-47d5-a0ed-b33f50886960",
   "metadata": {},
   "source": [
    "Anwendung: Matrizen transponieren"
   ]
  },
  {
   "cell_type": "code",
   "execution_count": 8,
   "id": "bdcaeb3e-d2d6-4c2b-9190-7c69b5e2015f",
   "metadata": {},
   "outputs": [
    {
     "data": {
      "text/plain": [
       "array([[1, 2, 3],\n",
       "       [4, 5, 6]])"
      ]
     },
     "execution_count": 8,
     "metadata": {},
     "output_type": "execute_result"
    }
   ],
   "source": [
    "m_arr"
   ]
  },
  {
   "cell_type": "code",
   "execution_count": 9,
   "id": "ea3fb81a-b2e4-4875-9e06-fb950f661268",
   "metadata": {},
   "outputs": [
    {
     "data": {
      "text/plain": [
       "array([[1, 4],\n",
       "       [2, 5],\n",
       "       [3, 6]])"
      ]
     },
     "execution_count": 9,
     "metadata": {},
     "output_type": "execute_result"
    }
   ],
   "source": [
    "m_arr.transpose()"
   ]
  },
  {
   "cell_type": "code",
   "execution_count": 10,
   "id": "97d5b8b3-9fc6-4292-a26a-7c6bd4bd65b2",
   "metadata": {},
   "outputs": [
    {
     "data": {
      "text/plain": [
       "array([[1, 4],\n",
       "       [2, 5],\n",
       "       [3, 6]])"
      ]
     },
     "execution_count": 10,
     "metadata": {},
     "output_type": "execute_result"
    }
   ],
   "source": [
    "m_arr.T"
   ]
  },
  {
   "cell_type": "code",
   "execution_count": 11,
   "id": "06a0500d-fa69-4c13-a88e-6d5b575d0991",
   "metadata": {},
   "outputs": [
    {
     "data": {
      "text/plain": [
       "Matrix(((1.0, 2.0, 3.0,), (4.0, 5.0, 6.0,)))"
      ]
     },
     "execution_count": 11,
     "metadata": {},
     "output_type": "execute_result"
    }
   ],
   "source": [
    "m"
   ]
  },
  {
   "cell_type": "code",
   "execution_count": 12,
   "id": "53e4d941-c290-4325-8a4f-ffaf48e64e30",
   "metadata": {},
   "outputs": [
    {
     "data": {
      "text/plain": [
       "Matrix(((1.0, 4.0,), (2.0, 5.0,), (3.0, 6.0,)))"
      ]
     },
     "execution_count": 12,
     "metadata": {},
     "output_type": "execute_result"
    }
   ],
   "source": [
    "m.transpose()"
   ]
  },
  {
   "cell_type": "markdown",
   "id": "3b6923e1-3e0a-4fc9-b2a0-daae63ad28a0",
   "metadata": {},
   "source": [
    "### Computed Properties / Abgeleitete Eigenschaften"
   ]
  },
  {
   "cell_type": "markdown",
   "id": "8f83f17d-db1f-4806-b424-9155feffc313",
   "metadata": {},
   "source": [
    "`@...` Syntax => **Decorator Syntax** => die Funktion unter ihr wird \"irgendwie\" modifiziert\n",
    "\n",
    "`@property` => die Funktion wird automatisch gecalled => man muss kein `()` anhängen"
   ]
  },
  {
   "cell_type": "markdown",
   "id": "1672b2dc-e827-4bbe-af54-c3872a74b301",
   "metadata": {},
   "source": [
    "Proxy Regel: Methoden, die nur von `self` abhängen sind solche \"Eigenschaften\""
   ]
  },
  {
   "cell_type": "code",
   "execution_count": 13,
   "id": "7bededd7-aee8-413d-b814-fb5b516846f9",
   "metadata": {},
   "outputs": [
    {
     "data": {
      "text/plain": [
       "2"
      ]
     },
     "execution_count": 13,
     "metadata": {},
     "output_type": "execute_result"
    }
   ],
   "source": [
    "m.n_rows"
   ]
  },
  {
   "cell_type": "code",
   "execution_count": 14,
   "id": "471a8762-32e8-44e0-84ae-eaab55daee99",
   "metadata": {},
   "outputs": [
    {
     "data": {
      "text/plain": [
       "3"
      ]
     },
     "execution_count": 14,
     "metadata": {},
     "output_type": "execute_result"
    }
   ],
   "source": [
    "m.n_cols"
   ]
  },
  {
   "cell_type": "code",
   "execution_count": 15,
   "id": "3d75d5e5-396a-4b3b-a948-ae1d73069c41",
   "metadata": {},
   "outputs": [
    {
     "data": {
      "text/plain": [
       "(2, 3)"
      ]
     },
     "execution_count": 15,
     "metadata": {},
     "output_type": "execute_result"
    }
   ],
   "source": [
    "m_arr.shape"
   ]
  },
  {
   "cell_type": "code",
   "execution_count": 16,
   "id": "b20a4376-fc4a-42f9-b798-edd42c1e0c0b",
   "metadata": {},
   "outputs": [
    {
     "data": {
      "text/plain": [
       "(2, 3)"
      ]
     },
     "execution_count": 16,
     "metadata": {},
     "output_type": "execute_result"
    }
   ],
   "source": [
    "m.shape"
   ]
  },
  {
   "cell_type": "markdown",
   "id": "e9e80812-3950-48b4-b923-26e634ea8696",
   "metadata": {},
   "source": [
    "## 2) Klassen Methoden"
   ]
  },
  {
   "cell_type": "markdown",
   "id": "c6dfcad2-e4d4-4deb-9b68-792fa9ac79cd",
   "metadata": {},
   "source": [
    "Eine Methode, die ohne einen konreten `Vector` arbeiten kann"
   ]
  },
  {
   "cell_type": "markdown",
   "id": "e6cfbc0a-2eb0-427b-b9c1-a1d7a768dae9",
   "metadata": {},
   "source": [
    "Häufige Anwendung: **Alternative Constructors**"
   ]
  },
  {
   "cell_type": "code",
   "execution_count": 17,
   "id": "351998bb-6bff-489a-aa12-9a9774af1a8d",
   "metadata": {},
   "outputs": [
    {
     "data": {
      "text/plain": [
       "Matrix(((1.0, 2.0, 3.0,), (4.0, 5.0, 6.0,)))"
      ]
     },
     "execution_count": 17,
     "metadata": {},
     "output_type": "execute_result"
    }
   ],
   "source": [
    "Matrix(\n",
    "    [\n",
    "        [1, 2, 3],\n",
    "        [4, 5, 6],\n",
    "    ]\n",
    ")"
   ]
  },
  {
   "cell_type": "code",
   "execution_count": 18,
   "id": "3dc9583c-5eb4-4e52-82d1-bd3cfcc4a14d",
   "metadata": {},
   "outputs": [
    {
     "data": {
      "text/plain": [
       "Matrix(((1.0, 2.0, 3.0,), (4.0, 5.0, 6.0,)))"
      ]
     },
     "execution_count": 18,
     "metadata": {},
     "output_type": "execute_result"
    }
   ],
   "source": [
    "Matrix.from_rows(\n",
    "    [\n",
    "        [1, 2, 3],\n",
    "        [4, 5, 6],\n",
    "    ]\n",
    ")"
   ]
  },
  {
   "cell_type": "code",
   "execution_count": 19,
   "id": "7f9eb9ac-aa23-4385-86f7-166ddb2e5f53",
   "metadata": {},
   "outputs": [
    {
     "data": {
      "text/plain": [
       "Matrix(((1.0, 2.0, 3.0,), (4.0, 5.0, 6.0,)))"
      ]
     },
     "execution_count": 19,
     "metadata": {},
     "output_type": "execute_result"
    }
   ],
   "source": [
    "Matrix.from_cols(\n",
    "    [\n",
    "        [1, 4],\n",
    "        [2, 5],\n",
    "        [3, 6],\n",
    "    ]\n",
    ")"
   ]
  },
  {
   "cell_type": "code",
   "execution_count": 20,
   "id": "4bc39ce0-01d1-424e-aec8-00b3b34f5314",
   "metadata": {},
   "outputs": [
    {
     "data": {
      "text/plain": [
       "Matrix(((24.0, 81.0, 40.0,), (78.0, 97.0, 48.0,), (80.0, 39.0, 73.0,)))"
      ]
     },
     "execution_count": 20,
     "metadata": {},
     "output_type": "execute_result"
    }
   ],
   "source": [
    "Matrix.random(n_rows=3, n_cols=3)"
   ]
  },
  {
   "cell_type": "code",
   "execution_count": 21,
   "id": "3df58267-b14a-4aef-8c5e-f13dac4bfd7c",
   "metadata": {},
   "outputs": [
    {
     "data": {
      "text/plain": [
       "Matrix(((50.0, -11.0, 50.0,), (-24.0, -92.0, -27.0,), (94.0, 66.0, -61.0,)))"
      ]
     },
     "execution_count": 21,
     "metadata": {},
     "output_type": "execute_result"
    }
   ],
   "source": [
    "Matrix.random(n_rows=3, n_cols=3, min_=-99)"
   ]
  },
  {
   "cell_type": "markdown",
   "id": "bf4eb78f-bc3c-4acf-9f76-976810aae709",
   "metadata": {},
   "source": [
    "## Sequenz Emulation"
   ]
  },
  {
   "cell_type": "code",
   "execution_count": 22,
   "id": "1cea8e06-5b19-4d42-b436-93c2791d2bf6",
   "metadata": {},
   "outputs": [
    {
     "data": {
      "text/plain": [
       "Matrix(((1.0, 2.0, 3.0,), (4.0, 5.0, 6.0,)))"
      ]
     },
     "execution_count": 22,
     "metadata": {},
     "output_type": "execute_result"
    }
   ],
   "source": [
    "m"
   ]
  },
  {
   "cell_type": "code",
   "execution_count": 23,
   "id": "906a90f2-8b1b-4947-a64a-febc91d80019",
   "metadata": {},
   "outputs": [
    {
     "data": {
      "text/plain": [
       "False"
      ]
     },
     "execution_count": 23,
     "metadata": {},
     "output_type": "execute_result"
    }
   ],
   "source": [
    "0 in m"
   ]
  },
  {
   "cell_type": "code",
   "execution_count": 24,
   "id": "6cea6eed-6809-4464-83bf-cb80686947b1",
   "metadata": {},
   "outputs": [
    {
     "data": {
      "text/plain": [
       "True"
      ]
     },
     "execution_count": 24,
     "metadata": {},
     "output_type": "execute_result"
    }
   ],
   "source": [
    "2 in m"
   ]
  },
  {
   "cell_type": "code",
   "execution_count": 25,
   "id": "da593355-859e-4de5-b386-90f7e5ddf904",
   "metadata": {},
   "outputs": [
    {
     "data": {
      "text/plain": [
       "6"
      ]
     },
     "execution_count": 25,
     "metadata": {},
     "output_type": "execute_result"
    }
   ],
   "source": [
    "len(m)"
   ]
  },
  {
   "cell_type": "markdown",
   "id": "ba4e8cc6-6ae1-4021-b3b8-334f797b72ee",
   "metadata": {},
   "source": [
    "Bemerkung: die Matrix hat eigentlich 2 Dimensionen => Der Loop \"flattened\" die Dimensionen in eine"
   ]
  },
  {
   "cell_type": "code",
   "execution_count": 26,
   "id": "562bdfe5-e452-4978-8158-504be361d052",
   "metadata": {},
   "outputs": [
    {
     "name": "stdout",
     "output_type": "stream",
     "text": [
      "1.0\n",
      "2.0\n",
      "3.0\n",
      "4.0\n",
      "5.0\n",
      "6.0\n"
     ]
    }
   ],
   "source": [
    "for x in m:  # im Hintergrund: while-Loop mit iter(m) zu Beginn\n",
    "    print(x)"
   ]
  },
  {
   "cell_type": "code",
   "execution_count": 27,
   "id": "40e0f242-7ede-4ad8-b44f-dfdaa772eed7",
   "metadata": {},
   "outputs": [
    {
     "name": "stdout",
     "output_type": "stream",
     "text": [
      "6.0\n",
      "5.0\n",
      "4.0\n",
      "3.0\n",
      "2.0\n",
      "1.0\n"
     ]
    }
   ],
   "source": [
    "for x in reversed(m):\n",
    "    print(x)"
   ]
  },
  {
   "cell_type": "markdown",
   "id": "ff541d83-2eed-4a49-ba4c-5d0a3b714607",
   "metadata": {},
   "source": [
    "### More on Iteration"
   ]
  },
  {
   "cell_type": "markdown",
   "id": "16ecdad7-8fca-4d37-8637-f222e4de9da6",
   "metadata": {},
   "source": [
    "Manchmal lohnt es sich, verschiedene Arten von Looping Verhalten zu implementieren"
   ]
  },
  {
   "cell_type": "code",
   "execution_count": 28,
   "id": "e6a189e1-3129-4b0b-a9a8-50fe9d0daa45",
   "metadata": {},
   "outputs": [
    {
     "data": {
      "text/plain": [
       "<generator object Matrix.rows.<locals>.<genexpr> at 0x79ac5f5b8fb0>"
      ]
     },
     "execution_count": 28,
     "metadata": {},
     "output_type": "execute_result"
    }
   ],
   "source": [
    "r = m.rows()\n",
    "\n",
    "r"
   ]
  },
  {
   "cell_type": "code",
   "execution_count": 29,
   "id": "1dbe48eb-1b0e-479b-94ba-5cf8875d301e",
   "metadata": {},
   "outputs": [
    {
     "data": {
      "text/plain": [
       "Vector((1.0, 2.0, 3.0))"
      ]
     },
     "execution_count": 29,
     "metadata": {},
     "output_type": "execute_result"
    }
   ],
   "source": [
    "next(r)"
   ]
  },
  {
   "cell_type": "code",
   "execution_count": 30,
   "id": "8180b3d5-1963-4b23-ab49-6f15624d979d",
   "metadata": {},
   "outputs": [
    {
     "name": "stdout",
     "output_type": "stream",
     "text": [
      "Vector((1.0, 2.0, 3.0))\n",
      "Vector((4.0, 5.0, 6.0))\n"
     ]
    }
   ],
   "source": [
    "for row in m.rows():\n",
    "    print(row)"
   ]
  },
  {
   "cell_type": "markdown",
   "id": "e4e764a9-60a6-414a-847e-13f7e105e559",
   "metadata": {},
   "source": [
    "## Polymorphismus / \"Drop-in Replacement\""
   ]
  },
  {
   "cell_type": "markdown",
   "id": "53c5df48-ce15-4f8d-ad7b-abc8be66ba70",
   "metadata": {},
   "source": [
    "Vorteil: Wiederverwendung von anderem Code, der auf Sequenzen basiert"
   ]
  },
  {
   "cell_type": "code",
   "execution_count": 31,
   "id": "d313be02-6fcd-4f2e-86b1-f10d60793cc2",
   "metadata": {},
   "outputs": [],
   "source": [
    "import random"
   ]
  },
  {
   "cell_type": "code",
   "execution_count": 32,
   "id": "4de2c317-34bb-432f-bc4b-b7078efc8629",
   "metadata": {},
   "outputs": [
    {
     "data": {
      "text/plain": [
       "2"
      ]
     },
     "execution_count": 32,
     "metadata": {},
     "output_type": "execute_result"
    }
   ],
   "source": [
    "random.choice([1, 2, 3, 4, 5, 6])"
   ]
  },
  {
   "cell_type": "code",
   "execution_count": 33,
   "id": "c15433ab-975a-491a-9f97-18788b5827bc",
   "metadata": {},
   "outputs": [
    {
     "data": {
      "text/plain": [
       "3.0"
      ]
     },
     "execution_count": 33,
     "metadata": {},
     "output_type": "execute_result"
    }
   ],
   "source": [
    "random.choice(v)"
   ]
  },
  {
   "cell_type": "code",
   "execution_count": 34,
   "id": "c82db5d2-6e19-4394-b663-349bf49d1aff",
   "metadata": {},
   "outputs": [
    {
     "data": {
      "text/plain": [
       "\u001b[0;31mSignature:\u001b[0m \u001b[0mrandom\u001b[0m\u001b[0;34m.\u001b[0m\u001b[0mchoice\u001b[0m\u001b[0;34m(\u001b[0m\u001b[0mseq\u001b[0m\u001b[0;34m)\u001b[0m\u001b[0;34m\u001b[0m\u001b[0;34m\u001b[0m\u001b[0m\n",
       "\u001b[0;31mDocstring:\u001b[0m Choose a random element from a non-empty sequence.\n",
       "\u001b[0;31mFile:\u001b[0m      /opt/python/versions/3.12.0/lib/python3.12/random.py\n",
       "\u001b[0;31mType:\u001b[0m      method"
      ]
     },
     "metadata": {},
     "output_type": "display_data"
    }
   ],
   "source": [
    "random.choice?"
   ]
  },
  {
   "cell_type": "code",
   "execution_count": 35,
   "id": "f9426a53-de84-47c8-acc0-04af7a04bb33",
   "metadata": {},
   "outputs": [],
   "source": [
    "# random.choice(m)  # man müsste noch __getitem__ bauen"
   ]
  },
  {
   "cell_type": "code",
   "execution_count": 36,
   "id": "f0697aca-0029-4ec4-b42d-cc68e596f65b",
   "metadata": {},
   "outputs": [
    {
     "data": {
      "text/plain": [
       "21"
      ]
     },
     "execution_count": 36,
     "metadata": {},
     "output_type": "execute_result"
    }
   ],
   "source": [
    "sum([1, 2, 3, 4, 5, 6])"
   ]
  },
  {
   "cell_type": "code",
   "execution_count": 37,
   "id": "7a29030f-40bc-4dae-b888-94c3266ad101",
   "metadata": {},
   "outputs": [
    {
     "data": {
      "text/plain": [
       "21"
      ]
     },
     "execution_count": 37,
     "metadata": {},
     "output_type": "execute_result"
    }
   ],
   "source": [
    "sum((1, 2, 3, 4, 5, 6))"
   ]
  },
  {
   "cell_type": "code",
   "execution_count": 38,
   "id": "9e74f666-5028-48ba-b13e-e6ef82a35033",
   "metadata": {},
   "outputs": [
    {
     "data": {
      "text/plain": [
       "6.0"
      ]
     },
     "execution_count": 38,
     "metadata": {},
     "output_type": "execute_result"
    }
   ],
   "source": [
    "sum(v)"
   ]
  },
  {
   "cell_type": "markdown",
   "id": "b9c1ee2d-b5e4-4738-af46-0d3a2f552c99",
   "metadata": {},
   "source": [
    "\"Die Matrix `m` verhält sich wie eine Liste\""
   ]
  },
  {
   "cell_type": "code",
   "execution_count": 39,
   "id": "c3297b4e-c51d-46c6-922f-da05465c367c",
   "metadata": {},
   "outputs": [
    {
     "data": {
      "text/plain": [
       "21.0"
      ]
     },
     "execution_count": 39,
     "metadata": {},
     "output_type": "execute_result"
    }
   ],
   "source": [
    "sum(m)"
   ]
  },
  {
   "cell_type": "markdown",
   "id": "e1d1726a-ee17-4e3a-9ee4-efc92567925e",
   "metadata": {},
   "source": [
    "## Matrix-Vektor Multiplikation"
   ]
  },
  {
   "cell_type": "code",
   "execution_count": 40,
   "id": "dc77dd57-992b-4846-90de-cb2511ef8f19",
   "metadata": {},
   "outputs": [
    {
     "data": {
      "text/plain": [
       "Matrix(((1.0, 2.0, 3.0,), (4.0, 5.0, 6.0,)))"
      ]
     },
     "execution_count": 40,
     "metadata": {},
     "output_type": "execute_result"
    }
   ],
   "source": [
    "m"
   ]
  },
  {
   "cell_type": "code",
   "execution_count": 41,
   "id": "103ef735-143d-464f-b04e-1d1630a0484c",
   "metadata": {},
   "outputs": [
    {
     "data": {
      "text/plain": [
       "Matrix(((1.0, 2.0, 3.0,), (4.0, 5.0, 6.0,)))"
      ]
     },
     "execution_count": 41,
     "metadata": {},
     "output_type": "execute_result"
    }
   ],
   "source": [
    "+m"
   ]
  },
  {
   "cell_type": "code",
   "execution_count": 42,
   "id": "1cee612d-65b8-4e8c-b4fb-612317ecb806",
   "metadata": {},
   "outputs": [
    {
     "data": {
      "text/plain": [
       "Matrix(((-1.0, -2.0, -3.0,), (-4.0, -5.0, -6.0,)))"
      ]
     },
     "execution_count": 42,
     "metadata": {},
     "output_type": "execute_result"
    }
   ],
   "source": [
    "-m"
   ]
  },
  {
   "cell_type": "code",
   "execution_count": 43,
   "id": "d29ef7ea-a35c-48bd-802f-bcaf9bdf70dd",
   "metadata": {},
   "outputs": [
    {
     "data": {
      "text/plain": [
       "Matrix(((2.0, 4.0, 6.0,), (8.0, 10.0, 12.0,)))"
      ]
     },
     "execution_count": 43,
     "metadata": {},
     "output_type": "execute_result"
    }
   ],
   "source": [
    "Matrix(((1.0, 2.0, 3.0,), (4.0, 5.0, 6.0,))) + Matrix(((1.0, 2.0, 3.0,), (4.0, 5.0, 6.0,)))"
   ]
  },
  {
   "cell_type": "code",
   "execution_count": 44,
   "id": "8dc601fc-dd19-4d00-a25d-969845ddd839",
   "metadata": {},
   "outputs": [
    {
     "data": {
      "text/plain": [
       "Matrix(((101.0, 102.0, 103.0,), (104.0, 105.0, 106.0,)))"
      ]
     },
     "execution_count": 44,
     "metadata": {},
     "output_type": "execute_result"
    }
   ],
   "source": [
    "m + 100"
   ]
  },
  {
   "cell_type": "code",
   "execution_count": 45,
   "id": "e564c389-9333-4413-b19e-35259f10bce0",
   "metadata": {},
   "outputs": [
    {
     "data": {
      "text/plain": [
       "Matrix(((-99.0, -98.0, -97.0,), (-96.0, -95.0, -94.0,)))"
      ]
     },
     "execution_count": 45,
     "metadata": {},
     "output_type": "execute_result"
    }
   ],
   "source": [
    "m - 100"
   ]
  },
  {
   "cell_type": "code",
   "execution_count": 46,
   "id": "81e5da4f-cbf8-406f-b388-3e09cdea39a2",
   "metadata": {},
   "outputs": [
    {
     "data": {
      "text/plain": [
       "Matrix(((0.0, 0.0, 0.0,), (0.0, 0.0, 0.0,)))"
      ]
     },
     "execution_count": 46,
     "metadata": {},
     "output_type": "execute_result"
    }
   ],
   "source": [
    "Matrix(((1.0, 2.0, 3.0,), (4.0, 5.0, 6.0,))) - Matrix(((1.0, 2.0, 3.0,), (4.0, 5.0, 6.0,)))"
   ]
  },
  {
   "cell_type": "code",
   "execution_count": 47,
   "id": "5ca04ba6-c191-4393-b9b5-ee456fe4af2c",
   "metadata": {},
   "outputs": [
    {
     "data": {
      "text/plain": [
       "True"
      ]
     },
     "execution_count": 47,
     "metadata": {},
     "output_type": "execute_result"
    }
   ],
   "source": [
    "Matrix(((1.0, 2.0, 3.0,), (4.0, 5.0, 6.0,))) == Matrix(((1.0, 2.0, 3.0,), (4.0, 5.0, 6.0,)))"
   ]
  }
 ],
 "metadata": {
  "kernelspec": {
   "display_name": "Python 3.12",
   "language": "python",
   "name": "python3.12"
  },
  "language_info": {
   "codemirror_mode": {
    "name": "ipython",
    "version": 3
   },
   "file_extension": ".py",
   "mimetype": "text/x-python",
   "name": "python",
   "nbconvert_exporter": "python",
   "pygments_lexer": "ipython3",
   "version": "3.12.0"
  }
 },
 "nbformat": 4,
 "nbformat_minor": 5
}
