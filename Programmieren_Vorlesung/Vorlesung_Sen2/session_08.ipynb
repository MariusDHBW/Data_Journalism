{
 "cells": [
  {
   "cell_type": "markdown",
   "id": "a6767212-816e-49c7-bf36-5ebcaf481c7b",
   "metadata": {},
   "source": [
    "# Vektoren"
   ]
  },
  {
   "cell_type": "markdown",
   "id": "ca56b496-eb56-4223-9cd0-6a8888e2e46f",
   "metadata": {},
   "source": [
    "Ziel: \"eigene Sprache\" für Skalarmultiplikation eines Vektors / \"`numpy` nachbauen\""
   ]
  },
  {
   "cell_type": "code",
   "execution_count": 1,
   "id": "44828a5d-06bf-468b-9f3a-9171ebf1cb83",
   "metadata": {},
   "outputs": [
    {
     "data": {
      "text/plain": [
       "(1, 2, 3)"
      ]
     },
     "execution_count": 1,
     "metadata": {},
     "output_type": "execute_result"
    }
   ],
   "source": [
    "x = (1, 2, 3)\n",
    "\n",
    "x"
   ]
  },
  {
   "cell_type": "code",
   "execution_count": 2,
   "id": "58af8c0a-1d3c-451f-ab36-96a54c5f611e",
   "metadata": {},
   "outputs": [
    {
     "data": {
      "text/plain": [
       "(1, 2, 3, 1, 2, 3, 1, 2, 3)"
      ]
     },
     "execution_count": 2,
     "metadata": {},
     "output_type": "execute_result"
    }
   ],
   "source": [
    "3 * x  # Concatenation, nicht `(3, 6, 9)`"
   ]
  },
  {
   "cell_type": "code",
   "execution_count": 3,
   "id": "33d0e40a-187d-4645-8808-49de8dab6752",
   "metadata": {},
   "outputs": [],
   "source": [
    "import numpy as np"
   ]
  },
  {
   "cell_type": "code",
   "execution_count": 4,
   "id": "5d62af6a-a90a-45ab-9f5f-90b44c84763a",
   "metadata": {},
   "outputs": [
    {
     "data": {
      "text/plain": [
       "array([3, 6, 9])"
      ]
     },
     "execution_count": 4,
     "metadata": {},
     "output_type": "execute_result"
    }
   ],
   "source": [
    "3 * np.array([1, 2, 3])  # Skalarmultiplikation"
   ]
  },
  {
   "cell_type": "code",
   "execution_count": 5,
   "id": "f46516ac-bac7-43fb-ab71-cc1f7bc69417",
   "metadata": {},
   "outputs": [],
   "source": [
    "class Vector:\n",
    "    \"\"\"Ein Vektor aus der Linearen Algebra.\"\"\"\n",
    "\n",
    "    def __init__(self, *args):\n",
    "        for idx, arg in enumerate(args):\n",
    "            print(idx, arg)\n",
    "\n",
    "        # `return None` ist der einzige erlaubte Rückgabewert"
   ]
  },
  {
   "cell_type": "code",
   "execution_count": 6,
   "id": "9150e556-8c17-4f94-aba3-c3e85cfccfd8",
   "metadata": {},
   "outputs": [
    {
     "data": {
      "text/plain": [
       "<__main__.Vector at 0x7fa1642fc1a0>"
      ]
     },
     "execution_count": 6,
     "metadata": {},
     "output_type": "execute_result"
    }
   ],
   "source": [
    "obj = Vector()  # -> <obj_ohne_namen> wird erstellt -> Vector.__init__(<obj_ohne_namen>)\n",
    "\n",
    "obj"
   ]
  },
  {
   "cell_type": "code",
   "execution_count": 7,
   "id": "48cd7ee8-3552-4fb6-a5b3-b3ad82885830",
   "metadata": {},
   "outputs": [
    {
     "name": "stdout",
     "output_type": "stream",
     "text": [
      "0 [1, 2, 3]\n"
     ]
    },
    {
     "data": {
      "text/plain": [
       "<__main__.Vector at 0x7fa166448200>"
      ]
     },
     "execution_count": 7,
     "metadata": {},
     "output_type": "execute_result"
    }
   ],
   "source": [
    "Vector([1, 2, 3])  # -> -> Vector.__init__([1, 2, 3])"
   ]
  },
  {
   "cell_type": "code",
   "execution_count": 8,
   "id": "de494e91-ec5a-4d55-98b3-d1b2cecb8d7b",
   "metadata": {},
   "outputs": [],
   "source": [
    "class Vector:\n",
    "    \"\"\"Ein Vektor aus der Linearen Algebra.\"\"\"\n",
    "\n",
    "    def __init__(self, entries):\n",
    "        \"\"\"Erstelle einen neuen Vektor.\n",
    "\n",
    "        Args:\n",
    "            entries (Sequence von Zahlen)\n",
    "        \"\"\"\n",
    "        self.entries = tuple(entries)  # tuple(...) erzeugt ein NEUES Tuple (d.h. Kopie)"
   ]
  },
  {
   "cell_type": "code",
   "execution_count": 9,
   "id": "a5cfcd12-6144-4357-b5bb-770bfd23f446",
   "metadata": {},
   "outputs": [
    {
     "data": {
      "text/plain": [
       "<__main__.Vector at 0x7fa1642fc650>"
      ]
     },
     "execution_count": 9,
     "metadata": {},
     "output_type": "execute_result"
    }
   ],
   "source": [
    "v1 = Vector([1, 2, 3])  # -> Vector.__init__([1, 2, 3])\n",
    "\n",
    "v1"
   ]
  },
  {
   "cell_type": "code",
   "execution_count": 10,
   "id": "18d3f3a1-a86b-4780-ba29-09c01eae1d16",
   "metadata": {},
   "outputs": [
    {
     "data": {
      "text/plain": [
       "<__main__.Vector at 0x7fa166448c80>"
      ]
     },
     "execution_count": 10,
     "metadata": {},
     "output_type": "execute_result"
    }
   ],
   "source": [
    "v2 = Vector([4, 5, 6])  # -> Vector.__init__([4, 5, 6])\n",
    "\n",
    "v2"
   ]
  },
  {
   "cell_type": "code",
   "execution_count": 11,
   "id": "7cddb84a-2b05-4dbd-9215-300bdd882129",
   "metadata": {},
   "outputs": [
    {
     "data": {
      "text/plain": [
       "(1, 2, 3)"
      ]
     },
     "execution_count": 11,
     "metadata": {},
     "output_type": "execute_result"
    }
   ],
   "source": [
    "v1.entries"
   ]
  },
  {
   "cell_type": "code",
   "execution_count": 12,
   "id": "b0a3285b-1cce-47de-9c40-ff06cec8ea9c",
   "metadata": {},
   "outputs": [
    {
     "data": {
      "text/plain": [
       "(4, 5, 6)"
      ]
     },
     "execution_count": 12,
     "metadata": {},
     "output_type": "execute_result"
    }
   ],
   "source": [
    "v2.entries"
   ]
  },
  {
   "cell_type": "code",
   "execution_count": 13,
   "id": "b8200319-aed0-4ec7-8530-90f6a94a490b",
   "metadata": {},
   "outputs": [
    {
     "ename": "AttributeError",
     "evalue": "type object 'Vector' has no attribute 'entries'",
     "output_type": "error",
     "traceback": [
      "\u001b[0;31m---------------------------------------------------------------------------\u001b[0m",
      "\u001b[0;31mAttributeError\u001b[0m                            Traceback (most recent call last)",
      "Cell \u001b[0;32mIn[13], line 1\u001b[0m\n\u001b[0;32m----> 1\u001b[0m \u001b[43mVector\u001b[49m\u001b[38;5;241;43m.\u001b[39;49m\u001b[43mentries\u001b[49m\n",
      "\u001b[0;31mAttributeError\u001b[0m: type object 'Vector' has no attribute 'entries'"
     ]
    }
   ],
   "source": [
    "Vector.entries"
   ]
  },
  {
   "cell_type": "code",
   "execution_count": 16,
   "id": "ae3d228b-209e-441d-9281-3221e1877650",
   "metadata": {},
   "outputs": [],
   "source": [
    "class Vector:\n",
    "    \"\"\"Ein Vektor aus der Linearen Algebra.\"\"\"\n",
    "\n",
    "    def __init__(self, entries):\n",
    "        \"\"\"Erstelle einen neuen Vektor.\n",
    "\n",
    "        Args:\n",
    "            entries (Sequence von Zahlen)\n",
    "        \"\"\"\n",
    "        # Implementation Detail\n",
    "        # \"_\" => \"private\" => \"Variable soll von außen NICHT benutzt werden\"\n",
    "        self._entries = tuple(entries)"
   ]
  },
  {
   "cell_type": "code",
   "execution_count": 17,
   "id": "d99dd469-2fb9-463b-9b67-8b021e57d74c",
   "metadata": {},
   "outputs": [
    {
     "data": {
      "text/plain": [
       "<__main__.Vector at 0x7fa1424a8170>"
      ]
     },
     "execution_count": 17,
     "metadata": {},
     "output_type": "execute_result"
    }
   ],
   "source": [
    "v1 = Vector([1, 2, 3])\n",
    "\n",
    "v1"
   ]
  },
  {
   "cell_type": "code",
   "execution_count": 19,
   "id": "3b114db2-ff96-4359-8813-52ce410ee925",
   "metadata": {},
   "outputs": [
    {
     "data": {
      "text/plain": [
       "(1, 2, 3)"
      ]
     },
     "execution_count": 19,
     "metadata": {},
     "output_type": "execute_result"
    }
   ],
   "source": [
    "v1._entries  # per Konvention verboten"
   ]
  },
  {
   "cell_type": "code",
   "execution_count": 20,
   "id": "d6203444-13a7-4ddb-b8db-7706689bb06d",
   "metadata": {},
   "outputs": [
    {
     "data": {
      "text/plain": [
       "<__main__.Vector at 0x7fa1424a8170>"
      ]
     },
     "execution_count": 20,
     "metadata": {},
     "output_type": "execute_result"
    }
   ],
   "source": [
    "v1"
   ]
  },
  {
   "cell_type": "code",
   "execution_count": 22,
   "id": "063229ca-c551-49ae-8fc3-dfbb1fb98d52",
   "metadata": {},
   "outputs": [
    {
     "data": {
      "text/plain": [
       "5"
      ]
     },
     "execution_count": 22,
     "metadata": {},
     "output_type": "execute_result"
    }
   ],
   "source": [
    "int(\"101\", base=2)"
   ]
  },
  {
   "cell_type": "code",
   "execution_count": 43,
   "id": "035cfef3-fb8b-47d5-9ca7-ed17fdb46e4b",
   "metadata": {},
   "outputs": [],
   "source": [
    "class Vector:\n",
    "    \"\"\"Ein Vektor aus der Linearen Algebra.\"\"\"\n",
    "\n",
    "    def __init__(self, entries):\n",
    "        \"\"\"Erstelle einen neuen Vektor.\n",
    "\n",
    "        Args:\n",
    "            entries (Sequence von Zahlen)\n",
    "        \"\"\"\n",
    "        self._entries = tuple(entries)\n",
    "\n",
    "    def __repr__(self):\n",
    "        # return f\"Vector({repr(self._entries)})\"\n",
    "        return \"Vector(\" + repr(self._entries) + \")\""
   ]
  },
  {
   "cell_type": "code",
   "execution_count": 44,
   "id": "3a199f8d-07ec-4452-86e3-d5c6b82c64d0",
   "metadata": {},
   "outputs": [
    {
     "data": {
      "text/plain": [
       "Vector((1, 2, 3))"
      ]
     },
     "execution_count": 44,
     "metadata": {},
     "output_type": "execute_result"
    }
   ],
   "source": [
    "v1 = Vector([1, 2, 3])\n",
    "\n",
    "v1"
   ]
  },
  {
   "cell_type": "code",
   "execution_count": 45,
   "id": "ff43b784-1e83-482c-8795-3803f017da31",
   "metadata": {},
   "outputs": [
    {
     "data": {
      "text/plain": [
       "Vector((1, 2, 3))"
      ]
     },
     "execution_count": 45,
     "metadata": {},
     "output_type": "execute_result"
    }
   ],
   "source": [
    "Vector((1, 2, 3))"
   ]
  },
  {
   "cell_type": "code",
   "execution_count": 46,
   "id": "94b0d297-7b62-47e1-ac05-c8b518663fc5",
   "metadata": {},
   "outputs": [
    {
     "data": {
      "text/plain": [
       "Vector((4, 5, 6))"
      ]
     },
     "execution_count": 46,
     "metadata": {},
     "output_type": "execute_result"
    }
   ],
   "source": [
    "v2 = Vector([4, 5, 6])\n",
    "\n",
    "v2"
   ]
  },
  {
   "cell_type": "code",
   "execution_count": 60,
   "id": "c5617ffa-6c70-455c-9b62-c5833fbaea11",
   "metadata": {},
   "outputs": [],
   "source": [
    "class Vector:\n",
    "    \"\"\"Ein Vektor aus der Linearen Algebra.\"\"\"\n",
    "\n",
    "    def __init__(self, entries):\n",
    "        \"\"\"Erstelle einen neuen Vektor.\n",
    "\n",
    "        Args:\n",
    "            entries (Sequence von Zahlen)\n",
    "        \"\"\"\n",
    "        validated = []\n",
    "\n",
    "        for entry in entries:\n",
    "            try:\n",
    "                validated_entry = float(entry)\n",
    "            except TypeError:\n",
    "                raise ValueError(\"Vektoren dürfen nur Zahlen enthalten!\") from None\n",
    "            else:\n",
    "                validated.append(validated_entry)\n",
    "\n",
    "        if not validated:\n",
    "            raise RuntimeError(\"Ein Vektor muss mindestens ein Element enthalten!\")\n",
    "\n",
    "        self._entries = tuple(validated)\n",
    "\n",
    "    def __repr__(self):\n",
    "        return \"Vector(\" + repr(self._entries) + \")\""
   ]
  },
  {
   "cell_type": "code",
   "execution_count": 64,
   "id": "d2905b52-fcad-4bf7-aa45-29bcc444e169",
   "metadata": {},
   "outputs": [],
   "source": [
    "class Vector:\n",
    "    \"\"\"Ein Vektor aus der Linearen Algebra.\"\"\"\n",
    "\n",
    "    def __init__(self, entries):\n",
    "        \"\"\"Erstelle einen neuen Vektor.\n",
    "\n",
    "        Args:\n",
    "            entries (Sequence von Zahlen)\n",
    "        \"\"\"\n",
    "        try:\n",
    "            # List Comprehension\n",
    "            validated = [float(entry) for entry in entries]\n",
    "        except TypeError:\n",
    "            raise ValueError(\"Vektoren dürfen nur Zahlen enthalten!\") from None\n",
    "\n",
    "        if not validated:\n",
    "            raise RuntimeError(\"Ein Vektor muss mindestens ein Element enthalten!\")\n",
    "\n",
    "        self._entries = tuple(validated)\n",
    "\n",
    "    def __repr__(self):\n",
    "        return \"Vector(\" + repr(self._entries) + \")\""
   ]
  },
  {
   "cell_type": "code",
   "execution_count": 65,
   "id": "f821c3d4-a578-4cac-821c-984b402bba8c",
   "metadata": {},
   "outputs": [],
   "source": [
    "class Vector:\n",
    "    \"\"\"Ein Vektor aus der Linearen Algebra.\"\"\"\n",
    "\n",
    "    def __init__(self, entries):\n",
    "        \"\"\"Erstelle einen neuen Vektor.\n",
    "\n",
    "        Args:\n",
    "            entries (Sequence von Zahlen)\n",
    "        \"\"\"\n",
    "        try:\n",
    "            validated = tuple(float(entry) for entry in entries)\n",
    "        except TypeError:\n",
    "            raise ValueError(\"Vektoren dürfen nur Zahlen enthalten!\") from None\n",
    "\n",
    "        if not validated:\n",
    "            raise RuntimeError(\"Ein Vektor muss mindestens ein Element enthalten!\")\n",
    "\n",
    "        self._entries = validated\n",
    "\n",
    "    def __repr__(self):\n",
    "        return \"Vector(\" + repr(self._entries) + \")\""
   ]
  },
  {
   "cell_type": "code",
   "execution_count": 66,
   "id": "8682ab87-b39b-4af4-ac7d-ce492f5612e7",
   "metadata": {},
   "outputs": [
    {
     "ename": "RuntimeError",
     "evalue": "Ein Vektor muss mindestens ein Element enthalten!",
     "output_type": "error",
     "traceback": [
      "\u001b[0;31m---------------------------------------------------------------------------\u001b[0m",
      "\u001b[0;31mRuntimeError\u001b[0m                              Traceback (most recent call last)",
      "Cell \u001b[0;32mIn[66], line 1\u001b[0m\n\u001b[0;32m----> 1\u001b[0m \u001b[43mVector\u001b[49m\u001b[43m(\u001b[49m\u001b[43m[\u001b[49m\u001b[43m]\u001b[49m\u001b[43m)\u001b[49m\n",
      "Cell \u001b[0;32mIn[65], line 17\u001b[0m, in \u001b[0;36mVector.__init__\u001b[0;34m(self, entries)\u001b[0m\n\u001b[1;32m     14\u001b[0m     \u001b[38;5;28;01mraise\u001b[39;00m \u001b[38;5;167;01mValueError\u001b[39;00m(\u001b[38;5;124m\"\u001b[39m\u001b[38;5;124mVektoren dürfen nur Zahlen enthalten!\u001b[39m\u001b[38;5;124m\"\u001b[39m) \u001b[38;5;28;01mfrom\u001b[39;00m \u001b[38;5;28;01mNone\u001b[39;00m\n\u001b[1;32m     16\u001b[0m \u001b[38;5;28;01mif\u001b[39;00m \u001b[38;5;129;01mnot\u001b[39;00m validated:\n\u001b[0;32m---> 17\u001b[0m     \u001b[38;5;28;01mraise\u001b[39;00m \u001b[38;5;167;01mRuntimeError\u001b[39;00m(\u001b[38;5;124m\"\u001b[39m\u001b[38;5;124mEin Vektor muss mindestens ein Element enthalten!\u001b[39m\u001b[38;5;124m\"\u001b[39m)\n\u001b[1;32m     19\u001b[0m \u001b[38;5;28mself\u001b[39m\u001b[38;5;241m.\u001b[39m_entries \u001b[38;5;241m=\u001b[39m validated\n",
      "\u001b[0;31mRuntimeError\u001b[0m: Ein Vektor muss mindestens ein Element enthalten!"
     ]
    }
   ],
   "source": [
    "Vector([])"
   ]
  },
  {
   "cell_type": "code",
   "execution_count": 67,
   "id": "33a3baec-d535-4f67-a2d4-2a86712128f2",
   "metadata": {},
   "outputs": [
    {
     "ename": "ValueError",
     "evalue": "Vektoren dürfen nur Zahlen enthalten!",
     "output_type": "error",
     "traceback": [
      "\u001b[0;31m---------------------------------------------------------------------------\u001b[0m",
      "\u001b[0;31mValueError\u001b[0m                                Traceback (most recent call last)",
      "Cell \u001b[0;32mIn[67], line 1\u001b[0m\n\u001b[0;32m----> 1\u001b[0m \u001b[43mVector\u001b[49m\u001b[43m(\u001b[49m\u001b[43m[\u001b[49m\u001b[38;5;241;43m1\u001b[39;49m\u001b[43m,\u001b[49m\u001b[43m \u001b[49m\u001b[38;5;241;43m2\u001b[39;49m\u001b[43m,\u001b[49m\u001b[43m \u001b[49m\u001b[38;5;28;43;01mNone\u001b[39;49;00m\u001b[43m]\u001b[49m\u001b[43m)\u001b[49m\n",
      "Cell \u001b[0;32mIn[65], line 14\u001b[0m, in \u001b[0;36mVector.__init__\u001b[0;34m(self, entries)\u001b[0m\n\u001b[1;32m     12\u001b[0m     validated \u001b[38;5;241m=\u001b[39m \u001b[38;5;28mtuple\u001b[39m(\u001b[38;5;28mfloat\u001b[39m(entry) \u001b[38;5;28;01mfor\u001b[39;00m entry \u001b[38;5;129;01min\u001b[39;00m entries)\n\u001b[1;32m     13\u001b[0m \u001b[38;5;28;01mexcept\u001b[39;00m \u001b[38;5;167;01mTypeError\u001b[39;00m:\n\u001b[0;32m---> 14\u001b[0m     \u001b[38;5;28;01mraise\u001b[39;00m \u001b[38;5;167;01mValueError\u001b[39;00m(\u001b[38;5;124m\"\u001b[39m\u001b[38;5;124mVektoren dürfen nur Zahlen enthalten!\u001b[39m\u001b[38;5;124m\"\u001b[39m) \u001b[38;5;28;01mfrom\u001b[39;00m \u001b[38;5;28;01mNone\u001b[39;00m\n\u001b[1;32m     16\u001b[0m \u001b[38;5;28;01mif\u001b[39;00m \u001b[38;5;129;01mnot\u001b[39;00m validated:\n\u001b[1;32m     17\u001b[0m     \u001b[38;5;28;01mraise\u001b[39;00m \u001b[38;5;167;01mRuntimeError\u001b[39;00m(\u001b[38;5;124m\"\u001b[39m\u001b[38;5;124mEin Vektor muss mindestens ein Element enthalten!\u001b[39m\u001b[38;5;124m\"\u001b[39m)\n",
      "\u001b[0;31mValueError\u001b[0m: Vektoren dürfen nur Zahlen enthalten!"
     ]
    }
   ],
   "source": [
    "Vector([1, 2, None])"
   ]
  },
  {
   "cell_type": "code",
   "execution_count": 63,
   "id": "51b6cba4-d49a-4966-b359-5e3da23c0009",
   "metadata": {},
   "outputs": [
    {
     "data": {
      "text/plain": [
       "Vector((1.0, 2.0, 3.0))"
      ]
     },
     "execution_count": 63,
     "metadata": {},
     "output_type": "execute_result"
    }
   ],
   "source": [
    "Vector(\"123\")  # naja, Duck Typing"
   ]
  },
  {
   "cell_type": "code",
   "execution_count": 68,
   "id": "f838243d-b99d-47ff-800b-11bc085570fb",
   "metadata": {},
   "outputs": [
    {
     "ename": "ValueError",
     "evalue": "Vektoren dürfen nur Zahlen enthalten!",
     "output_type": "error",
     "traceback": [
      "\u001b[0;31m---------------------------------------------------------------------------\u001b[0m",
      "\u001b[0;31mValueError\u001b[0m                                Traceback (most recent call last)",
      "Cell \u001b[0;32mIn[68], line 1\u001b[0m\n\u001b[0;32m----> 1\u001b[0m \u001b[43mVector\u001b[49m\u001b[43m(\u001b[49m\u001b[38;5;241;43m123\u001b[39;49m\u001b[43m)\u001b[49m\n",
      "Cell \u001b[0;32mIn[65], line 14\u001b[0m, in \u001b[0;36mVector.__init__\u001b[0;34m(self, entries)\u001b[0m\n\u001b[1;32m     12\u001b[0m     validated \u001b[38;5;241m=\u001b[39m \u001b[38;5;28mtuple\u001b[39m(\u001b[38;5;28mfloat\u001b[39m(entry) \u001b[38;5;28;01mfor\u001b[39;00m entry \u001b[38;5;129;01min\u001b[39;00m entries)\n\u001b[1;32m     13\u001b[0m \u001b[38;5;28;01mexcept\u001b[39;00m \u001b[38;5;167;01mTypeError\u001b[39;00m:\n\u001b[0;32m---> 14\u001b[0m     \u001b[38;5;28;01mraise\u001b[39;00m \u001b[38;5;167;01mValueError\u001b[39;00m(\u001b[38;5;124m\"\u001b[39m\u001b[38;5;124mVektoren dürfen nur Zahlen enthalten!\u001b[39m\u001b[38;5;124m\"\u001b[39m) \u001b[38;5;28;01mfrom\u001b[39;00m \u001b[38;5;28;01mNone\u001b[39;00m\n\u001b[1;32m     16\u001b[0m \u001b[38;5;28;01mif\u001b[39;00m \u001b[38;5;129;01mnot\u001b[39;00m validated:\n\u001b[1;32m     17\u001b[0m     \u001b[38;5;28;01mraise\u001b[39;00m \u001b[38;5;167;01mRuntimeError\u001b[39;00m(\u001b[38;5;124m\"\u001b[39m\u001b[38;5;124mEin Vektor muss mindestens ein Element enthalten!\u001b[39m\u001b[38;5;124m\"\u001b[39m)\n",
      "\u001b[0;31mValueError\u001b[0m: Vektoren dürfen nur Zahlen enthalten!"
     ]
    }
   ],
   "source": [
    "Vector(123)"
   ]
  },
  {
   "cell_type": "code",
   "execution_count": 70,
   "id": "dbc2f4a9-c9eb-4ce5-9679-df16064b0291",
   "metadata": {},
   "outputs": [
    {
     "ename": "TypeError",
     "evalue": "unsupported operand type(s) for *: 'int' and 'Vector'",
     "output_type": "error",
     "traceback": [
      "\u001b[0;31m---------------------------------------------------------------------------\u001b[0m",
      "\u001b[0;31mTypeError\u001b[0m                                 Traceback (most recent call last)",
      "Cell \u001b[0;32mIn[70], line 1\u001b[0m\n\u001b[0;32m----> 1\u001b[0m \u001b[38;5;241;43m3\u001b[39;49m\u001b[43m \u001b[49m\u001b[38;5;241;43m*\u001b[39;49m\u001b[43m \u001b[49m\u001b[43mv1\u001b[49m\n",
      "\u001b[0;31mTypeError\u001b[0m: unsupported operand type(s) for *: 'int' and 'Vector'"
     ]
    }
   ],
   "source": [
    "3 * v1"
   ]
  },
  {
   "cell_type": "code",
   "execution_count": 71,
   "id": "663f0eaa-47b8-4c6c-9e9c-e7ba4986ee04",
   "metadata": {},
   "outputs": [
    {
     "ename": "TypeError",
     "evalue": "unsupported operand type(s) for *: 'Vector' and 'int'",
     "output_type": "error",
     "traceback": [
      "\u001b[0;31m---------------------------------------------------------------------------\u001b[0m",
      "\u001b[0;31mTypeError\u001b[0m                                 Traceback (most recent call last)",
      "Cell \u001b[0;32mIn[71], line 1\u001b[0m\n\u001b[0;32m----> 1\u001b[0m \u001b[43mv1\u001b[49m\u001b[43m \u001b[49m\u001b[38;5;241;43m*\u001b[39;49m\u001b[43m \u001b[49m\u001b[38;5;241;43m3\u001b[39;49m\n",
      "\u001b[0;31mTypeError\u001b[0m: unsupported operand type(s) for *: 'Vector' and 'int'"
     ]
    }
   ],
   "source": [
    "v1 * 3  # -> v1.__mul__(3) -> Vector.__mul__(v1, 3)"
   ]
  },
  {
   "cell_type": "code",
   "execution_count": null,
   "id": "54be7b81-5810-49e7-b1ae-6cdb2bd333e1",
   "metadata": {},
   "outputs": [],
   "source": [
    "v1 * v2  # -> v1.__mul__(v2) -> Vector.__mul__(v1, v2)"
   ]
  },
  {
   "cell_type": "code",
   "execution_count": 75,
   "id": "ba3ec9da-7107-4274-85d4-a81d8c6eced9",
   "metadata": {},
   "outputs": [],
   "source": [
    "class Vector:\n",
    "    \"\"\"Ein Vektor aus der Linearen Algebra.\"\"\"\n",
    "\n",
    "    def __init__(self, entries):\n",
    "        \"\"\"Erstelle einen neuen Vektor.\n",
    "\n",
    "        Args:\n",
    "            entries (Sequence von Zahlen)\n",
    "        \"\"\"\n",
    "        try:\n",
    "            validated = tuple(float(entry) for entry in entries)\n",
    "        except TypeError:\n",
    "            raise ValueError(\"Vektoren dürfen nur Zahlen enthalten!\") from None\n",
    "\n",
    "        if not validated:\n",
    "            raise RuntimeError(\"Ein Vektor muss mindestens ein Element enthalten!\")\n",
    "\n",
    "        self._entries = validated\n",
    "\n",
    "    def __repr__(self):\n",
    "        return \"Vector(\" + repr(self._entries) + \")\"\n",
    "\n",
    "    def __mul__(self, other):  # self * other\n",
    "        # Annahme: `other` ist ein Skalar\n",
    "        rv = []\n",
    "        for entry in self._entries:\n",
    "            rv.append(entry * other)\n",
    "        return Vector(rv)"
   ]
  },
  {
   "cell_type": "code",
   "execution_count": 76,
   "id": "cf0f90a8-cfd9-43a9-9d4b-d98ab063a3a7",
   "metadata": {},
   "outputs": [
    {
     "data": {
      "text/plain": [
       "Vector((1.0, 2.0, 3.0))"
      ]
     },
     "execution_count": 76,
     "metadata": {},
     "output_type": "execute_result"
    }
   ],
   "source": [
    "v1 = Vector([1, 2, 3])\n",
    "\n",
    "v1"
   ]
  },
  {
   "cell_type": "code",
   "execution_count": 77,
   "id": "5930ffa4-3328-46aa-9588-2a686ce90a0a",
   "metadata": {},
   "outputs": [
    {
     "data": {
      "text/plain": [
       "Vector((3.0, 6.0, 9.0))"
      ]
     },
     "execution_count": 77,
     "metadata": {},
     "output_type": "execute_result"
    }
   ],
   "source": [
    "v1 * 3"
   ]
  },
  {
   "cell_type": "code",
   "execution_count": 81,
   "id": "8c663585-6409-4074-8d36-163f19f992ea",
   "metadata": {},
   "outputs": [],
   "source": [
    "class Vector:\n",
    "    \"\"\"Ein Vektor aus der Linearen Algebra.\"\"\"\n",
    "\n",
    "    def __init__(self, entries):\n",
    "        \"\"\"Erstelle einen neuen Vektor.\n",
    "\n",
    "        Args:\n",
    "            entries (Sequence von Zahlen)\n",
    "        \"\"\"\n",
    "        try:\n",
    "            validated = tuple(float(entry) for entry in entries)\n",
    "        except TypeError:\n",
    "            raise ValueError(\"Vektoren dürfen nur Zahlen enthalten!\") from None\n",
    "\n",
    "        if not validated:\n",
    "            raise RuntimeError(\"Ein Vektor muss mindestens ein Element enthalten!\")\n",
    "\n",
    "        self._entries = validated\n",
    "\n",
    "    def __repr__(self):\n",
    "        return \"Vector(\" + repr(self._entries) + \")\"\n",
    "\n",
    "    def __mul__(self, other):  # self * other\n",
    "        # Annahme: `other` ist ein Skalar\n",
    "        # Achtung: Aus der List Comprehension wurde ein Generator Expression\n",
    "        # return Vector([entry * other for entry in self._entries])\n",
    "        return Vector(entry * other for entry in self._entries)"
   ]
  },
  {
   "cell_type": "code",
   "execution_count": 82,
   "id": "987de7d4-1f59-4f5e-bdd8-0723701dc707",
   "metadata": {},
   "outputs": [
    {
     "data": {
      "text/plain": [
       "Vector((1.0, 2.0, 3.0))"
      ]
     },
     "execution_count": 82,
     "metadata": {},
     "output_type": "execute_result"
    }
   ],
   "source": [
    "v1 = Vector([1, 2, 3])\n",
    "\n",
    "v1"
   ]
  },
  {
   "cell_type": "code",
   "execution_count": 83,
   "id": "cb4029fa-a31c-44f1-b380-5d57980e0b72",
   "metadata": {},
   "outputs": [
    {
     "data": {
      "text/plain": [
       "Vector((3.0, 6.0, 9.0))"
      ]
     },
     "execution_count": 83,
     "metadata": {},
     "output_type": "execute_result"
    }
   ],
   "source": [
    "v1 * 3"
   ]
  },
  {
   "cell_type": "code",
   "execution_count": 84,
   "id": "a0018d78-b9b5-4927-a466-de1d646cc2e9",
   "metadata": {},
   "outputs": [
    {
     "ename": "TypeError",
     "evalue": "unsupported operand type(s) for *: 'int' and 'Vector'",
     "output_type": "error",
     "traceback": [
      "\u001b[0;31m---------------------------------------------------------------------------\u001b[0m",
      "\u001b[0;31mTypeError\u001b[0m                                 Traceback (most recent call last)",
      "Cell \u001b[0;32mIn[84], line 1\u001b[0m\n\u001b[0;32m----> 1\u001b[0m \u001b[38;5;241;43m3\u001b[39;49m\u001b[43m \u001b[49m\u001b[38;5;241;43m*\u001b[39;49m\u001b[43m \u001b[49m\u001b[43mv1\u001b[49m\n",
      "\u001b[0;31mTypeError\u001b[0m: unsupported operand type(s) for *: 'int' and 'Vector'"
     ]
    }
   ],
   "source": [
    "3 * v1  # 3.__mul__(v1) -> NotImplemented -> v1.__rmul__(3) -> ..."
   ]
  },
  {
   "cell_type": "code",
   "execution_count": 85,
   "id": "8a5213c8-5792-4f97-b3e5-9503a8866e1b",
   "metadata": {},
   "outputs": [],
   "source": [
    "class Vector:\n",
    "    \"\"\"Ein Vektor aus der Linearen Algebra.\"\"\"\n",
    "\n",
    "    def __init__(self, entries):\n",
    "        \"\"\"Erstelle einen neuen Vektor.\n",
    "\n",
    "        Args:\n",
    "            entries (Sequence von Zahlen)\n",
    "        \"\"\"\n",
    "        try:\n",
    "            validated = tuple(float(entry) for entry in entries)\n",
    "        except TypeError:\n",
    "            raise ValueError(\"Vektoren dürfen nur Zahlen enthalten!\") from None\n",
    "\n",
    "        if not validated:\n",
    "            raise RuntimeError(\"Ein Vektor muss mindestens ein Element enthalten!\")\n",
    "\n",
    "        self._entries = validated\n",
    "\n",
    "    def __repr__(self):\n",
    "        return \"Vector(\" + repr(self._entries) + \")\"\n",
    "\n",
    "    def __mul__(self, other):  # self * other\n",
    "        return Vector(entry * other for entry in self._entries)\n",
    "\n",
    "    def __rmul__(self, other):  # other * self\n",
    "        return self * other  # -> self.__mul__(other) -> Vector.__mul__(self, other)"
   ]
  },
  {
   "cell_type": "code",
   "execution_count": 89,
   "id": "baf0fab7-89e5-45e9-b40c-9295d226d7a1",
   "metadata": {},
   "outputs": [],
   "source": [
    "class Vector:\n",
    "    \"\"\"Ein Vektor aus der Linearen Algebra.\"\"\"\n",
    "\n",
    "    def __init__(self, entries):\n",
    "        \"\"\"Erstelle einen neuen Vektor.\n",
    "\n",
    "        Args:\n",
    "            entries (Sequence von Zahlen)\n",
    "        \"\"\"\n",
    "        try:\n",
    "            validated = tuple(float(entry) for entry in entries)\n",
    "        except TypeError:\n",
    "            raise ValueError(\"Vektoren dürfen nur Zahlen enthalten!\") from None\n",
    "\n",
    "        if not validated:\n",
    "            raise RuntimeError(\"Ein Vektor muss mindestens ein Element enthalten!\")\n",
    "\n",
    "        self._entries = validated\n",
    "\n",
    "    def __repr__(self):\n",
    "        return \"Vector(\" + repr(self._entries) + \")\"\n",
    "\n",
    "    def __mul__(self, other):  # self * other\n",
    "        return Vector(entry * other for entry in self._entries)\n",
    "\n",
    "    __rmul__ = __mul__  # symmetrisch"
   ]
  },
  {
   "cell_type": "code",
   "execution_count": 90,
   "id": "7a4bd89e-3eb3-424d-a42e-9e15fb7e2c3e",
   "metadata": {},
   "outputs": [
    {
     "data": {
      "text/plain": [
       "Vector((1.0, 2.0, 3.0))"
      ]
     },
     "execution_count": 90,
     "metadata": {},
     "output_type": "execute_result"
    }
   ],
   "source": [
    "v1 = Vector([1, 2, 3])\n",
    "\n",
    "v1"
   ]
  },
  {
   "cell_type": "code",
   "execution_count": 91,
   "id": "7379cea8-631d-46ba-ac99-2eee762a1b9e",
   "metadata": {},
   "outputs": [
    {
     "data": {
      "text/plain": [
       "Vector((3.0, 6.0, 9.0))"
      ]
     },
     "execution_count": 91,
     "metadata": {},
     "output_type": "execute_result"
    }
   ],
   "source": [
    "v1 * 3"
   ]
  },
  {
   "cell_type": "code",
   "execution_count": 92,
   "id": "ec813265-a1a5-44a7-9ea6-46d927749ca4",
   "metadata": {},
   "outputs": [
    {
     "data": {
      "text/plain": [
       "Vector((3.0, 6.0, 9.0))"
      ]
     },
     "execution_count": 92,
     "metadata": {},
     "output_type": "execute_result"
    }
   ],
   "source": [
    "3 * v1"
   ]
  },
  {
   "cell_type": "code",
   "execution_count": 93,
   "id": "ddaa6a8a-2024-4abc-841e-95835915a871",
   "metadata": {},
   "outputs": [
    {
     "data": {
      "text/plain": [
       "Vector((4.0, 5.0, 6.0))"
      ]
     },
     "execution_count": 93,
     "metadata": {},
     "output_type": "execute_result"
    }
   ],
   "source": [
    "v2 = Vector([4, 5, 6])\n",
    "\n",
    "v2"
   ]
  },
  {
   "cell_type": "code",
   "execution_count": 94,
   "id": "0da0e132-afa4-410c-93ba-1321cf66ef79",
   "metadata": {},
   "outputs": [
    {
     "ename": "ValueError",
     "evalue": "Vektoren dürfen nur Zahlen enthalten!",
     "output_type": "error",
     "traceback": [
      "\u001b[0;31m---------------------------------------------------------------------------\u001b[0m",
      "\u001b[0;31mValueError\u001b[0m                                Traceback (most recent call last)",
      "Cell \u001b[0;32mIn[94], line 1\u001b[0m\n\u001b[0;32m----> 1\u001b[0m \u001b[43mv1\u001b[49m\u001b[43m \u001b[49m\u001b[38;5;241;43m*\u001b[39;49m\u001b[43m \u001b[49m\u001b[43mv2\u001b[49m\n",
      "Cell \u001b[0;32mIn[89], line 24\u001b[0m, in \u001b[0;36mVector.__mul__\u001b[0;34m(self, other)\u001b[0m\n\u001b[1;32m     23\u001b[0m \u001b[38;5;28;01mdef\u001b[39;00m \u001b[38;5;21m__mul__\u001b[39m(\u001b[38;5;28mself\u001b[39m, other):  \u001b[38;5;66;03m# self * other\u001b[39;00m\n\u001b[0;32m---> 24\u001b[0m     \u001b[38;5;28;01mreturn\u001b[39;00m \u001b[43mVector\u001b[49m\u001b[43m(\u001b[49m\u001b[43mentry\u001b[49m\u001b[43m \u001b[49m\u001b[38;5;241;43m*\u001b[39;49m\u001b[43m \u001b[49m\u001b[43mother\u001b[49m\u001b[43m \u001b[49m\u001b[38;5;28;43;01mfor\u001b[39;49;00m\u001b[43m \u001b[49m\u001b[43mentry\u001b[49m\u001b[43m \u001b[49m\u001b[38;5;129;43;01min\u001b[39;49;00m\u001b[43m \u001b[49m\u001b[38;5;28;43mself\u001b[39;49m\u001b[38;5;241;43m.\u001b[39;49m\u001b[43m_entries\u001b[49m\u001b[43m)\u001b[49m\n",
      "Cell \u001b[0;32mIn[89], line 13\u001b[0m, in \u001b[0;36mVector.__init__\u001b[0;34m(self, entries)\u001b[0m\n\u001b[1;32m     11\u001b[0m     validated \u001b[38;5;241m=\u001b[39m \u001b[38;5;28mtuple\u001b[39m(\u001b[38;5;28mfloat\u001b[39m(entry) \u001b[38;5;28;01mfor\u001b[39;00m entry \u001b[38;5;129;01min\u001b[39;00m entries)\n\u001b[1;32m     12\u001b[0m \u001b[38;5;28;01mexcept\u001b[39;00m \u001b[38;5;167;01mTypeError\u001b[39;00m:\n\u001b[0;32m---> 13\u001b[0m     \u001b[38;5;28;01mraise\u001b[39;00m \u001b[38;5;167;01mValueError\u001b[39;00m(\u001b[38;5;124m\"\u001b[39m\u001b[38;5;124mVektoren dürfen nur Zahlen enthalten!\u001b[39m\u001b[38;5;124m\"\u001b[39m) \u001b[38;5;28;01mfrom\u001b[39;00m \u001b[38;5;28;01mNone\u001b[39;00m\n\u001b[1;32m     15\u001b[0m \u001b[38;5;28;01mif\u001b[39;00m \u001b[38;5;129;01mnot\u001b[39;00m validated:\n\u001b[1;32m     16\u001b[0m     \u001b[38;5;28;01mraise\u001b[39;00m \u001b[38;5;167;01mRuntimeError\u001b[39;00m(\u001b[38;5;124m\"\u001b[39m\u001b[38;5;124mEin Vektor muss mindestens ein Element enthalten!\u001b[39m\u001b[38;5;124m\"\u001b[39m)\n",
      "\u001b[0;31mValueError\u001b[0m: Vektoren dürfen nur Zahlen enthalten!"
     ]
    }
   ],
   "source": [
    "v1 * v2"
   ]
  },
  {
   "cell_type": "code",
   "execution_count": 97,
   "id": "8076cde9-e067-4207-8f8a-4b04e8ae0457",
   "metadata": {},
   "outputs": [],
   "source": [
    "class Vector:\n",
    "    \"\"\"Ein Vektor aus der Linearen Algebra.\"\"\"\n",
    "\n",
    "    def __init__(self, entries):\n",
    "        \"\"\"Erstelle einen neuen Vektor.\n",
    "\n",
    "        Args:\n",
    "            entries (Sequence von Zahlen)\n",
    "        \"\"\"\n",
    "        try:\n",
    "            validated = tuple(float(entry) for entry in entries)\n",
    "        except TypeError:\n",
    "            raise ValueError(\"Vektoren dürfen nur Zahlen enthalten!\") from None\n",
    "\n",
    "        if not validated:\n",
    "            raise RuntimeError(\"Ein Vektor muss mindestens ein Element enthalten!\")\n",
    "\n",
    "        self._entries = validated\n",
    "\n",
    "    def __repr__(self):\n",
    "        return \"Vector(\" + repr(self._entries) + \")\"\n",
    "\n",
    "    def __mul__(self, other):\n",
    "        if isinstance(other, Vector):\n",
    "            if len(self._entries) != len(other._entries):\n",
    "                raise RuntimeError(\"Die Vektoren müssen gleich lang sein!\")\n",
    "            return sum(x * y for x, y in zip(self._entries, other._entries))\n",
    "        return Vector(entry * other for entry in self._entries)\n",
    "\n",
    "    __rmul__ = __mul__"
   ]
  },
  {
   "cell_type": "code",
   "execution_count": 103,
   "id": "7fc7d2ed-c249-4c5c-ae26-50c392bab482",
   "metadata": {},
   "outputs": [],
   "source": [
    "class Vector:\n",
    "    \"\"\"Ein Vektor aus der Linearen Algebra.\"\"\"\n",
    "\n",
    "    def __init__(self, entries):\n",
    "        \"\"\"Erstelle einen neuen Vektor.\n",
    "\n",
    "        Args:\n",
    "            entries (Sequence von Zahlen)\n",
    "        \"\"\"\n",
    "        try:\n",
    "            validated = tuple(float(entry) for entry in entries)\n",
    "        except TypeError:\n",
    "            raise ValueError(\"Vektoren dürfen nur Zahlen enthalten!\") from None\n",
    "\n",
    "        if not validated:\n",
    "            raise RuntimeError(\"Ein Vektor muss mindestens ein Element enthalten!\")\n",
    "\n",
    "        self._entries = validated\n",
    "\n",
    "    def __repr__(self):\n",
    "        return \"Vector(\" + repr(self._entries) + \")\"\n",
    "\n",
    "    def __mul__(self, other):\n",
    "        if isinstance(other, Vector):\n",
    "            if len(self._entries) != len(other._entries):\n",
    "                raise RuntimeError(\"Die Vektoren müssen gleich lang sein!\")\n",
    "            return sum(x * y for x, y in zip(self._entries, other._entries))\n",
    "        elif isinstance(other, int) or isinstance(other, float):\n",
    "            return Vector(entry * other for entry in self._entries)\n",
    "        else:\n",
    "            return NotImplemented\n",
    "\n",
    "    __rmul__ = __mul__"
   ]
  },
  {
   "cell_type": "code",
   "execution_count": 104,
   "id": "5f06785a-3663-48b8-89ea-d617ce880632",
   "metadata": {},
   "outputs": [
    {
     "data": {
      "text/plain": [
       "Vector((1.0, 2.0, 3.0))"
      ]
     },
     "execution_count": 104,
     "metadata": {},
     "output_type": "execute_result"
    }
   ],
   "source": [
    "v1 = Vector([1, 2, 3])\n",
    "\n",
    "v1"
   ]
  },
  {
   "cell_type": "code",
   "execution_count": 105,
   "id": "03c786d8-654b-42b6-a305-a36c8d261f64",
   "metadata": {},
   "outputs": [
    {
     "data": {
      "text/plain": [
       "Vector((4.0, 5.0, 6.0))"
      ]
     },
     "execution_count": 105,
     "metadata": {},
     "output_type": "execute_result"
    }
   ],
   "source": [
    "v2 = Vector([4, 5, 6])\n",
    "\n",
    "v2"
   ]
  },
  {
   "cell_type": "code",
   "execution_count": 106,
   "id": "a93c6a42-803a-423b-8266-34156666a9b9",
   "metadata": {},
   "outputs": [
    {
     "data": {
      "text/plain": [
       "Vector((7.0, 8.0))"
      ]
     },
     "execution_count": 106,
     "metadata": {},
     "output_type": "execute_result"
    }
   ],
   "source": [
    "v3 = Vector([7, 8])\n",
    "\n",
    "v3"
   ]
  },
  {
   "cell_type": "code",
   "execution_count": 107,
   "id": "e2b07806-7993-47d0-af23-e1e3448149e9",
   "metadata": {},
   "outputs": [
    {
     "data": {
      "text/plain": [
       "32.0"
      ]
     },
     "execution_count": 107,
     "metadata": {},
     "output_type": "execute_result"
    }
   ],
   "source": [
    "v1 * v2"
   ]
  },
  {
   "cell_type": "code",
   "execution_count": 108,
   "id": "adc2cda3-238e-4f1d-b13b-6ece2892a308",
   "metadata": {},
   "outputs": [
    {
     "ename": "RuntimeError",
     "evalue": "Die Vektoren müssen gleich lang sein!",
     "output_type": "error",
     "traceback": [
      "\u001b[0;31m---------------------------------------------------------------------------\u001b[0m",
      "\u001b[0;31mRuntimeError\u001b[0m                              Traceback (most recent call last)",
      "Cell \u001b[0;32mIn[108], line 1\u001b[0m\n\u001b[0;32m----> 1\u001b[0m \u001b[43mv1\u001b[49m\u001b[43m \u001b[49m\u001b[38;5;241;43m*\u001b[39;49m\u001b[43m \u001b[49m\u001b[43mv3\u001b[49m\n",
      "Cell \u001b[0;32mIn[103], line 26\u001b[0m, in \u001b[0;36mVector.__mul__\u001b[0;34m(self, other)\u001b[0m\n\u001b[1;32m     24\u001b[0m \u001b[38;5;28;01mif\u001b[39;00m \u001b[38;5;28misinstance\u001b[39m(other, Vector):\n\u001b[1;32m     25\u001b[0m     \u001b[38;5;28;01mif\u001b[39;00m \u001b[38;5;28mlen\u001b[39m(\u001b[38;5;28mself\u001b[39m\u001b[38;5;241m.\u001b[39m_entries) \u001b[38;5;241m!=\u001b[39m \u001b[38;5;28mlen\u001b[39m(other\u001b[38;5;241m.\u001b[39m_entries):\n\u001b[0;32m---> 26\u001b[0m         \u001b[38;5;28;01mraise\u001b[39;00m \u001b[38;5;167;01mRuntimeError\u001b[39;00m(\u001b[38;5;124m\"\u001b[39m\u001b[38;5;124mDie Vektoren müssen gleich lang sein!\u001b[39m\u001b[38;5;124m\"\u001b[39m)\n\u001b[1;32m     27\u001b[0m     \u001b[38;5;28;01mreturn\u001b[39;00m \u001b[38;5;28msum\u001b[39m(x \u001b[38;5;241m*\u001b[39m y \u001b[38;5;28;01mfor\u001b[39;00m x, y \u001b[38;5;129;01min\u001b[39;00m \u001b[38;5;28mzip\u001b[39m(\u001b[38;5;28mself\u001b[39m\u001b[38;5;241m.\u001b[39m_entries, other\u001b[38;5;241m.\u001b[39m_entries))\n\u001b[1;32m     28\u001b[0m \u001b[38;5;28;01melif\u001b[39;00m \u001b[38;5;28misinstance\u001b[39m(other, \u001b[38;5;28mint\u001b[39m) \u001b[38;5;129;01mor\u001b[39;00m \u001b[38;5;28misinstance\u001b[39m(other, \u001b[38;5;28mfloat\u001b[39m):\n",
      "\u001b[0;31mRuntimeError\u001b[0m: Die Vektoren müssen gleich lang sein!"
     ]
    }
   ],
   "source": [
    "v1 * v3"
   ]
  },
  {
   "cell_type": "code",
   "execution_count": 110,
   "id": "c986c7f2-80b7-4e86-b563-88b0de199a6e",
   "metadata": {},
   "outputs": [
    {
     "ename": "TypeError",
     "evalue": "can't multiply sequence by non-int of type 'Vector'",
     "output_type": "error",
     "traceback": [
      "\u001b[0;31m---------------------------------------------------------------------------\u001b[0m",
      "\u001b[0;31mTypeError\u001b[0m                                 Traceback (most recent call last)",
      "Cell \u001b[0;32mIn[110], line 1\u001b[0m\n\u001b[0;32m----> 1\u001b[0m \u001b[43mv1\u001b[49m\u001b[43m \u001b[49m\u001b[38;5;241;43m*\u001b[39;49m\u001b[43m \u001b[49m\u001b[43m[\u001b[49m\u001b[38;5;241;43m1\u001b[39;49m\u001b[43m,\u001b[49m\u001b[43m \u001b[49m\u001b[38;5;241;43m2\u001b[39;49m\u001b[43m,\u001b[49m\u001b[43m \u001b[49m\u001b[38;5;241;43m3\u001b[39;49m\u001b[43m]\u001b[49m  \u001b[38;5;66;03m# v1.__mul__([...]) -> NotImplemented -> [...].__rmul__(v1) -> NotImplemented -> TypeError\u001b[39;00m\n",
      "\u001b[0;31mTypeError\u001b[0m: can't multiply sequence by non-int of type 'Vector'"
     ]
    }
   ],
   "source": [
    "v1 * [1, 2, 3]  # v1.__mul__([...]) -> NotImplemented -> [...].__rmul__(v1) -> NotImplemented -> TypeError"
   ]
  },
  {
   "cell_type": "code",
   "execution_count": null,
   "id": "eccc8c4f-d527-4a66-ad7c-537d3b98e3b0",
   "metadata": {},
   "outputs": [],
   "source": []
  }
 ],
 "metadata": {
  "kernelspec": {
   "display_name": "Python 3.12",
   "language": "python",
   "name": "python3.12"
  },
  "language_info": {
   "codemirror_mode": {
    "name": "ipython",
    "version": 3
   },
   "file_extension": ".py",
   "mimetype": "text/x-python",
   "name": "python",
   "nbconvert_exporter": "python",
   "pygments_lexer": "ipython3",
   "version": "3.12.0"
  }
 },
 "nbformat": 4,
 "nbformat_minor": 5
}
