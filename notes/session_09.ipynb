{
 "cells": [
  {
   "cell_type": "markdown",
   "id": "a6d876f6-02db-48b9-baf4-695065c11c47",
   "metadata": {},
   "source": [
    "# Iteration"
   ]
  },
  {
   "cell_type": "markdown",
   "id": "1ea5a70d-3e24-4548-9682-f8c8e3dac479",
   "metadata": {},
   "source": [
    "## Rekursion"
   ]
  },
  {
   "cell_type": "markdown",
   "id": "eb59ccee-c61b-447b-9797-9881eafa8ee3",
   "metadata": {},
   "source": [
    "#### Bsp: `fibonacci()` Zahlen"
   ]
  },
  {
   "cell_type": "markdown",
   "id": "81584042-b01c-493c-9a58-9cb08e1b02db",
   "metadata": {},
   "source": [
    "geg: $0, 1$\n",
    "\n",
    "Regel: \"Addiere die beiden Vorgänger\"\n",
    "\n",
    "also: $0, 1, 1, 2, 3, 5, 8, 13, ...$\n",
    "\n",
    "Index: $0, 1, 2, 3, 4, 5, 6, 7, ...$"
   ]
  },
  {
   "cell_type": "markdown",
   "id": "fa6a3de0-5871-428f-8617-3eefcf6a49f6",
   "metadata": {},
   "source": [
    "##### Version 1"
   ]
  },
  {
   "cell_type": "code",
   "execution_count": 1,
   "id": "8419807f-d5af-44e0-b79d-4c5ce5f05c08",
   "metadata": {},
   "outputs": [],
   "source": [
    "def fibonacci(i):\n",
    "    \"\"\"Berechne die i'te Fibonacci Zahl.\n",
    "\n",
    "    Args:\n",
    "        i (int): 0-basierter Index\n",
    "\n",
    "    Returns:\n",
    "        fib (int)\n",
    "    \"\"\"\n",
    "    if i == 0:   # 2 (!) Auswege\n",
    "        return 0\n",
    "    elif i == 1:\n",
    "        return 1\n",
    "    else:\n",
    "        # Vorvorgänger  +  Vorgänger  -> Code, der wiederholt ausgeführt wird\n",
    "        return fibonacci(i - 2) + fibonacci(i - 1)"
   ]
  },
  {
   "cell_type": "markdown",
   "id": "4d490cdf-e5b8-4e4f-9f69-78815a12dd78",
   "metadata": {},
   "source": [
    "##### Version 2"
   ]
  },
  {
   "cell_type": "code",
   "execution_count": 14,
   "id": "3fa071e1-97f4-4abc-8288-01915a54136b",
   "metadata": {},
   "outputs": [],
   "source": [
    "def fibonacci(i):\n",
    "    \"\"\"Berechne die i'te Fibonacci Zahl.\n",
    "\n",
    "    Args:\n",
    "        i (int): 0-basierter Index\n",
    "\n",
    "    Returns:\n",
    "        fib (int)\n",
    "    \"\"\"\n",
    "    if i in [0, 1]:\n",
    "        return i\n",
    "    return fibonacci(i - 2) + fibonacci(i - 1)"
   ]
  },
  {
   "cell_type": "markdown",
   "id": "a51045a2-3976-493f-9352-3f8abacf8e90",
   "metadata": {},
   "source": [
    "##### Version 3"
   ]
  },
  {
   "cell_type": "code",
   "execution_count": 37,
   "id": "f91427d4-7dfe-4c49-a87a-91c224509264",
   "metadata": {},
   "outputs": [
    {
     "data": {
      "text/plain": [
       "{}"
      ]
     },
     "execution_count": 37,
     "metadata": {},
     "output_type": "execute_result"
    }
   ],
   "source": [
    "memo = {}\n",
    "\n",
    "memo"
   ]
  },
  {
   "cell_type": "code",
   "execution_count": 40,
   "id": "540a5ac6-021f-49c9-8d5e-37f8f26946bb",
   "metadata": {},
   "outputs": [],
   "source": [
    "def fibonacci(i):\n",
    "    \"\"\"Berechne die i'te Fibonacci Zahl.\n",
    "\n",
    "    Args:\n",
    "        i (int): 0-basierter Index\n",
    "\n",
    "    Returns:\n",
    "        fib (int)\n",
    "    \"\"\"\n",
    "    if i in [0, 1]:\n",
    "        return i\n",
    "\n",
    "    if i in memo:\n",
    "        return memo[i]\n",
    "\n",
    "    result = fibonacci(i - 2) + fibonacci(i - 1)\n",
    "    memo[i] = result\n",
    "\n",
    "    return result"
   ]
  },
  {
   "cell_type": "code",
   "execution_count": 57,
   "id": "80f17b23-30f5-4bac-8e58-12ad4ae856ed",
   "metadata": {},
   "outputs": [
    {
     "data": {
      "text/plain": [
       "{2: 1,\n",
       " 3: 2,\n",
       " 4: 3,\n",
       " 5: 5,\n",
       " 6: 8,\n",
       " 7: 13,\n",
       " 8: 21,\n",
       " 9: 34,\n",
       " 10: 55,\n",
       " 11: 89,\n",
       " 12: 144,\n",
       " 13: 233,\n",
       " 14: 377,\n",
       " 15: 610,\n",
       " 16: 987,\n",
       " 17: 1597,\n",
       " 18: 2584,\n",
       " 19: 4181,\n",
       " 20: 6765,\n",
       " 21: 10946,\n",
       " 22: 17711,\n",
       " 23: 28657,\n",
       " 24: 46368,\n",
       " 25: 75025,\n",
       " 26: 121393,\n",
       " 27: 196418,\n",
       " 28: 317811,\n",
       " 29: 514229,\n",
       " 30: 832040,\n",
       " 31: 1346269,\n",
       " 32: 2178309,\n",
       " 33: 3524578,\n",
       " 34: 5702887,\n",
       " 35: 9227465,\n",
       " 36: 14930352,\n",
       " 37: 24157817,\n",
       " 38: 39088169,\n",
       " 39: 63245986,\n",
       " 40: 102334155,\n",
       " 41: 165580141,\n",
       " 42: 267914296,\n",
       " 43: 433494437,\n",
       " 44: 701408733,\n",
       " 45: 1134903170,\n",
       " 46: 1836311903,\n",
       " 47: 2971215073,\n",
       " 48: 4807526976,\n",
       " 49: 7778742049,\n",
       " 50: 12586269025,\n",
       " 51: 20365011074,\n",
       " 52: 32951280099,\n",
       " 53: 53316291173,\n",
       " 54: 86267571272,\n",
       " 55: 139583862445,\n",
       " 56: 225851433717,\n",
       " 57: 365435296162,\n",
       " 58: 591286729879,\n",
       " 59: 956722026041,\n",
       " 60: 1548008755920,\n",
       " 61: 2504730781961,\n",
       " 62: 4052739537881,\n",
       " 63: 6557470319842,\n",
       " 64: 10610209857723,\n",
       " 65: 17167680177565,\n",
       " 66: 27777890035288,\n",
       " 67: 44945570212853,\n",
       " 68: 72723460248141,\n",
       " 69: 117669030460994,\n",
       " 70: 190392490709135,\n",
       " 71: 308061521170129,\n",
       " 72: 498454011879264,\n",
       " 73: 806515533049393,\n",
       " 74: 1304969544928657,\n",
       " 75: 2111485077978050,\n",
       " 76: 3416454622906707,\n",
       " 77: 5527939700884757,\n",
       " 78: 8944394323791464,\n",
       " 79: 14472334024676221,\n",
       " 80: 23416728348467685,\n",
       " 81: 37889062373143906,\n",
       " 82: 61305790721611591,\n",
       " 83: 99194853094755497,\n",
       " 84: 160500643816367088,\n",
       " 85: 259695496911122585,\n",
       " 86: 420196140727489673,\n",
       " 87: 679891637638612258,\n",
       " 88: 1100087778366101931,\n",
       " 89: 1779979416004714189,\n",
       " 90: 2880067194370816120,\n",
       " 91: 4660046610375530309,\n",
       " 92: 7540113804746346429,\n",
       " 93: 12200160415121876738,\n",
       " 94: 19740274219868223167,\n",
       " 95: 31940434634990099905,\n",
       " 96: 51680708854858323072,\n",
       " 97: 83621143489848422977,\n",
       " 98: 135301852344706746049,\n",
       " 99: 218922995834555169026}"
      ]
     },
     "execution_count": 57,
     "metadata": {},
     "output_type": "execute_result"
    }
   ],
   "source": [
    "memo"
   ]
  },
  {
   "cell_type": "markdown",
   "id": "8e7df45a-a591-4a18-9bf7-4d95327663df",
   "metadata": {},
   "source": [
    "##### Version 4"
   ]
  },
  {
   "cell_type": "code",
   "execution_count": 58,
   "id": "7dc2c08c-452d-4605-947f-11751593741b",
   "metadata": {},
   "outputs": [],
   "source": [
    "def fibonacci(i, *, _memo=None):\n",
    "    \"\"\"Berechne die i'te Fibonacci Zahl.\n",
    "\n",
    "    Args:\n",
    "        i (int): 0-basierter Index\n",
    "\n",
    "    Returns:\n",
    "        fib (int)\n",
    "    \"\"\"\n",
    "    if _memo is None:\n",
    "        _memo = {\n",
    "            0: 0,\n",
    "            1: 1,\n",
    "        }\n",
    "\n",
    "    if i not in _memo:\n",
    "        _memo[i] = fibonacci(i - 2, _memo=_memo) + fibonacci(i - 1, _memo=_memo)\n",
    "\n",
    "    return _memo[i]"
   ]
  },
  {
   "cell_type": "code",
   "execution_count": 78,
   "id": "e2ffd656-00a2-40b8-9670-68f2fd188a5c",
   "metadata": {},
   "outputs": [],
   "source": [
    "def fibonacci(i, *, _memo={0: 0, 1: 1}):\n",
    "    \"\"\"Berechne die i'te Fibonacci Zahl.\n",
    "\n",
    "    Args:\n",
    "        i (int): 0-basierter Index\n",
    "\n",
    "    Returns:\n",
    "        fib (int)\n",
    "    \"\"\"\n",
    "    if i not in _memo:\n",
    "        _memo[i] = fibonacci(i - 2, _memo=_memo) + fibonacci(i - 1, _memo=_memo)\n",
    "\n",
    "    return _memo[i]"
   ]
  },
  {
   "cell_type": "code",
   "execution_count": 88,
   "id": "d2cccced-baff-46d4-be06-b1e4f29ce2ac",
   "metadata": {},
   "outputs": [
    {
     "data": {
      "text/plain": [
       "{'_memo': {0: 0, 1: 1, 2: 1, 3: 2, 4: 3, 5: 5, 6: 8, 7: 13}}"
      ]
     },
     "execution_count": 88,
     "metadata": {},
     "output_type": "execute_result"
    }
   ],
   "source": [
    "fibonacci.__kwdefaults__"
   ]
  },
  {
   "cell_type": "code",
   "execution_count": 80,
   "id": "96a4f08f-2cba-4a05-81e5-86490de6672c",
   "metadata": {},
   "outputs": [],
   "source": [
    "assert fibonacci(0) == 0"
   ]
  },
  {
   "cell_type": "code",
   "execution_count": 81,
   "id": "0ccd0f03-0a9c-4712-a909-4fbe7fe4a033",
   "metadata": {},
   "outputs": [],
   "source": [
    "assert fibonacci(1) == 1"
   ]
  },
  {
   "cell_type": "code",
   "execution_count": 82,
   "id": "02cc10aa-7a99-4c10-8630-a2976330613a",
   "metadata": {},
   "outputs": [],
   "source": [
    "assert fibonacci(2) == 1"
   ]
  },
  {
   "cell_type": "code",
   "execution_count": 83,
   "id": "e51c48d8-40bc-4cb1-b548-abffa31ae34b",
   "metadata": {},
   "outputs": [],
   "source": [
    "assert fibonacci(3) == 2"
   ]
  },
  {
   "cell_type": "code",
   "execution_count": 84,
   "id": "e820db69-197b-42f5-8dd1-aebff51a6533",
   "metadata": {},
   "outputs": [],
   "source": [
    "assert fibonacci(4) == 3"
   ]
  },
  {
   "cell_type": "code",
   "execution_count": 85,
   "id": "66831fc2-9e27-4f3f-8ba3-d722bf11656c",
   "metadata": {},
   "outputs": [],
   "source": [
    "assert fibonacci(5) == 5"
   ]
  },
  {
   "cell_type": "code",
   "execution_count": 86,
   "id": "87e082fb-813e-4de2-9be4-03d81c2404ad",
   "metadata": {},
   "outputs": [],
   "source": [
    "assert fibonacci(6) == 8"
   ]
  },
  {
   "cell_type": "code",
   "execution_count": 87,
   "id": "c138c3e0-3813-489e-bf63-f5b44922b21e",
   "metadata": {},
   "outputs": [],
   "source": [
    "assert fibonacci(7) == 13"
   ]
  },
  {
   "cell_type": "markdown",
   "id": "723d6010-0456-4f46-b94a-e0216ef22be7",
   "metadata": {},
   "source": [
    "Diese Lösung skaliert nicht!"
   ]
  },
  {
   "cell_type": "code",
   "execution_count": 67,
   "id": "1a7b7861-5b78-4268-b0b4-3ae0d4b44cd2",
   "metadata": {},
   "outputs": [
    {
     "data": {
      "text/plain": [
       "144"
      ]
     },
     "execution_count": 67,
     "metadata": {},
     "output_type": "execute_result"
    }
   ],
   "source": [
    "fibonacci(12)"
   ]
  },
  {
   "cell_type": "code",
   "execution_count": 68,
   "id": "7e6b21d9-772e-470a-ad99-c04049f94846",
   "metadata": {},
   "outputs": [
    {
     "data": {
      "text/plain": [
       "46368"
      ]
     },
     "execution_count": 68,
     "metadata": {},
     "output_type": "execute_result"
    }
   ],
   "source": [
    "fibonacci(24)"
   ]
  },
  {
   "cell_type": "code",
   "execution_count": 69,
   "id": "25d01584-365f-4a8e-8bc3-4fbe1e133397",
   "metadata": {},
   "outputs": [
    {
     "data": {
      "text/plain": [
       "14930352"
      ]
     },
     "execution_count": 69,
     "metadata": {},
     "output_type": "execute_result"
    }
   ],
   "source": [
    "fibonacci(36)"
   ]
  },
  {
   "cell_type": "code",
   "execution_count": 70,
   "id": "e36258e1-f072-4f0d-976c-6a33d9f2ca91",
   "metadata": {},
   "outputs": [
    {
     "data": {
      "text/plain": [
       "24157817"
      ]
     },
     "execution_count": 70,
     "metadata": {},
     "output_type": "execute_result"
    }
   ],
   "source": [
    "fibonacci(37)  # von 36 -> 37 => Verdopplung der Laufzeit (Exponentielles Wachstum)"
   ]
  },
  {
   "cell_type": "code",
   "execution_count": 71,
   "id": "d82982db-d4cc-4b0e-884d-ecc3e0927357",
   "metadata": {},
   "outputs": [
    {
     "data": {
      "text/plain": [
       "39088169"
      ]
     },
     "execution_count": 71,
     "metadata": {},
     "output_type": "execute_result"
    }
   ],
   "source": [
    "fibonacci(38)"
   ]
  },
  {
   "cell_type": "code",
   "execution_count": 72,
   "id": "692c70f7-67c0-4387-8abb-eef303585c95",
   "metadata": {},
   "outputs": [
    {
     "data": {
      "text/plain": [
       "218922995834555169026"
      ]
     },
     "execution_count": 72,
     "metadata": {},
     "output_type": "execute_result"
    }
   ],
   "source": [
    "fibonacci(99)"
   ]
  },
  {
   "cell_type": "markdown",
   "id": "fbbcd618-0bdf-4fe6-92a4-8cccb847d792",
   "metadata": {},
   "source": [
    "## Looping"
   ]
  },
  {
   "cell_type": "markdown",
   "id": "c0143118-4c5b-4968-adcd-14ef6a762180",
   "metadata": {},
   "source": [
    "#### Bsp: `fibonacci()` Zahlen"
   ]
  },
  {
   "cell_type": "markdown",
   "id": "939f9ade-daa1-46ce-8e7b-bf9261447362",
   "metadata": {},
   "source": [
    "ges.: `fib(5)`\n",
    "\n",
    "`i=2` => $0 + 1 = 1$\n",
    "\n",
    "`i=3` => $1 + 1 = 2$ \n",
    "\n",
    "`i=4` => $1 + 2 = 3$\n",
    "\n",
    "`i=5` => $2 + 3 = 5$"
   ]
  },
  {
   "cell_type": "code",
   "execution_count": 100,
   "id": "b0c6005f-fd7d-4fe9-be38-41b2f2842511",
   "metadata": {},
   "outputs": [],
   "source": [
    "def fibonacci(i):\n",
    "    \"\"\"Berechne die i'te Fibonacci Zahl.\n",
    "\n",
    "    Args:\n",
    "        i (int): 0-basierter Index\n",
    "\n",
    "    Returns:\n",
    "        fib (int)\n",
    "    \"\"\"\n",
    "    if i == 0:\n",
    "        return 0\n",
    "\n",
    "    a = 0\n",
    "    b = 1\n",
    "\n",
    "    for brauchen_wir_nicht in range(i - 1):\n",
    "        c = a + b\n",
    "        a = b\n",
    "        b = c\n",
    "\n",
    "    return b"
   ]
  },
  {
   "cell_type": "code",
   "execution_count": 90,
   "id": "ad7d6e6f-fe11-40bf-bf48-759590cb61d3",
   "metadata": {},
   "outputs": [],
   "source": [
    "def fibonacci(i):\n",
    "    \"\"\"Berechne die i'te Fibonacci Zahl.\n",
    "\n",
    "    Args:\n",
    "        i (int): 0-basierter Index\n",
    "\n",
    "    Returns:\n",
    "        fib (int)\n",
    "    \"\"\"\n",
    "    if i == 0:\n",
    "        return 0\n",
    "\n",
    "    a, b = 0, 1\n",
    "\n",
    "    for _ in range(i - 1):  # \"_\" => Konvention: Variable wird syntaktisch aber nicht inhaltlich gebraucht\n",
    "        a, b = b, a + b\n",
    "\n",
    "    return b"
   ]
  },
  {
   "cell_type": "code",
   "execution_count": 91,
   "id": "d6450477-6cce-49b8-ac07-d7aa4fa878dc",
   "metadata": {},
   "outputs": [],
   "source": [
    "def fibonacci(i):\n",
    "    \"\"\"Berechne die i'te Fibonacci Zahl.\n",
    "\n",
    "    Args:\n",
    "        i (int): 0-basierter Index\n",
    "\n",
    "    Returns:\n",
    "        fib (int)\n",
    "    \"\"\"\n",
    "    a, b = 0, 1\n",
    "\n",
    "    for _ in range(i):\n",
    "        a, b = b, a + b\n",
    "\n",
    "    return a"
   ]
  },
  {
   "cell_type": "code",
   "execution_count": 101,
   "id": "5c1c26c2-b0d0-4f7b-923b-01b5823f8fed",
   "metadata": {},
   "outputs": [],
   "source": [
    "assert fibonacci(0) == 0"
   ]
  },
  {
   "cell_type": "code",
   "execution_count": 102,
   "id": "d410e624-6526-42ad-b6af-130eefc3fd94",
   "metadata": {},
   "outputs": [],
   "source": [
    "assert fibonacci(1) == 1"
   ]
  },
  {
   "cell_type": "code",
   "execution_count": 103,
   "id": "af01a34b-6366-415b-8708-edee7c660322",
   "metadata": {},
   "outputs": [],
   "source": [
    "assert fibonacci(2) == 1"
   ]
  },
  {
   "cell_type": "code",
   "execution_count": 104,
   "id": "ad036920-7480-49d9-a29a-28d25106b4b5",
   "metadata": {},
   "outputs": [],
   "source": [
    "assert fibonacci(3) == 2"
   ]
  },
  {
   "cell_type": "code",
   "execution_count": 105,
   "id": "0e0a6c73-2777-4108-a33d-5762c64ec235",
   "metadata": {},
   "outputs": [],
   "source": [
    "assert fibonacci(4) == 3"
   ]
  },
  {
   "cell_type": "code",
   "execution_count": 106,
   "id": "75b85708-0f27-476e-955c-e0fa3d86419d",
   "metadata": {},
   "outputs": [],
   "source": [
    "assert fibonacci(5) == 5"
   ]
  },
  {
   "cell_type": "code",
   "execution_count": 107,
   "id": "58cd73fb-d16c-4c5a-a503-a74f7b2aac61",
   "metadata": {},
   "outputs": [],
   "source": [
    "assert fibonacci(6) == 8"
   ]
  },
  {
   "cell_type": "code",
   "execution_count": 108,
   "id": "ff180979-a11f-4bb6-986f-d0a48f70800f",
   "metadata": {},
   "outputs": [],
   "source": [
    "assert fibonacci(7) == 13"
   ]
  },
  {
   "cell_type": "code",
   "execution_count": 109,
   "id": "9e92eda8-0294-4cc6-ae86-1f9fe0f761c0",
   "metadata": {},
   "outputs": [
    {
     "data": {
      "text/plain": [
       "218922995834555169026"
      ]
     },
     "execution_count": 109,
     "metadata": {},
     "output_type": "execute_result"
    }
   ],
   "source": [
    "fibonacci(99)"
   ]
  }
 ],
 "metadata": {
  "kernelspec": {
   "display_name": "Python 3.12",
   "language": "python",
   "name": "python3.12"
  },
  "language_info": {
   "codemirror_mode": {
    "name": "ipython",
    "version": 3
   },
   "file_extension": ".py",
   "mimetype": "text/x-python",
   "name": "python",
   "nbconvert_exporter": "python",
   "pygments_lexer": "ipython3",
   "version": "3.12.0"
  }
 },
 "nbformat": 4,
 "nbformat_minor": 5
}
